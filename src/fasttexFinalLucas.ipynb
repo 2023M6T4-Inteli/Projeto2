{
  "nbformat": 4,
  "nbformat_minor": 0,
  "metadata": {
    "colab": {
      "provenance": []
    },
    "kernelspec": {
      "name": "python3",
      "display_name": "Python 3"
    },
    "language_info": {
      "name": "python"
    }
  },
  "cells": [
    {
      "cell_type": "markdown",
      "source": [
        "Este notebook utiliza o **FastText de 50 dimensões** na base de dados do BTG. \n",
        "\n",
        "São aplicados os modelos **'Naive Bayes'** (que retorna uma acurácia de 50%) e a **'Regressão Logística'** (que retorna uma acurácia de 72%)."
      ],
      "metadata": {
        "id": "DHOTzkTHMbih"
      }
    },
    {
      "cell_type": "markdown",
      "source": [
        "# Setup"
      ],
      "metadata": {
        "id": "gR5aJpcWK2uT"
      }
    },
    {
      "cell_type": "code",
      "execution_count": null,
      "metadata": {
        "colab": {
          "base_uri": "https://localhost:8080/"
        },
        "id": "0gr-BCVzSg8J",
        "outputId": "4991b7ba-ae81-4a31-d12c-c9001c4405a0"
      },
      "outputs": [
        {
          "output_type": "stream",
          "name": "stdout",
          "text": [
            "Looking in indexes: https://pypi.org/simple, https://us-python.pkg.dev/colab-wheels/public/simple/\n",
            "Requirement already satisfied: gensim==4.3.1 in /usr/local/lib/python3.10/dist-packages (4.3.1)\n",
            "Requirement already satisfied: numpy>=1.18.5 in /usr/local/lib/python3.10/dist-packages (from gensim==4.3.1) (1.22.4)\n",
            "Requirement already satisfied: scipy>=1.7.0 in /usr/local/lib/python3.10/dist-packages (from gensim==4.3.1) (1.10.1)\n",
            "Requirement already satisfied: smart-open>=1.8.1 in /usr/local/lib/python3.10/dist-packages (from gensim==4.3.1) (6.3.0)\n"
          ]
        }
      ],
      "source": [
        "pip install gensim==4.3.1"
      ]
    },
    {
      "cell_type": "code",
      "source": [
        "from google.colab import drive\n",
        "drive.mount('/content/drive')"
      ],
      "metadata": {
        "colab": {
          "base_uri": "https://localhost:8080/"
        },
        "id": "Wm9XWMp2dVev",
        "outputId": "5104a308-9c1f-4fbb-d847-ecfce759f1c7"
      },
      "execution_count": 2,
      "outputs": [
        {
          "output_type": "stream",
          "name": "stdout",
          "text": [
            "Mounted at /content/drive\n"
          ]
        }
      ]
    },
    {
      "cell_type": "code",
      "source": [
        "import pandas as pd\n",
        "import numpy as np\n",
        "from gensim.models import KeyedVectors\n",
        "import numpy as np\n",
        "import nltk\n",
        "from nltk.corpus import stopwords\n",
        "from nltk.tokenize import word_tokenize\n",
        "import string\n",
        "from nltk.stem import WordNetLemmatizer"
      ],
      "metadata": {
        "id": "UZ7oLDgsGWJn"
      },
      "execution_count": 9,
      "outputs": []
    },
    {
      "cell_type": "code",
      "source": [
        "# Download dos recursos necessários do NLTK\n",
        "nltk.download('punkt')\n",
        "nltk.download('stopwords')"
      ],
      "metadata": {
        "colab": {
          "base_uri": "https://localhost:8080/"
        },
        "id": "fFRRpLo6Gblm",
        "outputId": "f6bad17e-96be-457c-ba2e-4985b6dc484e"
      },
      "execution_count": 10,
      "outputs": [
        {
          "output_type": "stream",
          "name": "stderr",
          "text": [
            "[nltk_data] Downloading package punkt to /root/nltk_data...\n",
            "[nltk_data]   Package punkt is already up-to-date!\n",
            "[nltk_data] Downloading package stopwords to /root/nltk_data...\n",
            "[nltk_data]   Package stopwords is already up-to-date!\n"
          ]
        },
        {
          "output_type": "execute_result",
          "data": {
            "text/plain": [
              "True"
            ]
          },
          "metadata": {},
          "execution_count": 10
        }
      ]
    },
    {
      "cell_type": "code",
      "source": [
        "df_2 = pd.read_csv('/content/drive/MyDrive/base/lematizacao.csv')"
      ],
      "metadata": {
        "id": "H-w1HL9J5o75"
      },
      "execution_count": 30,
      "outputs": []
    },
    {
      "cell_type": "code",
      "source": [
        "df_2 = df_2.rename(columns={'Unnamed: 0': 'id'})\n",
        "df_2"
      ],
      "metadata": {
        "colab": {
          "base_uri": "https://localhost:8080/",
          "height": 424
        },
        "id": "8c3Ta1yWF_ZW",
        "outputId": "09d02a6a-062f-40ec-def2-ebe2297efe9e"
      },
      "execution_count": 31,
      "outputs": [
        {
          "output_type": "execute_result",
          "data": {
            "text/plain": [
              "          id             autor  \\\n",
              "0          0        v8_capital   \n",
              "1          1     winthegame_of   \n",
              "2          2        marta_bego   \n",
              "3          3        lmviapiana   \n",
              "4          4      vanilson_dos   \n",
              "...      ...               ...   \n",
              "12188  12350       onixcapital   \n",
              "12189  12351  amgcapitalinvest   \n",
              "12190  12352     jayipacderota   \n",
              "12191  12353   moinho_cultural   \n",
              "12192  12354         bfmarilia   \n",
              "\n",
              "                                                   texto sentimento  \\\n",
              "0      Confira os resultados dos nossos fundos no mês...    NEUTRAL   \n",
              "1      A Alvarez & Marsal estará conosco no Sportainm...    NEUTRAL   \n",
              "2      #Repost btgpactual with make_repost ・・・ Entend...    NEUTRAL   \n",
              "3                                   Minuto touro de ouro   POSITIVE   \n",
              "4                                       @ricktolledo Sim    NEUTRAL   \n",
              "...                                                  ...        ...   \n",
              "12188  Uma noite de encontros e muito conhecimento on...    NEUTRAL   \n",
              "12189  Erros financeiros para eliminar antes dos 30 a...    NEUTRAL   \n",
              "12190  Estou muito grato por todo o esforço que você ...   POSITIVE   \n",
              "12191  \"👉GUADAKAN está chegando!!!!  A aula pública e...    NEUTRAL   \n",
              "12192  @btgpactual pq o morning call não está mais ap...   NEGATIVE   \n",
              "\n",
              "                                                  tokens  \n",
              "0      ['confira', 'o', 'resultado', 'de o', 'nosso',...  \n",
              "1      ['Alvarez', 'Marsal', 'estara', 'conosco', 'sp...  \n",
              "2      ['repost', 'btg', 'With', 'makerepost', 'enten...  \n",
              "3                            ['minuto', 'touro', 'ouro']  \n",
              "4                                 ['Ricktolledo', 'sim']  \n",
              "...                                                  ...  \n",
              "12188  ['um', 'noite', 'encontro', 'muito', 'conhecim...  \n",
              "12189  ['erro', 'financeiro', 'eliminar', 'antes', 'd...  \n",
              "12190  ['estar', 'muito', 'grato', 'todo', 'esforco',...  \n",
              "12191  ['dorsodamaocomdedoindicadorapontandoparaadire...  \n",
              "12192  ['btg', 'Morning', 'call', 'nao', 'este', 'mai...  \n",
              "\n",
              "[12193 rows x 5 columns]"
            ],
            "text/html": [
              "\n",
              "  <div id=\"df-033dbfe4-13b0-40a3-b966-b9ade0f67290\">\n",
              "    <div class=\"colab-df-container\">\n",
              "      <div>\n",
              "<style scoped>\n",
              "    .dataframe tbody tr th:only-of-type {\n",
              "        vertical-align: middle;\n",
              "    }\n",
              "\n",
              "    .dataframe tbody tr th {\n",
              "        vertical-align: top;\n",
              "    }\n",
              "\n",
              "    .dataframe thead th {\n",
              "        text-align: right;\n",
              "    }\n",
              "</style>\n",
              "<table border=\"1\" class=\"dataframe\">\n",
              "  <thead>\n",
              "    <tr style=\"text-align: right;\">\n",
              "      <th></th>\n",
              "      <th>id</th>\n",
              "      <th>autor</th>\n",
              "      <th>texto</th>\n",
              "      <th>sentimento</th>\n",
              "      <th>tokens</th>\n",
              "    </tr>\n",
              "  </thead>\n",
              "  <tbody>\n",
              "    <tr>\n",
              "      <th>0</th>\n",
              "      <td>0</td>\n",
              "      <td>v8_capital</td>\n",
              "      <td>Confira os resultados dos nossos fundos no mês...</td>\n",
              "      <td>NEUTRAL</td>\n",
              "      <td>['confira', 'o', 'resultado', 'de o', 'nosso',...</td>\n",
              "    </tr>\n",
              "    <tr>\n",
              "      <th>1</th>\n",
              "      <td>1</td>\n",
              "      <td>winthegame_of</td>\n",
              "      <td>A Alvarez &amp; Marsal estará conosco no Sportainm...</td>\n",
              "      <td>NEUTRAL</td>\n",
              "      <td>['Alvarez', 'Marsal', 'estara', 'conosco', 'sp...</td>\n",
              "    </tr>\n",
              "    <tr>\n",
              "      <th>2</th>\n",
              "      <td>2</td>\n",
              "      <td>marta_bego</td>\n",
              "      <td>#Repost btgpactual with make_repost ・・・ Entend...</td>\n",
              "      <td>NEUTRAL</td>\n",
              "      <td>['repost', 'btg', 'With', 'makerepost', 'enten...</td>\n",
              "    </tr>\n",
              "    <tr>\n",
              "      <th>3</th>\n",
              "      <td>3</td>\n",
              "      <td>lmviapiana</td>\n",
              "      <td>Minuto touro de ouro</td>\n",
              "      <td>POSITIVE</td>\n",
              "      <td>['minuto', 'touro', 'ouro']</td>\n",
              "    </tr>\n",
              "    <tr>\n",
              "      <th>4</th>\n",
              "      <td>4</td>\n",
              "      <td>vanilson_dos</td>\n",
              "      <td>@ricktolledo Sim</td>\n",
              "      <td>NEUTRAL</td>\n",
              "      <td>['Ricktolledo', 'sim']</td>\n",
              "    </tr>\n",
              "    <tr>\n",
              "      <th>...</th>\n",
              "      <td>...</td>\n",
              "      <td>...</td>\n",
              "      <td>...</td>\n",
              "      <td>...</td>\n",
              "      <td>...</td>\n",
              "    </tr>\n",
              "    <tr>\n",
              "      <th>12188</th>\n",
              "      <td>12350</td>\n",
              "      <td>onixcapital</td>\n",
              "      <td>Uma noite de encontros e muito conhecimento on...</td>\n",
              "      <td>NEUTRAL</td>\n",
              "      <td>['um', 'noite', 'encontro', 'muito', 'conhecim...</td>\n",
              "    </tr>\n",
              "    <tr>\n",
              "      <th>12189</th>\n",
              "      <td>12351</td>\n",
              "      <td>amgcapitalinvest</td>\n",
              "      <td>Erros financeiros para eliminar antes dos 30 a...</td>\n",
              "      <td>NEUTRAL</td>\n",
              "      <td>['erro', 'financeiro', 'eliminar', 'antes', 'd...</td>\n",
              "    </tr>\n",
              "    <tr>\n",
              "      <th>12190</th>\n",
              "      <td>12352</td>\n",
              "      <td>jayipacderota</td>\n",
              "      <td>Estou muito grato por todo o esforço que você ...</td>\n",
              "      <td>POSITIVE</td>\n",
              "      <td>['estar', 'muito', 'grato', 'todo', 'esforco',...</td>\n",
              "    </tr>\n",
              "    <tr>\n",
              "      <th>12191</th>\n",
              "      <td>12353</td>\n",
              "      <td>moinho_cultural</td>\n",
              "      <td>\"👉GUADAKAN está chegando!!!!  A aula pública e...</td>\n",
              "      <td>NEUTRAL</td>\n",
              "      <td>['dorsodamaocomdedoindicadorapontandoparaadire...</td>\n",
              "    </tr>\n",
              "    <tr>\n",
              "      <th>12192</th>\n",
              "      <td>12354</td>\n",
              "      <td>bfmarilia</td>\n",
              "      <td>@btgpactual pq o morning call não está mais ap...</td>\n",
              "      <td>NEGATIVE</td>\n",
              "      <td>['btg', 'Morning', 'call', 'nao', 'este', 'mai...</td>\n",
              "    </tr>\n",
              "  </tbody>\n",
              "</table>\n",
              "<p>12193 rows × 5 columns</p>\n",
              "</div>\n",
              "      <button class=\"colab-df-convert\" onclick=\"convertToInteractive('df-033dbfe4-13b0-40a3-b966-b9ade0f67290')\"\n",
              "              title=\"Convert this dataframe to an interactive table.\"\n",
              "              style=\"display:none;\">\n",
              "        \n",
              "  <svg xmlns=\"http://www.w3.org/2000/svg\" height=\"24px\"viewBox=\"0 0 24 24\"\n",
              "       width=\"24px\">\n",
              "    <path d=\"M0 0h24v24H0V0z\" fill=\"none\"/>\n",
              "    <path d=\"M18.56 5.44l.94 2.06.94-2.06 2.06-.94-2.06-.94-.94-2.06-.94 2.06-2.06.94zm-11 1L8.5 8.5l.94-2.06 2.06-.94-2.06-.94L8.5 2.5l-.94 2.06-2.06.94zm10 10l.94 2.06.94-2.06 2.06-.94-2.06-.94-.94-2.06-.94 2.06-2.06.94z\"/><path d=\"M17.41 7.96l-1.37-1.37c-.4-.4-.92-.59-1.43-.59-.52 0-1.04.2-1.43.59L10.3 9.45l-7.72 7.72c-.78.78-.78 2.05 0 2.83L4 21.41c.39.39.9.59 1.41.59.51 0 1.02-.2 1.41-.59l7.78-7.78 2.81-2.81c.8-.78.8-2.07 0-2.86zM5.41 20L4 18.59l7.72-7.72 1.47 1.35L5.41 20z\"/>\n",
              "  </svg>\n",
              "      </button>\n",
              "      \n",
              "  <style>\n",
              "    .colab-df-container {\n",
              "      display:flex;\n",
              "      flex-wrap:wrap;\n",
              "      gap: 12px;\n",
              "    }\n",
              "\n",
              "    .colab-df-convert {\n",
              "      background-color: #E8F0FE;\n",
              "      border: none;\n",
              "      border-radius: 50%;\n",
              "      cursor: pointer;\n",
              "      display: none;\n",
              "      fill: #1967D2;\n",
              "      height: 32px;\n",
              "      padding: 0 0 0 0;\n",
              "      width: 32px;\n",
              "    }\n",
              "\n",
              "    .colab-df-convert:hover {\n",
              "      background-color: #E2EBFA;\n",
              "      box-shadow: 0px 1px 2px rgba(60, 64, 67, 0.3), 0px 1px 3px 1px rgba(60, 64, 67, 0.15);\n",
              "      fill: #174EA6;\n",
              "    }\n",
              "\n",
              "    [theme=dark] .colab-df-convert {\n",
              "      background-color: #3B4455;\n",
              "      fill: #D2E3FC;\n",
              "    }\n",
              "\n",
              "    [theme=dark] .colab-df-convert:hover {\n",
              "      background-color: #434B5C;\n",
              "      box-shadow: 0px 1px 3px 1px rgba(0, 0, 0, 0.15);\n",
              "      filter: drop-shadow(0px 1px 2px rgba(0, 0, 0, 0.3));\n",
              "      fill: #FFFFFF;\n",
              "    }\n",
              "  </style>\n",
              "\n",
              "      <script>\n",
              "        const buttonEl =\n",
              "          document.querySelector('#df-033dbfe4-13b0-40a3-b966-b9ade0f67290 button.colab-df-convert');\n",
              "        buttonEl.style.display =\n",
              "          google.colab.kernel.accessAllowed ? 'block' : 'none';\n",
              "\n",
              "        async function convertToInteractive(key) {\n",
              "          const element = document.querySelector('#df-033dbfe4-13b0-40a3-b966-b9ade0f67290');\n",
              "          const dataTable =\n",
              "            await google.colab.kernel.invokeFunction('convertToInteractive',\n",
              "                                                     [key], {});\n",
              "          if (!dataTable) return;\n",
              "\n",
              "          const docLinkHtml = 'Like what you see? Visit the ' +\n",
              "            '<a target=\"_blank\" href=https://colab.research.google.com/notebooks/data_table.ipynb>data table notebook</a>'\n",
              "            + ' to learn more about interactive tables.';\n",
              "          element.innerHTML = '';\n",
              "          dataTable['output_type'] = 'display_data';\n",
              "          await google.colab.output.renderOutput(dataTable, element);\n",
              "          const docLink = document.createElement('div');\n",
              "          docLink.innerHTML = docLinkHtml;\n",
              "          element.appendChild(docLink);\n",
              "        }\n",
              "      </script>\n",
              "    </div>\n",
              "  </div>\n",
              "  "
            ]
          },
          "metadata": {},
          "execution_count": 31
        }
      ]
    },
    {
      "cell_type": "code",
      "source": [
        "path = '/content/drive/MyDrive/cbow_s50.txt'"
      ],
      "metadata": {
        "id": "WZIfTDxYc4KB"
      },
      "execution_count": 32,
      "outputs": []
    },
    {
      "cell_type": "code",
      "source": [
        "model = KeyedVectors.load_word2vec_format(path)"
      ],
      "metadata": {
        "id": "gnfsVG26T0kd"
      },
      "execution_count": 14,
      "outputs": []
    },
    {
      "cell_type": "markdown",
      "source": [
        "# Pré processamento"
      ],
      "metadata": {
        "id": "3p5TImSplppF"
      }
    },
    {
      "cell_type": "code",
      "source": [
        "# Acrescenta a coluna de sentimento\n",
        "df_2['sentimento'] = df_2['sentimento'].map({'NEUTRAL': 0, 'POSITIVE': 1, 'NEGATIVE': -1})"
      ],
      "metadata": {
        "id": "g4EdsuXZMK1q"
      },
      "execution_count": null,
      "outputs": []
    },
    {
      "cell_type": "markdown",
      "source": [
        "## Definição de funções"
      ],
      "metadata": {
        "id": "d9whdPGoMM8a"
      }
    },
    {
      "cell_type": "code",
      "source": [
        "# Função para vetorizar um token\n",
        "def vetorizar_token(token):\n",
        "    vetor = np.zeros(model.vector_size) # Inicializa vetor de zeros com a mesma dimensão\n",
        "    if token in model: # Verifica se a palavra está no word2vec treinado\n",
        "        vetor = model[token] # Adiciona o valor do vetor\n",
        "    return vetor"
      ],
      "metadata": {
        "colab": {
          "base_uri": "https://localhost:8080/",
          "height": 424
        },
        "id": "wOL89KYalr5s",
        "outputId": "e643a59b-b2cb-4a7f-c8f3-a4a2eed6fec7"
      },
      "execution_count": 33,
      "outputs": [
        {
          "output_type": "execute_result",
          "data": {
            "text/plain": [
              "          id             autor  \\\n",
              "0          0        v8_capital   \n",
              "1          1     winthegame_of   \n",
              "2          2        marta_bego   \n",
              "3          3        lmviapiana   \n",
              "4          4      vanilson_dos   \n",
              "...      ...               ...   \n",
              "12188  12350       onixcapital   \n",
              "12189  12351  amgcapitalinvest   \n",
              "12190  12352     jayipacderota   \n",
              "12191  12353   moinho_cultural   \n",
              "12192  12354         bfmarilia   \n",
              "\n",
              "                                                   texto  sentimento  \\\n",
              "0      Confira os resultados dos nossos fundos no mês...           0   \n",
              "1      A Alvarez & Marsal estará conosco no Sportainm...           0   \n",
              "2      #Repost btgpactual with make_repost ・・・ Entend...           0   \n",
              "3                                   Minuto touro de ouro           1   \n",
              "4                                       @ricktolledo Sim           0   \n",
              "...                                                  ...         ...   \n",
              "12188  Uma noite de encontros e muito conhecimento on...           0   \n",
              "12189  Erros financeiros para eliminar antes dos 30 a...           0   \n",
              "12190  Estou muito grato por todo o esforço que você ...           1   \n",
              "12191  \"👉GUADAKAN está chegando!!!!  A aula pública e...           0   \n",
              "12192  @btgpactual pq o morning call não está mais ap...          -1   \n",
              "\n",
              "                                                  tokens  \\\n",
              "0      ['confira', 'o', 'resultado', 'de o', 'nosso',...   \n",
              "1      ['Alvarez', 'Marsal', 'estara', 'conosco', 'sp...   \n",
              "2      ['repost', 'btg', 'With', 'makerepost', 'enten...   \n",
              "3                            ['minuto', 'touro', 'ouro']   \n",
              "4                                 ['Ricktolledo', 'sim']   \n",
              "...                                                  ...   \n",
              "12188  ['um', 'noite', 'encontro', 'muito', 'conhecim...   \n",
              "12189  ['erro', 'financeiro', 'eliminar', 'antes', 'd...   \n",
              "12190  ['estar', 'muito', 'grato', 'todo', 'esforco',...   \n",
              "12191  ['dorsodamaocomdedoindicadorapontandoparaadire...   \n",
              "12192  ['btg', 'Morning', 'call', 'nao', 'este', 'mai...   \n",
              "\n",
              "                                   tokens_preprocessados  \n",
              "0      [confira, resultados, fundos, mês, fevereiro/2...  \n",
              "1      [alvarez, marsal, estará, conosco, sportainmet...  \n",
              "2      [repost, btgpactual, with, make_repost, ・・・, e...  \n",
              "3                                  [minuto, touro, ouro]  \n",
              "4                                     [ricktolledo, sim]  \n",
              "...                                                  ...  \n",
              "12188  [noite, encontros, conhecimento, onde, cliente...  \n",
              "12189  [erros, financeiros, eliminar, antes, 30, anos...  \n",
              "12190  [grato, todo, esforço, rendeu, investimento, r...  \n",
              "12191  [``, 👉guadakan, chegando, aula, pública, forma...  \n",
              "12192  [btgpactual, pq, morning, call, aparecendo, sp...  \n",
              "\n",
              "[12193 rows x 6 columns]"
            ],
            "text/html": [
              "\n",
              "  <div id=\"df-1b90f286-bedc-4e91-b7fc-58016eb155af\">\n",
              "    <div class=\"colab-df-container\">\n",
              "      <div>\n",
              "<style scoped>\n",
              "    .dataframe tbody tr th:only-of-type {\n",
              "        vertical-align: middle;\n",
              "    }\n",
              "\n",
              "    .dataframe tbody tr th {\n",
              "        vertical-align: top;\n",
              "    }\n",
              "\n",
              "    .dataframe thead th {\n",
              "        text-align: right;\n",
              "    }\n",
              "</style>\n",
              "<table border=\"1\" class=\"dataframe\">\n",
              "  <thead>\n",
              "    <tr style=\"text-align: right;\">\n",
              "      <th></th>\n",
              "      <th>id</th>\n",
              "      <th>autor</th>\n",
              "      <th>texto</th>\n",
              "      <th>sentimento</th>\n",
              "      <th>tokens</th>\n",
              "      <th>tokens_preprocessados</th>\n",
              "    </tr>\n",
              "  </thead>\n",
              "  <tbody>\n",
              "    <tr>\n",
              "      <th>0</th>\n",
              "      <td>0</td>\n",
              "      <td>v8_capital</td>\n",
              "      <td>Confira os resultados dos nossos fundos no mês...</td>\n",
              "      <td>0</td>\n",
              "      <td>['confira', 'o', 'resultado', 'de o', 'nosso',...</td>\n",
              "      <td>[confira, resultados, fundos, mês, fevereiro/2...</td>\n",
              "    </tr>\n",
              "    <tr>\n",
              "      <th>1</th>\n",
              "      <td>1</td>\n",
              "      <td>winthegame_of</td>\n",
              "      <td>A Alvarez &amp; Marsal estará conosco no Sportainm...</td>\n",
              "      <td>0</td>\n",
              "      <td>['Alvarez', 'Marsal', 'estara', 'conosco', 'sp...</td>\n",
              "      <td>[alvarez, marsal, estará, conosco, sportainmet...</td>\n",
              "    </tr>\n",
              "    <tr>\n",
              "      <th>2</th>\n",
              "      <td>2</td>\n",
              "      <td>marta_bego</td>\n",
              "      <td>#Repost btgpactual with make_repost ・・・ Entend...</td>\n",
              "      <td>0</td>\n",
              "      <td>['repost', 'btg', 'With', 'makerepost', 'enten...</td>\n",
              "      <td>[repost, btgpactual, with, make_repost, ・・・, e...</td>\n",
              "    </tr>\n",
              "    <tr>\n",
              "      <th>3</th>\n",
              "      <td>3</td>\n",
              "      <td>lmviapiana</td>\n",
              "      <td>Minuto touro de ouro</td>\n",
              "      <td>1</td>\n",
              "      <td>['minuto', 'touro', 'ouro']</td>\n",
              "      <td>[minuto, touro, ouro]</td>\n",
              "    </tr>\n",
              "    <tr>\n",
              "      <th>4</th>\n",
              "      <td>4</td>\n",
              "      <td>vanilson_dos</td>\n",
              "      <td>@ricktolledo Sim</td>\n",
              "      <td>0</td>\n",
              "      <td>['Ricktolledo', 'sim']</td>\n",
              "      <td>[ricktolledo, sim]</td>\n",
              "    </tr>\n",
              "    <tr>\n",
              "      <th>...</th>\n",
              "      <td>...</td>\n",
              "      <td>...</td>\n",
              "      <td>...</td>\n",
              "      <td>...</td>\n",
              "      <td>...</td>\n",
              "      <td>...</td>\n",
              "    </tr>\n",
              "    <tr>\n",
              "      <th>12188</th>\n",
              "      <td>12350</td>\n",
              "      <td>onixcapital</td>\n",
              "      <td>Uma noite de encontros e muito conhecimento on...</td>\n",
              "      <td>0</td>\n",
              "      <td>['um', 'noite', 'encontro', 'muito', 'conhecim...</td>\n",
              "      <td>[noite, encontros, conhecimento, onde, cliente...</td>\n",
              "    </tr>\n",
              "    <tr>\n",
              "      <th>12189</th>\n",
              "      <td>12351</td>\n",
              "      <td>amgcapitalinvest</td>\n",
              "      <td>Erros financeiros para eliminar antes dos 30 a...</td>\n",
              "      <td>0</td>\n",
              "      <td>['erro', 'financeiro', 'eliminar', 'antes', 'd...</td>\n",
              "      <td>[erros, financeiros, eliminar, antes, 30, anos...</td>\n",
              "    </tr>\n",
              "    <tr>\n",
              "      <th>12190</th>\n",
              "      <td>12352</td>\n",
              "      <td>jayipacderota</td>\n",
              "      <td>Estou muito grato por todo o esforço que você ...</td>\n",
              "      <td>1</td>\n",
              "      <td>['estar', 'muito', 'grato', 'todo', 'esforco',...</td>\n",
              "      <td>[grato, todo, esforço, rendeu, investimento, r...</td>\n",
              "    </tr>\n",
              "    <tr>\n",
              "      <th>12191</th>\n",
              "      <td>12353</td>\n",
              "      <td>moinho_cultural</td>\n",
              "      <td>\"👉GUADAKAN está chegando!!!!  A aula pública e...</td>\n",
              "      <td>0</td>\n",
              "      <td>['dorsodamaocomdedoindicadorapontandoparaadire...</td>\n",
              "      <td>[``, 👉guadakan, chegando, aula, pública, forma...</td>\n",
              "    </tr>\n",
              "    <tr>\n",
              "      <th>12192</th>\n",
              "      <td>12354</td>\n",
              "      <td>bfmarilia</td>\n",
              "      <td>@btgpactual pq o morning call não está mais ap...</td>\n",
              "      <td>-1</td>\n",
              "      <td>['btg', 'Morning', 'call', 'nao', 'este', 'mai...</td>\n",
              "      <td>[btgpactual, pq, morning, call, aparecendo, sp...</td>\n",
              "    </tr>\n",
              "  </tbody>\n",
              "</table>\n",
              "<p>12193 rows × 6 columns</p>\n",
              "</div>\n",
              "      <button class=\"colab-df-convert\" onclick=\"convertToInteractive('df-1b90f286-bedc-4e91-b7fc-58016eb155af')\"\n",
              "              title=\"Convert this dataframe to an interactive table.\"\n",
              "              style=\"display:none;\">\n",
              "        \n",
              "  <svg xmlns=\"http://www.w3.org/2000/svg\" height=\"24px\"viewBox=\"0 0 24 24\"\n",
              "       width=\"24px\">\n",
              "    <path d=\"M0 0h24v24H0V0z\" fill=\"none\"/>\n",
              "    <path d=\"M18.56 5.44l.94 2.06.94-2.06 2.06-.94-2.06-.94-.94-2.06-.94 2.06-2.06.94zm-11 1L8.5 8.5l.94-2.06 2.06-.94-2.06-.94L8.5 2.5l-.94 2.06-2.06.94zm10 10l.94 2.06.94-2.06 2.06-.94-2.06-.94-.94-2.06-.94 2.06-2.06.94z\"/><path d=\"M17.41 7.96l-1.37-1.37c-.4-.4-.92-.59-1.43-.59-.52 0-1.04.2-1.43.59L10.3 9.45l-7.72 7.72c-.78.78-.78 2.05 0 2.83L4 21.41c.39.39.9.59 1.41.59.51 0 1.02-.2 1.41-.59l7.78-7.78 2.81-2.81c.8-.78.8-2.07 0-2.86zM5.41 20L4 18.59l7.72-7.72 1.47 1.35L5.41 20z\"/>\n",
              "  </svg>\n",
              "      </button>\n",
              "      \n",
              "  <style>\n",
              "    .colab-df-container {\n",
              "      display:flex;\n",
              "      flex-wrap:wrap;\n",
              "      gap: 12px;\n",
              "    }\n",
              "\n",
              "    .colab-df-convert {\n",
              "      background-color: #E8F0FE;\n",
              "      border: none;\n",
              "      border-radius: 50%;\n",
              "      cursor: pointer;\n",
              "      display: none;\n",
              "      fill: #1967D2;\n",
              "      height: 32px;\n",
              "      padding: 0 0 0 0;\n",
              "      width: 32px;\n",
              "    }\n",
              "\n",
              "    .colab-df-convert:hover {\n",
              "      background-color: #E2EBFA;\n",
              "      box-shadow: 0px 1px 2px rgba(60, 64, 67, 0.3), 0px 1px 3px 1px rgba(60, 64, 67, 0.15);\n",
              "      fill: #174EA6;\n",
              "    }\n",
              "\n",
              "    [theme=dark] .colab-df-convert {\n",
              "      background-color: #3B4455;\n",
              "      fill: #D2E3FC;\n",
              "    }\n",
              "\n",
              "    [theme=dark] .colab-df-convert:hover {\n",
              "      background-color: #434B5C;\n",
              "      box-shadow: 0px 1px 3px 1px rgba(0, 0, 0, 0.15);\n",
              "      filter: drop-shadow(0px 1px 2px rgba(0, 0, 0, 0.3));\n",
              "      fill: #FFFFFF;\n",
              "    }\n",
              "  </style>\n",
              "\n",
              "      <script>\n",
              "        const buttonEl =\n",
              "          document.querySelector('#df-1b90f286-bedc-4e91-b7fc-58016eb155af button.colab-df-convert');\n",
              "        buttonEl.style.display =\n",
              "          google.colab.kernel.accessAllowed ? 'block' : 'none';\n",
              "\n",
              "        async function convertToInteractive(key) {\n",
              "          const element = document.querySelector('#df-1b90f286-bedc-4e91-b7fc-58016eb155af');\n",
              "          const dataTable =\n",
              "            await google.colab.kernel.invokeFunction('convertToInteractive',\n",
              "                                                     [key], {});\n",
              "          if (!dataTable) return;\n",
              "\n",
              "          const docLinkHtml = 'Like what you see? Visit the ' +\n",
              "            '<a target=\"_blank\" href=https://colab.research.google.com/notebooks/data_table.ipynb>data table notebook</a>'\n",
              "            + ' to learn more about interactive tables.';\n",
              "          element.innerHTML = '';\n",
              "          dataTable['output_type'] = 'display_data';\n",
              "          await google.colab.output.renderOutput(dataTable, element);\n",
              "          const docLink = document.createElement('div');\n",
              "          docLink.innerHTML = docLinkHtml;\n",
              "          element.appendChild(docLink);\n",
              "        }\n",
              "      </script>\n",
              "    </div>\n",
              "  </div>\n",
              "  "
            ]
          },
          "metadata": {},
          "execution_count": 33
        }
      ]
    },
    {
      "cell_type": "code",
      "source": [
        "# Função para pré-processar uma frase\n",
        "def preprocessar_frase(frase):\n",
        "    # Tokenização\n",
        "    tokens = word_tokenize(frase)\n",
        "    \n",
        "    # Remoção de stop words\n",
        "    stop_words = set(stopwords.words('portuguese'))\n",
        "    tokens = [token for token in tokens if token.lower() not in stop_words]\n",
        "    \n",
        "    # Remoção de pontuação e caracteres especiais\n",
        "    tokens = [token for token in tokens if token not in string.punctuation]\n",
        "    \n",
        "    # Normalização de texto\n",
        "    tokens = [token.lower() for token in tokens]\n",
        "    \n",
        "    return tokens"
      ],
      "metadata": {
        "id": "AgTMc6c8MHma"
      },
      "execution_count": null,
      "outputs": []
    },
    {
      "cell_type": "markdown",
      "source": [
        "## Teste e aplicação"
      ],
      "metadata": {
        "id": "_f0lUsdeL_CD"
      }
    },
    {
      "cell_type": "code",
      "source": [
        "teste = ['Estou muito grato por todo o esforço', 'estou bem feliz, para falar a verdade']\n",
        "result = []\n",
        "for item in teste:\n",
        "    result.append(preprocessar_frase(item))\n",
        "\n",
        "print(result)"
      ],
      "metadata": {
        "colab": {
          "base_uri": "https://localhost:8080/"
        },
        "id": "W9w8J5ptLUxR",
        "outputId": "a78beb36-4168-4621-cf0b-e82e78505c5e"
      },
      "execution_count": 38,
      "outputs": [
        {
          "output_type": "stream",
          "name": "stdout",
          "text": [
            "[['grato', 'todo', 'esforço'], ['bem', 'feliz', 'falar', 'verdade']]\n"
          ]
        }
      ]
    },
    {
      "cell_type": "code",
      "source": [
        "# Aplicar a função 'preprocessar_frase' a todas as frases\n",
        "df_2['tokens_preprocessados'] = df_2['texto'].apply(preprocessar_frase)\n",
        "df_2"
      ],
      "metadata": {
        "id": "PTKDiv1TLUOL"
      },
      "execution_count": null,
      "outputs": []
    },
    {
      "cell_type": "markdown",
      "source": [
        "# NAIVE BAYES"
      ],
      "metadata": {
        "id": "id-pTC7l_BR4"
      }
    },
    {
      "cell_type": "code",
      "source": [
        "from sklearn.naive_bayes import GaussianNB\n",
        "from sklearn.model_selection import train_test_split\n",
        "from sklearn.metrics import accuracy_score, classification_report\n",
        "from sklearn.feature_extraction.text import TfidfVectorizer"
      ],
      "metadata": {
        "id": "_XEtpD-D_1lI"
      },
      "execution_count": 16,
      "outputs": []
    },
    {
      "cell_type": "code",
      "source": [
        "y = df_2['sentimento']\n",
        "\n",
        "# Convert the tokenized sentences into text\n",
        "sentences = [' '.join(tokens) for tokens in df_2['tokens_preprocessados']]\n",
        "\n",
        "# Convert text data to numerical features using TF-IDF\n",
        "vectorizer = TfidfVectorizer()\n",
        "X_tfidf = vectorizer.fit_transform(sentences)  # Assuming 'tokens' contains preprocessed tokens\n",
        "\n",
        "# Split the data into training and test sets\n",
        "X_train, X_test, y_train, y_test = train_test_split(X_tfidf, y, test_size=0.2)\n",
        "\n",
        "# Naive Bayes\n",
        "classifier = GaussianNB()\n",
        "\n",
        "# Training the classifier\n",
        "classifier.fit(X_train.toarray(), y_train)  # Convert X_train to array\n",
        "\n",
        "# Prediction on the test set\n",
        "y_pred = classifier.predict(X_test.toarray())  # Convert X_test to array\n",
        "\n",
        "# Validating the model\n",
        "accuracy = accuracy_score(y_test, y_pred)\n",
        "print(\"Accuracy:\", accuracy)\n",
        "\n",
        "# Print classification report\n",
        "report = classification_report(y_test, y_pred)\n",
        "print(\"Classification Report:\")\n",
        "print(report)"
      ],
      "metadata": {
        "colab": {
          "base_uri": "https://localhost:8080/"
        },
        "id": "UV3gh9Mo8awY",
        "outputId": "10ba03f8-a3ab-4037-dc32-594e3779e0e3"
      },
      "execution_count": 34,
      "outputs": [
        {
          "output_type": "stream",
          "name": "stdout",
          "text": [
            "Accuracy: 0.4797047970479705\n",
            "Classification Report:\n",
            "              precision    recall  f1-score   support\n",
            "\n",
            "          -1       0.30      0.66      0.42       516\n",
            "           0       0.63      0.29      0.40      1056\n",
            "           1       0.63      0.60      0.61       867\n",
            "\n",
            "    accuracy                           0.48      2439\n",
            "   macro avg       0.52      0.52      0.48      2439\n",
            "weighted avg       0.56      0.48      0.48      2439\n",
            "\n"
          ]
        }
      ]
    },
    {
      "cell_type": "markdown",
      "source": [
        "# REGRESSÃO LOGÍSTICA"
      ],
      "metadata": {
        "id": "5VqNZ3kVmaBc"
      }
    },
    {
      "cell_type": "code",
      "source": [
        "from sklearn.feature_extraction.text import CountVectorizer\n",
        "from sklearn.preprocessing import StandardScaler\n",
        "from sklearn.model_selection import train_test_split\n",
        "from sklearn.linear_model import LogisticRegression\n",
        "from sklearn.metrics import accuracy_score\n",
        "\n",
        "# Convert the tokenized sentences into text\n",
        "sentences = [' '.join(tokens) for tokens in df_2['tokens_preprocessados']]\n",
        "\n",
        "# Define the target variable 'y' from your dataset\n",
        "y = df_2['sentimento']\n",
        "\n",
        "# Apply CountVectorizer to the sentences\n",
        "vectorizer = CountVectorizer()\n",
        "X = vectorizer.fit_transform(sentences)\n",
        "\n",
        "# Normalize the vectors\n",
        "scaler = StandardScaler()\n",
        "X = scaler.fit_transform(X.toarray())\n",
        "\n",
        "# Split the data into training and testing sets\n",
        "X_train, X_test, y_train, y_test = train_test_split(X, y, test_size=0.2, random_state=42)\n",
        "\n",
        "# Create the logistic regression model\n",
        "logreg = LogisticRegression()\n",
        "\n",
        "# Train the model\n",
        "logreg.fit(X_train, y_train)\n",
        "\n",
        "# Make predictions on the test data\n",
        "y_pred = logreg.predict(X_test)\n",
        "\n",
        "# Calculate the accuracy of the predictions\n",
        "accuracy = accuracy_score(y_test, y_pred)\n",
        "print(\"Accuracy: {:.2f}%\".format(accuracy * 100))\n",
        "\n"
      ],
      "metadata": {
        "colab": {
          "base_uri": "https://localhost:8080/"
        },
        "id": "CwxpqupWmgXV",
        "outputId": "2d713e75-c02c-404e-aafc-ffe43e003dc0"
      },
      "execution_count": 35,
      "outputs": [
        {
          "output_type": "stream",
          "name": "stderr",
          "text": [
            "/usr/local/lib/python3.10/dist-packages/sklearn/linear_model/_logistic.py:458: ConvergenceWarning: lbfgs failed to converge (status=1):\n",
            "STOP: TOTAL NO. of ITERATIONS REACHED LIMIT.\n",
            "\n",
            "Increase the number of iterations (max_iter) or scale the data as shown in:\n",
            "    https://scikit-learn.org/stable/modules/preprocessing.html\n",
            "Please also refer to the documentation for alternative solver options:\n",
            "    https://scikit-learn.org/stable/modules/linear_model.html#logistic-regression\n",
            "  n_iter_i = _check_optimize_result(\n"
          ]
        },
        {
          "output_type": "stream",
          "name": "stdout",
          "text": [
            "Accuracy: 72.20%\n"
          ]
        }
      ]
    }
  ]
}