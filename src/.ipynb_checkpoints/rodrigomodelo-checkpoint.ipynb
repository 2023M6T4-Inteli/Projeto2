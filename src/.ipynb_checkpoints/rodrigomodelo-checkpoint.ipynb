{
 "cells": [
  {
   "cell_type": "markdown",
   "id": "d5647fa9",
   "metadata": {},
   "source": [
    "# Executando a tabela"
   ]
  },
  {
   "cell_type": "code",
   "execution_count": null,
   "id": "982d7c75",
   "metadata": {},
   "outputs": [],
   "source": [
    "import pandas as pd\n",
    "import numpy as np"
   ]
  },
  {
   "cell_type": "code",
   "execution_count": 7,
   "id": "2126b2d5",
   "metadata": {
    "scrolled": true
   },
   "outputs": [
    {
     "data": {
      "text/html": [
       "<div>\n",
       "<style scoped>\n",
       "    .dataframe tbody tr th:only-of-type {\n",
       "        vertical-align: middle;\n",
       "    }\n",
       "\n",
       "    .dataframe tbody tr th {\n",
       "        vertical-align: top;\n",
       "    }\n",
       "\n",
       "    .dataframe thead th {\n",
       "        text-align: right;\n",
       "    }\n",
       "</style>\n",
       "<table border=\"1\" class=\"dataframe\">\n",
       "  <thead>\n",
       "    <tr style=\"text-align: right;\">\n",
       "      <th></th>\n",
       "      <th>Unnamed: 0</th>\n",
       "      <th>autor</th>\n",
       "      <th>texto</th>\n",
       "      <th>sentimento</th>\n",
       "      <th>tokens</th>\n",
       "    </tr>\n",
       "  </thead>\n",
       "  <tbody>\n",
       "    <tr>\n",
       "      <th>0</th>\n",
       "      <td>0</td>\n",
       "      <td>v8_capital</td>\n",
       "      <td>Confira os resultados dos nossos fundos no mês...</td>\n",
       "      <td>NEUTRAL</td>\n",
       "      <td>['confira', 'o', 'resultado', 'de o', 'nosso',...</td>\n",
       "    </tr>\n",
       "    <tr>\n",
       "      <th>1</th>\n",
       "      <td>1</td>\n",
       "      <td>winthegame_of</td>\n",
       "      <td>A Alvarez &amp; Marsal estará conosco no Sportainm...</td>\n",
       "      <td>NEUTRAL</td>\n",
       "      <td>['Alvarez', 'Marsal', 'estara', 'conosco', 'sp...</td>\n",
       "    </tr>\n",
       "    <tr>\n",
       "      <th>2</th>\n",
       "      <td>2</td>\n",
       "      <td>marta_bego</td>\n",
       "      <td>#Repost btgpactual with make_repost ・・・ Entend...</td>\n",
       "      <td>NEUTRAL</td>\n",
       "      <td>['repost', 'btg', 'With', 'makerepost', 'enten...</td>\n",
       "    </tr>\n",
       "    <tr>\n",
       "      <th>3</th>\n",
       "      <td>3</td>\n",
       "      <td>lmviapiana</td>\n",
       "      <td>Minuto touro de ouro</td>\n",
       "      <td>POSITIVE</td>\n",
       "      <td>['minuto', 'touro', 'ouro']</td>\n",
       "    </tr>\n",
       "    <tr>\n",
       "      <th>4</th>\n",
       "      <td>4</td>\n",
       "      <td>vanilson_dos</td>\n",
       "      <td>@ricktolledo Sim</td>\n",
       "      <td>NEUTRAL</td>\n",
       "      <td>['Ricktolledo', 'sim']</td>\n",
       "    </tr>\n",
       "  </tbody>\n",
       "</table>\n",
       "</div>"
      ],
      "text/plain": [
       "   Unnamed: 0          autor  \\\n",
       "0           0     v8_capital   \n",
       "1           1  winthegame_of   \n",
       "2           2     marta_bego   \n",
       "3           3     lmviapiana   \n",
       "4           4   vanilson_dos   \n",
       "\n",
       "                                               texto sentimento  \\\n",
       "0  Confira os resultados dos nossos fundos no mês...    NEUTRAL   \n",
       "1  A Alvarez & Marsal estará conosco no Sportainm...    NEUTRAL   \n",
       "2  #Repost btgpactual with make_repost ・・・ Entend...    NEUTRAL   \n",
       "3                               Minuto touro de ouro   POSITIVE   \n",
       "4                                   @ricktolledo Sim    NEUTRAL   \n",
       "\n",
       "                                              tokens  \n",
       "0  ['confira', 'o', 'resultado', 'de o', 'nosso',...  \n",
       "1  ['Alvarez', 'Marsal', 'estara', 'conosco', 'sp...  \n",
       "2  ['repost', 'btg', 'With', 'makerepost', 'enten...  \n",
       "3                        ['minuto', 'touro', 'ouro']  \n",
       "4                             ['Ricktolledo', 'sim']  "
      ]
     },
     "execution_count": 7,
     "metadata": {},
     "output_type": "execute_result"
    }
   ],
   "source": [
    "df = pd.read_csv()"
   ]
  },
  {
   "cell_type": "markdown",
   "id": "0073e3c1",
   "metadata": {},
   "source": [
    "# Tratamento\n",
    "- Objetivo: Revisar o Tratamento e pré-processamento da tabela"
   ]
  },
  {
   "cell_type": "code",
   "execution_count": null,
   "id": "5aba1bbb",
   "metadata": {},
   "outputs": [],
   "source": [
    "#Como os tokens lematizados quando baixados em csv, vieram com aspas, espaços a mais, stop words e algumas palavras em maíusculo, irei tokenizar as frases já lematizadas"
   ]
  },
  {
   "cell_type": "markdown",
   "id": "89e43ac9",
   "metadata": {},
   "source": [
    "## Frêquencia de Palavras \n",
    "- Objetivo: Verificar se tem a necesseidade de aprimorar o pré-processamento"
   ]
  },
  {
   "cell_type": "markdown",
   "id": "c57d03f3",
   "metadata": {},
   "source": [
    "## Aprimorando  o pré-processamento\n",
    "- Objetivo: Com as frequência de palavras expostas, adicionar novos stop-words e aplicar um pré-processamento novamente"
   ]
  },
  {
   "cell_type": "markdown",
   "id": "47b46a76",
   "metadata": {},
   "source": [
    "# Balanceamento\n",
    "- Objetivo: Entender como os dados estão balanceados para melhorar a base de dados"
   ]
  },
  {
   "cell_type": "markdown",
   "id": "6c30120e",
   "metadata": {},
   "source": [
    "# Melhoria base de dados\n",
    "- Objetivo: Mostrar como a base de dados foi melhorada"
   ]
  },
  {
   "cell_type": "markdown",
   "id": "e1d0834f",
   "metadata": {},
   "source": [
    "# Vetorização\n",
    "- Objetivo: Realizar a vetorização com algum modelo"
   ]
  },
  {
   "cell_type": "markdown",
   "id": "a9da6894",
   "metadata": {},
   "source": [
    "# Algoritimo\n",
    "- Objetivo: Colocar e explicar o algoritimo aplicado"
   ]
  },
  {
   "cell_type": "markdown",
   "id": "8a0ab4ff",
   "metadata": {},
   "source": [
    "# Rede Neural\n",
    "- Objetivo: Aplicar Rede Neural para a predição e explicar"
   ]
  }
 ],
 "metadata": {
  "kernelspec": {
   "display_name": "Python 3 (ipykernel)",
   "language": "python",
   "name": "python3"
  },
  "language_info": {
   "codemirror_mode": {
    "name": "ipython",
    "version": 3
   },
   "file_extension": ".py",
   "mimetype": "text/x-python",
   "name": "python",
   "nbconvert_exporter": "python",
   "pygments_lexer": "ipython3",
   "version": "3.9.12"
  }
 },
 "nbformat": 4,
 "nbformat_minor": 5
}
