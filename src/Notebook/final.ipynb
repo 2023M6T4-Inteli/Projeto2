{
 "cells": [
  {
   "cell_type": "markdown",
   "id": "2314f9ef",
   "metadata": {},
   "source": [
    "# Instalações"
   ]
  },
  {
   "cell_type": "code",
   "execution_count": 57,
   "id": "2e875627",
   "metadata": {},
   "outputs": [],
   "source": [
    "import pandas as pd\n",
    "import numpy as np\n",
    "import re \n",
    "import string\n",
    "import matplotlib.pyplot as plt\n",
    "import seaborn as sns\n",
    "from wordcloud import WordCloud\n",
    "import spacy\n",
    "import unicodedata\n",
    "import emoji_data_python\n",
    "import emoji\n",
    "import nltk \n",
    "from nltk.tokenize import word_tokenize\n",
    "import matplotlib.pyplot as plt\n",
    "import seaborn as sns\n",
    "import plotly.express as px\n",
    "from catboost import CatBoostClassifier\n",
    "from sklearn.linear_model import LogisticRegression\n",
    "from sklearn.metrics import accuracy_score\n",
    "from sklearn.feature_extraction.text import CountVectorizer, TfidfVectorizer\n",
    "from sklearn.linear_model import LogisticRegression\n",
    "from sklearn.metrics import roc_auc_score, f1_score, confusion_matrix\n",
    "from sklearn.model_selection import train_test_split, GridSearchCV\n",
    "from sklearn.naive_bayes import MultinomialNB\n",
    "from sklearn.linear_model import LogisticRegression\n",
    "import xgboost as xgb\n",
    "from catboost import CatBoostClassifier\n",
    "import matplotlib.pyplot as plt\n",
    "from sklearn.metrics import recall_score\n",
    "import pickle"
   ]
  },
  {
   "cell_type": "code",
   "execution_count": 2,
   "id": "68f43664",
   "metadata": {},
   "outputs": [
    {
     "name": "stdout",
     "output_type": "stream",
     "text": [
      "Collecting pt-core-news-lg==3.5.0\n",
      "  Downloading https://github.com/explosion/spacy-models/releases/download/pt_core_news_lg-3.5.0/pt_core_news_lg-3.5.0-py3-none-any.whl (568.2 MB)\n",
      "     -------------------------------------- 568.2/568.2 MB 4.3 MB/s eta 0:00:00\n",
      "Requirement already satisfied: spacy<3.6.0,>=3.5.0 in c:\\users\\rodrigo.inteli\\anaconda3\\lib\\site-packages (from pt-core-news-lg==3.5.0) (3.5.0)\n",
      "Requirement already satisfied: spacy-legacy<3.1.0,>=3.0.11 in c:\\users\\rodrigo.inteli\\anaconda3\\lib\\site-packages (from spacy<3.6.0,>=3.5.0->pt-core-news-lg==3.5.0) (3.0.12)\n",
      "Requirement already satisfied: spacy-loggers<2.0.0,>=1.0.0 in c:\\users\\rodrigo.inteli\\anaconda3\\lib\\site-packages (from spacy<3.6.0,>=3.5.0->pt-core-news-lg==3.5.0) (1.0.4)\n",
      "Requirement already satisfied: murmurhash<1.1.0,>=0.28.0 in c:\\users\\rodrigo.inteli\\anaconda3\\lib\\site-packages (from spacy<3.6.0,>=3.5.0->pt-core-news-lg==3.5.0) (1.0.9)\n",
      "Requirement already satisfied: cymem<2.1.0,>=2.0.2 in c:\\users\\rodrigo.inteli\\anaconda3\\lib\\site-packages (from spacy<3.6.0,>=3.5.0->pt-core-news-lg==3.5.0) (2.0.7)\n",
      "Requirement already satisfied: preshed<3.1.0,>=3.0.2 in c:\\users\\rodrigo.inteli\\anaconda3\\lib\\site-packages (from spacy<3.6.0,>=3.5.0->pt-core-news-lg==3.5.0) (3.0.8)\n",
      "Requirement already satisfied: thinc<8.2.0,>=8.1.0 in c:\\users\\rodrigo.inteli\\anaconda3\\lib\\site-packages (from spacy<3.6.0,>=3.5.0->pt-core-news-lg==3.5.0) (8.1.7)\n",
      "Requirement already satisfied: wasabi<1.2.0,>=0.9.1 in c:\\users\\rodrigo.inteli\\anaconda3\\lib\\site-packages (from spacy<3.6.0,>=3.5.0->pt-core-news-lg==3.5.0) (1.1.1)\n",
      "Requirement already satisfied: srsly<3.0.0,>=2.4.3 in c:\\users\\rodrigo.inteli\\anaconda3\\lib\\site-packages (from spacy<3.6.0,>=3.5.0->pt-core-news-lg==3.5.0) (2.4.5)\n",
      "Requirement already satisfied: catalogue<2.1.0,>=2.0.6 in c:\\users\\rodrigo.inteli\\anaconda3\\lib\\site-packages (from spacy<3.6.0,>=3.5.0->pt-core-news-lg==3.5.0) (2.0.8)\n",
      "Requirement already satisfied: typer<0.8.0,>=0.3.0 in c:\\users\\rodrigo.inteli\\anaconda3\\lib\\site-packages (from spacy<3.6.0,>=3.5.0->pt-core-news-lg==3.5.0) (0.7.0)\n",
      "Requirement already satisfied: pathy>=0.10.0 in c:\\users\\rodrigo.inteli\\anaconda3\\lib\\site-packages (from spacy<3.6.0,>=3.5.0->pt-core-news-lg==3.5.0) (0.10.1)\n",
      "Requirement already satisfied: smart-open<7.0.0,>=5.2.1 in c:\\users\\rodrigo.inteli\\anaconda3\\lib\\site-packages (from spacy<3.6.0,>=3.5.0->pt-core-news-lg==3.5.0) (6.3.0)\n",
      "Requirement already satisfied: tqdm<5.0.0,>=4.38.0 in c:\\users\\rodrigo.inteli\\anaconda3\\lib\\site-packages (from spacy<3.6.0,>=3.5.0->pt-core-news-lg==3.5.0) (4.64.0)\n",
      "Requirement already satisfied: numpy>=1.15.0 in c:\\users\\rodrigo.inteli\\anaconda3\\lib\\site-packages (from spacy<3.6.0,>=3.5.0->pt-core-news-lg==3.5.0) (1.22.4)\n",
      "Requirement already satisfied: requests<3.0.0,>=2.13.0 in c:\\users\\rodrigo.inteli\\anaconda3\\lib\\site-packages (from spacy<3.6.0,>=3.5.0->pt-core-news-lg==3.5.0) (2.27.1)\n",
      "Requirement already satisfied: pydantic!=1.8,!=1.8.1,<1.11.0,>=1.7.4 in c:\\users\\rodrigo.inteli\\anaconda3\\lib\\site-packages (from spacy<3.6.0,>=3.5.0->pt-core-news-lg==3.5.0) (1.10.4)\n",
      "Requirement already satisfied: jinja2 in c:\\users\\rodrigo.inteli\\anaconda3\\lib\\site-packages (from spacy<3.6.0,>=3.5.0->pt-core-news-lg==3.5.0) (2.11.3)\n",
      "Requirement already satisfied: setuptools in c:\\users\\rodrigo.inteli\\anaconda3\\lib\\site-packages (from spacy<3.6.0,>=3.5.0->pt-core-news-lg==3.5.0) (61.2.0)\n",
      "Requirement already satisfied: packaging>=20.0 in c:\\users\\rodrigo.inteli\\anaconda3\\lib\\site-packages (from spacy<3.6.0,>=3.5.0->pt-core-news-lg==3.5.0) (21.3)\n",
      "Requirement already satisfied: langcodes<4.0.0,>=3.2.0 in c:\\users\\rodrigo.inteli\\anaconda3\\lib\\site-packages (from spacy<3.6.0,>=3.5.0->pt-core-news-lg==3.5.0) (3.3.0)\n",
      "Requirement already satisfied: pyparsing!=3.0.5,>=2.0.2 in c:\\users\\rodrigo.inteli\\anaconda3\\lib\\site-packages (from packaging>=20.0->spacy<3.6.0,>=3.5.0->pt-core-news-lg==3.5.0) (3.0.4)\n",
      "Requirement already satisfied: typing-extensions>=4.2.0 in c:\\users\\rodrigo.inteli\\anaconda3\\lib\\site-packages (from pydantic!=1.8,!=1.8.1,<1.11.0,>=1.7.4->spacy<3.6.0,>=3.5.0->pt-core-news-lg==3.5.0) (4.4.0)\n",
      "Requirement already satisfied: urllib3<1.27,>=1.21.1 in c:\\users\\rodrigo.inteli\\anaconda3\\lib\\site-packages (from requests<3.0.0,>=2.13.0->spacy<3.6.0,>=3.5.0->pt-core-news-lg==3.5.0) (1.26.9)\n",
      "Requirement already satisfied: certifi>=2017.4.17 in c:\\users\\rodrigo.inteli\\anaconda3\\lib\\site-packages (from requests<3.0.0,>=2.13.0->spacy<3.6.0,>=3.5.0->pt-core-news-lg==3.5.0) (2021.10.8)\n",
      "Requirement already satisfied: charset-normalizer~=2.0.0 in c:\\users\\rodrigo.inteli\\anaconda3\\lib\\site-packages (from requests<3.0.0,>=2.13.0->spacy<3.6.0,>=3.5.0->pt-core-news-lg==3.5.0) (2.0.4)\n",
      "Requirement already satisfied: idna<4,>=2.5 in c:\\users\\rodrigo.inteli\\anaconda3\\lib\\site-packages (from requests<3.0.0,>=2.13.0->spacy<3.6.0,>=3.5.0->pt-core-news-lg==3.5.0) (3.3)\n",
      "Requirement already satisfied: blis<0.8.0,>=0.7.8 in c:\\users\\rodrigo.inteli\\anaconda3\\lib\\site-packages (from thinc<8.2.0,>=8.1.0->spacy<3.6.0,>=3.5.0->pt-core-news-lg==3.5.0) (0.7.9)\n",
      "Requirement already satisfied: confection<1.0.0,>=0.0.1 in c:\\users\\rodrigo.inteli\\anaconda3\\lib\\site-packages (from thinc<8.2.0,>=8.1.0->spacy<3.6.0,>=3.5.0->pt-core-news-lg==3.5.0) (0.0.4)\n",
      "Requirement already satisfied: colorama in c:\\users\\rodrigo.inteli\\anaconda3\\lib\\site-packages (from tqdm<5.0.0,>=4.38.0->spacy<3.6.0,>=3.5.0->pt-core-news-lg==3.5.0) (0.4.6)\n",
      "Requirement already satisfied: click<9.0.0,>=7.1.1 in c:\\users\\rodrigo.inteli\\anaconda3\\lib\\site-packages (from typer<0.8.0,>=0.3.0->spacy<3.6.0,>=3.5.0->pt-core-news-lg==3.5.0) (8.0.4)\n",
      "Requirement already satisfied: MarkupSafe>=0.23 in c:\\users\\rodrigo.inteli\\anaconda3\\lib\\site-packages (from jinja2->spacy<3.6.0,>=3.5.0->pt-core-news-lg==3.5.0) (2.0.1)\n",
      "\u001b[38;5;2m[+] Download and installation successful\u001b[0m\n",
      "You can now load the package via spacy.load('pt_core_news_lg')\n"
     ]
    }
   ],
   "source": [
    "#Baixando modelo de lematização\n",
    "!python -m spacy download pt_core_news_lg"
   ]
  },
  {
   "cell_type": "code",
   "execution_count": null,
   "id": "c90bf0cb",
   "metadata": {},
   "outputs": [],
   "source": [
    "#importações e instalações para o bert\n",
    "#recomenda-se reniciar o kernel e executar primeiro essas instalções, caso queira testar o Bert"
   ]
  },
  {
   "cell_type": "markdown",
   "id": "271eebb4",
   "metadata": {},
   "source": [
    "# Executando tabela re-analisada e Pré-Processamento"
   ]
  },
  {
   "cell_type": "markdown",
   "id": "76acff06",
   "metadata": {},
   "source": [
    "## Limpeza de dados"
   ]
  },
  {
   "cell_type": "code",
   "execution_count": 3,
   "id": "b78d6340",
   "metadata": {
    "scrolled": true
   },
   "outputs": [
    {
     "data": {
      "text/html": [
       "<div>\n",
       "<style scoped>\n",
       "    .dataframe tbody tr th:only-of-type {\n",
       "        vertical-align: middle;\n",
       "    }\n",
       "\n",
       "    .dataframe tbody tr th {\n",
       "        vertical-align: top;\n",
       "    }\n",
       "\n",
       "    .dataframe thead th {\n",
       "        text-align: right;\n",
       "    }\n",
       "</style>\n",
       "<table border=\"1\" class=\"dataframe\">\n",
       "  <thead>\n",
       "    <tr style=\"text-align: right;\">\n",
       "      <th></th>\n",
       "      <th>texto</th>\n",
       "      <th>sentimento</th>\n",
       "    </tr>\n",
       "  </thead>\n",
       "  <tbody>\n",
       "    <tr>\n",
       "      <th>0</th>\n",
       "      <td>Minuto touro de ouro</td>\n",
       "      <td>1</td>\n",
       "    </tr>\n",
       "    <tr>\n",
       "      <th>1</th>\n",
       "      <td>@ricktolledo Sim</td>\n",
       "      <td>0</td>\n",
       "    </tr>\n",
       "    <tr>\n",
       "      <th>2</th>\n",
       "      <td>Queria saber se a Btg banking é a própria btg ...</td>\n",
       "      <td>1</td>\n",
       "    </tr>\n",
       "    <tr>\n",
       "      <th>3</th>\n",
       "      <td>👏👏👏👏</td>\n",
       "      <td>1</td>\n",
       "    </tr>\n",
       "    <tr>\n",
       "      <th>4</th>\n",
       "      <td>Vamos ajudar o Brasil na principal categoria d...</td>\n",
       "      <td>1</td>\n",
       "    </tr>\n",
       "  </tbody>\n",
       "</table>\n",
       "</div>"
      ],
      "text/plain": [
       "                                               texto  sentimento\n",
       "0                               Minuto touro de ouro           1\n",
       "1                                   @ricktolledo Sim           0\n",
       "2  Queria saber se a Btg banking é a própria btg ...           1\n",
       "3                                               👏👏👏👏           1\n",
       "4  Vamos ajudar o Brasil na principal categoria d...           1"
      ]
     },
     "execution_count": 3,
     "metadata": {},
     "output_type": "execute_result"
    }
   ],
   "source": [
    "#Base Refatorada, feita pelo projeto 4 https://github.com/2023M6T4-Inteli/Projeto4\n",
    "df = pd.read_csv(\"C:\\\\Users\\\\Rodrigo.INTELI\\\\Downloads\\\\BASE-REFATORADA - BASE-REFATORADA.csv\")\n",
    "df = df[['texto', 'sentimento']]\n",
    "df.head()"
   ]
  },
  {
   "cell_type": "code",
   "execution_count": 4,
   "id": "c522b15a",
   "metadata": {},
   "outputs": [],
   "source": [
    "#retirando valores nulos e duplicados da tabela \n",
    "df.dropna(inplace = True)\n",
    "df.drop_duplicates(inplace = True)"
   ]
  },
  {
   "cell_type": "markdown",
   "id": "ef5a4d45",
   "metadata": {},
   "source": [
    "## Funções de Pré-Processamento"
   ]
  },
  {
   "cell_type": "code",
   "execution_count": 5,
   "id": "e0f9b9b8",
   "metadata": {},
   "outputs": [],
   "source": [
    "#Fução para retirar url dos textos\n",
    "def remove_urls(text):\n",
    "    \"\"\"Berilgan matndan URL larini o'chiradi\"\"\"\n",
    "    url_pattern = re.compile(r'https?://\\S+|www\\.\\S+')\n",
    "    return url_pattern.sub(r'', text)"
   ]
  },
  {
   "cell_type": "code",
   "execution_count": 6,
   "id": "5e7aa5e0",
   "metadata": {},
   "outputs": [
    {
     "data": {
      "text/plain": [
       "''"
      ]
     },
     "execution_count": 6,
     "metadata": {},
     "output_type": "execute_result"
    }
   ],
   "source": [
    "#Teste\n",
    "remove_urls('https://www.youtube.com/results?search_query=streamlit+')"
   ]
  },
  {
   "cell_type": "code",
   "execution_count": 7,
   "id": "03910317",
   "metadata": {},
   "outputs": [],
   "source": [
    "#Retirada de caracteres especias\n",
    "def remover_caracteres_especiais(texto):\n",
    "    texto_sem_acentos = unicodedata.normalize('NFKD', texto).encode('ASCII', 'ignore').decode('utf-8')\n",
    "    texto_sem_especiais = re.sub('[^a-zA-Z0-9 \\\\\\]', '', texto_sem_acentos)\n",
    "    return texto_sem_especiais"
   ]
  },
  {
   "cell_type": "code",
   "execution_count": 8,
   "id": "ef3c9fe8",
   "metadata": {},
   "outputs": [
    {
     "data": {
      "text/plain": [
       "'c A'"
      ]
     },
     "execution_count": 8,
     "metadata": {},
     "output_type": "execute_result"
    }
   ],
   "source": [
    "#Teste\n",
    "remover_caracteres_especiais('ç´Â')"
   ]
  },
  {
   "cell_type": "code",
   "execution_count": 5,
   "id": "0e0f6faa",
   "metadata": {},
   "outputs": [],
   "source": [
    "#Substituir os emojis por palavras em pt-br\n",
    "def emoji(texto):\n",
    "    # Substituição de emojis\n",
    "    return emoji.demojize(texto, delimiters=(' ', ' '), language='pt')\n",
    "     "
   ]
  },
  {
   "cell_type": "code",
   "execution_count": 6,
   "id": "d824e85a",
   "metadata": {},
   "outputs": [
    {
     "ename": "AttributeError",
     "evalue": "'function' object has no attribute 'demojize'",
     "output_type": "error",
     "traceback": [
      "\u001b[1;31m---------------------------------------------------------------------------\u001b[0m",
      "\u001b[1;31mAttributeError\u001b[0m                            Traceback (most recent call last)",
      "Input \u001b[1;32mIn [6]\u001b[0m, in \u001b[0;36m<cell line: 2>\u001b[1;34m()\u001b[0m\n\u001b[0;32m      1\u001b[0m \u001b[38;5;66;03m#Teste\u001b[39;00m\n\u001b[1;32m----> 2\u001b[0m \u001b[43memoji_\u001b[49m\u001b[43m(\u001b[49m\u001b[38;5;124;43m'\u001b[39;49m\u001b[38;5;124;43m🚀\u001b[39;49m\u001b[38;5;124;43m'\u001b[39;49m\u001b[43m)\u001b[49m\n",
      "Input \u001b[1;32mIn [5]\u001b[0m, in \u001b[0;36memoji_\u001b[1;34m(texto)\u001b[0m\n\u001b[0;32m      2\u001b[0m \u001b[38;5;28;01mdef\u001b[39;00m \u001b[38;5;21memoji_\u001b[39m(texto):\n\u001b[0;32m      3\u001b[0m     \u001b[38;5;66;03m# Substituição de emojis\u001b[39;00m\n\u001b[1;32m----> 4\u001b[0m     \u001b[38;5;28;01mreturn\u001b[39;00m \u001b[43memoji\u001b[49m\u001b[38;5;241;43m.\u001b[39;49m\u001b[43mdemojize\u001b[49m(texto, delimiters\u001b[38;5;241m=\u001b[39m(\u001b[38;5;124m'\u001b[39m\u001b[38;5;124m \u001b[39m\u001b[38;5;124m'\u001b[39m, \u001b[38;5;124m'\u001b[39m\u001b[38;5;124m \u001b[39m\u001b[38;5;124m'\u001b[39m), language\u001b[38;5;241m=\u001b[39m\u001b[38;5;124m'\u001b[39m\u001b[38;5;124mpt\u001b[39m\u001b[38;5;124m'\u001b[39m)\n",
      "\u001b[1;31mAttributeError\u001b[0m: 'function' object has no attribute 'demojize'"
     ]
    }
   ],
   "source": [
    "#Teste\n",
    "emoji('🚀')"
   ]
  },
  {
   "cell_type": "code",
   "execution_count": 69,
   "id": "dfbc5414",
   "metadata": {},
   "outputs": [],
   "source": [
    "#lematização e lower\n",
    "nlp = spacy.load(\"pt_core_news_lg\")\n",
    "def lema(texto):\n",
    "    doc = nlp(texto.lower())\n",
    "    text = []\n",
    "    for word in doc:\n",
    "        text.append(word.lemma_)\n",
    "    return ' '.join(text)\n",
    "    "
   ]
  },
  {
   "cell_type": "code",
   "execution_count": 71,
   "id": "77a8c93e",
   "metadata": {},
   "outputs": [
    {
     "data": {
      "text/plain": [
       "'comida andar matar soco'"
      ]
     },
     "execution_count": 71,
     "metadata": {},
     "output_type": "execute_result"
    }
   ],
   "source": [
    "#Teste\n",
    "lema('comida andar matou soco')"
   ]
  },
  {
   "cell_type": "code",
   "execution_count": 23,
   "id": "2600402e",
   "metadata": {},
   "outputs": [],
   "source": [
    "#Erros gramaticais e abreviações\n",
    "#Dicionario de abreviações para substituir \n",
    "def substituir_abreviacoes(frase):\n",
    "    dicionario_girias = {\n",
    "    'vc': 'voce',\n",
    "    'vcs':'voce',\n",
    "    'Vc': 'voce',\n",
    "    'pq': 'porque',\n",
    "    'tbm': 'tambem',\n",
    "    'q': 'que',\n",
    "    'td': 'tudo',\n",
    "    'blz': 'beleza',\n",
    "    'flw': 'falou',\n",
    "    'kd': 'cade',\n",
    "    'to': 'estou',\n",
    "    'mt': 'muito',\n",
    "    'cmg': 'comigo',\n",
    "    'ctz': 'certeza',\n",
    "    'jah': 'ja',\n",
    "    'naum': 'nao',\n",
    "    'ta': 'esta',\n",
    "    'eh': 'e',\n",
    "    'vlw': 'valeu',\n",
    "    'p': 'para',\n",
    "    'qnd': 'quando',\n",
    "    'msm': 'mesmo',\n",
    "    'fzr': 'fazer',\n",
    "    'agr': 'agora',\n",
    "    'btgpactual': 'btg',\n",
    "    'pactual': 'btg',\n",
    "    }\n",
    "    palavras = frase.split()\n",
    "    for i, palavra in enumerate(palavras):\n",
    "        if palavra in dicionario_girias:\n",
    "            palavras[i] = dicionario_girias[palavra]\n",
    "    return ' '.join(palavras)"
   ]
  },
  {
   "cell_type": "code",
   "execution_count": 27,
   "id": "71670b88",
   "metadata": {},
   "outputs": [
    {
     "data": {
      "text/plain": [
       "'voce fazer btg'"
      ]
     },
     "execution_count": 27,
     "metadata": {},
     "output_type": "execute_result"
    }
   ],
   "source": [
    "#Teste\n",
    "substituir_abreviacoes('vc fzr pactual')"
   ]
  },
  {
   "cell_type": "code",
   "execution_count": 48,
   "id": "ea8dc2f8",
   "metadata": {},
   "outputs": [],
   "source": [
    "#Retirada de stop-words e pontuações\n",
    "def stop_punct(texto):\n",
    "    stop_words = ['eu', 'tu', 'ele', 'ela', 'nós', 'nos', 'vós', 'vos', 'eles', 'elas', 'um', 'em', 'de'\n",
    "                  'isso', 'isto', 'aquilo', 'algum', 'alguma', 'alguns', 'algumas',\n",
    "                  'outro', 'outra', 'outros', 'outras', 'tão', 'tal', 'tanto', 'tanta', 'tantos', 'tantas', \n",
    "                  'seu', 'sua', 'seus', 'suas', 'dele', 'dela', 'deles', 'delas', \n",
    "                  'quem', 'qual', 'quais', 'que', 'onde', 'como', 'e','um', 'as', 'no',\n",
    "                  'para', 'por', 'com', 'sem', 'sob', 'sobre', 'de', 'da', 'desde', 'em', 'entre', 'porque',\n",
    "                  'á', 'a', 'o', 'ola', 'olá', 'pra', 'para', 'bemvindo', 'benvindo', 'bem-vindo', 'bemvindos', 'aqui', 'vai', 'na', 'no', 'esse', 'este', 'voce', 'nosso', 'ou', 'btg','ser', 'mais', 'ter', 'meu', 'se', 'esta', 'todo', 'estar']\n",
    "    \n",
    "    pontuacoes = ['.', ',', ';', ':', '!', '?', '-', '—', '_', '/', '\\\\', '(', ')', '[', ']', '{', '}', '\"', \"'\", '`', '~', '^', '@', '#', '%', '&', '*']\n",
    "\n",
    "    new = []\n",
    "    for word in texto.split():\n",
    "        if word not in stop_words and word not in pontuacoes:\n",
    "            new.append(word)\n",
    "    return ' '.join(new)\n",
    "    "
   ]
  },
  {
   "cell_type": "code",
   "execution_count": 50,
   "id": "116d2f09",
   "metadata": {},
   "outputs": [
    {
     "data": {
      "text/plain": [
       "'andar correr'"
      ]
     },
     "execution_count": 50,
     "metadata": {},
     "output_type": "execute_result"
    }
   ],
   "source": [
    "#Teste\n",
    "stop_punct('andar eu , tu ola sem ! correr')"
   ]
  },
  {
   "cell_type": "code",
   "execution_count": 36,
   "id": "46521b54",
   "metadata": {},
   "outputs": [],
   "source": [
    "#Removendo espaços extras\n",
    "def remove_extra_white_spaces(text):\n",
    "    single_char_pattern = r'\\s+[a-zA-Z]\\s+'\n",
    "    without_sc = re.sub(pattern=single_char_pattern, repl=\" \", string=str(text))\n",
    "    return without_sc"
   ]
  },
  {
   "cell_type": "code",
   "execution_count": 41,
   "id": "d215ff16",
   "metadata": {},
   "outputs": [
    {
     "data": {
      "text/plain": [
       "' '"
      ]
     },
     "execution_count": 41,
     "metadata": {},
     "output_type": "execute_result"
    }
   ],
   "source": [
    "#Teste"
   ]
  },
  {
   "cell_type": "code",
   "execution_count": 38,
   "id": "38f36b9f",
   "metadata": {},
   "outputs": [],
   "source": [
    "#Função para remover @\n",
    "def remove_arroba(texto):\n",
    "    regex = r\"@\\w+\"\n",
    "    return re.sub(regex, \"\", texto)"
   ]
  },
  {
   "cell_type": "code",
   "execution_count": 40,
   "id": "b67138a1",
   "metadata": {},
   "outputs": [
    {
     "data": {
      "text/plain": [
       "''"
      ]
     },
     "execution_count": 40,
     "metadata": {},
     "output_type": "execute_result"
    }
   ],
   "source": [
    "#Teste\n",
    "remove_arroba('@ro')"
   ]
  },
  {
   "cell_type": "code",
   "execution_count": 51,
   "id": "62ed8636",
   "metadata": {},
   "outputs": [],
   "source": [
    "#Função pipeline \n",
    "def pipeline(texto):\n",
    "    texto = remove_urls(texto)\n",
    "    texto = remover_caracteres_especiais(texto)\n",
    "    texto = remove_arroba(texto)\n",
    "    texto = substituir_abreviacoes(texto)\n",
    "    texto = emoji(texto)\n",
    "    texto = stop_punct(texto)\n",
    "    texto = lema(texto)\n",
    "    #A lematização gera stop-words\n",
    "    texto = stop_punct\n",
    "    return texto"
   ]
  },
  {
   "cell_type": "code",
   "execution_count": null,
   "id": "423ec9a0",
   "metadata": {},
   "outputs": [],
   "source": [
    "#Teste"
   ]
  },
  {
   "cell_type": "code",
   "execution_count": null,
   "id": "d00b7e4c",
   "metadata": {},
   "outputs": [],
   "source": [
    "#Aplicando as funções na tabela "
   ]
  },
  {
   "cell_type": "markdown",
   "id": "a43a6316",
   "metadata": {},
   "source": [
    "# Novas Features"
   ]
  },
  {
   "cell_type": "markdown",
   "id": "4585dd66",
   "metadata": {},
   "source": [
    "## Número de tokens"
   ]
  },
  {
   "cell_type": "markdown",
   "id": "3b3cc857",
   "metadata": {},
   "source": [
    "# Análise Descritiva"
   ]
  },
  {
   "cell_type": "markdown",
   "id": "ca005a21",
   "metadata": {},
   "source": [
    "## Balanceamento\n",
    "- Gráfico para verificar balanceamento dos dados"
   ]
  },
  {
   "cell_type": "markdown",
   "id": "60b17fc0",
   "metadata": {},
   "source": [
    "## Word-Cloud Positivo\n",
    "- Word-Cloud com palavras com labels positivas"
   ]
  },
  {
   "cell_type": "markdown",
   "id": "cbf6b403",
   "metadata": {},
   "source": [
    "## Word-Cloud Negativo\n",
    "- Word-Cloud com palavras negativas"
   ]
  },
  {
   "cell_type": "markdown",
   "id": "985c8ffe",
   "metadata": {},
   "source": [
    "# DOC2VEC\n",
    "- Métricas recall\n",
    "- Acuracia de treino e teste para verificar overfitting\n",
    "- Juntar com as novas features\n",
    "- Algoritimos usados:"
   ]
  },
  {
   "cell_type": "code",
   "execution_count": null,
   "id": "2527397c",
   "metadata": {},
   "outputs": [],
   "source": [
    "#testes de resultado\n",
    "#predict_proba (probabilidade das classes)\n",
    "#predict (sentimento na frase)"
   ]
  },
  {
   "cell_type": "markdown",
   "id": "7a3b3cd2",
   "metadata": {},
   "source": [
    "# BERT\n",
    "- Métricas recall\n",
    "- Acurácia de treino e teste para verificar overfitting"
   ]
  },
  {
   "cell_type": "code",
   "execution_count": null,
   "id": "0a938c08",
   "metadata": {},
   "outputs": [],
   "source": [
    "#testes de resultado\n",
    "#predict_proba (probabilidade das classes)\n",
    "#predict"
   ]
  },
  {
   "cell_type": "markdown",
   "id": "58171f84",
   "metadata": {},
   "source": [
    "# Baixando melhor modelo"
   ]
  }
 ],
 "metadata": {
  "kernelspec": {
   "display_name": "Python 3 (ipykernel)",
   "language": "python",
   "name": "python3"
  },
  "language_info": {
   "codemirror_mode": {
    "name": "ipython",
    "version": 3
   },
   "file_extension": ".py",
   "mimetype": "text/x-python",
   "name": "python",
   "nbconvert_exporter": "python",
   "pygments_lexer": "ipython3",
   "version": "3.9.12"
  }
 },
 "nbformat": 4,
 "nbformat_minor": 5
}
