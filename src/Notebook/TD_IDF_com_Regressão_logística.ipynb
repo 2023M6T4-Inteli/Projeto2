{
  "nbformat": 4,
  "nbformat_minor": 0,
  "metadata": {
    "colab": {
      "provenance": []
    },
    "kernelspec": {
      "name": "python3",
      "display_name": "Python 3"
    },
    "language_info": {
      "name": "python"
    }
  },
  "cells": [
    {
      "cell_type": "markdown",
      "source": [
        "#Importação de biblioteca e dados"
      ],
      "metadata": {
        "id": "o5dBacUD-9UP"
      }
    },
    {
      "cell_type": "code",
      "source": [
        "import pandas as pd\n",
        "import matplotlib.pyplot as plt\n",
        "from sklearn.model_selection import train_test_split\n",
<<<<<<< Updated upstream
        "from sklearn.metrics import accuracy_score, confusion_matrix, classification_report, log_loss\n",
=======
        "from sklearn.metrics import accuracy_score, confusion_matrix, classification_report, log_loss, f1_score, recall_score\n",
>>>>>>> Stashed changes
        "from sklearn.feature_extraction.text import TfidfVectorizer\n",
        "from sklearn.linear_model import LogisticRegression\n",
        "from sklearn.decomposition import PCA\n",
        "from sklearn.pipeline import Pipeline\n",
        "import pickle\n",
        "import numpy as np\n",
        "import ast\n",
        "\n",
<<<<<<< Updated upstream
=======
        "\n",
>>>>>>> Stashed changes
        "#importa os dados, deixando apenas a colunas necessárias\n",
        "dados = pd.read_csv('/content/df_novo.csv')\n",
        "dados = dados[['texto', 'sentimento']]\n",
        "dados.head()"
      ],
      "metadata": {
        "colab": {
          "base_uri": "https://localhost:8080/",
          "height": 206
        },
        "id": "w3N1muvM_CHx",
<<<<<<< Updated upstream
        "outputId": "8035e740-e5a2-4b70-96ca-73fbd03c48eb"
      },
      "execution_count": 58,
=======
        "outputId": "90135922-95c3-427b-a41b-3cc38f9767db"
      },
      "execution_count": 30,
>>>>>>> Stashed changes
      "outputs": [
        {
          "output_type": "execute_result",
          "data": {
            "text/plain": [
              "                                               texto  sentimento\n",
              "0  Confira os resultados dos nossos fundos no mês...           0\n",
              "1  A Alvarez & Marsal estará conosco no Sportainm...           0\n",
              "2  #Repost btgpactual with make_repost ・・・ Entend...           0\n",
              "3                               Minuto touro de ouro           1\n",
              "4                                   @ricktolledo Sim           0"
            ],
            "text/html": [
              "\n",
<<<<<<< Updated upstream
              "  <div id=\"df-ffa6dff6-f326-4b6c-b363-810a44b5c7d3\">\n",
=======
              "  <div id=\"df-53e9fffe-7c89-4c08-892f-5a1438c0dea7\">\n",
>>>>>>> Stashed changes
              "    <div class=\"colab-df-container\">\n",
              "      <div>\n",
              "<style scoped>\n",
              "    .dataframe tbody tr th:only-of-type {\n",
              "        vertical-align: middle;\n",
              "    }\n",
              "\n",
              "    .dataframe tbody tr th {\n",
              "        vertical-align: top;\n",
              "    }\n",
              "\n",
              "    .dataframe thead th {\n",
              "        text-align: right;\n",
              "    }\n",
              "</style>\n",
              "<table border=\"1\" class=\"dataframe\">\n",
              "  <thead>\n",
              "    <tr style=\"text-align: right;\">\n",
              "      <th></th>\n",
              "      <th>texto</th>\n",
              "      <th>sentimento</th>\n",
              "    </tr>\n",
              "  </thead>\n",
              "  <tbody>\n",
              "    <tr>\n",
              "      <th>0</th>\n",
              "      <td>Confira os resultados dos nossos fundos no mês...</td>\n",
              "      <td>0</td>\n",
              "    </tr>\n",
              "    <tr>\n",
              "      <th>1</th>\n",
              "      <td>A Alvarez &amp; Marsal estará conosco no Sportainm...</td>\n",
              "      <td>0</td>\n",
              "    </tr>\n",
              "    <tr>\n",
              "      <th>2</th>\n",
              "      <td>#Repost btgpactual with make_repost ・・・ Entend...</td>\n",
              "      <td>0</td>\n",
              "    </tr>\n",
              "    <tr>\n",
              "      <th>3</th>\n",
              "      <td>Minuto touro de ouro</td>\n",
              "      <td>1</td>\n",
              "    </tr>\n",
              "    <tr>\n",
              "      <th>4</th>\n",
              "      <td>@ricktolledo Sim</td>\n",
              "      <td>0</td>\n",
              "    </tr>\n",
              "  </tbody>\n",
              "</table>\n",
              "</div>\n",
<<<<<<< Updated upstream
              "      <button class=\"colab-df-convert\" onclick=\"convertToInteractive('df-ffa6dff6-f326-4b6c-b363-810a44b5c7d3')\"\n",
=======
              "      <button class=\"colab-df-convert\" onclick=\"convertToInteractive('df-53e9fffe-7c89-4c08-892f-5a1438c0dea7')\"\n",
>>>>>>> Stashed changes
              "              title=\"Convert this dataframe to an interactive table.\"\n",
              "              style=\"display:none;\">\n",
              "        \n",
              "  <svg xmlns=\"http://www.w3.org/2000/svg\" height=\"24px\"viewBox=\"0 0 24 24\"\n",
              "       width=\"24px\">\n",
              "    <path d=\"M0 0h24v24H0V0z\" fill=\"none\"/>\n",
              "    <path d=\"M18.56 5.44l.94 2.06.94-2.06 2.06-.94-2.06-.94-.94-2.06-.94 2.06-2.06.94zm-11 1L8.5 8.5l.94-2.06 2.06-.94-2.06-.94L8.5 2.5l-.94 2.06-2.06.94zm10 10l.94 2.06.94-2.06 2.06-.94-2.06-.94-.94-2.06-.94 2.06-2.06.94z\"/><path d=\"M17.41 7.96l-1.37-1.37c-.4-.4-.92-.59-1.43-.59-.52 0-1.04.2-1.43.59L10.3 9.45l-7.72 7.72c-.78.78-.78 2.05 0 2.83L4 21.41c.39.39.9.59 1.41.59.51 0 1.02-.2 1.41-.59l7.78-7.78 2.81-2.81c.8-.78.8-2.07 0-2.86zM5.41 20L4 18.59l7.72-7.72 1.47 1.35L5.41 20z\"/>\n",
              "  </svg>\n",
              "      </button>\n",
              "      \n",
              "  <style>\n",
              "    .colab-df-container {\n",
              "      display:flex;\n",
              "      flex-wrap:wrap;\n",
              "      gap: 12px;\n",
              "    }\n",
              "\n",
              "    .colab-df-convert {\n",
              "      background-color: #E8F0FE;\n",
              "      border: none;\n",
              "      border-radius: 50%;\n",
              "      cursor: pointer;\n",
              "      display: none;\n",
              "      fill: #1967D2;\n",
              "      height: 32px;\n",
              "      padding: 0 0 0 0;\n",
              "      width: 32px;\n",
              "    }\n",
              "\n",
              "    .colab-df-convert:hover {\n",
              "      background-color: #E2EBFA;\n",
              "      box-shadow: 0px 1px 2px rgba(60, 64, 67, 0.3), 0px 1px 3px 1px rgba(60, 64, 67, 0.15);\n",
              "      fill: #174EA6;\n",
              "    }\n",
              "\n",
              "    [theme=dark] .colab-df-convert {\n",
              "      background-color: #3B4455;\n",
              "      fill: #D2E3FC;\n",
              "    }\n",
              "\n",
              "    [theme=dark] .colab-df-convert:hover {\n",
              "      background-color: #434B5C;\n",
              "      box-shadow: 0px 1px 3px 1px rgba(0, 0, 0, 0.15);\n",
              "      filter: drop-shadow(0px 1px 2px rgba(0, 0, 0, 0.3));\n",
              "      fill: #FFFFFF;\n",
              "    }\n",
              "  </style>\n",
              "\n",
              "      <script>\n",
              "        const buttonEl =\n",
<<<<<<< Updated upstream
              "          document.querySelector('#df-ffa6dff6-f326-4b6c-b363-810a44b5c7d3 button.colab-df-convert');\n",
=======
              "          document.querySelector('#df-53e9fffe-7c89-4c08-892f-5a1438c0dea7 button.colab-df-convert');\n",
>>>>>>> Stashed changes
              "        buttonEl.style.display =\n",
              "          google.colab.kernel.accessAllowed ? 'block' : 'none';\n",
              "\n",
              "        async function convertToInteractive(key) {\n",
<<<<<<< Updated upstream
              "          const element = document.querySelector('#df-ffa6dff6-f326-4b6c-b363-810a44b5c7d3');\n",
=======
              "          const element = document.querySelector('#df-53e9fffe-7c89-4c08-892f-5a1438c0dea7');\n",
>>>>>>> Stashed changes
              "          const dataTable =\n",
              "            await google.colab.kernel.invokeFunction('convertToInteractive',\n",
              "                                                     [key], {});\n",
              "          if (!dataTable) return;\n",
              "\n",
              "          const docLinkHtml = 'Like what you see? Visit the ' +\n",
              "            '<a target=\"_blank\" href=https://colab.research.google.com/notebooks/data_table.ipynb>data table notebook</a>'\n",
              "            + ' to learn more about interactive tables.';\n",
              "          element.innerHTML = '';\n",
              "          dataTable['output_type'] = 'display_data';\n",
              "          await google.colab.output.renderOutput(dataTable, element);\n",
              "          const docLink = document.createElement('div');\n",
              "          docLink.innerHTML = docLinkHtml;\n",
              "          element.appendChild(docLink);\n",
              "        }\n",
              "      </script>\n",
              "    </div>\n",
              "  </div>\n",
              "  "
            ]
          },
          "metadata": {},
<<<<<<< Updated upstream
          "execution_count": 58
=======
          "execution_count": 30
>>>>>>> Stashed changes
        }
      ]
    },
    {
      "cell_type": "markdown",
      "source": [
        "#Divisão dos dados em conjunto de treinamento e teste"
      ],
      "metadata": {
        "id": "3GlyywE0_JFv"
      }
    },
    {
      "cell_type": "code",
      "source": [
        "#dividi os dados em conjunto de treinamento e teste\n",
        "X_train, X_test, y_train, y_test = train_test_split(dados[\"texto\"], dados[\"sentimento\"], test_size=0.2, random_state=42)"
      ],
      "metadata": {
        "id": "lZs-cIP2_ex7"
      },
<<<<<<< Updated upstream
      "execution_count": 59,
=======
      "execution_count": 31,
>>>>>>> Stashed changes
      "outputs": []
    },
    {
      "cell_type": "markdown",
      "source": [
        "#TF-IDF e modelo de classificação"
      ],
      "metadata": {
        "id": "xlhaSNvx_iDb"
      }
    },
    {
      "cell_type": "code",
      "source": [
        "#cria pipeline com TF-IDF e modelo de classificação\n",
        "pipeline = Pipeline([\n",
        "    (\"tfidf\", TfidfVectorizer()),\n",
        "    (\"model\", LogisticRegression(max_iter=1000))  # Aumentamos o número máximo de iterações\n",
        "])"
      ],
      "metadata": {
        "id": "ptskjvKI_miz"
      },
<<<<<<< Updated upstream
      "execution_count": 60,
=======
      "execution_count": 32,
>>>>>>> Stashed changes
      "outputs": []
    },
    {
      "cell_type": "markdown",
      "source": [
        "#Treinamento do modelo "
      ],
      "metadata": {
        "id": "NLHtIKBT_sIJ"
      }
    },
    {
      "cell_type": "code",
      "source": [
        "#treina o modelo usando os dados de treinamento\n",
        "pipeline.fit(X_train, y_train)"
      ],
      "metadata": {
        "colab": {
          "base_uri": "https://localhost:8080/",
          "height": 125
        },
        "id": "v5hglvy1AbdT",
<<<<<<< Updated upstream
        "outputId": "0f41b1d8-619a-4477-88a1-0bc35f7616ef"
      },
      "execution_count": 61,
=======
        "outputId": "8b36243b-a214-4b02-fa43-00bf903c4d44"
      },
      "execution_count": 33,
>>>>>>> Stashed changes
      "outputs": [
        {
          "output_type": "execute_result",
          "data": {
            "text/plain": [
              "Pipeline(steps=[('tfidf', TfidfVectorizer()),\n",
              "                ('model', LogisticRegression(max_iter=1000))])"
            ],
            "text/html": [
<<<<<<< Updated upstream
              "<style>#sk-container-id-1 {color: black;background-color: white;}#sk-container-id-1 pre{padding: 0;}#sk-container-id-1 div.sk-toggleable {background-color: white;}#sk-container-id-1 label.sk-toggleable__label {cursor: pointer;display: block;width: 100%;margin-bottom: 0;padding: 0.3em;box-sizing: border-box;text-align: center;}#sk-container-id-1 label.sk-toggleable__label-arrow:before {content: \"▸\";float: left;margin-right: 0.25em;color: #696969;}#sk-container-id-1 label.sk-toggleable__label-arrow:hover:before {color: black;}#sk-container-id-1 div.sk-estimator:hover label.sk-toggleable__label-arrow:before {color: black;}#sk-container-id-1 div.sk-toggleable__content {max-height: 0;max-width: 0;overflow: hidden;text-align: left;background-color: #f0f8ff;}#sk-container-id-1 div.sk-toggleable__content pre {margin: 0.2em;color: black;border-radius: 0.25em;background-color: #f0f8ff;}#sk-container-id-1 input.sk-toggleable__control:checked~div.sk-toggleable__content {max-height: 200px;max-width: 100%;overflow: auto;}#sk-container-id-1 input.sk-toggleable__control:checked~label.sk-toggleable__label-arrow:before {content: \"▾\";}#sk-container-id-1 div.sk-estimator input.sk-toggleable__control:checked~label.sk-toggleable__label {background-color: #d4ebff;}#sk-container-id-1 div.sk-label input.sk-toggleable__control:checked~label.sk-toggleable__label {background-color: #d4ebff;}#sk-container-id-1 input.sk-hidden--visually {border: 0;clip: rect(1px 1px 1px 1px);clip: rect(1px, 1px, 1px, 1px);height: 1px;margin: -1px;overflow: hidden;padding: 0;position: absolute;width: 1px;}#sk-container-id-1 div.sk-estimator {font-family: monospace;background-color: #f0f8ff;border: 1px dotted black;border-radius: 0.25em;box-sizing: border-box;margin-bottom: 0.5em;}#sk-container-id-1 div.sk-estimator:hover {background-color: #d4ebff;}#sk-container-id-1 div.sk-parallel-item::after {content: \"\";width: 100%;border-bottom: 1px solid gray;flex-grow: 1;}#sk-container-id-1 div.sk-label:hover label.sk-toggleable__label {background-color: #d4ebff;}#sk-container-id-1 div.sk-serial::before {content: \"\";position: absolute;border-left: 1px solid gray;box-sizing: border-box;top: 0;bottom: 0;left: 50%;z-index: 0;}#sk-container-id-1 div.sk-serial {display: flex;flex-direction: column;align-items: center;background-color: white;padding-right: 0.2em;padding-left: 0.2em;position: relative;}#sk-container-id-1 div.sk-item {position: relative;z-index: 1;}#sk-container-id-1 div.sk-parallel {display: flex;align-items: stretch;justify-content: center;background-color: white;position: relative;}#sk-container-id-1 div.sk-item::before, #sk-container-id-1 div.sk-parallel-item::before {content: \"\";position: absolute;border-left: 1px solid gray;box-sizing: border-box;top: 0;bottom: 0;left: 50%;z-index: -1;}#sk-container-id-1 div.sk-parallel-item {display: flex;flex-direction: column;z-index: 1;position: relative;background-color: white;}#sk-container-id-1 div.sk-parallel-item:first-child::after {align-self: flex-end;width: 50%;}#sk-container-id-1 div.sk-parallel-item:last-child::after {align-self: flex-start;width: 50%;}#sk-container-id-1 div.sk-parallel-item:only-child::after {width: 0;}#sk-container-id-1 div.sk-dashed-wrapped {border: 1px dashed gray;margin: 0 0.4em 0.5em 0.4em;box-sizing: border-box;padding-bottom: 0.4em;background-color: white;}#sk-container-id-1 div.sk-label label {font-family: monospace;font-weight: bold;display: inline-block;line-height: 1.2em;}#sk-container-id-1 div.sk-label-container {text-align: center;}#sk-container-id-1 div.sk-container {/* jupyter's `normalize.less` sets `[hidden] { display: none; }` but bootstrap.min.css set `[hidden] { display: none !important; }` so we also need the `!important` here to be able to override the default hidden behavior on the sphinx rendered scikit-learn.org. See: https://github.com/scikit-learn/scikit-learn/issues/21755 */display: inline-block !important;position: relative;}#sk-container-id-1 div.sk-text-repr-fallback {display: none;}</style><div id=\"sk-container-id-1\" class=\"sk-top-container\"><div class=\"sk-text-repr-fallback\"><pre>Pipeline(steps=[(&#x27;tfidf&#x27;, TfidfVectorizer()),\n",
              "                (&#x27;model&#x27;, LogisticRegression(max_iter=1000))])</pre><b>In a Jupyter environment, please rerun this cell to show the HTML representation or trust the notebook. <br />On GitHub, the HTML representation is unable to render, please try loading this page with nbviewer.org.</b></div><div class=\"sk-container\" hidden><div class=\"sk-item sk-dashed-wrapped\"><div class=\"sk-label-container\"><div class=\"sk-label sk-toggleable\"><input class=\"sk-toggleable__control sk-hidden--visually\" id=\"sk-estimator-id-1\" type=\"checkbox\" ><label for=\"sk-estimator-id-1\" class=\"sk-toggleable__label sk-toggleable__label-arrow\">Pipeline</label><div class=\"sk-toggleable__content\"><pre>Pipeline(steps=[(&#x27;tfidf&#x27;, TfidfVectorizer()),\n",
              "                (&#x27;model&#x27;, LogisticRegression(max_iter=1000))])</pre></div></div></div><div class=\"sk-serial\"><div class=\"sk-item\"><div class=\"sk-estimator sk-toggleable\"><input class=\"sk-toggleable__control sk-hidden--visually\" id=\"sk-estimator-id-2\" type=\"checkbox\" ><label for=\"sk-estimator-id-2\" class=\"sk-toggleable__label sk-toggleable__label-arrow\">TfidfVectorizer</label><div class=\"sk-toggleable__content\"><pre>TfidfVectorizer()</pre></div></div></div><div class=\"sk-item\"><div class=\"sk-estimator sk-toggleable\"><input class=\"sk-toggleable__control sk-hidden--visually\" id=\"sk-estimator-id-3\" type=\"checkbox\" ><label for=\"sk-estimator-id-3\" class=\"sk-toggleable__label sk-toggleable__label-arrow\">LogisticRegression</label><div class=\"sk-toggleable__content\"><pre>LogisticRegression(max_iter=1000)</pre></div></div></div></div></div></div></div>"
            ]
          },
          "metadata": {},
          "execution_count": 61
=======
              "<style>#sk-container-id-4 {color: black;background-color: white;}#sk-container-id-4 pre{padding: 0;}#sk-container-id-4 div.sk-toggleable {background-color: white;}#sk-container-id-4 label.sk-toggleable__label {cursor: pointer;display: block;width: 100%;margin-bottom: 0;padding: 0.3em;box-sizing: border-box;text-align: center;}#sk-container-id-4 label.sk-toggleable__label-arrow:before {content: \"▸\";float: left;margin-right: 0.25em;color: #696969;}#sk-container-id-4 label.sk-toggleable__label-arrow:hover:before {color: black;}#sk-container-id-4 div.sk-estimator:hover label.sk-toggleable__label-arrow:before {color: black;}#sk-container-id-4 div.sk-toggleable__content {max-height: 0;max-width: 0;overflow: hidden;text-align: left;background-color: #f0f8ff;}#sk-container-id-4 div.sk-toggleable__content pre {margin: 0.2em;color: black;border-radius: 0.25em;background-color: #f0f8ff;}#sk-container-id-4 input.sk-toggleable__control:checked~div.sk-toggleable__content {max-height: 200px;max-width: 100%;overflow: auto;}#sk-container-id-4 input.sk-toggleable__control:checked~label.sk-toggleable__label-arrow:before {content: \"▾\";}#sk-container-id-4 div.sk-estimator input.sk-toggleable__control:checked~label.sk-toggleable__label {background-color: #d4ebff;}#sk-container-id-4 div.sk-label input.sk-toggleable__control:checked~label.sk-toggleable__label {background-color: #d4ebff;}#sk-container-id-4 input.sk-hidden--visually {border: 0;clip: rect(1px 1px 1px 1px);clip: rect(1px, 1px, 1px, 1px);height: 1px;margin: -1px;overflow: hidden;padding: 0;position: absolute;width: 1px;}#sk-container-id-4 div.sk-estimator {font-family: monospace;background-color: #f0f8ff;border: 1px dotted black;border-radius: 0.25em;box-sizing: border-box;margin-bottom: 0.5em;}#sk-container-id-4 div.sk-estimator:hover {background-color: #d4ebff;}#sk-container-id-4 div.sk-parallel-item::after {content: \"\";width: 100%;border-bottom: 1px solid gray;flex-grow: 1;}#sk-container-id-4 div.sk-label:hover label.sk-toggleable__label {background-color: #d4ebff;}#sk-container-id-4 div.sk-serial::before {content: \"\";position: absolute;border-left: 1px solid gray;box-sizing: border-box;top: 0;bottom: 0;left: 50%;z-index: 0;}#sk-container-id-4 div.sk-serial {display: flex;flex-direction: column;align-items: center;background-color: white;padding-right: 0.2em;padding-left: 0.2em;position: relative;}#sk-container-id-4 div.sk-item {position: relative;z-index: 1;}#sk-container-id-4 div.sk-parallel {display: flex;align-items: stretch;justify-content: center;background-color: white;position: relative;}#sk-container-id-4 div.sk-item::before, #sk-container-id-4 div.sk-parallel-item::before {content: \"\";position: absolute;border-left: 1px solid gray;box-sizing: border-box;top: 0;bottom: 0;left: 50%;z-index: -1;}#sk-container-id-4 div.sk-parallel-item {display: flex;flex-direction: column;z-index: 1;position: relative;background-color: white;}#sk-container-id-4 div.sk-parallel-item:first-child::after {align-self: flex-end;width: 50%;}#sk-container-id-4 div.sk-parallel-item:last-child::after {align-self: flex-start;width: 50%;}#sk-container-id-4 div.sk-parallel-item:only-child::after {width: 0;}#sk-container-id-4 div.sk-dashed-wrapped {border: 1px dashed gray;margin: 0 0.4em 0.5em 0.4em;box-sizing: border-box;padding-bottom: 0.4em;background-color: white;}#sk-container-id-4 div.sk-label label {font-family: monospace;font-weight: bold;display: inline-block;line-height: 1.2em;}#sk-container-id-4 div.sk-label-container {text-align: center;}#sk-container-id-4 div.sk-container {/* jupyter's `normalize.less` sets `[hidden] { display: none; }` but bootstrap.min.css set `[hidden] { display: none !important; }` so we also need the `!important` here to be able to override the default hidden behavior on the sphinx rendered scikit-learn.org. See: https://github.com/scikit-learn/scikit-learn/issues/21755 */display: inline-block !important;position: relative;}#sk-container-id-4 div.sk-text-repr-fallback {display: none;}</style><div id=\"sk-container-id-4\" class=\"sk-top-container\"><div class=\"sk-text-repr-fallback\"><pre>Pipeline(steps=[(&#x27;tfidf&#x27;, TfidfVectorizer()),\n",
              "                (&#x27;model&#x27;, LogisticRegression(max_iter=1000))])</pre><b>In a Jupyter environment, please rerun this cell to show the HTML representation or trust the notebook. <br />On GitHub, the HTML representation is unable to render, please try loading this page with nbviewer.org.</b></div><div class=\"sk-container\" hidden><div class=\"sk-item sk-dashed-wrapped\"><div class=\"sk-label-container\"><div class=\"sk-label sk-toggleable\"><input class=\"sk-toggleable__control sk-hidden--visually\" id=\"sk-estimator-id-10\" type=\"checkbox\" ><label for=\"sk-estimator-id-10\" class=\"sk-toggleable__label sk-toggleable__label-arrow\">Pipeline</label><div class=\"sk-toggleable__content\"><pre>Pipeline(steps=[(&#x27;tfidf&#x27;, TfidfVectorizer()),\n",
              "                (&#x27;model&#x27;, LogisticRegression(max_iter=1000))])</pre></div></div></div><div class=\"sk-serial\"><div class=\"sk-item\"><div class=\"sk-estimator sk-toggleable\"><input class=\"sk-toggleable__control sk-hidden--visually\" id=\"sk-estimator-id-11\" type=\"checkbox\" ><label for=\"sk-estimator-id-11\" class=\"sk-toggleable__label sk-toggleable__label-arrow\">TfidfVectorizer</label><div class=\"sk-toggleable__content\"><pre>TfidfVectorizer()</pre></div></div></div><div class=\"sk-item\"><div class=\"sk-estimator sk-toggleable\"><input class=\"sk-toggleable__control sk-hidden--visually\" id=\"sk-estimator-id-12\" type=\"checkbox\" ><label for=\"sk-estimator-id-12\" class=\"sk-toggleable__label sk-toggleable__label-arrow\">LogisticRegression</label><div class=\"sk-toggleable__content\"><pre>LogisticRegression(max_iter=1000)</pre></div></div></div></div></div></div></div>"
            ]
          },
          "metadata": {},
          "execution_count": 33
>>>>>>> Stashed changes
        }
      ]
    },
    {
      "cell_type": "markdown",
      "source": [
        "#Avaliação do Modelo"
      ],
      "metadata": {
        "id": "u-zj6jtmAewv"
      }
    },
    {
      "cell_type": "code",
      "source": [
        "#avalia o modelo usando os dados de teste\n",
        "y_pred = pipeline.predict(X_test)\n",
        "accuracy = accuracy_score(y_test, y_pred)\n",
        "\n",
        "#calcular a perda (loss)\n",
        "y_pred_prob = pipeline.predict_proba(X_test)\n",
        "loss = log_loss(y_test, y_pred_prob)\n",
        "\n",
        "#aplicação da matriz de confusão\n",
<<<<<<< Updated upstream
        "confusion_mat = confusion_matrix(y_test, y_pred)"
=======
        "confusion_mat = confusion_matrix(y_test, y_pred)\n",
        "\n",
        "# Calcular F1-score\n",
        "f1_micro = f1_score(y_test, y_pred, average='micro')\n",
        "f1_macro = f1_score(y_test, y_pred, average='macro')\n",
        "f1_weighted = f1_score(y_test, y_pred, average='weighted')\n",
        "\n",
        "# Calcular recall\n",
        "recall_micro = recall_score(y_test, y_pred, average='micro')\n",
        "recall_macro = recall_score(y_test, y_pred, average='macro')\n",
        "recall_weighted = recall_score(y_test, y_pred, average='weighted')\n",
        "\n",
        "#precisão nos dados de treinamento\n",
        "train_accuracy = pipeline.score(X_train, y_train)\n",
        "\n",
        "#precisão nos dados de teste\n",
        "test_accuracy = accuracy_score(y_test, y_pred)"
>>>>>>> Stashed changes
      ],
      "metadata": {
        "id": "yFFy_voiAikC"
      },
<<<<<<< Updated upstream
      "execution_count": 62,
=======
      "execution_count": 34,
>>>>>>> Stashed changes
      "outputs": []
    },
    {
      "cell_type": "markdown",
      "source": [
        "#Resultados"
      ],
      "metadata": {
        "id": "zb-9psHUAsRS"
      }
    },
    {
      "cell_type": "code",
      "source": [
        "#imprime os resultados\n",
        "print(\"Acurácia:\", accuracy)\n",
        "print(\"Perda:\", loss)\n",
        "print(\"Matriz de Confusão:\")\n",
        "print(confusion_mat)\n",
        "print(\"Relatório de Classificação:\")\n",
<<<<<<< Updated upstream
        "print(classification_report(y_test, y_pred))"
=======
        "print(classification_report(y_test, y_pred))\n",
        "print(\"F1-score (micro):\", f1_micro)\n",
        "print(\"F1-score (macro):\", f1_macro)\n",
        "print(\"F1-score (weighted):\", f1_weighted)\n",
        "print(\"Recall (micro):\", recall_micro)\n",
        "print(\"Recall (macro):\", recall_macro)\n",
        "print(\"Recall (weighted):\", recall_weighted)\n",
        "\n",
        "print(\"Train accuracy:\", train_accuracy)\n",
        "print(\"Test accuracy:\", test_accuracy)"
>>>>>>> Stashed changes
      ],
      "metadata": {
        "colab": {
          "base_uri": "https://localhost:8080/"
        },
        "id": "oHYWgF4HAzYi",
<<<<<<< Updated upstream
        "outputId": "792f2d32-abfa-49fd-e3f5-0ed65b9efb48"
      },
      "execution_count": 63,
=======
        "outputId": "5c8f6dcc-4d38-41e0-926c-8243581ca49b"
      },
      "execution_count": 35,
>>>>>>> Stashed changes
      "outputs": [
        {
          "output_type": "stream",
          "name": "stdout",
          "text": [
            "Acurácia: 0.7560475604756047\n",
            "Perda: 0.6013690684727722\n",
            "Matriz de Confusão:\n",
            "[[271 152  56]\n",
            " [ 49 871 127]\n",
            " [ 35 176 702]]\n",
            "Relatório de Classificação:\n",
            "              precision    recall  f1-score   support\n",
            "\n",
            "          -1       0.76      0.57      0.65       479\n",
            "           0       0.73      0.83      0.78      1047\n",
            "           1       0.79      0.77      0.78       913\n",
            "\n",
            "    accuracy                           0.76      2439\n",
            "   macro avg       0.76      0.72      0.74      2439\n",
            "weighted avg       0.76      0.76      0.75      2439\n",
<<<<<<< Updated upstream
            "\n"
=======
            "\n",
            "F1-score (micro): 0.7560475604756047\n",
            "F1-score (macro): 0.7354495983967934\n",
            "F1-score (weighted): 0.7528819317613822\n",
            "Recall (micro): 0.7560475604756047\n",
            "Recall (macro): 0.7221854765326053\n",
            "Recall (weighted): 0.7560475604756047\n",
            "Train accuracy: 0.866413778962477\n",
            "Test accuracy: 0.7560475604756047\n"
>>>>>>> Stashed changes
          ]
        }
      ]
    },
    {
      "cell_type": "markdown",
      "source": [
<<<<<<< Updated upstream
        "#Exportando do modelo (pickle)"
=======
        "#Exporta o modelo (pickle)"
>>>>>>> Stashed changes
      ],
      "metadata": {
        "id": "CdFCU_G0A2r7"
      }
    },
    {
      "cell_type": "code",
      "source": [
        "#exporta o modelo treinado usando a biblioteca pickle\n",
        "with open(\"modelo.pkl\", \"wb\") as f:\n",
        "    pickle.dump(pipeline, f)"
      ],
      "metadata": {
        "id": "d3kBH9CPA2by"
      },
<<<<<<< Updated upstream
      "execution_count": 64,
=======
      "execution_count": 36,
>>>>>>> Stashed changes
      "outputs": []
    },
    {
      "cell_type": "markdown",
      "source": [
        "#Função para aplicação do Modelo"
      ],
      "metadata": {
        "id": "x8I_P7b6BAOK"
      }
    },
    {
      "cell_type": "code",
      "source": [
        "#função para avaliar um novo comentário\n",
        "def avaliar_comentario(comentario):\n",
        "    with open(\"modelo.pkl\", \"rb\") as f:\n",
        "        modelo = pickle.load(f)\n",
        "    resultado = modelo.predict([comentario])\n",
        "    return resultado"
      ],
      "metadata": {
        "id": "YesZRpngA_vE"
      },
<<<<<<< Updated upstream
      "execution_count": 65,
=======
      "execution_count": 37,
>>>>>>> Stashed changes
      "outputs": []
    },
    {
      "cell_type": "markdown",
      "source": [
        "#Aplicações individuais do modelo"
      ],
      "metadata": {
        "id": "ONxb66bUBFi-"
      }
    },
    {
      "cell_type": "code",
      "source": [
        "#exemplo de uso da função\n",
        "novo_comentario = \"Esse produto é incrível!\"\n",
        "sentimento = avaliar_comentario(novo_comentario)\n",
        "print(\"Sentimento:\", sentimento)"
      ],
      "metadata": {
        "colab": {
          "base_uri": "https://localhost:8080/"
        },
        "id": "2tcfXhKR6GHq",
<<<<<<< Updated upstream
        "outputId": "27a105df-6487-435d-f165-0dea31344a28"
      },
      "execution_count": 66,
=======
        "outputId": "81cb41ff-9385-4988-c418-21120ae1b745"
      },
      "execution_count": 38,
>>>>>>> Stashed changes
      "outputs": [
        {
          "output_type": "stream",
          "name": "stdout",
          "text": [
            "Sentimento: [1]\n"
          ]
        }
      ]
    },
    {
      "cell_type": "code",
      "source": [
        "#exemplo de uso da função\n",
        "novo_comentario = \"Esse banco é ruim\"\n",
        "sentimento = avaliar_comentario(novo_comentario)\n",
        "print(\"Sentimento:\", sentimento)"
      ],
      "metadata": {
        "colab": {
          "base_uri": "https://localhost:8080/"
        },
        "id": "Ccc6ZyFs7svA",
<<<<<<< Updated upstream
        "outputId": "b57b5435-2778-40ff-8985-4fd8a24a0513"
      },
      "execution_count": 67,
=======
        "outputId": "c98b3665-f315-4b83-822b-fd1742164909"
      },
      "execution_count": 39,
>>>>>>> Stashed changes
      "outputs": [
        {
          "output_type": "stream",
          "name": "stdout",
          "text": [
            "Sentimento: [-1]\n"
          ]
        }
      ]
    },
    {
      "cell_type": "code",
      "source": [
        "#exemplo de uso da função\n",
        "novo_comentario = \"banco golpista ladrão\"\n",
        "sentimento = avaliar_comentario(novo_comentario)\n",
        "print(\"Sentimento:\", sentimento)"
      ],
      "metadata": {
        "colab": {
          "base_uri": "https://localhost:8080/"
        },
        "id": "jtsbKcms7_ul",
<<<<<<< Updated upstream
        "outputId": "19a4fdb7-120c-42e1-8dd2-315ea5530e83"
      },
      "execution_count": 68,
=======
        "outputId": "f2783bda-1957-41a1-855e-ea982994d058"
      },
      "execution_count": 40,
>>>>>>> Stashed changes
      "outputs": [
        {
          "output_type": "stream",
          "name": "stdout",
          "text": [
            "Sentimento: [-1]\n"
          ]
        }
      ]
    },
    {
      "cell_type": "code",
      "source": [
        "#exemplo de uso da função\n",
        "novo_comentario = \"eu sou roubado e não fazem nada\"\n",
        "sentimento = avaliar_comentario(novo_comentario)\n",
        "print(\"Sentimento:\", sentimento)"
      ],
      "metadata": {
        "colab": {
          "base_uri": "https://localhost:8080/"
        },
        "id": "FqxuRsmP8GBD",
<<<<<<< Updated upstream
        "outputId": "892a5192-9352-428c-cb1d-11c65facffc1"
      },
      "execution_count": 69,
=======
        "outputId": "6dd5ba2f-a819-410f-8531-9ae50b6a8b7c"
      },
      "execution_count": 41,
>>>>>>> Stashed changes
      "outputs": [
        {
          "output_type": "stream",
          "name": "stdout",
          "text": [
            "Sentimento: [-1]\n"
          ]
        }
      ]
    },
    {
      "cell_type": "code",
      "source": [
        "#exemplo de uso da função\n",
        "novo_comentario = \"amo demais o btg!\"\n",
        "sentimento = avaliar_comentario(novo_comentario)\n",
        "print(\"Sentimento:\", sentimento)"
      ],
      "metadata": {
        "colab": {
          "base_uri": "https://localhost:8080/"
        },
        "id": "o6vdLNFo8fnj",
<<<<<<< Updated upstream
        "outputId": "7de2214d-cb6f-42ae-93a0-bb641f2db708"
      },
      "execution_count": 70,
=======
        "outputId": "05f053e9-c3c4-4e66-93de-3420e1338e72"
      },
      "execution_count": 42,
>>>>>>> Stashed changes
      "outputs": [
        {
          "output_type": "stream",
          "name": "stdout",
          "text": [
            "Sentimento: [1]\n"
          ]
        }
      ]
    },
    {
      "cell_type": "code",
      "source": [
        "#exemplo de uso da função\n",
        "novo_comentario = \"serviço ok\"\n",
        "sentimento = avaliar_comentario(novo_comentario)\n",
        "print(\"Sentimento:\", sentimento)"
      ],
      "metadata": {
        "colab": {
          "base_uri": "https://localhost:8080/"
        },
        "id": "K32QSmvi8j0O",
<<<<<<< Updated upstream
        "outputId": "170cc26d-9a4f-48c2-9176-052a03cff95f"
      },
      "execution_count": 71,
=======
        "outputId": "9eece649-d9cc-4240-a3fa-0ee054cbe147"
      },
      "execution_count": 43,
>>>>>>> Stashed changes
      "outputs": [
        {
          "output_type": "stream",
          "name": "stdout",
          "text": [
            "Sentimento: [0]\n"
          ]
        }
      ]
    }
  ]
}