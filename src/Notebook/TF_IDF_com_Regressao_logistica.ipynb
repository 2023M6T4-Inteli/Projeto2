{
  "nbformat": 4,
  "nbformat_minor": 0,
  "metadata": {
    "colab": {
      "provenance": []
    },
    "kernelspec": {
      "name": "python3",
      "display_name": "Python 3"
    },
    "language_info": {
      "name": "python"
    }
  },
  "cells": [
    {
      "cell_type": "markdown",
      "source": [
        "#Importação de biblioteca e dados"
      ],
      "metadata": {
        "id": "o5dBacUD-9UP"
      }
    },
    {
      "cell_type": "code",
      "source": [
        "import pandas as pd\n",
        "import matplotlib.pyplot as plt\n",
        "from sklearn.model_selection import train_test_split\n",
        "from sklearn.metrics import accuracy_score, confusion_matrix, classification_report, log_loss, f1_score, recall_score\n",
        "from sklearn.feature_extraction.text import TfidfVectorizer\n",
        "from sklearn.linear_model import LogisticRegression\n",
        "from sklearn.decomposition import PCA\n",
        "from sklearn.pipeline import Pipeline\n",
        "import pickle\n",
        "import numpy as np\n",
        "import ast\n",
        "\n",
        "\n",
        "#importa os dados, deixando apenas a colunas necessárias\n",
        "dados = pd.read_csv('/content/df_novo.csv')\n",
        "dados = dados[['texto', 'sentimento']]\n",
        "dados.head()\n",
        "\n",
        "#exporta a nova tabela para um arquivo CSV\n",
        "dados.to_csv('/content/novos_dados.csv', index=False)"
      ],
      "metadata": {
        "id": "w3N1muvM_CHx"
      },
      "execution_count": 20,
      "outputs": []
    },
    {
      "cell_type": "markdown",
      "source": [
        "A base de dados utilizada já passou pelos primeiros processos de PLN (remoção de stop words, substituição de gírias e, em destaque, a lematização). Essa é a mesma base de dados lematizada que foi desenvolvida na Sprint 3 e utilizada no modelo anterior.<br> Link para baixa-la: https://drive.google.com/file/d/1UVwHSONzwiCGcepvooBByLrF2p-WOQTa/view?usp=sharing"
      ],
      "metadata": {
        "id": "7VbhpsskOxco"
      }
    },
    {
      "cell_type": "markdown",
      "source": [
        "#Divisão dos dados em conjunto de treinamento e teste"
      ],
      "metadata": {
        "id": "3GlyywE0_JFv"
      }
    },
    {
      "cell_type": "code",
      "source": [
        "#dividi os dados em conjunto de treinamento e teste\n",
        "X_train, X_test, y_train, y_test = train_test_split(dados[\"texto\"], dados[\"sentimento\"], test_size=0.2, random_state=42)"
      ],
      "metadata": {
        "id": "lZs-cIP2_ex7"
      },
      "execution_count": 21,
      "outputs": []
    },
    {
      "cell_type": "markdown",
      "source": [
        "#TF-IDF e modelo de classificação"
      ],
      "metadata": {
        "id": "xlhaSNvx_iDb"
      }
    },
    {
      "cell_type": "markdown",
      "source": [
        "O TF-IDF (Term Frequency-Inverse Document Frequency) é uma medida estatística que permite avaliar a importância de uma palavra em um documento. Essa técnica foi escolhida por sua capacidade de destacar palavras-chave relevantes e reduz o peso de palavras comuns, ajudando a identificar a relevância de um termo em relação ao contexto específico de um documento. "
      ],
      "metadata": {
        "id": "W3Si5q8mY1jR"
      }
    },
    {
      "cell_type": "markdown",
      "source": [
        "A Regressão Logística é um algoritmo de aprendizado de máquina que é amplamente utilizado para tarefas de classificação binária. Ele modela a relação entre variáveis independentes e a probabilidade de uma resposta pertencer a uma determinada classe. Sua escolha foi feita especialmente pela sua capacidade de lidar com dados categóricos (como é o caso da base de dados trabalhada)."
      ],
      "metadata": {
        "id": "pfT2S_DmaHEi"
      }
    },
    {
      "cell_type": "markdown",
      "source": [
        "A combinação de TF-IDF com Regressão Logística aproveita as vantagens de ambos os métodos. O TF-IDF fornece uma representação ponderada das palavras em um documento, enquanto a Regressão Logística modela a relação entre essas palavras e a probabilidade de classificação. Essa combinação é comum em processos de análise de sentimentos como esse.\n",
        "\n",
        "\n"
      ],
      "metadata": {
        "id": "IGYMXgQdaurZ"
      }
    },
    {
      "cell_type": "code",
      "source": [
        "#cria pipeline com TF-IDF e modelo de classificação\n",
        "pipeline = Pipeline([\n",
        "    (\"tfidf\", TfidfVectorizer()),\n",
        "    (\"model\", LogisticRegression(max_iter=1000))  # Aumentamos o número máximo de iterações\n",
        "])"
      ],
      "metadata": {
        "id": "ptskjvKI_miz"
      },
      "execution_count": 22,
      "outputs": []
    },
    {
      "cell_type": "markdown",
      "source": [
        "#Treinamento do modelo "
      ],
      "metadata": {
        "id": "NLHtIKBT_sIJ"
      }
    },
    {
      "cell_type": "code",
      "source": [
        "#treina o modelo usando os dados de treinamento\n",
        "pipeline.fit(X_train, y_train)"
      ],
      "metadata": {
        "colab": {
          "base_uri": "https://localhost:8080/",
          "height": 126
        },
        "id": "v5hglvy1AbdT",
        "outputId": "176ba33d-9f55-405c-ced1-48f63dd92e5f"
      },
      "execution_count": 23,
      "outputs": [
        {
          "output_type": "execute_result",
          "data": {
            "text/plain": [
              "Pipeline(steps=[('tfidf', TfidfVectorizer()),\n",
              "                ('model', LogisticRegression(max_iter=1000))])"
            ],
            "text/html": [
              "<style>#sk-container-id-2 {color: black;background-color: white;}#sk-container-id-2 pre{padding: 0;}#sk-container-id-2 div.sk-toggleable {background-color: white;}#sk-container-id-2 label.sk-toggleable__label {cursor: pointer;display: block;width: 100%;margin-bottom: 0;padding: 0.3em;box-sizing: border-box;text-align: center;}#sk-container-id-2 label.sk-toggleable__label-arrow:before {content: \"▸\";float: left;margin-right: 0.25em;color: #696969;}#sk-container-id-2 label.sk-toggleable__label-arrow:hover:before {color: black;}#sk-container-id-2 div.sk-estimator:hover label.sk-toggleable__label-arrow:before {color: black;}#sk-container-id-2 div.sk-toggleable__content {max-height: 0;max-width: 0;overflow: hidden;text-align: left;background-color: #f0f8ff;}#sk-container-id-2 div.sk-toggleable__content pre {margin: 0.2em;color: black;border-radius: 0.25em;background-color: #f0f8ff;}#sk-container-id-2 input.sk-toggleable__control:checked~div.sk-toggleable__content {max-height: 200px;max-width: 100%;overflow: auto;}#sk-container-id-2 input.sk-toggleable__control:checked~label.sk-toggleable__label-arrow:before {content: \"▾\";}#sk-container-id-2 div.sk-estimator input.sk-toggleable__control:checked~label.sk-toggleable__label {background-color: #d4ebff;}#sk-container-id-2 div.sk-label input.sk-toggleable__control:checked~label.sk-toggleable__label {background-color: #d4ebff;}#sk-container-id-2 input.sk-hidden--visually {border: 0;clip: rect(1px 1px 1px 1px);clip: rect(1px, 1px, 1px, 1px);height: 1px;margin: -1px;overflow: hidden;padding: 0;position: absolute;width: 1px;}#sk-container-id-2 div.sk-estimator {font-family: monospace;background-color: #f0f8ff;border: 1px dotted black;border-radius: 0.25em;box-sizing: border-box;margin-bottom: 0.5em;}#sk-container-id-2 div.sk-estimator:hover {background-color: #d4ebff;}#sk-container-id-2 div.sk-parallel-item::after {content: \"\";width: 100%;border-bottom: 1px solid gray;flex-grow: 1;}#sk-container-id-2 div.sk-label:hover label.sk-toggleable__label {background-color: #d4ebff;}#sk-container-id-2 div.sk-serial::before {content: \"\";position: absolute;border-left: 1px solid gray;box-sizing: border-box;top: 0;bottom: 0;left: 50%;z-index: 0;}#sk-container-id-2 div.sk-serial {display: flex;flex-direction: column;align-items: center;background-color: white;padding-right: 0.2em;padding-left: 0.2em;position: relative;}#sk-container-id-2 div.sk-item {position: relative;z-index: 1;}#sk-container-id-2 div.sk-parallel {display: flex;align-items: stretch;justify-content: center;background-color: white;position: relative;}#sk-container-id-2 div.sk-item::before, #sk-container-id-2 div.sk-parallel-item::before {content: \"\";position: absolute;border-left: 1px solid gray;box-sizing: border-box;top: 0;bottom: 0;left: 50%;z-index: -1;}#sk-container-id-2 div.sk-parallel-item {display: flex;flex-direction: column;z-index: 1;position: relative;background-color: white;}#sk-container-id-2 div.sk-parallel-item:first-child::after {align-self: flex-end;width: 50%;}#sk-container-id-2 div.sk-parallel-item:last-child::after {align-self: flex-start;width: 50%;}#sk-container-id-2 div.sk-parallel-item:only-child::after {width: 0;}#sk-container-id-2 div.sk-dashed-wrapped {border: 1px dashed gray;margin: 0 0.4em 0.5em 0.4em;box-sizing: border-box;padding-bottom: 0.4em;background-color: white;}#sk-container-id-2 div.sk-label label {font-family: monospace;font-weight: bold;display: inline-block;line-height: 1.2em;}#sk-container-id-2 div.sk-label-container {text-align: center;}#sk-container-id-2 div.sk-container {/* jupyter's `normalize.less` sets `[hidden] { display: none; }` but bootstrap.min.css set `[hidden] { display: none !important; }` so we also need the `!important` here to be able to override the default hidden behavior on the sphinx rendered scikit-learn.org. See: https://github.com/scikit-learn/scikit-learn/issues/21755 */display: inline-block !important;position: relative;}#sk-container-id-2 div.sk-text-repr-fallback {display: none;}</style><div id=\"sk-container-id-2\" class=\"sk-top-container\"><div class=\"sk-text-repr-fallback\"><pre>Pipeline(steps=[(&#x27;tfidf&#x27;, TfidfVectorizer()),\n",
              "                (&#x27;model&#x27;, LogisticRegression(max_iter=1000))])</pre><b>In a Jupyter environment, please rerun this cell to show the HTML representation or trust the notebook. <br />On GitHub, the HTML representation is unable to render, please try loading this page with nbviewer.org.</b></div><div class=\"sk-container\" hidden><div class=\"sk-item sk-dashed-wrapped\"><div class=\"sk-label-container\"><div class=\"sk-label sk-toggleable\"><input class=\"sk-toggleable__control sk-hidden--visually\" id=\"sk-estimator-id-4\" type=\"checkbox\" ><label for=\"sk-estimator-id-4\" class=\"sk-toggleable__label sk-toggleable__label-arrow\">Pipeline</label><div class=\"sk-toggleable__content\"><pre>Pipeline(steps=[(&#x27;tfidf&#x27;, TfidfVectorizer()),\n",
              "                (&#x27;model&#x27;, LogisticRegression(max_iter=1000))])</pre></div></div></div><div class=\"sk-serial\"><div class=\"sk-item\"><div class=\"sk-estimator sk-toggleable\"><input class=\"sk-toggleable__control sk-hidden--visually\" id=\"sk-estimator-id-5\" type=\"checkbox\" ><label for=\"sk-estimator-id-5\" class=\"sk-toggleable__label sk-toggleable__label-arrow\">TfidfVectorizer</label><div class=\"sk-toggleable__content\"><pre>TfidfVectorizer()</pre></div></div></div><div class=\"sk-item\"><div class=\"sk-estimator sk-toggleable\"><input class=\"sk-toggleable__control sk-hidden--visually\" id=\"sk-estimator-id-6\" type=\"checkbox\" ><label for=\"sk-estimator-id-6\" class=\"sk-toggleable__label sk-toggleable__label-arrow\">LogisticRegression</label><div class=\"sk-toggleable__content\"><pre>LogisticRegression(max_iter=1000)</pre></div></div></div></div></div></div></div>"
            ]
          },
          "metadata": {},
          "execution_count": 23
        }
      ]
    },
    {
      "cell_type": "code",
      "source": [
        "#obtém os resultados\n",
        "results = pipeline.predict(X_test)\n",
        "\n",
        "#cria um DataFrame com os resultados\n",
        "df_results = pd.DataFrame({'Predição': results})\n",
        "\n",
        "#exporta o DataFrame para um arquivo CSV\n",
        "df_results.to_csv('resultados.csv', index=False)"
      ],
      "metadata": {
        "id": "PWBMmC6JeQtU"
      },
      "execution_count": 24,
      "outputs": []
    },
    {
      "cell_type": "markdown",
      "source": [
        "#Avaliação do Modelo"
      ],
      "metadata": {
        "id": "u-zj6jtmAewv"
      }
    },
    {
      "cell_type": "code",
      "source": [
        "#avalia o modelo usando os dados de teste\n",
        "y_pred = pipeline.predict(X_test)\n",
        "accuracy = accuracy_score(y_test, y_pred)\n",
        "\n",
        "#calcular a perda (loss)\n",
        "y_pred_prob = pipeline.predict_proba(X_test)\n",
        "loss = log_loss(y_test, y_pred_prob)\n",
        "\n",
        "#aplicação da matriz de confusão\n",
        "confusion_mat = confusion_matrix(y_test, y_pred)\n",
        "\n",
        "# Calcular F1-score\n",
        "f1_micro = f1_score(y_test, y_pred, average='micro')\n",
        "f1_macro = f1_score(y_test, y_pred, average='macro')\n",
        "f1_weighted = f1_score(y_test, y_pred, average='weighted')\n",
        "\n",
        "# Calcular recall\n",
        "recall_micro = recall_score(y_test, y_pred, average='micro')\n",
        "recall_macro = recall_score(y_test, y_pred, average='macro')\n",
        "recall_weighted = recall_score(y_test, y_pred, average='weighted')\n",
        "\n",
        "#precisão nos dados de treinamento\n",
        "train_accuracy = pipeline.score(X_train, y_train)\n",
        "\n",
        "#precisão nos dados de teste\n",
        "test_accuracy = accuracy_score(y_test, y_pred)"
      ],
      "metadata": {
        "id": "yFFy_voiAikC"
      },
      "execution_count": 25,
      "outputs": []
    },
    {
      "cell_type": "markdown",
      "source": [
        "#Resultados"
      ],
      "metadata": {
        "id": "zb-9psHUAsRS"
      }
    },
    {
      "cell_type": "code",
      "source": [
        "#imprime os resultados\n",
        "print(\"Acurácia:\", accuracy)\n",
        "print(\"Perda:\", loss)\n",
        "print(\"Matriz de Confusão:\")\n",
        "print(confusion_mat)\n",
        "print(\"Relatório de Classificação:\")\n",
        "print(classification_report(y_test, y_pred))\n",
        "print(\"F1-score (micro):\", f1_micro)\n",
        "print(\"F1-score (macro):\", f1_macro)\n",
        "print(\"F1-score (weighted):\", f1_weighted)\n",
        "print(\"Recall (micro):\", recall_micro)\n",
        "print(\"Recall (macro):\", recall_macro)\n",
        "print(\"Recall (weighted):\", recall_weighted)\n",
        "\n",
        "print(\"Train accuracy:\", train_accuracy)\n",
        "print(\"Test accuracy:\", test_accuracy)"
      ],
      "metadata": {
        "colab": {
          "base_uri": "https://localhost:8080/"
        },
        "id": "oHYWgF4HAzYi",
        "outputId": "8e2f2a7d-e11b-4799-813a-078c044b09ed"
      },
      "execution_count": 26,
      "outputs": [
        {
          "output_type": "stream",
          "name": "stdout",
          "text": [
            "Acurácia: 0.7560475604756047\n",
            "Perda: 0.6013690684727722\n",
            "Matriz de Confusão:\n",
            "[[271 152  56]\n",
            " [ 49 871 127]\n",
            " [ 35 176 702]]\n",
            "Relatório de Classificação:\n",
            "              precision    recall  f1-score   support\n",
            "\n",
            "          -1       0.76      0.57      0.65       479\n",
            "           0       0.73      0.83      0.78      1047\n",
            "           1       0.79      0.77      0.78       913\n",
            "\n",
            "    accuracy                           0.76      2439\n",
            "   macro avg       0.76      0.72      0.74      2439\n",
            "weighted avg       0.76      0.76      0.75      2439\n",
            "\n",
            "F1-score (micro): 0.7560475604756047\n",
            "F1-score (macro): 0.7354495983967934\n",
            "F1-score (weighted): 0.7528819317613822\n",
            "Recall (micro): 0.7560475604756047\n",
            "Recall (macro): 0.7221854765326053\n",
            "Recall (weighted): 0.7560475604756047\n",
            "Train accuracy: 0.866413778962477\n",
            "Test accuracy: 0.7560475604756047\n"
          ]
        }
      ]
    },
    {
      "cell_type": "markdown",
      "source": [
        "#Exporta o modelo (pickle)"
      ],
      "metadata": {
        "id": "WcTNTnRaQdF0"
      }
    },
    {
      "cell_type": "code",
      "source": [
        "#exporta o modelo treinado usando a biblioteca pickle\n",
        "with open(\"modelo.pkl\", \"wb\") as f:\n",
        "    pickle.dump(pipeline, f)"
      ],
      "metadata": {
        "id": "nfzNwIjXQdF0"
      },
      "execution_count": 27,
      "outputs": []
    },
    {
      "cell_type": "markdown",
      "source": [
        "#Função para aplicação do Modelo"
      ],
      "metadata": {
        "id": "aP2DZOGGQdF1"
      }
    },
    {
      "cell_type": "code",
      "source": [
        "#função para avaliar um novo comentário\n",
        "def avaliar_comentario(comentario):\n",
        "    with open(\"modelo.pkl\", \"rb\") as f:\n",
        "        modelo = pickle.load(f)\n",
        "    resultado = modelo.predict([comentario])\n",
        "    return resultado"
      ],
      "metadata": {
        "id": "0NXHi6_SQdF1"
      },
      "execution_count": 28,
      "outputs": []
    },
    {
      "cell_type": "markdown",
      "source": [
        "#Aplicações individuais do modelo"
      ],
      "metadata": {
        "id": "_k6zzhtnQdF1"
      }
    },
    {
      "cell_type": "code",
      "source": [
        "#exemplo de uso da função\n",
        "novo_comentario = \"Esse produto é incrível!\"\n",
        "sentimento = avaliar_comentario(novo_comentario)\n",
        "print(\"Sentimento:\", sentimento)"
      ],
      "metadata": {
        "colab": {
          "base_uri": "https://localhost:8080/"
        },
        "outputId": "fce96064-2ed7-4fe5-da47-3e553edeba34",
        "id": "jnzqPjozQdF1"
      },
      "execution_count": 29,
      "outputs": [
        {
          "output_type": "stream",
          "name": "stdout",
          "text": [
            "Sentimento: [1]\n"
          ]
        }
      ]
    },
    {
      "cell_type": "code",
      "source": [
        "#exemplo de uso da função\n",
        "novo_comentario = \"Esse banco é ruim\"\n",
        "sentimento = avaliar_comentario(novo_comentario)\n",
        "print(\"Sentimento:\", sentimento)"
      ],
      "metadata": {
        "colab": {
          "base_uri": "https://localhost:8080/"
        },
        "outputId": "47c6c75c-223c-4495-8e1d-381e208c27ec",
        "id": "usyfcKDGQdF1"
      },
      "execution_count": 30,
      "outputs": [
        {
          "output_type": "stream",
          "name": "stdout",
          "text": [
            "Sentimento: [-1]\n"
          ]
        }
      ]
    },
    {
      "cell_type": "code",
      "source": [
        "#exemplo de uso da função\n",
        "novo_comentario = \"banco golpista ladrão\"\n",
        "sentimento = avaliar_comentario(novo_comentario)\n",
        "print(\"Sentimento:\", sentimento)"
      ],
      "metadata": {
        "colab": {
          "base_uri": "https://localhost:8080/"
        },
        "outputId": "9c75a662-d3f7-4464-eddd-36ebea64fee3",
        "id": "wfHzhHqGQdF2"
      },
      "execution_count": 31,
      "outputs": [
        {
          "output_type": "stream",
          "name": "stdout",
          "text": [
            "Sentimento: [-1]\n"
          ]
        }
      ]
    },
    {
      "cell_type": "code",
      "source": [
        "#exemplo de uso da função\n",
        "novo_comentario = \"eu sou roubado e não fazem nada\"\n",
        "sentimento = avaliar_comentario(novo_comentario)\n",
        "print(\"Sentimento:\", sentimento)"
      ],
      "metadata": {
        "colab": {
          "base_uri": "https://localhost:8080/"
        },
        "outputId": "9e68d502-0989-4f80-b7bf-1cabf87103c9",
        "id": "9LIR6cZpQdF2"
      },
      "execution_count": 32,
      "outputs": [
        {
          "output_type": "stream",
          "name": "stdout",
          "text": [
            "Sentimento: [-1]\n"
          ]
        }
      ]
    },
    {
      "cell_type": "code",
      "source": [
        "#exemplo de uso da função\n",
        "novo_comentario = \"amo demais o btg!\"\n",
        "sentimento = avaliar_comentario(novo_comentario)\n",
        "print(\"Sentimento:\", sentimento)"
      ],
      "metadata": {
        "colab": {
          "base_uri": "https://localhost:8080/"
        },
        "outputId": "8f193a16-96ab-419c-ac14-cc28e03cb69f",
        "id": "m2azwt3jQdF2"
      },
      "execution_count": 33,
      "outputs": [
        {
          "output_type": "stream",
          "name": "stdout",
          "text": [
            "Sentimento: [1]\n"
          ]
        }
      ]
    },
    {
      "cell_type": "code",
      "source": [
        "#exemplo de uso da função\n",
        "novo_comentario = \"serviço ok\"\n",
        "sentimento = avaliar_comentario(novo_comentario)\n",
        "print(\"Sentimento:\", sentimento)"
      ],
      "metadata": {
        "colab": {
          "base_uri": "https://localhost:8080/"
        },
        "outputId": "77a6c45d-4d7d-45cc-e6ad-270e6b02564c",
        "id": "reNLaq7dQdF2"
      },
      "execution_count": 34,
      "outputs": [
        {
          "output_type": "stream",
          "name": "stdout",
          "text": [
            "Sentimento: [0]\n"
          ]
        }
      ]
    },
    {
      "cell_type": "code",
      "source": [
        "#exemplo de uso da função\n",
        "novo_comentario = \"Super atenciosos! Estão de parabéns!\"\n",
        "sentimento = avaliar_comentario(novo_comentario)\n",
        "print(\"Sentimento:\", sentimento)"
      ],
      "metadata": {
        "colab": {
          "base_uri": "https://localhost:8080/"
        },
        "id": "oH7V2tL7SUI0",
        "outputId": "79cda807-79ce-4e04-dea5-712ce1daacdf"
      },
      "execution_count": 40,
      "outputs": [
        {
          "output_type": "stream",
          "name": "stdout",
          "text": [
            "Sentimento: [1]\n"
          ]
        }
      ]
    },
    {
      "cell_type": "markdown",
      "source": [
        "#Gráficos e Análise"
      ],
      "metadata": {
        "id": "G1gnSDuWQdFz"
      }
    },
    {
      "cell_type": "code",
      "source": [
        "import seaborn as sns\n",
        "\n",
        "# Gráfico da matriz de confusão\n",
        "plt.figure(figsize=(8, 6))\n",
        "sns.heatmap(confusion_mat, annot=True, cmap=\"Blues\", fmt=\"d\")\n",
        "plt.xlabel(\"Predicted Labels\")\n",
        "plt.ylabel(\"True Labels\")\n",
        "plt.title(\"Confusion Matrix (TF-IDF)\")\n",
        "plt.show()\n"
      ],
      "metadata": {
        "colab": {
          "base_uri": "https://localhost:8080/",
          "height": 564
        },
        "id": "yVPEOWlFVZiL",
        "outputId": "80f6425f-dc3a-4227-bf7d-1c463860e8e6"
      },
      "execution_count": 36,
      "outputs": [
        {
          "output_type": "display_data",
          "data": {
            "text/plain": [
              "<Figure size 800x600 with 2 Axes>"
            ],
            "image/png": "[encoded data removed]"
          },
          "metadata": {}
        }
      ]
    },
    {
      "cell_type": "markdown",
      "source": [
        "A partir da matriz de confusão é possível perceber que o modelo tem mais dificuldades ao avaliar comentários neutros e uma facilidade para avaliar positivos e, em segundo lugar, negativos."
      ],
      "metadata": {
        "id": "71XQstqCbMTJ"
      }
    },
    {
      "cell_type": "code",
      "source": [
        "# Calcular acurácia e recall macro\n",
        "acuracia = accuracy_score(y_test, y_pred)\n",
        "recall_macro = recall_score(y_test, y_pred, average='macro')\n",
        "\n",
        "# Criar o gráfico de barras\n",
        "labels = ['Acurácia', 'Recall Macro']\n",
        "valores = [acuracia, recall_macro]\n",
        "\n",
        "plt.bar(labels, valores)\n",
        "plt.xlabel('Métricas')\n",
        "plt.ylabel('Pontuação')\n",
        "plt.title('Acurácia vs Recall Macro (TF-IDF)')\n",
        "\n",
        "plt.show()"
      ],
      "metadata": {
        "colab": {
          "base_uri": "https://localhost:8080/",
          "height": 472
        },
        "id": "ygFtsZqBevPD",
        "outputId": "f81affce-9ce4-4889-edb0-e37abb9f2938"
      },
      "execution_count": 37,
      "outputs": [
        {
          "output_type": "display_data",
          "data": {
            "text/plain": [
              "<Figure size 640x480 with 1 Axes>"
            ],
            "image/png": "[encoded data removed]"
          },
          "metadata": {}
        }
      ]
    },
    {
      "cell_type": "markdown",
      "source": [
        "Com base nos resultados obtidos, podemos concluir que o modelo apresenta um desempenho equilibrado e consistente, com valores de acurácia e recall macro próximos, em torno de 0,7. Isso indica que o modelo é capaz de fazer previsões precisas na maioria das amostras de teste, classificando corretamente tanto as instâncias positivas quanto as negativas.\n",
        "\n",
        "Além disso, a similaridade entre a acurácia e o recall macro sugere que o modelo não está enviesado para uma classe específica e está tratando ambas as classes de forma equilibrada.\n",
        "\n"
      ],
      "metadata": {
        "id": "TcQmi8pPhHch"
      }
    },
    {
      "cell_type": "code",
      "source": [
        "import matplotlib.pyplot as plt\n",
        "\n",
        "# Valores de acurácia\n",
        "acuracia_treinamento = pipeline.score(X_train, y_train)\n",
        "acuracia_teste = accuracy\n",
        "\n",
        "# Criando o gráfico\n",
        "plt.bar(['Acurácia de Treinamento', 'Acurácia de Teste'], [acuracia_treinamento, acuracia_teste])\n",
        "plt.xlabel('Conjunto de Dados')\n",
        "plt.ylabel('Acurácia')\n",
        "plt.title('Comparação da Acurácia de Treinamento e Acurácia de Teste (TF-IDF)')\n",
        "plt.ylim(0, 1)  # Definindo os limites do eixo y de 0 a 1\n",
        "plt.show()"
      ],
      "metadata": {
        "id": "6_t1o3FN49yE",
        "colab": {
          "base_uri": "https://localhost:8080/",
          "height": 472
        },
        "outputId": "2d86119f-e132-4780-a5f0-9a6751cdd5e2"
      },
      "execution_count": 38,
      "outputs": [
        {
          "output_type": "display_data",
          "data": {
            "text/plain": [
              "<Figure size 640x480 with 1 Axes>"
            ],
            "image/png": "[encoded data removed]"
          },
          "metadata": {}
        }
      ]
    },
    {
      "cell_type": "markdown",
      "source": [
        "\n",
        "Os resultados obtidos indicam claramente que o modelo está apresentando um desempenho inferior no conjunto de teste em comparação ao conjunto de treinamento. "
      ],
      "metadata": {
        "id": "XNPRd2OOcEo4"
      }
    }
  ]
}