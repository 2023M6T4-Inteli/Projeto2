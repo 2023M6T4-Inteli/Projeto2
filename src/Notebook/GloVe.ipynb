{
  "cells": [
    {
      "cell_type": "markdown",
      "metadata": {
        "id": "BICo3OdqEXGK"
      },
      "source": [
        "GloVe - Global Vectors for Word Representation - é um modelo de vetorização de palavras desenvolvido com o intuito de identificar as relações sintáticas e semânticas entre as palavras em um conjunto de um texto. \n",
        "\n",
        "* Características: o GloVe utiliza estatísticas de co-ocorrência global de palavras para aprender representações vetoriais.\n",
        "\n",
        "* Seu processo de treinamento envolve a construção de uma matriz que registra a frequência da ocorrência das palavras. \n",
        "\n",
        "* Intuição: palavras que compartilham uma frequência próxima, possuem e um significado semelhante. \n",
        "\n",
        "* Utilização da 'função de perda' (loss function) utilizada com o intuito de maximizar a probabilidade de co-ocorrência de pares de palavras."
      ]
    },
    {
      "cell_type": "markdown",
      "source": [
        "# Setup e Instalação\n"
      ],
      "metadata": {
        "id": "ab9_y5bWDeaC"
      }
    },
    {
      "cell_type": "code",
      "execution_count": 66,
      "metadata": {
        "id": "4HNvu-QBVn0s"
      },
      "outputs": [],
      "source": [
        "## Importação das bibliotecas necessárias\n",
        "import numpy as np\n",
        "from sklearn.feature_extraction.text import CountVectorizer\n",
        "from sklearn.feature_extraction.text import TfidfTransformer\n",
        "from gensim.models import KeyedVectors\n",
        "import pandas as pd\n",
        "\n"
      ]
    },
    {
      "cell_type": "code",
      "execution_count": 67,
      "metadata": {
        "id": "yC8uj0TRisLF",
        "colab": {
          "base_uri": "https://localhost:8080/",
          "height": 423
        },
        "outputId": "04685f30-9d0f-4615-f865-70c9ae3a2131"
      },
      "outputs": [
        {
          "output_type": "execute_result",
          "data": {
            "text/plain": [
              "       Unnamed: 0             autor  \\\n",
              "0               0        v8_capital   \n",
              "1               1     winthegame_of   \n",
              "2               2        marta_bego   \n",
              "3               3        lmviapiana   \n",
              "4               4      vanilson_dos   \n",
              "...           ...               ...   \n",
              "12188       12350       onixcapital   \n",
              "12189       12351  amgcapitalinvest   \n",
              "12190       12352     jayipacderota   \n",
              "12191       12353   moinho_cultural   \n",
              "12192       12354         bfmarilia   \n",
              "\n",
              "                                                   texto sentimento  \\\n",
              "0      Confira os resultados dos nossos fundos no mês...    NEUTRAL   \n",
              "1      A Alvarez & Marsal estará conosco no Sportainm...    NEUTRAL   \n",
              "2      #Repost btgpactual with make_repost ・・・ Entend...    NEUTRAL   \n",
              "3                                   Minuto touro de ouro   POSITIVE   \n",
              "4                                       @ricktolledo Sim    NEUTRAL   \n",
              "...                                                  ...        ...   \n",
              "12188  Uma noite de encontros e muito conhecimento on...    NEUTRAL   \n",
              "12189  Erros financeiros para eliminar antes dos 30 a...    NEUTRAL   \n",
              "12190  Estou muito grato por todo o esforço que você ...   POSITIVE   \n",
              "12191  \"👉GUADAKAN está chegando!!!!  A aula pública e...    NEUTRAL   \n",
              "12192  @btgpactual pq o morning call não está mais ap...   NEGATIVE   \n",
              "\n",
              "                                                  tokens  \n",
              "0      ['confira', 'o', 'resultado', 'de o', 'nosso',...  \n",
              "1      ['Alvarez', 'Marsal', 'estara', 'conosco', 'sp...  \n",
              "2      ['repost', 'btg', 'With', 'makerepost', 'enten...  \n",
              "3                            ['minuto', 'touro', 'ouro']  \n",
              "4                                 ['Ricktolledo', 'sim']  \n",
              "...                                                  ...  \n",
              "12188  ['um', 'noite', 'encontro', 'muito', 'conhecim...  \n",
              "12189  ['erro', 'financeiro', 'eliminar', 'antes', 'd...  \n",
              "12190  ['estar', 'muito', 'grato', 'todo', 'esforco',...  \n",
              "12191  ['dorsodamaocomdedoindicadorapontandoparaadire...  \n",
              "12192  ['btg', 'Morning', 'call', 'nao', 'este', 'mai...  \n",
              "\n",
              "[12193 rows x 5 columns]"
            ],
            "text/html": [
              "\n",
              "  <div id=\"df-9dd261c7-2ac3-454a-b397-bd7c0593b8fd\">\n",
              "    <div class=\"colab-df-container\">\n",
              "      <div>\n",
              "<style scoped>\n",
              "    .dataframe tbody tr th:only-of-type {\n",
              "        vertical-align: middle;\n",
              "    }\n",
              "\n",
              "    .dataframe tbody tr th {\n",
              "        vertical-align: top;\n",
              "    }\n",
              "\n",
              "    .dataframe thead th {\n",
              "        text-align: right;\n",
              "    }\n",
              "</style>\n",
              "<table border=\"1\" class=\"dataframe\">\n",
              "  <thead>\n",
              "    <tr style=\"text-align: right;\">\n",
              "      <th></th>\n",
              "      <th>Unnamed: 0</th>\n",
              "      <th>autor</th>\n",
              "      <th>texto</th>\n",
              "      <th>sentimento</th>\n",
              "      <th>tokens</th>\n",
              "    </tr>\n",
              "  </thead>\n",
              "  <tbody>\n",
              "    <tr>\n",
              "      <th>0</th>\n",
              "      <td>0</td>\n",
              "      <td>v8_capital</td>\n",
              "      <td>Confira os resultados dos nossos fundos no mês...</td>\n",
              "      <td>NEUTRAL</td>\n",
              "      <td>['confira', 'o', 'resultado', 'de o', 'nosso',...</td>\n",
              "    </tr>\n",
              "    <tr>\n",
              "      <th>1</th>\n",
              "      <td>1</td>\n",
              "      <td>winthegame_of</td>\n",
              "      <td>A Alvarez &amp; Marsal estará conosco no Sportainm...</td>\n",
              "      <td>NEUTRAL</td>\n",
              "      <td>['Alvarez', 'Marsal', 'estara', 'conosco', 'sp...</td>\n",
              "    </tr>\n",
              "    <tr>\n",
              "      <th>2</th>\n",
              "      <td>2</td>\n",
              "      <td>marta_bego</td>\n",
              "      <td>#Repost btgpactual with make_repost ・・・ Entend...</td>\n",
              "      <td>NEUTRAL</td>\n",
              "      <td>['repost', 'btg', 'With', 'makerepost', 'enten...</td>\n",
              "    </tr>\n",
              "    <tr>\n",
              "      <th>3</th>\n",
              "      <td>3</td>\n",
              "      <td>lmviapiana</td>\n",
              "      <td>Minuto touro de ouro</td>\n",
              "      <td>POSITIVE</td>\n",
              "      <td>['minuto', 'touro', 'ouro']</td>\n",
              "    </tr>\n",
              "    <tr>\n",
              "      <th>4</th>\n",
              "      <td>4</td>\n",
              "      <td>vanilson_dos</td>\n",
              "      <td>@ricktolledo Sim</td>\n",
              "      <td>NEUTRAL</td>\n",
              "      <td>['Ricktolledo', 'sim']</td>\n",
              "    </tr>\n",
              "    <tr>\n",
              "      <th>...</th>\n",
              "      <td>...</td>\n",
              "      <td>...</td>\n",
              "      <td>...</td>\n",
              "      <td>...</td>\n",
              "      <td>...</td>\n",
              "    </tr>\n",
              "    <tr>\n",
              "      <th>12188</th>\n",
              "      <td>12350</td>\n",
              "      <td>onixcapital</td>\n",
              "      <td>Uma noite de encontros e muito conhecimento on...</td>\n",
              "      <td>NEUTRAL</td>\n",
              "      <td>['um', 'noite', 'encontro', 'muito', 'conhecim...</td>\n",
              "    </tr>\n",
              "    <tr>\n",
              "      <th>12189</th>\n",
              "      <td>12351</td>\n",
              "      <td>amgcapitalinvest</td>\n",
              "      <td>Erros financeiros para eliminar antes dos 30 a...</td>\n",
              "      <td>NEUTRAL</td>\n",
              "      <td>['erro', 'financeiro', 'eliminar', 'antes', 'd...</td>\n",
              "    </tr>\n",
              "    <tr>\n",
              "      <th>12190</th>\n",
              "      <td>12352</td>\n",
              "      <td>jayipacderota</td>\n",
              "      <td>Estou muito grato por todo o esforço que você ...</td>\n",
              "      <td>POSITIVE</td>\n",
              "      <td>['estar', 'muito', 'grato', 'todo', 'esforco',...</td>\n",
              "    </tr>\n",
              "    <tr>\n",
              "      <th>12191</th>\n",
              "      <td>12353</td>\n",
              "      <td>moinho_cultural</td>\n",
              "      <td>\"👉GUADAKAN está chegando!!!!  A aula pública e...</td>\n",
              "      <td>NEUTRAL</td>\n",
              "      <td>['dorsodamaocomdedoindicadorapontandoparaadire...</td>\n",
              "    </tr>\n",
              "    <tr>\n",
              "      <th>12192</th>\n",
              "      <td>12354</td>\n",
              "      <td>bfmarilia</td>\n",
              "      <td>@btgpactual pq o morning call não está mais ap...</td>\n",
              "      <td>NEGATIVE</td>\n",
              "      <td>['btg', 'Morning', 'call', 'nao', 'este', 'mai...</td>\n",
              "    </tr>\n",
              "  </tbody>\n",
              "</table>\n",
              "<p>12193 rows × 5 columns</p>\n",
              "</div>\n",
              "      <button class=\"colab-df-convert\" onclick=\"convertToInteractive('df-9dd261c7-2ac3-454a-b397-bd7c0593b8fd')\"\n",
              "              title=\"Convert this dataframe to an interactive table.\"\n",
              "              style=\"display:none;\">\n",
              "        \n",
              "  <svg xmlns=\"http://www.w3.org/2000/svg\" height=\"24px\"viewBox=\"0 0 24 24\"\n",
              "       width=\"24px\">\n",
              "    <path d=\"M0 0h24v24H0V0z\" fill=\"none\"/>\n",
              "    <path d=\"M18.56 5.44l.94 2.06.94-2.06 2.06-.94-2.06-.94-.94-2.06-.94 2.06-2.06.94zm-11 1L8.5 8.5l.94-2.06 2.06-.94-2.06-.94L8.5 2.5l-.94 2.06-2.06.94zm10 10l.94 2.06.94-2.06 2.06-.94-2.06-.94-.94-2.06-.94 2.06-2.06.94z\"/><path d=\"M17.41 7.96l-1.37-1.37c-.4-.4-.92-.59-1.43-.59-.52 0-1.04.2-1.43.59L10.3 9.45l-7.72 7.72c-.78.78-.78 2.05 0 2.83L4 21.41c.39.39.9.59 1.41.59.51 0 1.02-.2 1.41-.59l7.78-7.78 2.81-2.81c.8-.78.8-2.07 0-2.86zM5.41 20L4 18.59l7.72-7.72 1.47 1.35L5.41 20z\"/>\n",
              "  </svg>\n",
              "      </button>\n",
              "      \n",
              "  <style>\n",
              "    .colab-df-container {\n",
              "      display:flex;\n",
              "      flex-wrap:wrap;\n",
              "      gap: 12px;\n",
              "    }\n",
              "\n",
              "    .colab-df-convert {\n",
              "      background-color: #E8F0FE;\n",
              "      border: none;\n",
              "      border-radius: 50%;\n",
              "      cursor: pointer;\n",
              "      display: none;\n",
              "      fill: #1967D2;\n",
              "      height: 32px;\n",
              "      padding: 0 0 0 0;\n",
              "      width: 32px;\n",
              "    }\n",
              "\n",
              "    .colab-df-convert:hover {\n",
              "      background-color: #E2EBFA;\n",
              "      box-shadow: 0px 1px 2px rgba(60, 64, 67, 0.3), 0px 1px 3px 1px rgba(60, 64, 67, 0.15);\n",
              "      fill: #174EA6;\n",
              "    }\n",
              "\n",
              "    [theme=dark] .colab-df-convert {\n",
              "      background-color: #3B4455;\n",
              "      fill: #D2E3FC;\n",
              "    }\n",
              "\n",
              "    [theme=dark] .colab-df-convert:hover {\n",
              "      background-color: #434B5C;\n",
              "      box-shadow: 0px 1px 3px 1px rgba(0, 0, 0, 0.15);\n",
              "      filter: drop-shadow(0px 1px 2px rgba(0, 0, 0, 0.3));\n",
              "      fill: #FFFFFF;\n",
              "    }\n",
              "  </style>\n",
              "\n",
              "      <script>\n",
              "        const buttonEl =\n",
              "          document.querySelector('#df-9dd261c7-2ac3-454a-b397-bd7c0593b8fd button.colab-df-convert');\n",
              "        buttonEl.style.display =\n",
              "          google.colab.kernel.accessAllowed ? 'block' : 'none';\n",
              "\n",
              "        async function convertToInteractive(key) {\n",
              "          const element = document.querySelector('#df-9dd261c7-2ac3-454a-b397-bd7c0593b8fd');\n",
              "          const dataTable =\n",
              "            await google.colab.kernel.invokeFunction('convertToInteractive',\n",
              "                                                     [key], {});\n",
              "          if (!dataTable) return;\n",
              "\n",
              "          const docLinkHtml = 'Like what you see? Visit the ' +\n",
              "            '<a target=\"_blank\" href=https://colab.research.google.com/notebooks/data_table.ipynb>data table notebook</a>'\n",
              "            + ' to learn more about interactive tables.';\n",
              "          element.innerHTML = '';\n",
              "          dataTable['output_type'] = 'display_data';\n",
              "          await google.colab.output.renderOutput(dataTable, element);\n",
              "          const docLink = document.createElement('div');\n",
              "          docLink.innerHTML = docLinkHtml;\n",
              "          element.appendChild(docLink);\n",
              "        }\n",
              "      </script>\n",
              "    </div>\n",
              "  </div>\n",
              "  "
            ]
          },
          "metadata": {},
          "execution_count": 67
        }
      ],
      "source": [
        "##arquivo csv dos dados já lematizados\n",
        "df_lemma = pd.read_csv('/content/drive/MyDrive/Módulo 2/Programação/ Dados/lematizacao.csv')\n",
        "df_lemma"
      ]
    },
    {
      "cell_type": "markdown",
      "source": [
        "# Preparação e aplicação do Modelo"
      ],
      "metadata": {
        "id": "F-cgW9yFDs2G"
      }
    },
    {
      "cell_type": "markdown",
      "source": [
        "## Testes isolados - vetores GloVe "
      ],
      "metadata": {
        "id": "_m8Cg1IbD2QK"
      }
    },
    {
      "cell_type": "code",
      "execution_count": 68,
      "metadata": {
        "id": "LnZOimy0fbLj",
        "colab": {
          "base_uri": "https://localhost:8080/"
        },
        "outputId": "0fcb21fa-5a6a-4a34-e490-e4c3464f0cb8"
      },
      "outputs": [
        {
          "output_type": "stream",
          "name": "stdout",
          "text": [
            "Vetor de 'amor': [-0.7675346  -1.2914119  -1.2610053   0.43638706  0.41730928 -0.67410934\n",
            " -0.00713053  1.039751   -0.60677785 -0.37683797  1.1499811  -1.0154366\n",
            "  0.03720399  0.5561315   0.15345535 -0.38315913 -0.9826127  -0.7544666\n",
            "  0.3152586  -0.5631548  -1.9183025   0.29983723 -0.6364049  -0.01712024\n",
            "  1.1100935   0.71326786  0.13572139  1.8997638  -0.78863984  0.45132664\n",
            " -0.6335362  -0.10398477  0.5744598   0.1946993   0.34879196 -1.7102339\n",
            "  1.3521185   0.3432263   0.6610534   1.0336604  -0.6339377   1.0569483\n",
            " -0.35751405  0.402013   -0.38236997  0.54524916 -0.97520125  0.6011804\n",
            "  0.6074149   0.1020565   0.69450414  0.15316898  0.02533296  1.3945224\n",
            "  0.68237376 -0.3726989   1.345404   -1.2171242   0.349316   -0.03657996\n",
            " -1.2198852  -1.3399961  -0.33141914  0.24455091  1.6623571   0.22606379\n",
            "  2.0024016  -0.1863009   1.2482862  -1.2757518   0.16964805  0.6132533\n",
            " -0.47198552  0.53036666 -1.2426664   0.2717209   1.4021567  -0.41733184\n",
            "  0.4343045  -1.4335086  -0.40973434 -0.38711497  0.08901083 -0.7462428\n",
            " -0.5316148   1.9524136   0.88476396 -0.39197913 -0.5389955   0.36952677\n",
            " -1.6771866  -0.42271823  0.8009258   0.44261354 -0.7649095  -0.05803613]\n"
          ]
        }
      ],
      "source": [
        "import spacy\n",
        "\n",
        "# Carregamento do modelo com a utilização de vetores GloVe\n",
        "nlp = spacy.load('en_core_web_sm')\n",
        "\n",
        "# Vetor da palavra teste (amor)\n",
        "word_vector = nlp('amor')[0].vector\n",
        "print(\"Vetor de 'amor':\", word_vector)\n"
      ]
    },
    {
      "cell_type": "code",
      "execution_count": 69,
      "metadata": {
        "id": "HWFjw7weL9I-",
        "colab": {
          "base_uri": "https://localhost:8080/",
          "height": 423
        },
        "outputId": "abda02af-5988-496a-9cbd-ae24f8f6648b"
      },
      "outputs": [
        {
          "output_type": "execute_result",
          "data": {
            "text/plain": [
              "       Unnamed: 0             autor  \\\n",
              "0               0        v8_capital   \n",
              "1               1     winthegame_of   \n",
              "2               2        marta_bego   \n",
              "3               3        lmviapiana   \n",
              "4               4      vanilson_dos   \n",
              "...           ...               ...   \n",
              "12188       12350       onixcapital   \n",
              "12189       12351  amgcapitalinvest   \n",
              "12190       12352     jayipacderota   \n",
              "12191       12353   moinho_cultural   \n",
              "12192       12354         bfmarilia   \n",
              "\n",
              "                                                   texto sentimento  \\\n",
              "0      Confira os resultados dos nossos fundos no mês...    NEUTRAL   \n",
              "1      A Alvarez & Marsal estará conosco no Sportainm...    NEUTRAL   \n",
              "2      #Repost btgpactual with make_repost ・・・ Entend...    NEUTRAL   \n",
              "3                                   Minuto touro de ouro   POSITIVE   \n",
              "4                                       @ricktolledo Sim    NEUTRAL   \n",
              "...                                                  ...        ...   \n",
              "12188  Uma noite de encontros e muito conhecimento on...    NEUTRAL   \n",
              "12189  Erros financeiros para eliminar antes dos 30 a...    NEUTRAL   \n",
              "12190  Estou muito grato por todo o esforço que você ...   POSITIVE   \n",
              "12191  \"👉GUADAKAN está chegando!!!!  A aula pública e...    NEUTRAL   \n",
              "12192  @btgpactual pq o morning call não está mais ap...   NEGATIVE   \n",
              "\n",
              "                                                  tokens  \n",
              "0      ['confira', 'o', 'resultado', 'de o', 'nosso',...  \n",
              "1      ['Alvarez', 'Marsal', 'estara', 'conosco', 'sp...  \n",
              "2      ['repost', 'btg', 'With', 'makerepost', 'enten...  \n",
              "3                            ['minuto', 'touro', 'ouro']  \n",
              "4                                 ['Ricktolledo', 'sim']  \n",
              "...                                                  ...  \n",
              "12188  ['um', 'noite', 'encontro', 'muito', 'conhecim...  \n",
              "12189  ['erro', 'financeiro', 'eliminar', 'antes', 'd...  \n",
              "12190  ['estar', 'muito', 'grato', 'todo', 'esforco',...  \n",
              "12191  ['dorsodamaocomdedoindicadorapontandoparaadire...  \n",
              "12192  ['btg', 'Morning', 'call', 'nao', 'este', 'mai...  \n",
              "\n",
              "[12193 rows x 5 columns]"
            ],
            "text/html": [
              "\n",
              "  <div id=\"df-07b230d1-0f58-407c-ba9c-427d32a924e8\">\n",
              "    <div class=\"colab-df-container\">\n",
              "      <div>\n",
              "<style scoped>\n",
              "    .dataframe tbody tr th:only-of-type {\n",
              "        vertical-align: middle;\n",
              "    }\n",
              "\n",
              "    .dataframe tbody tr th {\n",
              "        vertical-align: top;\n",
              "    }\n",
              "\n",
              "    .dataframe thead th {\n",
              "        text-align: right;\n",
              "    }\n",
              "</style>\n",
              "<table border=\"1\" class=\"dataframe\">\n",
              "  <thead>\n",
              "    <tr style=\"text-align: right;\">\n",
              "      <th></th>\n",
              "      <th>Unnamed: 0</th>\n",
              "      <th>autor</th>\n",
              "      <th>texto</th>\n",
              "      <th>sentimento</th>\n",
              "      <th>tokens</th>\n",
              "    </tr>\n",
              "  </thead>\n",
              "  <tbody>\n",
              "    <tr>\n",
              "      <th>0</th>\n",
              "      <td>0</td>\n",
              "      <td>v8_capital</td>\n",
              "      <td>Confira os resultados dos nossos fundos no mês...</td>\n",
              "      <td>NEUTRAL</td>\n",
              "      <td>['confira', 'o', 'resultado', 'de o', 'nosso',...</td>\n",
              "    </tr>\n",
              "    <tr>\n",
              "      <th>1</th>\n",
              "      <td>1</td>\n",
              "      <td>winthegame_of</td>\n",
              "      <td>A Alvarez &amp; Marsal estará conosco no Sportainm...</td>\n",
              "      <td>NEUTRAL</td>\n",
              "      <td>['Alvarez', 'Marsal', 'estara', 'conosco', 'sp...</td>\n",
              "    </tr>\n",
              "    <tr>\n",
              "      <th>2</th>\n",
              "      <td>2</td>\n",
              "      <td>marta_bego</td>\n",
              "      <td>#Repost btgpactual with make_repost ・・・ Entend...</td>\n",
              "      <td>NEUTRAL</td>\n",
              "      <td>['repost', 'btg', 'With', 'makerepost', 'enten...</td>\n",
              "    </tr>\n",
              "    <tr>\n",
              "      <th>3</th>\n",
              "      <td>3</td>\n",
              "      <td>lmviapiana</td>\n",
              "      <td>Minuto touro de ouro</td>\n",
              "      <td>POSITIVE</td>\n",
              "      <td>['minuto', 'touro', 'ouro']</td>\n",
              "    </tr>\n",
              "    <tr>\n",
              "      <th>4</th>\n",
              "      <td>4</td>\n",
              "      <td>vanilson_dos</td>\n",
              "      <td>@ricktolledo Sim</td>\n",
              "      <td>NEUTRAL</td>\n",
              "      <td>['Ricktolledo', 'sim']</td>\n",
              "    </tr>\n",
              "    <tr>\n",
              "      <th>...</th>\n",
              "      <td>...</td>\n",
              "      <td>...</td>\n",
              "      <td>...</td>\n",
              "      <td>...</td>\n",
              "      <td>...</td>\n",
              "    </tr>\n",
              "    <tr>\n",
              "      <th>12188</th>\n",
              "      <td>12350</td>\n",
              "      <td>onixcapital</td>\n",
              "      <td>Uma noite de encontros e muito conhecimento on...</td>\n",
              "      <td>NEUTRAL</td>\n",
              "      <td>['um', 'noite', 'encontro', 'muito', 'conhecim...</td>\n",
              "    </tr>\n",
              "    <tr>\n",
              "      <th>12189</th>\n",
              "      <td>12351</td>\n",
              "      <td>amgcapitalinvest</td>\n",
              "      <td>Erros financeiros para eliminar antes dos 30 a...</td>\n",
              "      <td>NEUTRAL</td>\n",
              "      <td>['erro', 'financeiro', 'eliminar', 'antes', 'd...</td>\n",
              "    </tr>\n",
              "    <tr>\n",
              "      <th>12190</th>\n",
              "      <td>12352</td>\n",
              "      <td>jayipacderota</td>\n",
              "      <td>Estou muito grato por todo o esforço que você ...</td>\n",
              "      <td>POSITIVE</td>\n",
              "      <td>['estar', 'muito', 'grato', 'todo', 'esforco',...</td>\n",
              "    </tr>\n",
              "    <tr>\n",
              "      <th>12191</th>\n",
              "      <td>12353</td>\n",
              "      <td>moinho_cultural</td>\n",
              "      <td>\"👉GUADAKAN está chegando!!!!  A aula pública e...</td>\n",
              "      <td>NEUTRAL</td>\n",
              "      <td>['dorsodamaocomdedoindicadorapontandoparaadire...</td>\n",
              "    </tr>\n",
              "    <tr>\n",
              "      <th>12192</th>\n",
              "      <td>12354</td>\n",
              "      <td>bfmarilia</td>\n",
              "      <td>@btgpactual pq o morning call não está mais ap...</td>\n",
              "      <td>NEGATIVE</td>\n",
              "      <td>['btg', 'Morning', 'call', 'nao', 'este', 'mai...</td>\n",
              "    </tr>\n",
              "  </tbody>\n",
              "</table>\n",
              "<p>12193 rows × 5 columns</p>\n",
              "</div>\n",
              "      <button class=\"colab-df-convert\" onclick=\"convertToInteractive('df-07b230d1-0f58-407c-ba9c-427d32a924e8')\"\n",
              "              title=\"Convert this dataframe to an interactive table.\"\n",
              "              style=\"display:none;\">\n",
              "        \n",
              "  <svg xmlns=\"http://www.w3.org/2000/svg\" height=\"24px\"viewBox=\"0 0 24 24\"\n",
              "       width=\"24px\">\n",
              "    <path d=\"M0 0h24v24H0V0z\" fill=\"none\"/>\n",
              "    <path d=\"M18.56 5.44l.94 2.06.94-2.06 2.06-.94-2.06-.94-.94-2.06-.94 2.06-2.06.94zm-11 1L8.5 8.5l.94-2.06 2.06-.94-2.06-.94L8.5 2.5l-.94 2.06-2.06.94zm10 10l.94 2.06.94-2.06 2.06-.94-2.06-.94-.94-2.06-.94 2.06-2.06.94z\"/><path d=\"M17.41 7.96l-1.37-1.37c-.4-.4-.92-.59-1.43-.59-.52 0-1.04.2-1.43.59L10.3 9.45l-7.72 7.72c-.78.78-.78 2.05 0 2.83L4 21.41c.39.39.9.59 1.41.59.51 0 1.02-.2 1.41-.59l7.78-7.78 2.81-2.81c.8-.78.8-2.07 0-2.86zM5.41 20L4 18.59l7.72-7.72 1.47 1.35L5.41 20z\"/>\n",
              "  </svg>\n",
              "      </button>\n",
              "      \n",
              "  <style>\n",
              "    .colab-df-container {\n",
              "      display:flex;\n",
              "      flex-wrap:wrap;\n",
              "      gap: 12px;\n",
              "    }\n",
              "\n",
              "    .colab-df-convert {\n",
              "      background-color: #E8F0FE;\n",
              "      border: none;\n",
              "      border-radius: 50%;\n",
              "      cursor: pointer;\n",
              "      display: none;\n",
              "      fill: #1967D2;\n",
              "      height: 32px;\n",
              "      padding: 0 0 0 0;\n",
              "      width: 32px;\n",
              "    }\n",
              "\n",
              "    .colab-df-convert:hover {\n",
              "      background-color: #E2EBFA;\n",
              "      box-shadow: 0px 1px 2px rgba(60, 64, 67, 0.3), 0px 1px 3px 1px rgba(60, 64, 67, 0.15);\n",
              "      fill: #174EA6;\n",
              "    }\n",
              "\n",
              "    [theme=dark] .colab-df-convert {\n",
              "      background-color: #3B4455;\n",
              "      fill: #D2E3FC;\n",
              "    }\n",
              "\n",
              "    [theme=dark] .colab-df-convert:hover {\n",
              "      background-color: #434B5C;\n",
              "      box-shadow: 0px 1px 3px 1px rgba(0, 0, 0, 0.15);\n",
              "      filter: drop-shadow(0px 1px 2px rgba(0, 0, 0, 0.3));\n",
              "      fill: #FFFFFF;\n",
              "    }\n",
              "  </style>\n",
              "\n",
              "      <script>\n",
              "        const buttonEl =\n",
              "          document.querySelector('#df-07b230d1-0f58-407c-ba9c-427d32a924e8 button.colab-df-convert');\n",
              "        buttonEl.style.display =\n",
              "          google.colab.kernel.accessAllowed ? 'block' : 'none';\n",
              "\n",
              "        async function convertToInteractive(key) {\n",
              "          const element = document.querySelector('#df-07b230d1-0f58-407c-ba9c-427d32a924e8');\n",
              "          const dataTable =\n",
              "            await google.colab.kernel.invokeFunction('convertToInteractive',\n",
              "                                                     [key], {});\n",
              "          if (!dataTable) return;\n",
              "\n",
              "          const docLinkHtml = 'Like what you see? Visit the ' +\n",
              "            '<a target=\"_blank\" href=https://colab.research.google.com/notebooks/data_table.ipynb>data table notebook</a>'\n",
              "            + ' to learn more about interactive tables.';\n",
              "          element.innerHTML = '';\n",
              "          dataTable['output_type'] = 'display_data';\n",
              "          await google.colab.output.renderOutput(dataTable, element);\n",
              "          const docLink = document.createElement('div');\n",
              "          docLink.innerHTML = docLinkHtml;\n",
              "          element.appendChild(docLink);\n",
              "        }\n",
              "      </script>\n",
              "    </div>\n",
              "  </div>\n",
              "  "
            ]
          },
          "metadata": {},
          "execution_count": 69
        }
      ],
      "source": [
        "##leitura dos dados\n",
        "modelo_glove = pd.read_csv('/content/drive/MyDrive/Módulo 2/Programação/ Dados/lematizacao.csv')\n",
        "modelo_glove"
      ]
    },
    {
      "cell_type": "markdown",
      "source": [
        "# Algoritmo: Regressão Logística"
      ],
      "metadata": {
        "id": "2dKorgPBDz28"
      }
    },
    {
      "cell_type": "code",
      "execution_count": 70,
      "metadata": {
        "id": "4CF7-34CjyzC",
        "colab": {
          "base_uri": "https://localhost:8080/"
        },
        "outputId": "bfbff715-a207-4e3a-a918-8f60d221a24a"
      },
      "outputs": [
        {
          "output_type": "stream",
          "name": "stdout",
          "text": [
            "Acurácia: 0.7519475194751948\n"
          ]
        },
        {
          "output_type": "stream",
          "name": "stderr",
          "text": [
            "/usr/local/lib/python3.10/dist-packages/sklearn/linear_model/_logistic.py:458: ConvergenceWarning: lbfgs failed to converge (status=1):\n",
            "STOP: TOTAL NO. of ITERATIONS REACHED LIMIT.\n",
            "\n",
            "Increase the number of iterations (max_iter) or scale the data as shown in:\n",
            "    https://scikit-learn.org/stable/modules/preprocessing.html\n",
            "Please also refer to the documentation for alternative solver options:\n",
            "    https://scikit-learn.org/stable/modules/linear_model.html#logistic-regression\n",
            "  n_iter_i = _check_optimize_result(\n"
          ]
        }
      ],
      "source": [
        "##importação de bibliotecas necessárias\n",
        "import pandas as pd\n",
        "from sklearn.model_selection import train_test_split\n",
        "from sklearn.linear_model import LogisticRegression\n",
        "from sklearn.feature_extraction.text import CountVectorizer\n",
        "from sklearn.feature_extraction.text import TfidfTransformer\n",
        "from gensim.models import KeyedVectors\n",
        "\n",
        "#leitura\n",
        "df_lemma = pd.read_csv('/content/drive/MyDrive/Módulo 2/Programação/ Dados/lematizacao.csv')\n",
        "\n",
        "##identificação dos valores de X e Y\n",
        "X = df_lemma['texto']\n",
        "y = df_lemma['sentimento']\n",
        "\n",
        "## CountVectorizer e Tfid\n",
        "vectorizer = CountVectorizer()\n",
        "X_counts = vectorizer.fit_transform(X)\n",
        "tfidf_transformer = TfidfTransformer()\n",
        "X_tfidf = tfidf_transformer.fit_transform(X_counts)\n",
        "\n",
        "X_train, X_test, y_train, y_test = train_test_split(X_tfidf, y, test_size=0.2, random_state=42)\n",
        "\n",
        "##Regressão Logística\n",
        "model = LogisticRegression()\n",
        "model.fit(X_train, y_train)\n",
        "\n",
        "accuracy = model.score(X_test, y_test)\n",
        "print(\"Acurácia:\", accuracy)\n"
      ]
    },
    {
      "cell_type": "code",
      "execution_count": 71,
      "metadata": {
        "id": "Wo3BFYvEmcRh",
        "colab": {
          "base_uri": "https://localhost:8080/"
        },
        "outputId": "fe9cb533-7d71-4628-9a25-bec89df27d10"
      },
      "outputs": [
        {
          "output_type": "stream",
          "name": "stdout",
          "text": [
            "              precision    recall  f1-score   support\n",
            "\n",
            "    NEGATIVE       0.77      0.54      0.64       479\n",
            "     NEUTRAL       0.71      0.85      0.77      1047\n",
            "    POSITIVE       0.81      0.75      0.78       913\n",
            "\n",
            "    accuracy                           0.75      2439\n",
            "   macro avg       0.76      0.71      0.73      2439\n",
            "weighted avg       0.76      0.75      0.75      2439\n",
            "\n"
          ]
        }
      ],
      "source": [
        "from sklearn.metrics import classification_report\n",
        "\n",
        "# Previsões no conjunto de teste\n",
        "y_pred = model.predict(X_test)\n",
        "\n",
        "# Cálculo das métricas\n",
        "report = classification_report(y_test, y_pred)\n",
        "print(report)\n"
      ]
    },
    {
      "cell_type": "code",
      "execution_count": 72,
      "metadata": {
        "id": "NPQt9FVRZaLI",
        "colab": {
          "base_uri": "https://localhost:8080/",
          "height": 423
        },
        "outputId": "cd08db0e-09fb-4123-f2c8-a6774c96a592"
      },
      "outputs": [
        {
          "output_type": "execute_result",
          "data": {
            "text/plain": [
              "       Unnamed: 0             autor  \\\n",
              "0               0        v8_capital   \n",
              "1               1     winthegame_of   \n",
              "2               2        marta_bego   \n",
              "3               3        lmviapiana   \n",
              "4               4      vanilson_dos   \n",
              "...           ...               ...   \n",
              "12188       12350       onixcapital   \n",
              "12189       12351  amgcapitalinvest   \n",
              "12190       12352     jayipacderota   \n",
              "12191       12353   moinho_cultural   \n",
              "12192       12354         bfmarilia   \n",
              "\n",
              "                                                   texto sentimento  \\\n",
              "0      Confira os resultados dos nossos fundos no mês...    NEUTRAL   \n",
              "1      A Alvarez & Marsal estará conosco no Sportainm...    NEUTRAL   \n",
              "2      #Repost btgpactual with make_repost ・・・ Entend...    NEUTRAL   \n",
              "3                                   Minuto touro de ouro   POSITIVE   \n",
              "4                                       @ricktolledo Sim    NEUTRAL   \n",
              "...                                                  ...        ...   \n",
              "12188  Uma noite de encontros e muito conhecimento on...    NEUTRAL   \n",
              "12189  Erros financeiros para eliminar antes dos 30 a...    NEUTRAL   \n",
              "12190  Estou muito grato por todo o esforço que você ...   POSITIVE   \n",
              "12191  \"👉GUADAKAN está chegando!!!!  A aula pública e...    NEUTRAL   \n",
              "12192  @btgpactual pq o morning call não está mais ap...   NEGATIVE   \n",
              "\n",
              "                                                  tokens  \n",
              "0      ['confira', 'o', 'resultado', 'de o', 'nosso',...  \n",
              "1      ['Alvarez', 'Marsal', 'estara', 'conosco', 'sp...  \n",
              "2      ['repost', 'btg', 'With', 'makerepost', 'enten...  \n",
              "3                            ['minuto', 'touro', 'ouro']  \n",
              "4                                 ['Ricktolledo', 'sim']  \n",
              "...                                                  ...  \n",
              "12188  ['um', 'noite', 'encontro', 'muito', 'conhecim...  \n",
              "12189  ['erro', 'financeiro', 'eliminar', 'antes', 'd...  \n",
              "12190  ['estar', 'muito', 'grato', 'todo', 'esforco',...  \n",
              "12191  ['dorsodamaocomdedoindicadorapontandoparaadire...  \n",
              "12192  ['btg', 'Morning', 'call', 'nao', 'este', 'mai...  \n",
              "\n",
              "[12193 rows x 5 columns]"
            ],
            "text/html": [
              "\n",
              "  <div id=\"df-de709d2d-16e1-47e7-b29b-1c4f6ce070d3\">\n",
              "    <div class=\"colab-df-container\">\n",
              "      <div>\n",
              "<style scoped>\n",
              "    .dataframe tbody tr th:only-of-type {\n",
              "        vertical-align: middle;\n",
              "    }\n",
              "\n",
              "    .dataframe tbody tr th {\n",
              "        vertical-align: top;\n",
              "    }\n",
              "\n",
              "    .dataframe thead th {\n",
              "        text-align: right;\n",
              "    }\n",
              "</style>\n",
              "<table border=\"1\" class=\"dataframe\">\n",
              "  <thead>\n",
              "    <tr style=\"text-align: right;\">\n",
              "      <th></th>\n",
              "      <th>Unnamed: 0</th>\n",
              "      <th>autor</th>\n",
              "      <th>texto</th>\n",
              "      <th>sentimento</th>\n",
              "      <th>tokens</th>\n",
              "    </tr>\n",
              "  </thead>\n",
              "  <tbody>\n",
              "    <tr>\n",
              "      <th>0</th>\n",
              "      <td>0</td>\n",
              "      <td>v8_capital</td>\n",
              "      <td>Confira os resultados dos nossos fundos no mês...</td>\n",
              "      <td>NEUTRAL</td>\n",
              "      <td>['confira', 'o', 'resultado', 'de o', 'nosso',...</td>\n",
              "    </tr>\n",
              "    <tr>\n",
              "      <th>1</th>\n",
              "      <td>1</td>\n",
              "      <td>winthegame_of</td>\n",
              "      <td>A Alvarez &amp; Marsal estará conosco no Sportainm...</td>\n",
              "      <td>NEUTRAL</td>\n",
              "      <td>['Alvarez', 'Marsal', 'estara', 'conosco', 'sp...</td>\n",
              "    </tr>\n",
              "    <tr>\n",
              "      <th>2</th>\n",
              "      <td>2</td>\n",
              "      <td>marta_bego</td>\n",
              "      <td>#Repost btgpactual with make_repost ・・・ Entend...</td>\n",
              "      <td>NEUTRAL</td>\n",
              "      <td>['repost', 'btg', 'With', 'makerepost', 'enten...</td>\n",
              "    </tr>\n",
              "    <tr>\n",
              "      <th>3</th>\n",
              "      <td>3</td>\n",
              "      <td>lmviapiana</td>\n",
              "      <td>Minuto touro de ouro</td>\n",
              "      <td>POSITIVE</td>\n",
              "      <td>['minuto', 'touro', 'ouro']</td>\n",
              "    </tr>\n",
              "    <tr>\n",
              "      <th>4</th>\n",
              "      <td>4</td>\n",
              "      <td>vanilson_dos</td>\n",
              "      <td>@ricktolledo Sim</td>\n",
              "      <td>NEUTRAL</td>\n",
              "      <td>['Ricktolledo', 'sim']</td>\n",
              "    </tr>\n",
              "    <tr>\n",
              "      <th>...</th>\n",
              "      <td>...</td>\n",
              "      <td>...</td>\n",
              "      <td>...</td>\n",
              "      <td>...</td>\n",
              "      <td>...</td>\n",
              "    </tr>\n",
              "    <tr>\n",
              "      <th>12188</th>\n",
              "      <td>12350</td>\n",
              "      <td>onixcapital</td>\n",
              "      <td>Uma noite de encontros e muito conhecimento on...</td>\n",
              "      <td>NEUTRAL</td>\n",
              "      <td>['um', 'noite', 'encontro', 'muito', 'conhecim...</td>\n",
              "    </tr>\n",
              "    <tr>\n",
              "      <th>12189</th>\n",
              "      <td>12351</td>\n",
              "      <td>amgcapitalinvest</td>\n",
              "      <td>Erros financeiros para eliminar antes dos 30 a...</td>\n",
              "      <td>NEUTRAL</td>\n",
              "      <td>['erro', 'financeiro', 'eliminar', 'antes', 'd...</td>\n",
              "    </tr>\n",
              "    <tr>\n",
              "      <th>12190</th>\n",
              "      <td>12352</td>\n",
              "      <td>jayipacderota</td>\n",
              "      <td>Estou muito grato por todo o esforço que você ...</td>\n",
              "      <td>POSITIVE</td>\n",
              "      <td>['estar', 'muito', 'grato', 'todo', 'esforco',...</td>\n",
              "    </tr>\n",
              "    <tr>\n",
              "      <th>12191</th>\n",
              "      <td>12353</td>\n",
              "      <td>moinho_cultural</td>\n",
              "      <td>\"👉GUADAKAN está chegando!!!!  A aula pública e...</td>\n",
              "      <td>NEUTRAL</td>\n",
              "      <td>['dorsodamaocomdedoindicadorapontandoparaadire...</td>\n",
              "    </tr>\n",
              "    <tr>\n",
              "      <th>12192</th>\n",
              "      <td>12354</td>\n",
              "      <td>bfmarilia</td>\n",
              "      <td>@btgpactual pq o morning call não está mais ap...</td>\n",
              "      <td>NEGATIVE</td>\n",
              "      <td>['btg', 'Morning', 'call', 'nao', 'este', 'mai...</td>\n",
              "    </tr>\n",
              "  </tbody>\n",
              "</table>\n",
              "<p>12193 rows × 5 columns</p>\n",
              "</div>\n",
              "      <button class=\"colab-df-convert\" onclick=\"convertToInteractive('df-de709d2d-16e1-47e7-b29b-1c4f6ce070d3')\"\n",
              "              title=\"Convert this dataframe to an interactive table.\"\n",
              "              style=\"display:none;\">\n",
              "        \n",
              "  <svg xmlns=\"http://www.w3.org/2000/svg\" height=\"24px\"viewBox=\"0 0 24 24\"\n",
              "       width=\"24px\">\n",
              "    <path d=\"M0 0h24v24H0V0z\" fill=\"none\"/>\n",
              "    <path d=\"M18.56 5.44l.94 2.06.94-2.06 2.06-.94-2.06-.94-.94-2.06-.94 2.06-2.06.94zm-11 1L8.5 8.5l.94-2.06 2.06-.94-2.06-.94L8.5 2.5l-.94 2.06-2.06.94zm10 10l.94 2.06.94-2.06 2.06-.94-2.06-.94-.94-2.06-.94 2.06-2.06.94z\"/><path d=\"M17.41 7.96l-1.37-1.37c-.4-.4-.92-.59-1.43-.59-.52 0-1.04.2-1.43.59L10.3 9.45l-7.72 7.72c-.78.78-.78 2.05 0 2.83L4 21.41c.39.39.9.59 1.41.59.51 0 1.02-.2 1.41-.59l7.78-7.78 2.81-2.81c.8-.78.8-2.07 0-2.86zM5.41 20L4 18.59l7.72-7.72 1.47 1.35L5.41 20z\"/>\n",
              "  </svg>\n",
              "      </button>\n",
              "      \n",
              "  <style>\n",
              "    .colab-df-container {\n",
              "      display:flex;\n",
              "      flex-wrap:wrap;\n",
              "      gap: 12px;\n",
              "    }\n",
              "\n",
              "    .colab-df-convert {\n",
              "      background-color: #E8F0FE;\n",
              "      border: none;\n",
              "      border-radius: 50%;\n",
              "      cursor: pointer;\n",
              "      display: none;\n",
              "      fill: #1967D2;\n",
              "      height: 32px;\n",
              "      padding: 0 0 0 0;\n",
              "      width: 32px;\n",
              "    }\n",
              "\n",
              "    .colab-df-convert:hover {\n",
              "      background-color: #E2EBFA;\n",
              "      box-shadow: 0px 1px 2px rgba(60, 64, 67, 0.3), 0px 1px 3px 1px rgba(60, 64, 67, 0.15);\n",
              "      fill: #174EA6;\n",
              "    }\n",
              "\n",
              "    [theme=dark] .colab-df-convert {\n",
              "      background-color: #3B4455;\n",
              "      fill: #D2E3FC;\n",
              "    }\n",
              "\n",
              "    [theme=dark] .colab-df-convert:hover {\n",
              "      background-color: #434B5C;\n",
              "      box-shadow: 0px 1px 3px 1px rgba(0, 0, 0, 0.15);\n",
              "      filter: drop-shadow(0px 1px 2px rgba(0, 0, 0, 0.3));\n",
              "      fill: #FFFFFF;\n",
              "    }\n",
              "  </style>\n",
              "\n",
              "      <script>\n",
              "        const buttonEl =\n",
              "          document.querySelector('#df-de709d2d-16e1-47e7-b29b-1c4f6ce070d3 button.colab-df-convert');\n",
              "        buttonEl.style.display =\n",
              "          google.colab.kernel.accessAllowed ? 'block' : 'none';\n",
              "\n",
              "        async function convertToInteractive(key) {\n",
              "          const element = document.querySelector('#df-de709d2d-16e1-47e7-b29b-1c4f6ce070d3');\n",
              "          const dataTable =\n",
              "            await google.colab.kernel.invokeFunction('convertToInteractive',\n",
              "                                                     [key], {});\n",
              "          if (!dataTable) return;\n",
              "\n",
              "          const docLinkHtml = 'Like what you see? Visit the ' +\n",
              "            '<a target=\"_blank\" href=https://colab.research.google.com/notebooks/data_table.ipynb>data table notebook</a>'\n",
              "            + ' to learn more about interactive tables.';\n",
              "          element.innerHTML = '';\n",
              "          dataTable['output_type'] = 'display_data';\n",
              "          await google.colab.output.renderOutput(dataTable, element);\n",
              "          const docLink = document.createElement('div');\n",
              "          docLink.innerHTML = docLinkHtml;\n",
              "          element.appendChild(docLink);\n",
              "        }\n",
              "      </script>\n",
              "    </div>\n",
              "  </div>\n",
              "  "
            ]
          },
          "metadata": {},
          "execution_count": 72
        }
      ],
      "source": [
        "##arquivo csv\n",
        "df = pd.read_csv('/content/drive/MyDrive/Módulo 2/Programação/ Dados/lematizacao.csv')\n",
        "df"
      ]
    },
    {
      "cell_type": "code",
      "execution_count": 73,
      "metadata": {
        "id": "GW9dq-KLYVFl"
      },
      "outputs": [],
      "source": [
        "##arquivo do conjunto de dados pré-treinados do modelo GloVe\n",
        "import gensim.downloader\n",
        "glove_model = gensim.downloader.load('glove-twitter-25')\n"
      ]
    },
    {
      "cell_type": "code",
      "execution_count": 74,
      "metadata": {
        "id": "v0LgGRwyZV0z",
        "colab": {
          "base_uri": "https://localhost:8080/"
        },
        "outputId": "23bda5c9-a5f1-4d40-b92e-688149fb0689"
      },
      "outputs": [
        {
          "output_type": "stream",
          "name": "stderr",
          "text": [
            "/usr/local/lib/python3.10/dist-packages/numpy/core/_methods.py:163: VisibleDeprecationWarning: Creating an ndarray from ragged nested sequences (which is a list-or-tuple of lists-or-tuples-or ndarrays with different lengths or shapes) is deprecated. If you meant to do this, you must specify 'dtype=object' when creating the ndarray.\n",
            "  arr = asanyarray(a)\n"
          ]
        }
      ],
      "source": [
        "# Lista de armazenamrnto de vetores\n",
        "token_vectors = []\n",
        "\n",
        "# Iteração de tokens\n",
        "for tokens in df['tokens']:\n",
        "    document_vectors = []\n",
        "    for token in tokens:\n",
        "        if token in glove_model:\n",
        "          \n",
        "            # Obter o vetor do token no modelo GloVe\n",
        "            vector = glove_model[token]\n",
        "            document_vectors.append(vector)\n",
        "        else:\n",
        "            # Caso o token não esteja presente no modelo, pode-se utilizar um vetor de zeros ou algum valor padrão\n",
        "            document_vectors.append(np.zeros_like(glove_model.vector_size))\n",
        "    \n",
        "    # Calcular a média dos vetores dos tokens da entrada atual\n",
        "    document_vector = np.mean(document_vectors, axis=0)\n",
        "    \n",
        "    # Adicionar o vetor resultante à lista\n",
        "    token_vectors.append(document_vector)\n",
        "\n",
        "# Converter a lista de vetores em um array numpy\n",
        "token_vectors = np.array(token_vectors)"
      ]
    },
    {
      "cell_type": "markdown",
      "source": [
        "# Algoritmo: Naive Bayes"
      ],
      "metadata": {
        "id": "WPxEDaiMEJ7f"
      }
    },
    {
      "cell_type": "code",
      "execution_count": 75,
      "metadata": {
        "id": "HiSmyvAZabpi"
      },
      "outputs": [],
      "source": [
        "from sklearn.naive_bayes import GaussianNB ##Naive Bayes\n",
        "from sklearn.metrics import accuracy_score\n"
      ]
    },
    {
      "cell_type": "code",
      "execution_count": 76,
      "metadata": {
        "id": "zYp9-ZmWacot"
      },
      "outputs": [],
      "source": [
        "##mapeamento das colunas em valores numéricos (Positivo = 3; Neutro = 1, e Negativo=2)\n",
        "sentimento_mapping = {'POSITIVE': 3, 'NEUTRAL': 1, 'NEGATIVE': 2}\n",
        "y_mapped = df['sentimento'].map(sentimento_mapping)"
      ]
    },
    {
      "cell_type": "code",
      "execution_count": 77,
      "metadata": {
        "id": "Pe3LP3Mkafm4"
      },
      "outputs": [],
      "source": [
        "X_train, X_test, y_train, y_test = train_test_split(token_vectors, y_mapped, test_size=0.2, random_state=42)\n"
      ]
    },
    {
      "cell_type": "code",
      "execution_count": 78,
      "metadata": {
        "id": "ViZrzjBEai1J",
        "colab": {
          "base_uri": "https://localhost:8080/"
        },
        "outputId": "fd081015-b28c-4ff7-86ae-ce1888ce26f0"
      },
      "outputs": [
        {
          "output_type": "stream",
          "name": "stdout",
          "text": [
            "Acurácia: 0.4948749487494875\n"
          ]
        }
      ],
      "source": [
        "##treinamento do algoritmo Naive Bayes\n",
        "model = GaussianNB()\n",
        "model.fit(X_train, y_train)\n",
        "\n",
        "# Predição e cálculo da acurácia\n",
        "y_pred = model.predict(X_test)\n",
        "accuracy = accuracy_score(y_test, y_pred)\n",
        "print(\"Acurácia:\", accuracy)\n"
      ]
    },
    {
      "cell_type": "code",
      "execution_count": 79,
      "metadata": {
        "id": "nQvOxTV6blle",
        "colab": {
          "base_uri": "https://localhost:8080/"
        },
        "outputId": "e4bf8b20-5e35-4d20-86f7-947b8d3d100e"
      },
      "outputs": [
        {
          "output_type": "stream",
          "name": "stdout",
          "text": [
            "Acurácia: 0.5744157441574416\n"
          ]
        },
        {
          "output_type": "stream",
          "name": "stderr",
          "text": [
            "/usr/local/lib/python3.10/dist-packages/sklearn/linear_model/_logistic.py:458: ConvergenceWarning: lbfgs failed to converge (status=1):\n",
            "STOP: TOTAL NO. of ITERATIONS REACHED LIMIT.\n",
            "\n",
            "Increase the number of iterations (max_iter) or scale the data as shown in:\n",
            "    https://scikit-learn.org/stable/modules/preprocessing.html\n",
            "Please also refer to the documentation for alternative solver options:\n",
            "    https://scikit-learn.org/stable/modules/linear_model.html#logistic-regression\n",
            "  n_iter_i = _check_optimize_result(\n"
          ]
        }
      ],
      "source": [
        "from sklearn.linear_model import LogisticRegression\n",
        "from sklearn.metrics import accuracy_score\n",
        "\n",
        "# Treinamento do modelo de regressão logística\n",
        "model = LogisticRegression()\n",
        "model.fit(X_train, y_train)\n",
        "\n",
        "# Predição e cálculo da acurácia\n",
        "y_pred = model.predict(X_test)\n",
        "accuracy = accuracy_score(y_test, y_pred)\n",
        "print(\"Acurácia:\", accuracy)"
      ]
    },
    {
      "cell_type": "markdown",
      "source": [
        "# Gráficos e Análises"
      ],
      "metadata": {
        "id": "BANUSXA8Eajm"
      }
    },
    {
      "cell_type": "markdown",
      "source": [
        "## Aplicação de funções"
      ],
      "metadata": {
        "id": "Id3eNapOFQ1G"
      }
    },
    {
      "cell_type": "code",
      "source": [
        "\n",
        "\n",
        "# Calcular recall\n",
        "recall_micro = recall_score(y_test, y_pred, average='micro')\n",
        "recall_macro = recall_score(y_test, y_pred, average='macro')\n",
        "recall_weighted = recall_score(y_test, y_pred, average='weighted')"
      ],
      "metadata": {
        "id": "og7Q6A3bUV54"
      },
      "execution_count": 80,
      "outputs": []
    },
    {
      "cell_type": "code",
      "source": [
        "##Printar um relatório de classificação\n",
        "from sklearn.metrics import accuracy_score, confusion_matrix, classification_report, log_loss, f1_score, recall_score\n",
        "print(\"Acurácia:\", accuracy)\n",
        "print(\"Relatório de Classificação:\")\n",
        "print(classification_report(y_test, y_pred))\n",
        "print(\"Recall (micro):\", recall_micro)\n",
        "print(\"Recall (macro):\", recall_macro)\n",
        "print(\"Recall (weighted):\", recall_weighted)\n"
      ],
      "metadata": {
        "colab": {
          "base_uri": "https://localhost:8080/"
        },
        "id": "iRTvN5AxTrjJ",
        "outputId": "527ce98c-2f75-49f7-f16d-1f1391cc64b6"
      },
      "execution_count": 81,
      "outputs": [
        {
          "output_type": "stream",
          "name": "stdout",
          "text": [
            "Acurácia: 0.5744157441574416\n",
            "Relatório de Classificação:\n",
            "              precision    recall  f1-score   support\n",
            "\n",
            "           1       0.65      0.63      0.64      1047\n",
            "           2       0.53      0.28      0.36       479\n",
            "           3       0.52      0.67      0.59       913\n",
            "\n",
            "    accuracy                           0.57      2439\n",
            "   macro avg       0.56      0.52      0.53      2439\n",
            "weighted avg       0.58      0.57      0.56      2439\n",
            "\n",
            "Recall (micro): 0.5744157441574416\n",
            "Recall (macro): 0.5247503740792446\n",
            "Recall (weighted): 0.5744157441574416\n"
          ]
        }
      ]
    },
    {
      "cell_type": "code",
      "source": [
        "import matplotlib.pyplot as plt\n",
        "from sklearn.linear_model import LogisticRegression\n",
        "from sklearn.metrics import roc_curve, auc\n",
        "from sklearn.model_selection import train_test_split\n",
        "from sklearn.preprocessing import label_binarize\n",
        "import numpy as np\n",
        "\n",
        "# Binarizar os rótulos\n",
        "y_bin = label_binarize(y_mapped, classes=np.unique(y_mapped))\n",
        "\n",
        "# Dividir os dados em conjunto de treinamento e teste\n",
        "X_train, X_test, y_train, y_test = train_test_split(token_vectors, y_bin, test_size=0.2, random_state=42)\n",
        "\n",
        "# Inicializar o modelo de regressão logística\n",
        "model_lr = LogisticRegression()\n",
        "\n",
        "# Lista para armazenar as curvas ROC de cada classe\n",
        "roc_curves = []\n",
        "\n",
        "# Treinar um classificador para cada classe\n",
        "for i in range(y_train.shape[1]):\n",
        "    # Treinar o modelo de regressão logística para a classe i\n",
        "    model_lr.fit(X_train, y_train[:, i])\n",
        "    \n",
        "    # Obter as probabilidades previstas para a classe i\n",
        "    y_scores = model_lr.predict_proba(X_test)[:, 1]\n",
        "    \n",
        "    # Calcular a curva ROC para a classe i\n",
        "    fpr, tpr, _ = roc_curve(y_test[:, i], y_scores)\n",
        "    roc_auc = auc(fpr, tpr)\n",
        "    \n",
        "    # Armazenar a curva ROC da classe i\n",
        "    roc_curves.append((fpr, tpr, roc_auc))\n",
        "\n",
        "# Plotar as curvas ROC de cada classe\n",
        "plt.figure()\n",
        "\n",
        "for i, curve in enumerate(roc_curves):\n",
        "    fpr, tpr, roc_auc = curve\n",
        "    plt.plot(fpr, tpr, label='Classe {0} (AUC = {1:.2f})'.format(i, roc_auc))\n",
        "\n",
        "plt.plot([0, 1], [0, 1], 'k--')\n",
        "plt.xlim([0.0, 1.0])\n",
        "plt.ylim([0.0, 1.05])\n",
        "plt.xlabel('Taxa de Falsos Positivos')\n",
        "plt.ylabel('Taxa de Verdadeiros Positivos')\n",
        "plt.title('Curva ROC - Regressão Logística -GloVe')\n",
        "plt.legend(loc=\"lower right\")\n",
        "plt.show()\n",
        "\n",
        "##Observações: Classe 0(neutro), Classe 1(negativo), Classe 2(positivo)"
      ],
      "metadata": {
        "colab": {
          "base_uri": "https://localhost:8080/",
          "height": 889
        },
        "id": "w7Sy68FlNe5T",
        "outputId": "6dbe5231-05a6-42da-c5af-9cd808348019"
      },
      "execution_count": 82,
      "outputs": [
        {
          "output_type": "stream",
          "name": "stderr",
          "text": [
            "/usr/local/lib/python3.10/dist-packages/sklearn/linear_model/_logistic.py:458: ConvergenceWarning: lbfgs failed to converge (status=1):\n",
            "STOP: TOTAL NO. of ITERATIONS REACHED LIMIT.\n",
            "\n",
            "Increase the number of iterations (max_iter) or scale the data as shown in:\n",
            "    https://scikit-learn.org/stable/modules/preprocessing.html\n",
            "Please also refer to the documentation for alternative solver options:\n",
            "    https://scikit-learn.org/stable/modules/linear_model.html#logistic-regression\n",
            "  n_iter_i = _check_optimize_result(\n",
            "/usr/local/lib/python3.10/dist-packages/sklearn/linear_model/_logistic.py:458: ConvergenceWarning: lbfgs failed to converge (status=1):\n",
            "STOP: TOTAL NO. of ITERATIONS REACHED LIMIT.\n",
            "\n",
            "Increase the number of iterations (max_iter) or scale the data as shown in:\n",
            "    https://scikit-learn.org/stable/modules/preprocessing.html\n",
            "Please also refer to the documentation for alternative solver options:\n",
            "    https://scikit-learn.org/stable/modules/linear_model.html#logistic-regression\n",
            "  n_iter_i = _check_optimize_result(\n",
            "/usr/local/lib/python3.10/dist-packages/sklearn/linear_model/_logistic.py:458: ConvergenceWarning: lbfgs failed to converge (status=1):\n",
            "STOP: TOTAL NO. of ITERATIONS REACHED LIMIT.\n",
            "\n",
            "Increase the number of iterations (max_iter) or scale the data as shown in:\n",
            "    https://scikit-learn.org/stable/modules/preprocessing.html\n",
            "Please also refer to the documentation for alternative solver options:\n",
            "    https://scikit-learn.org/stable/modules/linear_model.html#logistic-regression\n",
            "  n_iter_i = _check_optimize_result(\n"
          ]
        },
        {
          "output_type": "display_data",
          "data": {
            "text/plain": [
              "<Figure size 640x480 with 1 Axes>"
            ],
            "image/png": "[encoded data removed]"
          },
          "metadata": {}
        }
      ]
    },
    {
      "cell_type": "markdown",
      "source": [
        "# Definição de funções "
      ],
      "metadata": {
        "id": "yhcZ7wV4IqDJ"
      }
    },
    {
      "cell_type": "code",
      "source": [
        "import pandas as pd\n",
        "from sklearn.feature_extraction.text import CountVectorizer\n",
        "from sklearn.feature_extraction.text import TfidfTransformer\n",
        "from sklearn.linear_model import LogisticRegression\n",
        "import numpy as np\n",
        "\n",
        "# Carregar o arquivo com os dados de treinamento\n",
        "df_lemma = pd.read_csv('/content/drive/MyDrive/Módulo 2/Programação/ Dados/lematizacao.csv')\n",
        "\n",
        "# Preparar os dados de treinamento\n",
        "X_train = df_lemma['texto']\n",
        "y_train = df_lemma['sentimento']\n",
        "\n",
        "# Vetorização dos dados com CountVectorizer e TfidfTransformer\n",
        "vectorizer = CountVectorizer()\n",
        "X_train_counts = vectorizer.fit_transform(X_train)\n",
        "tfidf_transformer = TfidfTransformer()\n",
        "X_train_tfidf = tfidf_transformer.fit_transform(X_train_counts)\n",
        "\n",
        "# Treinamento do modelo de regressão logística\n",
        "model = LogisticRegression()\n",
        "model.fit(X_train_tfidf, y_train)\n",
        "\n",
        "# Função para avaliar o sentimento de um novo comentário\n",
        "def avaliar_sentimento(comentario):\n",
        "    # Vetorizar o novo comentário\n",
        "    X_new_counts = vectorizer.transform([comentario])\n",
        "    X_new_tfidf = tfidf_transformer.transform(X_new_counts)\n",
        "\n",
        "    # Realizar a previsão do sentimento do comentário\n",
        "    resultado = model.predict(X_new_tfidf)\n",
        "    return resultado[0]\n"
      ],
      "metadata": {
        "colab": {
          "base_uri": "https://localhost:8080/"
        },
        "id": "6hs61P4nL4h_",
        "outputId": "8cec95b7-1c50-47bd-e258-9b2381004788"
      },
      "execution_count": 93,
      "outputs": [
        {
          "output_type": "stream",
          "name": "stderr",
          "text": [
            "/usr/local/lib/python3.10/dist-packages/sklearn/linear_model/_logistic.py:458: ConvergenceWarning: lbfgs failed to converge (status=1):\n",
            "STOP: TOTAL NO. of ITERATIONS REACHED LIMIT.\n",
            "\n",
            "Increase the number of iterations (max_iter) or scale the data as shown in:\n",
            "    https://scikit-learn.org/stable/modules/preprocessing.html\n",
            "Please also refer to the documentation for alternative solver options:\n",
            "    https://scikit-learn.org/stable/modules/linear_model.html#logistic-regression\n",
            "  n_iter_i = _check_optimize_result(\n"
          ]
        }
      ]
    },
    {
      "cell_type": "markdown",
      "source": [
        "## Testes Isolados"
      ],
      "metadata": {
        "id": "W6em6Z32KQp_"
      }
    },
    {
      "cell_type": "code",
      "source": [
        "\n",
        "# Exemplo de uso da função\n",
        "novo_comentario =  \"serviço ok\"\n",
        "sentimento = avaliar_sentimento(novo_comentario)\n",
        "print(\"Sentimento:\", sentimento)"
      ],
      "metadata": {
        "colab": {
          "base_uri": "https://localhost:8080/"
        },
        "id": "7g57hKK5KWmQ",
        "outputId": "24dcc510-7396-4165-8187-6662f77d4f85"
      },
      "execution_count": 94,
      "outputs": [
        {
          "output_type": "stream",
          "name": "stdout",
          "text": [
            "Sentimento: NEUTRAL\n"
          ]
        }
      ]
    },
    {
      "cell_type": "code",
      "source": [
        "\n",
        "# Exemplo de uso da função\n",
        "novo_comentario = \"banco golpista ladrão\"\n",
        "sentimento = avaliar_sentimento(novo_comentario)\n",
        "print(\"Sentimento:\", sentimento)"
      ],
      "metadata": {
        "colab": {
          "base_uri": "https://localhost:8080/"
        },
        "id": "rquXV5LHKQXT",
        "outputId": "e24dcc14-01fd-4506-c3ed-fbdc4a08f8aa"
      },
      "execution_count": 95,
      "outputs": [
        {
          "output_type": "stream",
          "name": "stdout",
          "text": [
            "Sentimento: NEGATIVE\n"
          ]
        }
      ]
    },
    {
      "cell_type": "code",
      "source": [
        "\n",
        "# Exemplo de uso da função\n",
        "novo_comentario = \"amo demais o btg!\"\n",
        "sentimento = avaliar_sentimento(novo_comentario)\n",
        "print(\"Sentimento:\", sentimento)"
      ],
      "metadata": {
        "colab": {
          "base_uri": "https://localhost:8080/"
        },
        "id": "XbFtOjg_KYhe",
        "outputId": "2ac764db-afc3-41c6-abce-aef174582c6f"
      },
      "execution_count": 96,
      "outputs": [
        {
          "output_type": "stream",
          "name": "stdout",
          "text": [
            "Sentimento: POSITIVE\n"
          ]
        }
      ]
    }
  ],
  "metadata": {
    "colab": {
      "provenance": [],
      "toc_visible": true
    },
    "kernelspec": {
      "display_name": "Python 3",
      "name": "python3"
    },
    "language_info": {
      "name": "python"
    }
  },
  "nbformat": 4,
  "nbformat_minor": 0
}