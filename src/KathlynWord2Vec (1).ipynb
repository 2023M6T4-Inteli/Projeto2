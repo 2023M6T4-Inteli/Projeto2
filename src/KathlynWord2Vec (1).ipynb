{
  "nbformat": 4,
  "nbformat_minor": 0,
  "metadata": {
    "colab": {
      "provenance": []
    },
    "kernelspec": {
      "name": "python3",
      "display_name": "Python 3"
    },
    "language_info": {
      "name": "python"
    }
  },
  "cells": [
    {
      "cell_type": "markdown",
      "source": [
        "Importação das bibliotecas"
      ],
      "metadata": {
        "id": "E4tt7XuqBtZL"
      }
    },
    {
      "cell_type": "code",
      "execution_count": 1,
      "metadata": {
        "id": "xPYFNPZL9vJr"
      },
      "outputs": [],
      "source": [
        "import gensim\n",
        "from gensim.models import word2vec\n",
        "from gensim.models.word2vec import Word2Vec\n",
        "import numpy as np\n",
        "import matplotlib.pyplot as plt\n",
        "import pandas as pd"
      ]
    },
    {
      "cell_type": "code",
      "source": [
        "df = pd.read_csv('/content/drive/MyDrive/Módulo 2/Programação/ Dados/lematizacao.csv')\n",
        "df.head()"
      ],
      "metadata": {
        "colab": {
          "base_uri": "https://localhost:8080/",
          "height": 206
        },
        "id": "Mkin0GcEAdl3",
        "outputId": "8694a0c5-f103-4575-ed7c-33cad2310275"
      },
      "execution_count": 2,
      "outputs": [
        {
          "output_type": "execute_result",
          "data": {
            "text/plain": [
              "   Unnamed: 0          autor  \\\n",
              "0           0     v8_capital   \n",
              "1           1  winthegame_of   \n",
              "2           2     marta_bego   \n",
              "3           3     lmviapiana   \n",
              "4           4   vanilson_dos   \n",
              "\n",
              "                                               texto sentimento  \\\n",
              "0  Confira os resultados dos nossos fundos no mês...    NEUTRAL   \n",
              "1  A Alvarez & Marsal estará conosco no Sportainm...    NEUTRAL   \n",
              "2  #Repost btgpactual with make_repost ・・・ Entend...    NEUTRAL   \n",
              "3                               Minuto touro de ouro   POSITIVE   \n",
              "4                                   @ricktolledo Sim    NEUTRAL   \n",
              "\n",
              "                                              tokens  \n",
              "0  ['confira', 'o', 'resultado', 'de o', 'nosso',...  \n",
              "1  ['Alvarez', 'Marsal', 'estara', 'conosco', 'sp...  \n",
              "2  ['repost', 'btg', 'With', 'makerepost', 'enten...  \n",
              "3                        ['minuto', 'touro', 'ouro']  \n",
              "4                             ['Ricktolledo', 'sim']  "
            ],
            "text/html": [
              "\n",
              "  <div id=\"df-78ba36d0-d115-4bfa-8b03-e1766eda157d\">\n",
              "    <div class=\"colab-df-container\">\n",
              "      <div>\n",
              "<style scoped>\n",
              "    .dataframe tbody tr th:only-of-type {\n",
              "        vertical-align: middle;\n",
              "    }\n",
              "\n",
              "    .dataframe tbody tr th {\n",
              "        vertical-align: top;\n",
              "    }\n",
              "\n",
              "    .dataframe thead th {\n",
              "        text-align: right;\n",
              "    }\n",
              "</style>\n",
              "<table border=\"1\" class=\"dataframe\">\n",
              "  <thead>\n",
              "    <tr style=\"text-align: right;\">\n",
              "      <th></th>\n",
              "      <th>Unnamed: 0</th>\n",
              "      <th>autor</th>\n",
              "      <th>texto</th>\n",
              "      <th>sentimento</th>\n",
              "      <th>tokens</th>\n",
              "    </tr>\n",
              "  </thead>\n",
              "  <tbody>\n",
              "    <tr>\n",
              "      <th>0</th>\n",
              "      <td>0</td>\n",
              "      <td>v8_capital</td>\n",
              "      <td>Confira os resultados dos nossos fundos no mês...</td>\n",
              "      <td>NEUTRAL</td>\n",
              "      <td>['confira', 'o', 'resultado', 'de o', 'nosso',...</td>\n",
              "    </tr>\n",
              "    <tr>\n",
              "      <th>1</th>\n",
              "      <td>1</td>\n",
              "      <td>winthegame_of</td>\n",
              "      <td>A Alvarez &amp; Marsal estará conosco no Sportainm...</td>\n",
              "      <td>NEUTRAL</td>\n",
              "      <td>['Alvarez', 'Marsal', 'estara', 'conosco', 'sp...</td>\n",
              "    </tr>\n",
              "    <tr>\n",
              "      <th>2</th>\n",
              "      <td>2</td>\n",
              "      <td>marta_bego</td>\n",
              "      <td>#Repost btgpactual with make_repost ・・・ Entend...</td>\n",
              "      <td>NEUTRAL</td>\n",
              "      <td>['repost', 'btg', 'With', 'makerepost', 'enten...</td>\n",
              "    </tr>\n",
              "    <tr>\n",
              "      <th>3</th>\n",
              "      <td>3</td>\n",
              "      <td>lmviapiana</td>\n",
              "      <td>Minuto touro de ouro</td>\n",
              "      <td>POSITIVE</td>\n",
              "      <td>['minuto', 'touro', 'ouro']</td>\n",
              "    </tr>\n",
              "    <tr>\n",
              "      <th>4</th>\n",
              "      <td>4</td>\n",
              "      <td>vanilson_dos</td>\n",
              "      <td>@ricktolledo Sim</td>\n",
              "      <td>NEUTRAL</td>\n",
              "      <td>['Ricktolledo', 'sim']</td>\n",
              "    </tr>\n",
              "  </tbody>\n",
              "</table>\n",
              "</div>\n",
              "      <button class=\"colab-df-convert\" onclick=\"convertToInteractive('df-78ba36d0-d115-4bfa-8b03-e1766eda157d')\"\n",
              "              title=\"Convert this dataframe to an interactive table.\"\n",
              "              style=\"display:none;\">\n",
              "        \n",
              "  <svg xmlns=\"http://www.w3.org/2000/svg\" height=\"24px\"viewBox=\"0 0 24 24\"\n",
              "       width=\"24px\">\n",
              "    <path d=\"M0 0h24v24H0V0z\" fill=\"none\"/>\n",
              "    <path d=\"M18.56 5.44l.94 2.06.94-2.06 2.06-.94-2.06-.94-.94-2.06-.94 2.06-2.06.94zm-11 1L8.5 8.5l.94-2.06 2.06-.94-2.06-.94L8.5 2.5l-.94 2.06-2.06.94zm10 10l.94 2.06.94-2.06 2.06-.94-2.06-.94-.94-2.06-.94 2.06-2.06.94z\"/><path d=\"M17.41 7.96l-1.37-1.37c-.4-.4-.92-.59-1.43-.59-.52 0-1.04.2-1.43.59L10.3 9.45l-7.72 7.72c-.78.78-.78 2.05 0 2.83L4 21.41c.39.39.9.59 1.41.59.51 0 1.02-.2 1.41-.59l7.78-7.78 2.81-2.81c.8-.78.8-2.07 0-2.86zM5.41 20L4 18.59l7.72-7.72 1.47 1.35L5.41 20z\"/>\n",
              "  </svg>\n",
              "      </button>\n",
              "      \n",
              "  <style>\n",
              "    .colab-df-container {\n",
              "      display:flex;\n",
              "      flex-wrap:wrap;\n",
              "      gap: 12px;\n",
              "    }\n",
              "\n",
              "    .colab-df-convert {\n",
              "      background-color: #E8F0FE;\n",
              "      border: none;\n",
              "      border-radius: 50%;\n",
              "      cursor: pointer;\n",
              "      display: none;\n",
              "      fill: #1967D2;\n",
              "      height: 32px;\n",
              "      padding: 0 0 0 0;\n",
              "      width: 32px;\n",
              "    }\n",
              "\n",
              "    .colab-df-convert:hover {\n",
              "      background-color: #E2EBFA;\n",
              "      box-shadow: 0px 1px 2px rgba(60, 64, 67, 0.3), 0px 1px 3px 1px rgba(60, 64, 67, 0.15);\n",
              "      fill: #174EA6;\n",
              "    }\n",
              "\n",
              "    [theme=dark] .colab-df-convert {\n",
              "      background-color: #3B4455;\n",
              "      fill: #D2E3FC;\n",
              "    }\n",
              "\n",
              "    [theme=dark] .colab-df-convert:hover {\n",
              "      background-color: #434B5C;\n",
              "      box-shadow: 0px 1px 3px 1px rgba(0, 0, 0, 0.15);\n",
              "      filter: drop-shadow(0px 1px 2px rgba(0, 0, 0, 0.3));\n",
              "      fill: #FFFFFF;\n",
              "    }\n",
              "  </style>\n",
              "\n",
              "      <script>\n",
              "        const buttonEl =\n",
              "          document.querySelector('#df-78ba36d0-d115-4bfa-8b03-e1766eda157d button.colab-df-convert');\n",
              "        buttonEl.style.display =\n",
              "          google.colab.kernel.accessAllowed ? 'block' : 'none';\n",
              "\n",
              "        async function convertToInteractive(key) {\n",
              "          const element = document.querySelector('#df-78ba36d0-d115-4bfa-8b03-e1766eda157d');\n",
              "          const dataTable =\n",
              "            await google.colab.kernel.invokeFunction('convertToInteractive',\n",
              "                                                     [key], {});\n",
              "          if (!dataTable) return;\n",
              "\n",
              "          const docLinkHtml = 'Like what you see? Visit the ' +\n",
              "            '<a target=\"_blank\" href=https://colab.research.google.com/notebooks/data_table.ipynb>data table notebook</a>'\n",
              "            + ' to learn more about interactive tables.';\n",
              "          element.innerHTML = '';\n",
              "          dataTable['output_type'] = 'display_data';\n",
              "          await google.colab.output.renderOutput(dataTable, element);\n",
              "          const docLink = document.createElement('div');\n",
              "          docLink.innerHTML = docLinkHtml;\n",
              "          element.appendChild(docLink);\n",
              "        }\n",
              "      </script>\n",
              "    </div>\n",
              "  </div>\n",
              "  "
            ]
          },
          "metadata": {},
          "execution_count": 2
        }
      ]
    },
    {
      "cell_type": "code",
      "source": [
        "import gensim.downloader as api\n",
        "print(list(gensim.downloader.info()['models'].keys()))"
      ],
      "metadata": {
        "colab": {
          "base_uri": "https://localhost:8080/"
        },
        "id": "5s1dtRr2CgjN",
        "outputId": "0fd2e74a-5a28-44da-c968-af29ed213172"
      },
      "execution_count": 3,
      "outputs": [
        {
          "output_type": "stream",
          "name": "stdout",
          "text": [
            "['fasttext-wiki-news-subwords-300', 'conceptnet-numberbatch-17-06-300', 'word2vec-ruscorpora-300', 'word2vec-google-news-300', 'glove-wiki-gigaword-50', 'glove-wiki-gigaword-100', 'glove-wiki-gigaword-200', 'glove-wiki-gigaword-300', 'glove-twitter-25', 'glove-twitter-50', 'glove-twitter-100', 'glove-twitter-200', '__testing_word2vec-matrix-synopsis']\n"
          ]
        }
      ]
    },
    {
      "cell_type": "code",
      "source": [
        "#Printa os modelos qiue exsitem\n",
        "import gensim.downloader as api\n",
        "print(list(gensim.downloader.info()['models'].keys()))"
      ],
      "metadata": {
        "colab": {
          "base_uri": "https://localhost:8080/"
        },
        "id": "tQqTs88QGbld",
        "outputId": "8332517b-44bf-4c0a-a06c-f6cb1e5b11cd"
      },
      "execution_count": 4,
      "outputs": [
        {
          "output_type": "stream",
          "name": "stdout",
          "text": [
            "['fasttext-wiki-news-subwords-300', 'conceptnet-numberbatch-17-06-300', 'word2vec-ruscorpora-300', 'word2vec-google-news-300', 'glove-wiki-gigaword-50', 'glove-wiki-gigaword-100', 'glove-wiki-gigaword-200', 'glove-wiki-gigaword-300', 'glove-twitter-25', 'glove-twitter-50', 'glove-twitter-100', 'glove-twitter-200', '__testing_word2vec-matrix-synopsis']\n"
          ]
        }
      ]
    },
    {
      "cell_type": "code",
      "source": [
        "wv = api.load('glove-twitter-50') ##Api de exemplo com o 'glove-twitter-50'"
      ],
      "metadata": {
        "colab": {
          "base_uri": "https://localhost:8080/"
        },
        "id": "96TRu4sUGeMv",
        "outputId": "9f608378-5de0-499d-c32c-0c2579bc16df"
      },
      "execution_count": 5,
      "outputs": [
        {
          "output_type": "stream",
          "name": "stdout",
          "text": [
            "[=================================================-] 98.1% 195.6/199.5MB downloaded\n"
          ]
        }
      ]
    },
    {
      "cell_type": "code",
      "source": [
        "def sent_vec(sent):\n",
        "    #Tamanho do vetor\n",
        "    vector_size = wv.vector_size ##wv - modelo weord2vec treinado\n",
        "\n",
        "\n",
        "    #número de elementos no vetor\n",
        "    wv_res = np.zeros(vector_size)\n",
        "    print(wv_res)\n",
        "    ctr = 1\n",
        "    \n",
        "    #Condição para verificar se as palavras estão no word2vec, se sim é adicionada\n",
        "    for w in sent:\n",
        "        if w in wv:\n",
        "            ctr += 1\n",
        "            wv_res += wv[w]\n",
        "    #Realiza a média. Caso queira outros resultados, mude a conta\n",
        "    wv_res = wv_res/ctr\n",
        "\n",
        "    return wv_res"
      ],
      "metadata": {
        "id": "MgXRxDcLHNnI"
      },
      "execution_count": 6,
      "outputs": []
    },
    {
      "cell_type": "code",
      "source": [
        "teste = ['cachorro']\n",
        "sent_vec(teste)"
      ],
      "metadata": {
        "colab": {
          "base_uri": "https://localhost:8080/"
        },
        "id": "KNCbsyGkHhqi",
        "outputId": "4f3b5ab6-e001-4344-9081-de9dab92653f"
      },
      "execution_count": 7,
      "outputs": [
        {
          "output_type": "stream",
          "name": "stdout",
          "text": [
            "[0. 0. 0. 0. 0. 0. 0. 0. 0. 0. 0. 0. 0. 0. 0. 0. 0. 0. 0. 0. 0. 0. 0. 0.\n",
            " 0. 0. 0. 0. 0. 0. 0. 0. 0. 0. 0. 0. 0. 0. 0. 0. 0. 0. 0. 0. 0. 0. 0. 0.\n",
            " 0. 0.]\n"
          ]
        },
        {
          "output_type": "execute_result",
          "data": {
            "text/plain": [
              "array([-1.99809998e-01, -2.48925000e-01, -1.60380006e-01, -5.95000029e-01,\n",
              "       -1.18555002e-01, -6.19700015e-01, -4.43619996e-01,  2.83105001e-02,\n",
              "        1.92479998e-01, -5.43099999e-01, -1.43775001e-01,  1.85680002e-01,\n",
              "       -1.95295006e-01, -2.34125003e-01,  1.39025003e-01,  4.54539992e-02,\n",
              "       -2.76320010e-01, -3.91335011e-01,  7.41800002e-04, -7.00299978e-01,\n",
              "       -1.21095002e-01,  5.01399994e-01,  3.93855006e-01, -3.61050010e-01,\n",
              "        9.58199985e-03, -6.87200010e-01, -5.69549985e-02, -4.92855012e-02,\n",
              "        5.06850004e-01,  2.31234998e-01,  1.89520001e-01,  8.87250006e-02,\n",
              "       -1.03785001e-01, -3.61889988e-01, -7.93299973e-01,  2.26039998e-02,\n",
              "       -4.31120008e-01, -3.92495006e-01, -9.66050029e-01,  1.03629997e-03,\n",
              "       -7.60399997e-01, -2.69749999e-01, -6.86399996e-01, -3.19705009e-01,\n",
              "       -1.16360001e-01,  4.26575005e-01,  2.51040012e-01,  2.73434997e-01,\n",
              "        5.34299985e-02, -3.97044986e-01])"
            ]
          },
          "metadata": {},
          "execution_count": 7
        }
      ]
    },
    {
      "cell_type": "code",
      "source": [
        "wv.similarity(\"cachorro\", \"pet\")"
      ],
      "metadata": {
        "colab": {
          "base_uri": "https://localhost:8080/"
        },
        "id": "Gy9TfkCzH1nL",
        "outputId": "c57ab8be-a15c-4c8a-c124-cf939fe73653"
      },
      "execution_count": 8,
      "outputs": [
        {
          "output_type": "execute_result",
          "data": {
            "text/plain": [
              "0.34403497"
            ]
          },
          "metadata": {},
          "execution_count": 8
        }
      ]
    },
    {
      "cell_type": "code",
      "source": [
        "sent_vec('cachorro')"
      ],
      "metadata": {
        "colab": {
          "base_uri": "https://localhost:8080/"
        },
        "id": "R-CTAQMNNUgF",
        "outputId": "88d4249d-53e9-4912-c099-c5c5c835b09e"
      },
      "execution_count": 9,
      "outputs": [
        {
          "output_type": "stream",
          "name": "stdout",
          "text": [
            "[0. 0. 0. 0. 0. 0. 0. 0. 0. 0. 0. 0. 0. 0. 0. 0. 0. 0. 0. 0. 0. 0. 0. 0.\n",
            " 0. 0. 0. 0. 0. 0. 0. 0. 0. 0. 0. 0. 0. 0. 0. 0. 0. 0. 0. 0. 0. 0. 0. 0.\n",
            " 0. 0.]\n"
          ]
        },
        {
          "output_type": "execute_result",
          "data": {
            "text/plain": [
              "array([ 2.99182223e-01,  2.99110843e-03,  9.84044439e-02,  8.83088675e-03,\n",
              "       -2.93010082e-02,  7.36386784e-03, -4.96343341e-01,  7.16919998e-02,\n",
              "       -3.73048865e-02,  2.87727555e-01, -8.26955554e-02, -2.74464442e-01,\n",
              "       -2.93776668e+00,  2.50777768e-02, -3.60423557e-01, -2.08329335e-01,\n",
              "       -4.74192234e-01, -1.15034333e-01, -4.15108885e-01,  7.60177771e-01,\n",
              "        1.62884224e-01, -1.34255489e-02,  3.47958886e-01,  2.29981107e-01,\n",
              "        2.74055501e-02, -1.43138443e+00, -1.90018885e-01,  1.57672225e-01,\n",
              "        6.68174556e-01,  6.92968885e-01,  4.51577620e-03, -4.18798335e-01,\n",
              "        5.76575589e-02, -7.77956181e-03,  6.98901895e-01,  4.71606877e-01,\n",
              "       -2.94909994e-01, -4.49385549e-01, -7.97514447e-01,  3.25831776e-01,\n",
              "       -2.37333340e+00,  2.86845560e-01,  2.18348670e-01, -6.77727551e-02,\n",
              "       -8.35778399e-04,  1.78644475e-03,  5.46722230e-02, -3.44482892e-01,\n",
              "        1.88954224e-01, -7.29226672e-01])"
            ]
          },
          "metadata": {},
          "execution_count": 9
        }
      ]
    },
    {
      "cell_type": "code",
      "source": [
        "teste = df['tokens'].iloc[0]"
      ],
      "metadata": {
        "id": "nixHzR_gNbQr"
      },
      "execution_count": 10,
      "outputs": []
    },
    {
      "cell_type": "code",
      "source": [
        "sent_vec(teste)"
      ],
      "metadata": {
        "colab": {
          "base_uri": "https://localhost:8080/"
        },
        "id": "HHJFD4PNNduM",
        "outputId": "711ca456-467b-4fea-90c1-c60440dcaa07"
      },
      "execution_count": 11,
      "outputs": [
        {
          "output_type": "stream",
          "name": "stdout",
          "text": [
            "[0. 0. 0. 0. 0. 0. 0. 0. 0. 0. 0. 0. 0. 0. 0. 0. 0. 0. 0. 0. 0. 0. 0. 0.\n",
            " 0. 0. 0. 0. 0. 0. 0. 0. 0. 0. 0. 0. 0. 0. 0. 0. 0. 0. 0. 0. 0. 0. 0. 0.\n",
            " 0. 0.]\n"
          ]
        },
        {
          "output_type": "execute_result",
          "data": {
            "text/plain": [
              "array([ 1.96263859e-01, -8.68969600e-02,  7.82138882e-02,  1.28981825e-01,\n",
              "       -1.55966235e-01,  1.33899297e-01, -4.46666371e-01,  9.34301460e-02,\n",
              "       -3.33399524e-03,  5.58462260e-01, -4.84885211e-04, -8.38151716e-02,\n",
              "       -3.33177512e+00,  1.85844650e-01, -3.45338613e-01, -4.02102056e-01,\n",
              "       -6.13262218e-01, -7.91325272e-02, -4.59744869e-01,  3.20861662e-01,\n",
              "        9.05171557e-02, -1.36558792e-01,  6.33303185e-02,  4.27629597e-01,\n",
              "        6.40915540e-02, -1.28172035e+00, -1.83013459e-01, -7.00507997e-02,\n",
              "        5.44852759e-01,  4.96733206e-01, -9.68722044e-02, -1.48395300e-01,\n",
              "       -4.16890917e-01,  1.51538433e-01,  7.90615800e-01,  3.31627247e-01,\n",
              "       -3.43250632e-01, -4.11222483e-01, -5.50639732e-01, -6.49976939e-02,\n",
              "       -2.52832776e+00,  1.05404046e-01,  9.66197019e-02, -1.56427752e-01,\n",
              "        2.78650344e-03,  3.78145324e-02,  6.43639510e-02, -3.28313167e-01,\n",
              "        1.29115526e-01, -6.60300557e-01])"
            ]
          },
          "metadata": {},
          "execution_count": 11
        }
      ]
    },
    {
      "cell_type": "code",
      "source": [
        "df['sentimento'] = df['sentimento'].map({'NEUTRAL': 0, 'POSITIVE': 1, 'NEGATIVE': -1})"
      ],
      "metadata": {
        "id": "hNTEExYhOkLQ"
      },
      "execution_count": 12,
      "outputs": []
    },
    {
      "cell_type": "code",
      "source": [
        "df.head()"
      ],
      "metadata": {
        "colab": {
          "base_uri": "https://localhost:8080/",
          "height": 206
        },
        "id": "tG4z9pSnOf-d",
        "outputId": "ba045328-a275-4093-fe23-8f9e7631ee21"
      },
      "execution_count": 13,
      "outputs": [
        {
          "output_type": "execute_result",
          "data": {
            "text/plain": [
              "   Unnamed: 0          autor  \\\n",
              "0           0     v8_capital   \n",
              "1           1  winthegame_of   \n",
              "2           2     marta_bego   \n",
              "3           3     lmviapiana   \n",
              "4           4   vanilson_dos   \n",
              "\n",
              "                                               texto  sentimento  \\\n",
              "0  Confira os resultados dos nossos fundos no mês...           0   \n",
              "1  A Alvarez & Marsal estará conosco no Sportainm...           0   \n",
              "2  #Repost btgpactual with make_repost ・・・ Entend...           0   \n",
              "3                               Minuto touro de ouro           1   \n",
              "4                                   @ricktolledo Sim           0   \n",
              "\n",
              "                                              tokens  \n",
              "0  ['confira', 'o', 'resultado', 'de o', 'nosso',...  \n",
              "1  ['Alvarez', 'Marsal', 'estara', 'conosco', 'sp...  \n",
              "2  ['repost', 'btg', 'With', 'makerepost', 'enten...  \n",
              "3                        ['minuto', 'touro', 'ouro']  \n",
              "4                             ['Ricktolledo', 'sim']  "
            ],
            "text/html": [
              "\n",
              "  <div id=\"df-7fab694c-8b34-4c7e-91c9-767abe8ac1e1\">\n",
              "    <div class=\"colab-df-container\">\n",
              "      <div>\n",
              "<style scoped>\n",
              "    .dataframe tbody tr th:only-of-type {\n",
              "        vertical-align: middle;\n",
              "    }\n",
              "\n",
              "    .dataframe tbody tr th {\n",
              "        vertical-align: top;\n",
              "    }\n",
              "\n",
              "    .dataframe thead th {\n",
              "        text-align: right;\n",
              "    }\n",
              "</style>\n",
              "<table border=\"1\" class=\"dataframe\">\n",
              "  <thead>\n",
              "    <tr style=\"text-align: right;\">\n",
              "      <th></th>\n",
              "      <th>Unnamed: 0</th>\n",
              "      <th>autor</th>\n",
              "      <th>texto</th>\n",
              "      <th>sentimento</th>\n",
              "      <th>tokens</th>\n",
              "    </tr>\n",
              "  </thead>\n",
              "  <tbody>\n",
              "    <tr>\n",
              "      <th>0</th>\n",
              "      <td>0</td>\n",
              "      <td>v8_capital</td>\n",
              "      <td>Confira os resultados dos nossos fundos no mês...</td>\n",
              "      <td>0</td>\n",
              "      <td>['confira', 'o', 'resultado', 'de o', 'nosso',...</td>\n",
              "    </tr>\n",
              "    <tr>\n",
              "      <th>1</th>\n",
              "      <td>1</td>\n",
              "      <td>winthegame_of</td>\n",
              "      <td>A Alvarez &amp; Marsal estará conosco no Sportainm...</td>\n",
              "      <td>0</td>\n",
              "      <td>['Alvarez', 'Marsal', 'estara', 'conosco', 'sp...</td>\n",
              "    </tr>\n",
              "    <tr>\n",
              "      <th>2</th>\n",
              "      <td>2</td>\n",
              "      <td>marta_bego</td>\n",
              "      <td>#Repost btgpactual with make_repost ・・・ Entend...</td>\n",
              "      <td>0</td>\n",
              "      <td>['repost', 'btg', 'With', 'makerepost', 'enten...</td>\n",
              "    </tr>\n",
              "    <tr>\n",
              "      <th>3</th>\n",
              "      <td>3</td>\n",
              "      <td>lmviapiana</td>\n",
              "      <td>Minuto touro de ouro</td>\n",
              "      <td>1</td>\n",
              "      <td>['minuto', 'touro', 'ouro']</td>\n",
              "    </tr>\n",
              "    <tr>\n",
              "      <th>4</th>\n",
              "      <td>4</td>\n",
              "      <td>vanilson_dos</td>\n",
              "      <td>@ricktolledo Sim</td>\n",
              "      <td>0</td>\n",
              "      <td>['Ricktolledo', 'sim']</td>\n",
              "    </tr>\n",
              "  </tbody>\n",
              "</table>\n",
              "</div>\n",
              "      <button class=\"colab-df-convert\" onclick=\"convertToInteractive('df-7fab694c-8b34-4c7e-91c9-767abe8ac1e1')\"\n",
              "              title=\"Convert this dataframe to an interactive table.\"\n",
              "              style=\"display:none;\">\n",
              "        \n",
              "  <svg xmlns=\"http://www.w3.org/2000/svg\" height=\"24px\"viewBox=\"0 0 24 24\"\n",
              "       width=\"24px\">\n",
              "    <path d=\"M0 0h24v24H0V0z\" fill=\"none\"/>\n",
              "    <path d=\"M18.56 5.44l.94 2.06.94-2.06 2.06-.94-2.06-.94-.94-2.06-.94 2.06-2.06.94zm-11 1L8.5 8.5l.94-2.06 2.06-.94-2.06-.94L8.5 2.5l-.94 2.06-2.06.94zm10 10l.94 2.06.94-2.06 2.06-.94-2.06-.94-.94-2.06-.94 2.06-2.06.94z\"/><path d=\"M17.41 7.96l-1.37-1.37c-.4-.4-.92-.59-1.43-.59-.52 0-1.04.2-1.43.59L10.3 9.45l-7.72 7.72c-.78.78-.78 2.05 0 2.83L4 21.41c.39.39.9.59 1.41.59.51 0 1.02-.2 1.41-.59l7.78-7.78 2.81-2.81c.8-.78.8-2.07 0-2.86zM5.41 20L4 18.59l7.72-7.72 1.47 1.35L5.41 20z\"/>\n",
              "  </svg>\n",
              "      </button>\n",
              "      \n",
              "  <style>\n",
              "    .colab-df-container {\n",
              "      display:flex;\n",
              "      flex-wrap:wrap;\n",
              "      gap: 12px;\n",
              "    }\n",
              "\n",
              "    .colab-df-convert {\n",
              "      background-color: #E8F0FE;\n",
              "      border: none;\n",
              "      border-radius: 50%;\n",
              "      cursor: pointer;\n",
              "      display: none;\n",
              "      fill: #1967D2;\n",
              "      height: 32px;\n",
              "      padding: 0 0 0 0;\n",
              "      width: 32px;\n",
              "    }\n",
              "\n",
              "    .colab-df-convert:hover {\n",
              "      background-color: #E2EBFA;\n",
              "      box-shadow: 0px 1px 2px rgba(60, 64, 67, 0.3), 0px 1px 3px 1px rgba(60, 64, 67, 0.15);\n",
              "      fill: #174EA6;\n",
              "    }\n",
              "\n",
              "    [theme=dark] .colab-df-convert {\n",
              "      background-color: #3B4455;\n",
              "      fill: #D2E3FC;\n",
              "    }\n",
              "\n",
              "    [theme=dark] .colab-df-convert:hover {\n",
              "      background-color: #434B5C;\n",
              "      box-shadow: 0px 1px 3px 1px rgba(0, 0, 0, 0.15);\n",
              "      filter: drop-shadow(0px 1px 2px rgba(0, 0, 0, 0.3));\n",
              "      fill: #FFFFFF;\n",
              "    }\n",
              "  </style>\n",
              "\n",
              "      <script>\n",
              "        const buttonEl =\n",
              "          document.querySelector('#df-7fab694c-8b34-4c7e-91c9-767abe8ac1e1 button.colab-df-convert');\n",
              "        buttonEl.style.display =\n",
              "          google.colab.kernel.accessAllowed ? 'block' : 'none';\n",
              "\n",
              "        async function convertToInteractive(key) {\n",
              "          const element = document.querySelector('#df-7fab694c-8b34-4c7e-91c9-767abe8ac1e1');\n",
              "          const dataTable =\n",
              "            await google.colab.kernel.invokeFunction('convertToInteractive',\n",
              "                                                     [key], {});\n",
              "          if (!dataTable) return;\n",
              "\n",
              "          const docLinkHtml = 'Like what you see? Visit the ' +\n",
              "            '<a target=\"_blank\" href=https://colab.research.google.com/notebooks/data_table.ipynb>data table notebook</a>'\n",
              "            + ' to learn more about interactive tables.';\n",
              "          element.innerHTML = '';\n",
              "          dataTable['output_type'] = 'display_data';\n",
              "          await google.colab.output.renderOutput(dataTable, element);\n",
              "          const docLink = document.createElement('div');\n",
              "          docLink.innerHTML = docLinkHtml;\n",
              "          element.appendChild(docLink);\n",
              "        }\n",
              "      </script>\n",
              "    </div>\n",
              "  </div>\n",
              "  "
            ]
          },
          "metadata": {},
          "execution_count": 13
        }
      ]
    }
  ]
}