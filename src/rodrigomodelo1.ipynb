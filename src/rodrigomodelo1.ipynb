{
 "cells": [
  {
   "cell_type": "markdown",
   "id": "c19bd238",
   "metadata": {
    "id": "c19bd238"
   },
   "source": [
    "# Executando a tabela"
   ]
  },
  {
   "cell_type": "code",
   "execution_count": 1,
   "id": "42Mq20Yzsltz",
   "metadata": {
    "colab": {
     "base_uri": "https://localhost:8080/"
    },
    "id": "42Mq20Yzsltz",
    "outputId": "3e9e016b-fb15-40d3-a239-7b0d384aa84f"
   },
   "outputs": [
    {
     "name": "stdout",
     "output_type": "stream",
     "text": [
      "Requirement already satisfied: CatBoost in c:\\users\\rodrigo.inteli\\anaconda3\\lib\\site-packages (1.2)\n",
      "Requirement already satisfied: graphviz in c:\\users\\rodrigo.inteli\\anaconda3\\lib\\site-packages (from CatBoost) (0.20.1)\n",
      "Requirement already satisfied: matplotlib in c:\\users\\rodrigo.inteli\\anaconda3\\lib\\site-packages (from CatBoost) (3.5.1)\n",
      "Requirement already satisfied: numpy>=1.16.0 in c:\\users\\rodrigo.inteli\\anaconda3\\lib\\site-packages (from CatBoost) (1.22.4)\n",
      "Requirement already satisfied: pandas>=0.24 in c:\\users\\rodrigo.inteli\\anaconda3\\lib\\site-packages (from CatBoost) (1.4.2)\n",
      "Requirement already satisfied: scipy in c:\\users\\rodrigo.inteli\\anaconda3\\lib\\site-packages (from CatBoost) (1.7.3)\n",
      "Requirement already satisfied: plotly in c:\\users\\rodrigo.inteli\\anaconda3\\lib\\site-packages (from CatBoost) (5.6.0)\n",
      "Requirement already satisfied: six in c:\\users\\rodrigo.inteli\\anaconda3\\lib\\site-packages (from CatBoost) (1.16.0)\n",
      "Requirement already satisfied: python-dateutil>=2.8.1 in c:\\users\\rodrigo.inteli\\anaconda3\\lib\\site-packages (from pandas>=0.24->CatBoost) (2.8.2)\n",
      "Requirement already satisfied: pytz>=2020.1 in c:\\users\\rodrigo.inteli\\anaconda3\\lib\\site-packages (from pandas>=0.24->CatBoost) (2021.3)\n",
      "Requirement already satisfied: cycler>=0.10 in c:\\users\\rodrigo.inteli\\anaconda3\\lib\\site-packages (from matplotlib->CatBoost) (0.11.0)\n",
      "Requirement already satisfied: fonttools>=4.22.0 in c:\\users\\rodrigo.inteli\\anaconda3\\lib\\site-packages (from matplotlib->CatBoost) (4.25.0)\n",
      "Requirement already satisfied: kiwisolver>=1.0.1 in c:\\users\\rodrigo.inteli\\anaconda3\\lib\\site-packages (from matplotlib->CatBoost) (1.3.2)\n",
      "Requirement already satisfied: packaging>=20.0 in c:\\users\\rodrigo.inteli\\anaconda3\\lib\\site-packages (from matplotlib->CatBoost) (21.3)\n",
      "Requirement already satisfied: pillow>=6.2.0 in c:\\users\\rodrigo.inteli\\anaconda3\\lib\\site-packages (from matplotlib->CatBoost) (9.5.0)\n",
      "Requirement already satisfied: pyparsing>=2.2.1 in c:\\users\\rodrigo.inteli\\anaconda3\\lib\\site-packages (from matplotlib->CatBoost) (3.0.4)\n",
      "Requirement already satisfied: tenacity>=6.2.0 in c:\\users\\rodrigo.inteli\\anaconda3\\lib\\site-packages (from plotly->CatBoost) (8.0.1)\n"
     ]
    }
   ],
   "source": [
    "!pip install CatBoost"
   ]
  },
  {
   "cell_type": "code",
   "execution_count": 1,
   "id": "fb708ea6",
   "metadata": {
    "id": "fb708ea6",
    "scrolled": true
   },
   "outputs": [],
   "source": [
    "import pandas as pd\n",
    "import numpy as np\n",
    "import nltk \n",
    "import re\n",
    "import string\n",
    "from nltk.tokenize import word_tokenize\n",
    "import matplotlib.pyplot as plt\n",
    "import seaborn as sns\n",
    "import plotly.express as px\n",
    "import plotly.figure_factory as ff\n",
    "from wordcloud import WordCloud\n",
    "from catboost import CatBoostClassifier\n",
    "from sklearn.model_selection import train_test_split\n",
    "from sklearn.linear_model import LogisticRegression\n",
    "from sklearn.metrics import accuracy_score\n",
    "\n",
    "\n",
    "from sklearn.feature_extraction.text import CountVectorizer, TfidfVectorizer\n",
    "from sklearn.linear_model import LogisticRegression\n",
    "from sklearn.metrics import roc_auc_score, f1_score, confusion_matrix"
   ]
  },
  {
   "cell_type": "code",
   "execution_count": null,
   "id": "67f6d0a4",
   "metadata": {
    "colab": {
     "base_uri": "https://localhost:8080/"
    },
    "id": "67f6d0a4",
    "outputId": "0a64ccac-6a44-45a6-b822-f0e9b379182c"
   },
   "outputs": [
    {
     "name": "stdout",
     "output_type": "stream",
     "text": [
      "Looking in indexes: https://pypi.org/simple, https://us-python.pkg.dev/colab-wheels/public/simple/\n",
      "Requirement already satisfied: pip in /usr/local/lib/python3.10/dist-packages (23.1.2)\n"
     ]
    }
   ],
   "source": [
    "!pip install --upgrade pip\n"
   ]
  },
  {
   "cell_type": "code",
   "execution_count": null,
   "id": "7e53dd9f",
   "metadata": {
    "colab": {
     "base_uri": "https://localhost:8080/",
     "height": 294
    },
    "id": "7e53dd9f",
    "outputId": "665518d2-f856-40fa-9f1d-fe1e3eaeccd2"
   },
   "outputs": [
    {
     "name": "stdout",
     "output_type": "stream",
     "text": [
      "Looking in indexes: https://pypi.org/simple, https://us-python.pkg.dev/colab-wheels/public/simple/\n",
      "Requirement already satisfied: Pillow in /usr/local/lib/python3.10/dist-packages (8.4.0)\n",
      "Collecting Pillow\n",
      "  Downloading Pillow-9.5.0-cp310-cp310-manylinux_2_28_x86_64.whl (3.4 MB)\n",
      "\u001b[2K     \u001b[90m━━━━━━━━━━━━━━━━━━━━━━━━━━━━━━━━━━━━━━━━\u001b[0m \u001b[32m3.4/3.4 MB\u001b[0m \u001b[31m26.9 MB/s\u001b[0m eta \u001b[36m0:00:00\u001b[0m\n",
      "\u001b[?25hInstalling collected packages: Pillow\n",
      "  Attempting uninstall: Pillow\n",
      "    Found existing installation: Pillow 8.4.0\n",
      "    Uninstalling Pillow-8.4.0:\n",
      "      Successfully uninstalled Pillow-8.4.0\n",
      "Successfully installed Pillow-9.5.0\n"
     ]
    },
    {
     "data": {
      "application/vnd.colab-display-data+json": {
       "pip_warning": {
        "packages": [
         "PIL"
        ]
       }
      }
     },
     "metadata": {},
     "output_type": "display_data"
    }
   ],
   "source": [
    "!pip install --upgrade Pillow"
   ]
  },
  {
   "cell_type": "code",
   "execution_count": null,
   "id": "0e90b0d7",
   "metadata": {
    "colab": {
     "base_uri": "https://localhost:8080/"
    },
    "id": "0e90b0d7",
    "outputId": "d4c11a07-9716-4615-a9d9-73261a27267a"
   },
   "outputs": [
    {
     "name": "stdout",
     "output_type": "stream",
     "text": [
      "Looking in indexes: https://pypi.org/simple, https://us-python.pkg.dev/colab-wheels/public/simple/\n",
      "Requirement already satisfied: wordcloud in /usr/local/lib/python3.10/dist-packages (1.8.2.2)\n",
      "Requirement already satisfied: numpy>=1.6.1 in /usr/local/lib/python3.10/dist-packages (from wordcloud) (1.22.4)\n",
      "Requirement already satisfied: pillow in /usr/local/lib/python3.10/dist-packages (from wordcloud) (9.5.0)\n",
      "Requirement already satisfied: matplotlib in /usr/local/lib/python3.10/dist-packages (from wordcloud) (3.7.1)\n",
      "Requirement already satisfied: contourpy>=1.0.1 in /usr/local/lib/python3.10/dist-packages (from matplotlib->wordcloud) (1.0.7)\n",
      "Requirement already satisfied: cycler>=0.10 in /usr/local/lib/python3.10/dist-packages (from matplotlib->wordcloud) (0.11.0)\n",
      "Requirement already satisfied: fonttools>=4.22.0 in /usr/local/lib/python3.10/dist-packages (from matplotlib->wordcloud) (4.39.3)\n",
      "Requirement already satisfied: kiwisolver>=1.0.1 in /usr/local/lib/python3.10/dist-packages (from matplotlib->wordcloud) (1.4.4)\n",
      "Requirement already satisfied: packaging>=20.0 in /usr/local/lib/python3.10/dist-packages (from matplotlib->wordcloud) (23.1)\n",
      "Requirement already satisfied: pyparsing>=2.3.1 in /usr/local/lib/python3.10/dist-packages (from matplotlib->wordcloud) (3.0.9)\n",
      "Requirement already satisfied: python-dateutil>=2.7 in /usr/local/lib/python3.10/dist-packages (from matplotlib->wordcloud) (2.8.2)\n",
      "Requirement already satisfied: six>=1.5 in /usr/local/lib/python3.10/dist-packages (from python-dateutil>=2.7->matplotlib->wordcloud) (1.16.0)\n"
     ]
    }
   ],
   "source": [
    "!pip install wordcloud "
   ]
  },
  {
   "cell_type": "code",
   "execution_count": 34,
   "id": "a60aad07",
   "metadata": {
    "id": "a60aad07",
    "scrolled": true
   },
   "outputs": [],
   "source": [
    "df = pd.read_csv(\"C:\\\\Users\\\\Rodrigo.INTELI\\\\Downloads\\\\INTELI\\\\PROJETO-6\\\\Projeto2\\\\src\\\\df_final.csv\")"
   ]
  },
  {
   "cell_type": "markdown",
   "id": "68554f78",
   "metadata": {
    "id": "68554f78"
   },
   "source": [
    "# Tratamento\n",
    "- Objetivo: Revisar o Tratamento e Pré Processamento"
   ]
  },
  {
   "cell_type": "code",
   "execution_count": 35,
   "id": "1789f4f0",
   "metadata": {
    "colab": {
     "base_uri": "https://localhost:8080/",
     "height": 207
    },
    "id": "1789f4f0",
    "outputId": "3f0f5804-e4fd-4da8-dd73-e6835399c4ad",
    "scrolled": false
   },
   "outputs": [
    {
     "data": {
      "text/html": [
       "<div>\n",
       "<style scoped>\n",
       "    .dataframe tbody tr th:only-of-type {\n",
       "        vertical-align: middle;\n",
       "    }\n",
       "\n",
       "    .dataframe tbody tr th {\n",
       "        vertical-align: top;\n",
       "    }\n",
       "\n",
       "    .dataframe thead th {\n",
       "        text-align: right;\n",
       "    }\n",
       "</style>\n",
       "<table border=\"1\" class=\"dataframe\">\n",
       "  <thead>\n",
       "    <tr style=\"text-align: right;\">\n",
       "      <th></th>\n",
       "      <th>autor</th>\n",
       "      <th>texto</th>\n",
       "      <th>sentimento</th>\n",
       "      <th>tokens_lema</th>\n",
       "      <th>vetores</th>\n",
       "      <th>soma_vetores</th>\n",
       "      <th>texto_lema</th>\n",
       "      <th>tokens_new</th>\n",
       "    </tr>\n",
       "  </thead>\n",
       "  <tbody>\n",
       "    <tr>\n",
       "      <th>0</th>\n",
       "      <td>v8_capital</td>\n",
       "      <td>Confira os resultados dos nossos fundos no mês...</td>\n",
       "      <td>0</td>\n",
       "      <td>['confira', 'o', 'resultado', 'de o', 'nosso',...</td>\n",
       "      <td>[ 24.175386   -32.35245    -19.241129    -8.27...</td>\n",
       "      <td>-20.574974</td>\n",
       "      <td>confira resultado de nosso fundo mes fevereiro...</td>\n",
       "      <td>[confira, resultado, de, nosso, fundo, mes, fe...</td>\n",
       "    </tr>\n",
       "    <tr>\n",
       "      <th>1</th>\n",
       "      <td>winthegame_of</td>\n",
       "      <td>A Alvarez &amp; Marsal estará conosco no Sportainm...</td>\n",
       "      <td>0</td>\n",
       "      <td>['Alvarez', 'Marsal', 'estara', 'conosco', 'sp...</td>\n",
       "      <td>[ 1.36964726e+00 -1.70724316e+01 -9.89577770e+...</td>\n",
       "      <td>-44.773376</td>\n",
       "      <td>Alvarez Marsal estara conosco sportainmet simb...</td>\n",
       "      <td>[alvarez, marsal, estara, conosco, sportainmet...</td>\n",
       "    </tr>\n",
       "    <tr>\n",
       "      <th>2</th>\n",
       "      <td>marta_bego</td>\n",
       "      <td>#Repost btgpactual with make_repost ・・・ Entend...</td>\n",
       "      <td>0</td>\n",
       "      <td>['repost', 'btg', 'With', 'makerepost', 'enten...</td>\n",
       "      <td>[ 12.244981   -20.071892    -7.7097063   -5.48...</td>\n",
       "      <td>3.235275</td>\n",
       "      <td>repost btg With makerepost entenda impacto de ...</td>\n",
       "      <td>[repost, btg, with, makerepost, entenda, impac...</td>\n",
       "    </tr>\n",
       "    <tr>\n",
       "      <th>3</th>\n",
       "      <td>lmviapiana</td>\n",
       "      <td>Minuto touro de ouro</td>\n",
       "      <td>1</td>\n",
       "      <td>['minuto', 'touro', 'ouro']</td>\n",
       "      <td>[ 0.05900092  0.20170294 -0.35151416 -0.012351...</td>\n",
       "      <td>-0.193069</td>\n",
       "      <td>minuto touro ouro</td>\n",
       "      <td>[minuto, touro, ouro]</td>\n",
       "    </tr>\n",
       "    <tr>\n",
       "      <th>4</th>\n",
       "      <td>vanilson_dos</td>\n",
       "      <td>@ricktolledo Sim</td>\n",
       "      <td>0</td>\n",
       "      <td>['Ricktolledo', 'sim']</td>\n",
       "      <td>[ 0.609844   -0.01448398 -0.49792445 -0.503695...</td>\n",
       "      <td>-0.936380</td>\n",
       "      <td>Ricktolledo sim</td>\n",
       "      <td>[ricktolledo, sim]</td>\n",
       "    </tr>\n",
       "  </tbody>\n",
       "</table>\n",
       "</div>"
      ],
      "text/plain": [
       "           autor                                              texto  \\\n",
       "0     v8_capital  Confira os resultados dos nossos fundos no mês...   \n",
       "1  winthegame_of  A Alvarez & Marsal estará conosco no Sportainm...   \n",
       "2     marta_bego  #Repost btgpactual with make_repost ・・・ Entend...   \n",
       "3     lmviapiana                               Minuto touro de ouro   \n",
       "4   vanilson_dos                                   @ricktolledo Sim   \n",
       "\n",
       "   sentimento                                        tokens_lema  \\\n",
       "0           0  ['confira', 'o', 'resultado', 'de o', 'nosso',...   \n",
       "1           0  ['Alvarez', 'Marsal', 'estara', 'conosco', 'sp...   \n",
       "2           0  ['repost', 'btg', 'With', 'makerepost', 'enten...   \n",
       "3           1                        ['minuto', 'touro', 'ouro']   \n",
       "4           0                             ['Ricktolledo', 'sim']   \n",
       "\n",
       "                                             vetores  soma_vetores  \\\n",
       "0  [ 24.175386   -32.35245    -19.241129    -8.27...    -20.574974   \n",
       "1  [ 1.36964726e+00 -1.70724316e+01 -9.89577770e+...    -44.773376   \n",
       "2  [ 12.244981   -20.071892    -7.7097063   -5.48...      3.235275   \n",
       "3  [ 0.05900092  0.20170294 -0.35151416 -0.012351...     -0.193069   \n",
       "4  [ 0.609844   -0.01448398 -0.49792445 -0.503695...     -0.936380   \n",
       "\n",
       "                                          texto_lema  \\\n",
       "0  confira resultado de nosso fundo mes fevereiro...   \n",
       "1  Alvarez Marsal estara conosco sportainmet simb...   \n",
       "2  repost btg With makerepost entenda impacto de ...   \n",
       "3                                  minuto touro ouro   \n",
       "4                                    Ricktolledo sim   \n",
       "\n",
       "                                          tokens_new  \n",
       "0  [confira, resultado, de, nosso, fundo, mes, fe...  \n",
       "1  [alvarez, marsal, estara, conosco, sportainmet...  \n",
       "2  [repost, btg, with, makerepost, entenda, impac...  \n",
       "3                              [minuto, touro, ouro]  \n",
       "4                                 [ricktolledo, sim]  "
      ]
     },
     "execution_count": 35,
     "metadata": {},
     "output_type": "execute_result"
    }
   ],
   "source": [
    "#Removendo espaço extras\n",
    "def remove_extra_white_spaces(text):\n",
    "    single_char_pattern = r'\\s+[a-zA-Z]\\s+'\n",
    "    without_sc = re.sub(pattern=single_char_pattern, repl=\" \", string=str(text))\n",
    "    return without_sc\n",
    "\n",
    "df['texto_lema'] = df['texto_lema'].apply(lambda x: remove_extra_white_spaces(x))\n",
    "\n",
    "#Como os tokens lematizados quando baixados em csv, vieram com aspas, espaços a mais, stop words e algumas palavras em maíusculo, irei tokenizar as frases já lematizadas\n",
    "def tokens(row):\n",
    "    return str(row).lower().split()\n",
    "\n",
    "df['tokens_new'] = df['texto_lema'].apply(tokens)\n",
    "\n",
    "df.head()"
   ]
  },
  {
   "cell_type": "code",
   "execution_count": null,
   "id": "7dfca57d",
   "metadata": {
    "colab": {
     "base_uri": "https://localhost:8080/"
    },
    "id": "7dfca57d",
    "outputId": "b6f9cf9f-c2b8-4b92-cfd3-e47878f91a93",
    "scrolled": false
   },
   "outputs": [
    {
     "data": {
      "text/plain": [
       "autor           0\n",
       "texto           0\n",
       "sentimento      0\n",
       "tokens_lema     0\n",
       "vetores         0\n",
       "soma_vetores    0\n",
       "texto_lema      0\n",
       "tokens_new      0\n",
       "dtype: int64"
      ]
     },
     "execution_count": 5,
     "metadata": {},
     "output_type": "execute_result"
    }
   ],
   "source": [
    "#Verificando se tem valores nulos\n",
    "df.isna().sum()"
   ]
  },
  {
   "cell_type": "code",
   "execution_count": null,
   "id": "27b84195",
   "metadata": {
    "colab": {
     "base_uri": "https://localhost:8080/"
    },
    "id": "27b84195",
    "outputId": "1d8f3e9f-7ae4-4693-b1ae-a9bdca6579eb",
    "scrolled": true
   },
   "outputs": [
    {
     "name": "stdout",
     "output_type": "stream",
     "text": [
      "Empty DataFrame\n",
      "Columns: [autor, texto, sentimento, tokens_lema, vetores, soma_vetores, texto_lema, tokens_new]\n",
      "Index: []\n"
     ]
    }
   ],
   "source": [
    "# identificar as linhas que contêm valores nulos\n",
    "linhas_com_null = df.isnull().any(axis=1)\n",
    "\n",
    "# imprimir as linhas que contêm valores nulos\n",
    "print(df[linhas_com_null])"
   ]
  },
  {
   "cell_type": "code",
   "execution_count": 36,
   "id": "89151b2d",
   "metadata": {
    "id": "89151b2d"
   },
   "outputs": [],
   "source": [
    "#Salvando o df sem valores nulos\n",
    "df = df.dropna()"
   ]
  },
  {
   "cell_type": "code",
   "execution_count": null,
   "id": "49762c98",
   "metadata": {
    "colab": {
     "base_uri": "https://localhost:8080/"
    },
    "id": "49762c98",
    "outputId": "fef36ca1-27ff-41c8-c993-af0ed051992d"
   },
   "outputs": [
    {
     "data": {
      "text/plain": [
       "12193"
      ]
     },
     "execution_count": 8,
     "metadata": {},
     "output_type": "execute_result"
    }
   ],
   "source": [
    "#Tamanho do dataset\n",
    "len(df)"
   ]
  },
  {
   "cell_type": "code",
   "execution_count": 37,
   "id": "72df4966",
   "metadata": {
    "colab": {
     "base_uri": "https://localhost:8080/"
    },
    "id": "72df4966",
    "outputId": "d500954d-22ce-4d08-f8a6-36a6ee47c837"
   },
   "outputs": [
    {
     "data": {
      "text/plain": [
       "11636"
      ]
     },
     "execution_count": 37,
     "metadata": {},
     "output_type": "execute_result"
    }
   ],
   "source": [
    "# remover duplicadas que contém linhas que têm conteúdo igual com autor e texto\n",
    "df = df.drop_duplicates(subset=['autor', 'texto_lema'], keep='first')\n",
    "len(df)"
   ]
  },
  {
   "cell_type": "markdown",
   "id": "9bb147b5",
   "metadata": {
    "id": "9bb147b5"
   },
   "source": [
    "## Frêquencia de Palavras e Eliminação de Stop_Words\n",
    "- Objetivo: Verificar se tem a necesseidade de aprimorar o pré-processamento e eliminar stop-words presentes"
   ]
  },
  {
   "cell_type": "code",
   "execution_count": null,
   "id": "7b8955f2",
   "metadata": {
    "colab": {
     "base_uri": "https://localhost:8080/"
    },
    "id": "7b8955f2",
    "outputId": "57bd7227-303a-427f-cf76-5897077293f9",
    "scrolled": true
   },
   "outputs": [
    {
     "data": {
      "text/plain": [
       "[('de', 12384),\n",
       " ('btg', 8761),\n",
       " ('ser', 3857),\n",
       " ('um', 3203),\n",
       " ('ter', 3070),\n",
       " ('nao', 3045),\n",
       " ('investimento', 2958),\n",
       " ('voce', 2921),\n",
       " ('mais', 2785),\n",
       " ('esse', 2725),\n",
       " ('este', 2500),\n",
       " ('nosso', 2390),\n",
       " ('maosaplaudir', 2333),\n",
       " ('o', 2288),\n",
       " ('por', 2185),\n",
       " ('meu', 1973),\n",
       " ('bom', 1858),\n",
       " ('se', 1849),\n",
       " ('muito', 1820),\n",
       " ('dia', 1769),\n",
       " ('todo', 1718),\n",
       " ('banco', 1701),\n",
       " ('fazer', 1651),\n",
       " ('grande', 1505),\n",
       " ('estar', 1449),\n",
       " ('em', 1354),\n",
       " ('poder', 1288),\n",
       " ('mercado', 1267),\n",
       " ('evento', 1243),\n",
       " ('financeiro', 1172),\n",
       " ('pactual', 1140),\n",
       " ('ano', 1097),\n",
       " ('ou', 1086),\n",
       " ('ja', 1054),\n",
       " ('eu', 1049),\n",
       " ('fundo', 1007),\n",
       " ('link', 969),\n",
       " ('cliente', 951),\n",
       " ('sao', 951),\n",
       " ('ir', 926),\n",
       " ('foguete', 918),\n",
       " ('so', 902),\n",
       " ('hoje', 854),\n",
       " ('mas', 849),\n",
       " ('brasil', 842),\n",
       " ('saber', 778),\n",
       " ('querer', 765),\n",
       " ('investir', 749),\n",
       " ('tambem', 742),\n",
       " ('novo', 723),\n",
       " ('conta', 708),\n",
       " ('empresa', 678),\n",
       " ('2022', 666),\n",
       " ('valor', 659),\n",
       " ('ainda', 652),\n",
       " ('dinheiro', 649),\n",
       " ('bio', 644),\n",
       " ('time', 624),\n",
       " ('mesmo', 619),\n",
       " ('sempre', 618),\n",
       " ('semana', 608),\n",
       " ('tudo', 588),\n",
       " ('ficar', 586),\n",
       " ('agora', 573),\n",
       " ('pessoa', 569),\n",
       " ('ate', 561),\n",
       " ('contar', 549),\n",
       " ('falar', 542),\n",
       " ('vida', 539),\n",
       " ('primeiro', 537),\n",
       " ('cartao', 524),\n",
       " ('mercadofinanceiro', 523),\n",
       " ('rostochorandoderir', 520),\n",
       " ('parte', 507),\n",
       " ('taxa', 503),\n",
       " ('investidor', 501),\n",
       " ('cada', 500),\n",
       " ('oportunidade', 496),\n",
       " ('ver', 488),\n",
       " ('obrigar', 484),\n",
       " ('limite', 482),\n",
       " ('vir', 479),\n",
       " ('te', 478),\n",
       " ('economia', 471),\n",
       " ('dar', 461),\n",
       " ('vez', 458),\n",
       " ('email', 432),\n",
       " ('quando', 430),\n",
       " ('ajudar', 429),\n",
       " ('ativo', 428),\n",
       " ('coracaoazul', 426),\n",
       " ('paulo', 426),\n",
       " ('alem', 422),\n",
       " ('negocio', 420),\n",
       " ('bem', 419),\n",
       " ('participar', 417),\n",
       " ('renda', 406),\n",
       " ('estao', 404),\n",
       " ('receber', 403),\n",
       " ('credito', 402)]"
      ]
     },
     "execution_count": 10,
     "metadata": {},
     "output_type": "execute_result"
    }
   ],
   "source": [
    "#Aplicando frequência usando NLTK\n",
    "tokens_new = []\n",
    "for sentence in df['tokens_new'].tolist():\n",
    "    for tokens in sentence:\n",
    "        tokens_new.append(tokens)\n",
    "freq_dist = nltk.FreqDist(tokens_new)\n",
    "\n",
    "freq_dist.most_common(100)"
   ]
  },
  {
   "cell_type": "code",
   "execution_count": 38,
   "id": "72bba3af",
   "metadata": {
    "colab": {
     "base_uri": "https://localhost:8080/",
     "height": 207
    },
    "id": "72bba3af",
    "outputId": "cce1e450-de3c-409b-e933-69d798ca5c1c"
   },
   "outputs": [
    {
     "data": {
      "text/html": [
       "<div>\n",
       "<style scoped>\n",
       "    .dataframe tbody tr th:only-of-type {\n",
       "        vertical-align: middle;\n",
       "    }\n",
       "\n",
       "    .dataframe tbody tr th {\n",
       "        vertical-align: top;\n",
       "    }\n",
       "\n",
       "    .dataframe thead th {\n",
       "        text-align: right;\n",
       "    }\n",
       "</style>\n",
       "<table border=\"1\" class=\"dataframe\">\n",
       "  <thead>\n",
       "    <tr style=\"text-align: right;\">\n",
       "      <th></th>\n",
       "      <th>autor</th>\n",
       "      <th>texto</th>\n",
       "      <th>sentimento</th>\n",
       "      <th>tokens_lema</th>\n",
       "      <th>vetores</th>\n",
       "      <th>soma_vetores</th>\n",
       "      <th>texto_lema</th>\n",
       "      <th>tokens_new</th>\n",
       "    </tr>\n",
       "  </thead>\n",
       "  <tbody>\n",
       "    <tr>\n",
       "      <th>0</th>\n",
       "      <td>v8_capital</td>\n",
       "      <td>Confira os resultados dos nossos fundos no mês...</td>\n",
       "      <td>0</td>\n",
       "      <td>['confira', 'o', 'resultado', 'de o', 'nosso',...</td>\n",
       "      <td>[ 24.175386   -32.35245    -19.241129    -8.27...</td>\n",
       "      <td>-20.574974</td>\n",
       "      <td>confira resultado de nosso fundo mes fevereiro...</td>\n",
       "      <td>[confira, resultado, fundo, mes, fevereiro22, ...</td>\n",
       "    </tr>\n",
       "    <tr>\n",
       "      <th>1</th>\n",
       "      <td>winthegame_of</td>\n",
       "      <td>A Alvarez &amp; Marsal estará conosco no Sportainm...</td>\n",
       "      <td>0</td>\n",
       "      <td>['Alvarez', 'Marsal', 'estara', 'conosco', 'sp...</td>\n",
       "      <td>[ 1.36964726e+00 -1.70724316e+01 -9.89577770e+...</td>\n",
       "      <td>-44.773376</td>\n",
       "      <td>Alvarez Marsal estara conosco sportainmet simb...</td>\n",
       "      <td>[alvarez, marsal, estara, conosco, sportainmet...</td>\n",
       "    </tr>\n",
       "    <tr>\n",
       "      <th>2</th>\n",
       "      <td>marta_bego</td>\n",
       "      <td>#Repost btgpactual with make_repost ・・・ Entend...</td>\n",
       "      <td>0</td>\n",
       "      <td>['repost', 'btg', 'With', 'makerepost', 'enten...</td>\n",
       "      <td>[ 12.244981   -20.071892    -7.7097063   -5.48...</td>\n",
       "      <td>3.235275</td>\n",
       "      <td>repost btg With makerepost entenda impacto de ...</td>\n",
       "      <td>[repost, with, makerepost, entenda, impacto, c...</td>\n",
       "    </tr>\n",
       "    <tr>\n",
       "      <th>3</th>\n",
       "      <td>lmviapiana</td>\n",
       "      <td>Minuto touro de ouro</td>\n",
       "      <td>1</td>\n",
       "      <td>['minuto', 'touro', 'ouro']</td>\n",
       "      <td>[ 0.05900092  0.20170294 -0.35151416 -0.012351...</td>\n",
       "      <td>-0.193069</td>\n",
       "      <td>minuto touro ouro</td>\n",
       "      <td>[minuto, touro, ouro]</td>\n",
       "    </tr>\n",
       "    <tr>\n",
       "      <th>4</th>\n",
       "      <td>vanilson_dos</td>\n",
       "      <td>@ricktolledo Sim</td>\n",
       "      <td>0</td>\n",
       "      <td>['Ricktolledo', 'sim']</td>\n",
       "      <td>[ 0.609844   -0.01448398 -0.49792445 -0.503695...</td>\n",
       "      <td>-0.936380</td>\n",
       "      <td>Ricktolledo sim</td>\n",
       "      <td>[ricktolledo, sim]</td>\n",
       "    </tr>\n",
       "  </tbody>\n",
       "</table>\n",
       "</div>"
      ],
      "text/plain": [
       "           autor                                              texto  \\\n",
       "0     v8_capital  Confira os resultados dos nossos fundos no mês...   \n",
       "1  winthegame_of  A Alvarez & Marsal estará conosco no Sportainm...   \n",
       "2     marta_bego  #Repost btgpactual with make_repost ・・・ Entend...   \n",
       "3     lmviapiana                               Minuto touro de ouro   \n",
       "4   vanilson_dos                                   @ricktolledo Sim   \n",
       "\n",
       "   sentimento                                        tokens_lema  \\\n",
       "0           0  ['confira', 'o', 'resultado', 'de o', 'nosso',...   \n",
       "1           0  ['Alvarez', 'Marsal', 'estara', 'conosco', 'sp...   \n",
       "2           0  ['repost', 'btg', 'With', 'makerepost', 'enten...   \n",
       "3           1                        ['minuto', 'touro', 'ouro']   \n",
       "4           0                             ['Ricktolledo', 'sim']   \n",
       "\n",
       "                                             vetores  soma_vetores  \\\n",
       "0  [ 24.175386   -32.35245    -19.241129    -8.27...    -20.574974   \n",
       "1  [ 1.36964726e+00 -1.70724316e+01 -9.89577770e+...    -44.773376   \n",
       "2  [ 12.244981   -20.071892    -7.7097063   -5.48...      3.235275   \n",
       "3  [ 0.05900092  0.20170294 -0.35151416 -0.012351...     -0.193069   \n",
       "4  [ 0.609844   -0.01448398 -0.49792445 -0.503695...     -0.936380   \n",
       "\n",
       "                                          texto_lema  \\\n",
       "0  confira resultado de nosso fundo mes fevereiro...   \n",
       "1  Alvarez Marsal estara conosco sportainmet simb...   \n",
       "2  repost btg With makerepost entenda impacto de ...   \n",
       "3                                  minuto touro ouro   \n",
       "4                                    Ricktolledo sim   \n",
       "\n",
       "                                          tokens_new  \n",
       "0  [confira, resultado, fundo, mes, fevereiro22, ...  \n",
       "1  [alvarez, marsal, estara, conosco, sportainmet...  \n",
       "2  [repost, with, makerepost, entenda, impacto, c...  \n",
       "3                              [minuto, touro, ouro]  \n",
       "4                                 [ricktolledo, sim]  "
      ]
     },
     "execution_count": 38,
     "metadata": {},
     "output_type": "execute_result"
    }
   ],
   "source": [
    "#Função para retirada de Stop Words\n",
    "def stop(row):\n",
    "    stop_words = ['eu', 'tu', 'ele', 'ela', 'nós', 'nos', 'vós', 'vos', 'eles', 'elas', 'um', 'em', 'de'\n",
    "                  'isso', 'isto', 'aquilo', 'algum', 'alguma', 'alguns', 'algumas',\n",
    "                  'outro', 'outra', 'outros', 'outras', 'tão', 'tal', 'tanto', 'tanta', 'tantos', 'tantas', \n",
    "                  'seu', 'sua', 'seus', 'suas', 'dele', 'dela', 'deles', 'delas', \n",
    "                  'quem', 'qual', 'quais', 'que', 'onde', 'como', 'e','um', 'as', 'no',\n",
    "                  'para', 'por', 'com', 'sem', 'sob', 'sobre', 'de', 'da', 'desde', 'em', 'entre', 'porque',\n",
    "                  'á', 'a', 'o', 'ola', 'olá', 'pra', 'para', 'bemvindo', 'benvindo', 'bem-vindo', 'bemvindos', 'aqui', 'vai', 'na', 'no', 'esse', 'este', 'voce', 'nosso', 'ou', 'btg','ser', 'mais', 'ter', 'meu', 'se', 'esta', 'todo', 'estar']\n",
    "    new = []\n",
    "    for word in row:\n",
    "        if word not in stop_words:\n",
    "            new.append(word)\n",
    "    return new\n",
    "\n",
    "df['tokens_new'] = df['tokens_new'].apply(stop)\n",
    "\n",
    "df.head()\n"
   ]
  },
  {
   "cell_type": "code",
   "execution_count": null,
   "id": "dc287bf8",
   "metadata": {
    "colab": {
     "base_uri": "https://localhost:8080/"
    },
    "id": "dc287bf8",
    "outputId": "ce354d4a-469e-4311-8eae-9cb022cf44bf",
    "scrolled": true
   },
   "outputs": [
    {
     "data": {
      "text/plain": [
       "[('nao', 3045),\n",
       " ('investimento', 2958),\n",
       " ('maosaplaudir', 2333),\n",
       " ('bom', 1858),\n",
       " ('muito', 1820),\n",
       " ('dia', 1769),\n",
       " ('banco', 1701),\n",
       " ('fazer', 1651),\n",
       " ('grande', 1505),\n",
       " ('poder', 1288),\n",
       " ('mercado', 1267),\n",
       " ('evento', 1243),\n",
       " ('financeiro', 1172),\n",
       " ('pactual', 1140),\n",
       " ('ano', 1097),\n",
       " ('ja', 1054),\n",
       " ('fundo', 1007),\n",
       " ('link', 969),\n",
       " ('cliente', 951),\n",
       " ('sao', 951),\n",
       " ('ir', 926),\n",
       " ('foguete', 918),\n",
       " ('so', 902),\n",
       " ('hoje', 854),\n",
       " ('mas', 849),\n",
       " ('brasil', 842),\n",
       " ('saber', 778),\n",
       " ('querer', 765),\n",
       " ('investir', 749),\n",
       " ('tambem', 742),\n",
       " ('novo', 723),\n",
       " ('conta', 708),\n",
       " ('empresa', 678),\n",
       " ('2022', 666),\n",
       " ('valor', 659),\n",
       " ('ainda', 652),\n",
       " ('dinheiro', 649),\n",
       " ('bio', 644),\n",
       " ('time', 624),\n",
       " ('mesmo', 619),\n",
       " ('sempre', 618),\n",
       " ('semana', 608),\n",
       " ('tudo', 588),\n",
       " ('ficar', 586),\n",
       " ('agora', 573),\n",
       " ('pessoa', 569),\n",
       " ('ate', 561),\n",
       " ('contar', 549),\n",
       " ('falar', 542),\n",
       " ('vida', 539),\n",
       " ('primeiro', 537),\n",
       " ('cartao', 524),\n",
       " ('mercadofinanceiro', 523),\n",
       " ('rostochorandoderir', 520),\n",
       " ('parte', 507),\n",
       " ('taxa', 503),\n",
       " ('investidor', 501),\n",
       " ('cada', 500),\n",
       " ('oportunidade', 496),\n",
       " ('ver', 488),\n",
       " ('obrigar', 484),\n",
       " ('limite', 482),\n",
       " ('vir', 479),\n",
       " ('te', 478),\n",
       " ('economia', 471),\n",
       " ('dar', 461),\n",
       " ('vez', 458),\n",
       " ('email', 432),\n",
       " ('quando', 430),\n",
       " ('ajudar', 429),\n",
       " ('ativo', 428),\n",
       " ('coracaoazul', 426),\n",
       " ('paulo', 426),\n",
       " ('alem', 422),\n",
       " ('negocio', 420),\n",
       " ('bem', 419),\n",
       " ('participar', 417),\n",
       " ('renda', 406),\n",
       " ('estao', 404),\n",
       " ('receber', 403),\n",
       " ('credito', 402),\n",
       " ('acoes', 401),\n",
       " ('trabalho', 392),\n",
       " ('carteira', 390),\n",
       " ('selic', 385),\n",
       " ('parceria', 383),\n",
       " ('sera', 382),\n",
       " ('experiencia', 378),\n",
       " ('futuro', 376),\n",
       " ('bandeirabrasil', 372),\n",
       " ('tempo', 367),\n",
       " ('principal', 365),\n",
       " ('sucesso', 364),\n",
       " ('ultimo', 360),\n",
       " ('acontecer', 357),\n",
       " ('equipe', 357),\n",
       " ('obrigado', 353),\n",
       " ('resultado', 352),\n",
       " ('comecar', 349),\n",
       " ('ai', 349)]"
      ]
     },
     "execution_count": 12,
     "metadata": {},
     "output_type": "execute_result"
    }
   ],
   "source": [
    "#Aplicando Novamente A frequência para verificar se foram retiradas\n",
    "tokens_new = []\n",
    "for sentence in df['tokens_new'].tolist():\n",
    "    for tokens in sentence:\n",
    "        tokens_new.append(tokens)\n",
    "freq_dist = nltk.FreqDist(tokens_new)\n",
    "\n",
    "freq_dist.most_common(100)"
   ]
  },
  {
   "cell_type": "markdown",
   "id": "a30d3046",
   "metadata": {
    "id": "a30d3046"
   },
   "source": [
    "# Visualização de dados\n",
    "- Objetivo, fazer uma análise mais refinada dos dados."
   ]
  },
  {
   "cell_type": "markdown",
   "id": "f61b4c8b",
   "metadata": {
    "id": "f61b4c8b"
   },
   "source": [
    "## Proporção das Labels\n",
    "- Percebe-se que a quantidade de valores negativos é muito inferior.\n",
    "- Escolha do gráfico de pizza foi para facilitar a visualização, tal como o uso da biblioteca plotly, que permite maior interação com o gráfico."
   ]
  },
  {
   "cell_type": "code",
   "execution_count": null,
   "id": "00e7f7e3",
   "metadata": {
    "colab": {
     "base_uri": "https://localhost:8080/",
     "height": 542
    },
    "id": "00e7f7e3",
    "outputId": "cc0c2884-edea-47da-dd5a-746f15201b5d",
    "scrolled": true
   },
   "outputs": [
    {
     "data": {
      "text/html": [
       "<html>\n",
       "<head><meta charset=\"utf-8\" /></head>\n",
       "<body>\n",
       "    <div>            <script src=\"https://cdnjs.cloudflare.com/ajax/libs/mathjax/2.7.5/MathJax.js?config=TeX-AMS-MML_SVG\"></script><script type=\"text/javascript\">if (window.MathJax && window.MathJax.Hub && window.MathJax.Hub.Config) {window.MathJax.Hub.Config({SVG: {font: \"STIX-Web\"}});}</script>                <script type=\"text/javascript\">window.PlotlyConfig = {MathJaxConfig: 'local'};</script>\n",
       "        <script src=\"https://cdn.plot.ly/plotly-2.18.2.min.js\"></script>                <div id=\"20a9ff4a-b11b-4c94-9e3b-4ffa75a3cf71\" class=\"plotly-graph-div\" style=\"height:525px; width:100%;\"></div>            <script type=\"text/javascript\">                                    window.PLOTLYENV=window.PLOTLYENV || {};                                    if (document.getElementById(\"20a9ff4a-b11b-4c94-9e3b-4ffa75a3cf71\")) {                    Plotly.newPlot(                        \"20a9ff4a-b11b-4c94-9e3b-4ffa75a3cf71\",                        [{\"domain\":{\"x\":[0.0,1.0],\"y\":[0.0,1.0]},\"hovertemplate\":\"index=%{label}<br>value=%{value}<extra></extra>\",\"labels\":[0,1,-1],\"legendgroup\":\"\",\"name\":\"\",\"showlegend\":true,\"values\":[0.4162083190099691,0.37186318322447576,0.21192849776555517],\"type\":\"pie\"}],                        {\"template\":{\"data\":{\"histogram2dcontour\":[{\"type\":\"histogram2dcontour\",\"colorbar\":{\"outlinewidth\":0,\"ticks\":\"\"},\"colorscale\":[[0.0,\"#0d0887\"],[0.1111111111111111,\"#46039f\"],[0.2222222222222222,\"#7201a8\"],[0.3333333333333333,\"#9c179e\"],[0.4444444444444444,\"#bd3786\"],[0.5555555555555556,\"#d8576b\"],[0.6666666666666666,\"#ed7953\"],[0.7777777777777778,\"#fb9f3a\"],[0.8888888888888888,\"#fdca26\"],[1.0,\"#f0f921\"]]}],\"choropleth\":[{\"type\":\"choropleth\",\"colorbar\":{\"outlinewidth\":0,\"ticks\":\"\"}}],\"histogram2d\":[{\"type\":\"histogram2d\",\"colorbar\":{\"outlinewidth\":0,\"ticks\":\"\"},\"colorscale\":[[0.0,\"#0d0887\"],[0.1111111111111111,\"#46039f\"],[0.2222222222222222,\"#7201a8\"],[0.3333333333333333,\"#9c179e\"],[0.4444444444444444,\"#bd3786\"],[0.5555555555555556,\"#d8576b\"],[0.6666666666666666,\"#ed7953\"],[0.7777777777777778,\"#fb9f3a\"],[0.8888888888888888,\"#fdca26\"],[1.0,\"#f0f921\"]]}],\"heatmap\":[{\"type\":\"heatmap\",\"colorbar\":{\"outlinewidth\":0,\"ticks\":\"\"},\"colorscale\":[[0.0,\"#0d0887\"],[0.1111111111111111,\"#46039f\"],[0.2222222222222222,\"#7201a8\"],[0.3333333333333333,\"#9c179e\"],[0.4444444444444444,\"#bd3786\"],[0.5555555555555556,\"#d8576b\"],[0.6666666666666666,\"#ed7953\"],[0.7777777777777778,\"#fb9f3a\"],[0.8888888888888888,\"#fdca26\"],[1.0,\"#f0f921\"]]}],\"heatmapgl\":[{\"type\":\"heatmapgl\",\"colorbar\":{\"outlinewidth\":0,\"ticks\":\"\"},\"colorscale\":[[0.0,\"#0d0887\"],[0.1111111111111111,\"#46039f\"],[0.2222222222222222,\"#7201a8\"],[0.3333333333333333,\"#9c179e\"],[0.4444444444444444,\"#bd3786\"],[0.5555555555555556,\"#d8576b\"],[0.6666666666666666,\"#ed7953\"],[0.7777777777777778,\"#fb9f3a\"],[0.8888888888888888,\"#fdca26\"],[1.0,\"#f0f921\"]]}],\"contourcarpet\":[{\"type\":\"contourcarpet\",\"colorbar\":{\"outlinewidth\":0,\"ticks\":\"\"}}],\"contour\":[{\"type\":\"contour\",\"colorbar\":{\"outlinewidth\":0,\"ticks\":\"\"},\"colorscale\":[[0.0,\"#0d0887\"],[0.1111111111111111,\"#46039f\"],[0.2222222222222222,\"#7201a8\"],[0.3333333333333333,\"#9c179e\"],[0.4444444444444444,\"#bd3786\"],[0.5555555555555556,\"#d8576b\"],[0.6666666666666666,\"#ed7953\"],[0.7777777777777778,\"#fb9f3a\"],[0.8888888888888888,\"#fdca26\"],[1.0,\"#f0f921\"]]}],\"surface\":[{\"type\":\"surface\",\"colorbar\":{\"outlinewidth\":0,\"ticks\":\"\"},\"colorscale\":[[0.0,\"#0d0887\"],[0.1111111111111111,\"#46039f\"],[0.2222222222222222,\"#7201a8\"],[0.3333333333333333,\"#9c179e\"],[0.4444444444444444,\"#bd3786\"],[0.5555555555555556,\"#d8576b\"],[0.6666666666666666,\"#ed7953\"],[0.7777777777777778,\"#fb9f3a\"],[0.8888888888888888,\"#fdca26\"],[1.0,\"#f0f921\"]]}],\"mesh3d\":[{\"type\":\"mesh3d\",\"colorbar\":{\"outlinewidth\":0,\"ticks\":\"\"}}],\"scatter\":[{\"fillpattern\":{\"fillmode\":\"overlay\",\"size\":10,\"solidity\":0.2},\"type\":\"scatter\"}],\"parcoords\":[{\"type\":\"parcoords\",\"line\":{\"colorbar\":{\"outlinewidth\":0,\"ticks\":\"\"}}}],\"scatterpolargl\":[{\"type\":\"scatterpolargl\",\"marker\":{\"colorbar\":{\"outlinewidth\":0,\"ticks\":\"\"}}}],\"bar\":[{\"error_x\":{\"color\":\"#2a3f5f\"},\"error_y\":{\"color\":\"#2a3f5f\"},\"marker\":{\"line\":{\"color\":\"#E5ECF6\",\"width\":0.5},\"pattern\":{\"fillmode\":\"overlay\",\"size\":10,\"solidity\":0.2}},\"type\":\"bar\"}],\"scattergeo\":[{\"type\":\"scattergeo\",\"marker\":{\"colorbar\":{\"outlinewidth\":0,\"ticks\":\"\"}}}],\"scatterpolar\":[{\"type\":\"scatterpolar\",\"marker\":{\"colorbar\":{\"outlinewidth\":0,\"ticks\":\"\"}}}],\"histogram\":[{\"marker\":{\"pattern\":{\"fillmode\":\"overlay\",\"size\":10,\"solidity\":0.2}},\"type\":\"histogram\"}],\"scattergl\":[{\"type\":\"scattergl\",\"marker\":{\"colorbar\":{\"outlinewidth\":0,\"ticks\":\"\"}}}],\"scatter3d\":[{\"type\":\"scatter3d\",\"line\":{\"colorbar\":{\"outlinewidth\":0,\"ticks\":\"\"}},\"marker\":{\"colorbar\":{\"outlinewidth\":0,\"ticks\":\"\"}}}],\"scattermapbox\":[{\"type\":\"scattermapbox\",\"marker\":{\"colorbar\":{\"outlinewidth\":0,\"ticks\":\"\"}}}],\"scatterternary\":[{\"type\":\"scatterternary\",\"marker\":{\"colorbar\":{\"outlinewidth\":0,\"ticks\":\"\"}}}],\"scattercarpet\":[{\"type\":\"scattercarpet\",\"marker\":{\"colorbar\":{\"outlinewidth\":0,\"ticks\":\"\"}}}],\"carpet\":[{\"aaxis\":{\"endlinecolor\":\"#2a3f5f\",\"gridcolor\":\"white\",\"linecolor\":\"white\",\"minorgridcolor\":\"white\",\"startlinecolor\":\"#2a3f5f\"},\"baxis\":{\"endlinecolor\":\"#2a3f5f\",\"gridcolor\":\"white\",\"linecolor\":\"white\",\"minorgridcolor\":\"white\",\"startlinecolor\":\"#2a3f5f\"},\"type\":\"carpet\"}],\"table\":[{\"cells\":{\"fill\":{\"color\":\"#EBF0F8\"},\"line\":{\"color\":\"white\"}},\"header\":{\"fill\":{\"color\":\"#C8D4E3\"},\"line\":{\"color\":\"white\"}},\"type\":\"table\"}],\"barpolar\":[{\"marker\":{\"line\":{\"color\":\"#E5ECF6\",\"width\":0.5},\"pattern\":{\"fillmode\":\"overlay\",\"size\":10,\"solidity\":0.2}},\"type\":\"barpolar\"}],\"pie\":[{\"automargin\":true,\"type\":\"pie\"}]},\"layout\":{\"autotypenumbers\":\"strict\",\"colorway\":[\"#636efa\",\"#EF553B\",\"#00cc96\",\"#ab63fa\",\"#FFA15A\",\"#19d3f3\",\"#FF6692\",\"#B6E880\",\"#FF97FF\",\"#FECB52\"],\"font\":{\"color\":\"#2a3f5f\"},\"hovermode\":\"closest\",\"hoverlabel\":{\"align\":\"left\"},\"paper_bgcolor\":\"white\",\"plot_bgcolor\":\"#E5ECF6\",\"polar\":{\"bgcolor\":\"#E5ECF6\",\"angularaxis\":{\"gridcolor\":\"white\",\"linecolor\":\"white\",\"ticks\":\"\"},\"radialaxis\":{\"gridcolor\":\"white\",\"linecolor\":\"white\",\"ticks\":\"\"}},\"ternary\":{\"bgcolor\":\"#E5ECF6\",\"aaxis\":{\"gridcolor\":\"white\",\"linecolor\":\"white\",\"ticks\":\"\"},\"baxis\":{\"gridcolor\":\"white\",\"linecolor\":\"white\",\"ticks\":\"\"},\"caxis\":{\"gridcolor\":\"white\",\"linecolor\":\"white\",\"ticks\":\"\"}},\"coloraxis\":{\"colorbar\":{\"outlinewidth\":0,\"ticks\":\"\"}},\"colorscale\":{\"sequential\":[[0.0,\"#0d0887\"],[0.1111111111111111,\"#46039f\"],[0.2222222222222222,\"#7201a8\"],[0.3333333333333333,\"#9c179e\"],[0.4444444444444444,\"#bd3786\"],[0.5555555555555556,\"#d8576b\"],[0.6666666666666666,\"#ed7953\"],[0.7777777777777778,\"#fb9f3a\"],[0.8888888888888888,\"#fdca26\"],[1.0,\"#f0f921\"]],\"sequentialminus\":[[0.0,\"#0d0887\"],[0.1111111111111111,\"#46039f\"],[0.2222222222222222,\"#7201a8\"],[0.3333333333333333,\"#9c179e\"],[0.4444444444444444,\"#bd3786\"],[0.5555555555555556,\"#d8576b\"],[0.6666666666666666,\"#ed7953\"],[0.7777777777777778,\"#fb9f3a\"],[0.8888888888888888,\"#fdca26\"],[1.0,\"#f0f921\"]],\"diverging\":[[0,\"#8e0152\"],[0.1,\"#c51b7d\"],[0.2,\"#de77ae\"],[0.3,\"#f1b6da\"],[0.4,\"#fde0ef\"],[0.5,\"#f7f7f7\"],[0.6,\"#e6f5d0\"],[0.7,\"#b8e186\"],[0.8,\"#7fbc41\"],[0.9,\"#4d9221\"],[1,\"#276419\"]]},\"xaxis\":{\"gridcolor\":\"white\",\"linecolor\":\"white\",\"ticks\":\"\",\"title\":{\"standoff\":15},\"zerolinecolor\":\"white\",\"automargin\":true,\"zerolinewidth\":2},\"yaxis\":{\"gridcolor\":\"white\",\"linecolor\":\"white\",\"ticks\":\"\",\"title\":{\"standoff\":15},\"zerolinecolor\":\"white\",\"automargin\":true,\"zerolinewidth\":2},\"scene\":{\"xaxis\":{\"backgroundcolor\":\"#E5ECF6\",\"gridcolor\":\"white\",\"linecolor\":\"white\",\"showbackground\":true,\"ticks\":\"\",\"zerolinecolor\":\"white\",\"gridwidth\":2},\"yaxis\":{\"backgroundcolor\":\"#E5ECF6\",\"gridcolor\":\"white\",\"linecolor\":\"white\",\"showbackground\":true,\"ticks\":\"\",\"zerolinecolor\":\"white\",\"gridwidth\":2},\"zaxis\":{\"backgroundcolor\":\"#E5ECF6\",\"gridcolor\":\"white\",\"linecolor\":\"white\",\"showbackground\":true,\"ticks\":\"\",\"zerolinecolor\":\"white\",\"gridwidth\":2}},\"shapedefaults\":{\"line\":{\"color\":\"#2a3f5f\"}},\"annotationdefaults\":{\"arrowcolor\":\"#2a3f5f\",\"arrowhead\":0,\"arrowwidth\":1},\"geo\":{\"bgcolor\":\"white\",\"landcolor\":\"#E5ECF6\",\"subunitcolor\":\"white\",\"showland\":true,\"showlakes\":true,\"lakecolor\":\"white\"},\"title\":{\"x\":0.05},\"mapbox\":{\"style\":\"light\"}}},\"legend\":{\"tracegroupgap\":0},\"margin\":{\"t\":60},\"title\":{\"text\":\"Propor\\u00e7\\u00e3o dos Sentimentos\"}},                        {\"responsive\": true}                    ).then(function(){\n",
       "                            \n",
       "var gd = document.getElementById('20a9ff4a-b11b-4c94-9e3b-4ffa75a3cf71');\n",
       "var x = new MutationObserver(function (mutations, observer) {{\n",
       "        var display = window.getComputedStyle(gd).display;\n",
       "        if (!display || display === 'none') {{\n",
       "            console.log([gd, 'removed!']);\n",
       "            Plotly.purge(gd);\n",
       "            observer.disconnect();\n",
       "        }}\n",
       "}});\n",
       "\n",
       "// Listen for the removal of the full notebook cells\n",
       "var notebookContainer = gd.closest('#notebook-container');\n",
       "if (notebookContainer) {{\n",
       "    x.observe(notebookContainer, {childList: true});\n",
       "}}\n",
       "\n",
       "// Listen for the clearing of the current output cell\n",
       "var outputEl = gd.closest('.output');\n",
       "if (outputEl) {{\n",
       "    x.observe(outputEl, {childList: true});\n",
       "}}\n",
       "\n",
       "                        })                };                            </script>        </div>\n",
       "</body>\n",
       "</html>"
      ]
     },
     "metadata": {},
     "output_type": "display_data"
    }
   ],
   "source": [
    "#Gráfico de pizza \n",
    "proporcao = df['sentimento'].value_counts(normalize=True)\n",
    "fig = px.pie(proporcao, names=proporcao.index, values=proporcao.values)\n",
    "fig.update_layout(\n",
    "    title='Proporção dos Sentimentos'\n",
    ")\n",
    "fig.show()"
   ]
  },
  {
   "cell_type": "markdown",
   "id": "18414121",
   "metadata": {
    "id": "18414121"
   },
   "source": [
    "## Relação entre número de tokens e sentimento\n",
    "- Percebe-se que pela distribuição, a proporção de ser neutro, tem o maior pico\n",
    "- Escolha do gráfico KDE, foi devido sua forma de mostrar a densidade dos dados, retornando a probabilidade de uma amostragem, dado sua população.\n",
    "-Cálculo KDE:\n",
    "KDE(x) = (1 / (n * h)) * Σ K((x - xi) / h)\n",
    "\n",
    "onde:\n",
    "\n",
    "KDE(x) é o valor estimado da densidade de probabilidade para um determinado ponto x.\n",
    "n é o número total de pontos de dados no conjunto de dados.\n",
    "h é o parâmetro de suavização ou largura de banda (bandwidth).\n",
    "Σ representa a soma ao longo de todos os pontos de dados.\n",
    "K é a função kernel, que é uma função simétrica em torno de zero que define a forma da contribuição de cada ponto de dados para a estimativa de densidade. Exemplos comuns de funções kernel incluem a função gaussiana (normal) e a função de Epanechnikov."
   ]
  },
  {
   "cell_type": "code",
   "execution_count": 39,
   "id": "875eac53",
   "metadata": {
    "colab": {
     "base_uri": "https://localhost:8080/"
    },
    "id": "875eac53",
    "outputId": "783e0677-d248-4b70-cf12-a6f9ca9723bc",
    "scrolled": true
   },
   "outputs": [
    {
     "data": {
      "text/plain": [
       "0         82\n",
       "1         43\n",
       "2         43\n",
       "3          3\n",
       "4          2\n",
       "        ... \n",
       "12188     25\n",
       "12189     72\n",
       "12190     13\n",
       "12191    101\n",
       "12192     15\n",
       "Name: tamanho, Length: 11636, dtype: int64"
      ]
     },
     "execution_count": 39,
     "metadata": {},
     "output_type": "execute_result"
    }
   ],
   "source": [
    "#Criando coluna com o número de tokens\n",
    "df['tamanho'] = df['tokens_new'].apply(lambda x: len(x))\n",
    "df['tamanho']"
   ]
  },
  {
   "cell_type": "code",
   "execution_count": null,
   "id": "89aa8af5",
   "metadata": {
    "colab": {
     "base_uri": "https://localhost:8080/",
     "height": 1000
    },
    "id": "89aa8af5",
    "outputId": "2d16a840-bf9c-40a9-d753-b772a9f19a2a",
    "scrolled": true
   },
   "outputs": [
    {
     "data": {
      "image/png": "[encoded data removed]",
      "text/plain": [
       "<Figure size 2000x1600 with 1 Axes>"
      ]
     },
     "metadata": {},
     "output_type": "display_data"
    }
   ],
   "source": [
    "sns.set(style=\"whitegrid\", palette=[\"blue\", \"red\", \"green\"])\n",
    "\n",
    "fig, ax = plt.subplots(figsize=(10, 8), dpi=200\n",
    "                      )\n",
    "\n",
    "sns.kdeplot(data=df, x='tamanho', hue='sentimento', ax=ax, fill=True, common_norm=False)\n",
    "\n",
    "ax.set_title('Distribuição de Tamanho por Sentimento')\n",
    "ax.set_xlabel('Tamanho')\n",
    "ax.set_ylabel('Densidade')\n",
    "\n",
    "plt.show()"
   ]
  },
  {
   "cell_type": "markdown",
   "id": "c81d3e7b",
   "metadata": {
    "id": "c81d3e7b"
   },
   "source": [
    "## Word Cloud entre as palavras mais positivas"
   ]
  },
  {
   "cell_type": "code",
   "execution_count": null,
   "id": "e2ca10b0",
   "metadata": {
    "id": "e2ca10b0"
   },
   "outputs": [],
   "source": [
    "positivo = df[df['sentimento'] == 1]"
   ]
  },
  {
   "cell_type": "code",
   "execution_count": null,
   "id": "6a16d37c",
   "metadata": {
    "id": "6a16d37c"
   },
   "outputs": [],
   "source": [
    "word_positive = []\n",
    "for sentences in positivo['tokens_new']:\n",
    "    for tokens in sentences:\n",
    "        word_positive.append(tokens)\n",
    "texto = ' '.join(word_positive)"
   ]
  },
  {
   "cell_type": "code",
   "execution_count": null,
   "id": "352470bb",
   "metadata": {
    "colab": {
     "base_uri": "https://localhost:8080/",
     "height": 334
    },
    "id": "352470bb",
    "outputId": "f9ed972d-6140-4d1c-963f-30c222952e17"
   },
   "outputs": [
    {
     "data": {
      "image/png": "[encoded data removed]",
      "text/plain": [
       "<Figure size 640x480 with 1 Axes>"
      ]
     },
     "metadata": {},
     "output_type": "display_data"
    }
   ],
   "source": [
    "# WordCloud\n",
    "# Criando um objeto WordCloud com as configurações desejadas\n",
    "wordcloud = WordCloud(width=2000, height=1200,background_color='white').generate(texto)\n",
    "\n",
    "# Mostrando a imagem da nuvem de palavras\n",
    "plt.imshow(wordcloud, interpolation='bilinear')\n",
    "plt.axis('off')\n",
    "plt.show()"
   ]
  },
  {
   "cell_type": "markdown",
   "id": "17b0ebb4",
   "metadata": {
    "id": "17b0ebb4"
   },
   "source": [
    "## Word Cloud entre as palavras com maior aparição nos negativos"
   ]
  },
  {
   "cell_type": "code",
   "execution_count": null,
   "id": "54cfd8e5",
   "metadata": {
    "id": "54cfd8e5"
   },
   "outputs": [],
   "source": [
    "negativo = df[df['sentimento'] == -1]"
   ]
  },
  {
   "cell_type": "code",
   "execution_count": null,
   "id": "d3d7ab51",
   "metadata": {
    "id": "d3d7ab51"
   },
   "outputs": [],
   "source": [
    "word_negative = []\n",
    "for sentences in negativo['tokens_new']:\n",
    "    for tokens in sentences:\n",
    "        word_negative.append(tokens)\n",
    "texto = ' '.join(word_negative)"
   ]
  },
  {
   "cell_type": "code",
   "execution_count": null,
   "id": "949501a7",
   "metadata": {
    "colab": {
     "base_uri": "https://localhost:8080/",
     "height": 334
    },
    "id": "949501a7",
    "outputId": "87824175-c886-498d-b1d9-8f9f15a7544a"
   },
   "outputs": [
    {
     "data": {
      "image/png": "[encoded data removed]",
      "text/plain": [
       "<Figure size 640x480 with 1 Axes>"
      ]
     },
     "metadata": {},
     "output_type": "display_data"
    }
   ],
   "source": [
    "# WordCloud\n",
    "# Criando um objeto WordCloud com as configurações desejadas\n",
    "wordcloud = WordCloud(width=2000, height=1200,background_color='white').generate(texto)\n",
    "\n",
    "# Mostrando a imagem da nuvem de palavras\n",
    "plt.imshow(wordcloud, interpolation='bilinear')\n",
    "plt.axis('off')\n",
    "plt.show()"
   ]
  },
  {
   "cell_type": "code",
   "execution_count": 40,
   "id": "0IIdbPQUgN9L",
   "metadata": {
    "colab": {
     "base_uri": "https://localhost:8080/",
     "height": 207
    },
    "id": "0IIdbPQUgN9L",
    "outputId": "d09f5611-04c4-4359-b22f-a00e5dcac837"
   },
   "outputs": [
    {
     "data": {
      "text/html": [
       "<div>\n",
       "<style scoped>\n",
       "    .dataframe tbody tr th:only-of-type {\n",
       "        vertical-align: middle;\n",
       "    }\n",
       "\n",
       "    .dataframe tbody tr th {\n",
       "        vertical-align: top;\n",
       "    }\n",
       "\n",
       "    .dataframe thead th {\n",
       "        text-align: right;\n",
       "    }\n",
       "</style>\n",
       "<table border=\"1\" class=\"dataframe\">\n",
       "  <thead>\n",
       "    <tr style=\"text-align: right;\">\n",
       "      <th></th>\n",
       "      <th>autor</th>\n",
       "      <th>texto</th>\n",
       "      <th>sentimento</th>\n",
       "      <th>tokens_lema</th>\n",
       "      <th>vetores</th>\n",
       "      <th>soma_vetores</th>\n",
       "      <th>texto_lema</th>\n",
       "      <th>tokens_new</th>\n",
       "      <th>tamanho</th>\n",
       "    </tr>\n",
       "  </thead>\n",
       "  <tbody>\n",
       "    <tr>\n",
       "      <th>0</th>\n",
       "      <td>v8_capital</td>\n",
       "      <td>Confira os resultados dos nossos fundos no mês...</td>\n",
       "      <td>0</td>\n",
       "      <td>['confira', 'o', 'resultado', 'de o', 'nosso',...</td>\n",
       "      <td>[ 24.175386   -32.35245    -19.241129    -8.27...</td>\n",
       "      <td>-20.574974</td>\n",
       "      <td>confira resultado fundo mes fevereiro22 inform...</td>\n",
       "      <td>[confira, resultado, fundo, mes, fevereiro22, ...</td>\n",
       "      <td>82</td>\n",
       "    </tr>\n",
       "    <tr>\n",
       "      <th>1</th>\n",
       "      <td>winthegame_of</td>\n",
       "      <td>A Alvarez &amp; Marsal estará conosco no Sportainm...</td>\n",
       "      <td>0</td>\n",
       "      <td>['Alvarez', 'Marsal', 'estara', 'conosco', 'sp...</td>\n",
       "      <td>[ 1.36964726e+00 -1.70724316e+01 -9.89577770e+...</td>\n",
       "      <td>-44.773376</td>\n",
       "      <td>alvarez marsal estara conosco sportainmet simb...</td>\n",
       "      <td>[alvarez, marsal, estara, conosco, sportainmet...</td>\n",
       "      <td>43</td>\n",
       "    </tr>\n",
       "    <tr>\n",
       "      <th>2</th>\n",
       "      <td>marta_bego</td>\n",
       "      <td>#Repost btgpactual with make_repost ・・・ Entend...</td>\n",
       "      <td>0</td>\n",
       "      <td>['repost', 'btg', 'With', 'makerepost', 'enten...</td>\n",
       "      <td>[ 12.244981   -20.071892    -7.7097063   -5.48...</td>\n",
       "      <td>3.235275</td>\n",
       "      <td>repost with makerepost entenda impacto conflit...</td>\n",
       "      <td>[repost, with, makerepost, entenda, impacto, c...</td>\n",
       "      <td>43</td>\n",
       "    </tr>\n",
       "    <tr>\n",
       "      <th>3</th>\n",
       "      <td>lmviapiana</td>\n",
       "      <td>Minuto touro de ouro</td>\n",
       "      <td>1</td>\n",
       "      <td>['minuto', 'touro', 'ouro']</td>\n",
       "      <td>[ 0.05900092  0.20170294 -0.35151416 -0.012351...</td>\n",
       "      <td>-0.193069</td>\n",
       "      <td>minuto touro ouro</td>\n",
       "      <td>[minuto, touro, ouro]</td>\n",
       "      <td>3</td>\n",
       "    </tr>\n",
       "    <tr>\n",
       "      <th>4</th>\n",
       "      <td>vanilson_dos</td>\n",
       "      <td>@ricktolledo Sim</td>\n",
       "      <td>0</td>\n",
       "      <td>['Ricktolledo', 'sim']</td>\n",
       "      <td>[ 0.609844   -0.01448398 -0.49792445 -0.503695...</td>\n",
       "      <td>-0.936380</td>\n",
       "      <td>ricktolledo sim</td>\n",
       "      <td>[ricktolledo, sim]</td>\n",
       "      <td>2</td>\n",
       "    </tr>\n",
       "  </tbody>\n",
       "</table>\n",
       "</div>"
      ],
      "text/plain": [
       "           autor                                              texto  \\\n",
       "0     v8_capital  Confira os resultados dos nossos fundos no mês...   \n",
       "1  winthegame_of  A Alvarez & Marsal estará conosco no Sportainm...   \n",
       "2     marta_bego  #Repost btgpactual with make_repost ・・・ Entend...   \n",
       "3     lmviapiana                               Minuto touro de ouro   \n",
       "4   vanilson_dos                                   @ricktolledo Sim   \n",
       "\n",
       "   sentimento                                        tokens_lema  \\\n",
       "0           0  ['confira', 'o', 'resultado', 'de o', 'nosso',...   \n",
       "1           0  ['Alvarez', 'Marsal', 'estara', 'conosco', 'sp...   \n",
       "2           0  ['repost', 'btg', 'With', 'makerepost', 'enten...   \n",
       "3           1                        ['minuto', 'touro', 'ouro']   \n",
       "4           0                             ['Ricktolledo', 'sim']   \n",
       "\n",
       "                                             vetores  soma_vetores  \\\n",
       "0  [ 24.175386   -32.35245    -19.241129    -8.27...    -20.574974   \n",
       "1  [ 1.36964726e+00 -1.70724316e+01 -9.89577770e+...    -44.773376   \n",
       "2  [ 12.244981   -20.071892    -7.7097063   -5.48...      3.235275   \n",
       "3  [ 0.05900092  0.20170294 -0.35151416 -0.012351...     -0.193069   \n",
       "4  [ 0.609844   -0.01448398 -0.49792445 -0.503695...     -0.936380   \n",
       "\n",
       "                                          texto_lema  \\\n",
       "0  confira resultado fundo mes fevereiro22 inform...   \n",
       "1  alvarez marsal estara conosco sportainmet simb...   \n",
       "2  repost with makerepost entenda impacto conflit...   \n",
       "3                                  minuto touro ouro   \n",
       "4                                    ricktolledo sim   \n",
       "\n",
       "                                          tokens_new  tamanho  \n",
       "0  [confira, resultado, fundo, mes, fevereiro22, ...       82  \n",
       "1  [alvarez, marsal, estara, conosco, sportainmet...       43  \n",
       "2  [repost, with, makerepost, entenda, impacto, c...       43  \n",
       "3                              [minuto, touro, ouro]        3  \n",
       "4                                 [ricktolledo, sim]        2  "
      ]
     },
     "execution_count": 40,
     "metadata": {},
     "output_type": "execute_result"
    }
   ],
   "source": [
    "#Atualizando o texto_lema com a reprocessamento\n",
    "def juntar(row):\n",
    "    juntar = []\n",
    "    for word in row:\n",
    "        juntar.append(word)\n",
    "    return ' '.join(juntar)\n",
    "\n",
    "df['texto_lema'] = df['tokens_new'].apply(juntar)\n",
    "df.head()"
   ]
  },
  {
   "cell_type": "code",
   "execution_count": 16,
   "id": "qDp8CKNN7StQ",
   "metadata": {
    "colab": {
     "base_uri": "https://localhost:8080/",
     "height": 424
    },
    "id": "qDp8CKNN7StQ",
    "outputId": "dc0c9e9a-7bc2-4b8d-8f82-1db971372a94"
   },
   "outputs": [
    {
     "data": {
      "text/html": [
       "\n",
       "  <div id=\"df-25c5c3c8-0a20-424b-9d3e-36ed4e1f116d\">\n",
       "    <div class=\"colab-df-container\">\n",
       "      <div>\n",
       "<style scoped>\n",
       "    .dataframe tbody tr th:only-of-type {\n",
       "        vertical-align: middle;\n",
       "    }\n",
       "\n",
       "    .dataframe tbody tr th {\n",
       "        vertical-align: top;\n",
       "    }\n",
       "\n",
       "    .dataframe thead th {\n",
       "        text-align: right;\n",
       "    }\n",
       "</style>\n",
       "<table border=\"1\" class=\"dataframe\">\n",
       "  <thead>\n",
       "    <tr style=\"text-align: right;\">\n",
       "      <th></th>\n",
       "      <th>autor</th>\n",
       "      <th>texto</th>\n",
       "      <th>sentimento</th>\n",
       "      <th>tokens_lema</th>\n",
       "      <th>vetores</th>\n",
       "      <th>soma_vetores</th>\n",
       "      <th>texto_lema</th>\n",
       "      <th>tokens_new</th>\n",
       "    </tr>\n",
       "  </thead>\n",
       "  <tbody>\n",
       "    <tr>\n",
       "      <th>1128</th>\n",
       "      <td>amgcapitalinvest</td>\n",
       "      <td>(link na bio) Enriquecer é uma questão de esco...</td>\n",
       "      <td>1</td>\n",
       "      <td>['link', 'bio', 'enriquecer', 'um', 'questao',...</td>\n",
       "      <td>[ 6.60367203e+01 -2.53362293e+01 -7.12619781e+...</td>\n",
       "      <td>-242.829483</td>\n",
       "      <td>link bio enriquecer questao escolha normalment...</td>\n",
       "      <td>[link, bio, enriquecer, questao, escolha, norm...</td>\n",
       "    </tr>\n",
       "    <tr>\n",
       "      <th>1187</th>\n",
       "      <td>amgcapitalinvest</td>\n",
       "      <td>Hoje, a capital dos gaúchos completa 250 anos!...</td>\n",
       "      <td>1</td>\n",
       "      <td>['hoje', 'capital', 'de o', 'gaucho', 'complet...</td>\n",
       "      <td>[  21.072918    -17.014624    -33.57798     -1...</td>\n",
       "      <td>-189.809311</td>\n",
       "      <td>hoje capital gaucho completo 250 ano parabens ...</td>\n",
       "      <td>[hoje, capital, gaucho, completo, 250, ano, pa...</td>\n",
       "    </tr>\n",
       "    <tr>\n",
       "      <th>1193</th>\n",
       "      <td>amgcapitalinvest</td>\n",
       "      <td>Evento Voz Feminina no btgpactual ❣️</td>\n",
       "      <td>0</td>\n",
       "      <td>['evento', 'voz', 'feminino', 'btg', 'exclamac...</td>\n",
       "      <td>[-0.38895392 -2.3917308  -0.83299035 -0.786687...</td>\n",
       "      <td>1.510356</td>\n",
       "      <td>evento voz feminino exclamacaodecoracao</td>\n",
       "      <td>[evento, voz, feminino, exclamacaodecoracao]</td>\n",
       "    </tr>\n",
       "    <tr>\n",
       "      <th>1200</th>\n",
       "      <td>amgcapitalinvest</td>\n",
       "      <td>🖥 www.amgcapital.com.br 📧 E-mail: contato@amgc...</td>\n",
       "      <td>0</td>\n",
       "      <td>['computadordemesa', 'wwwamgcapitalcombr', 'em...</td>\n",
       "      <td>[ 22.040134   -20.792818   -38.179314   -16.70...</td>\n",
       "      <td>-252.446243</td>\n",
       "      <td>computadordemesa wwwamgcapitalcombr email emai...</td>\n",
       "      <td>[computadordemesa, wwwamgcapitalcombr, email, ...</td>\n",
       "    </tr>\n",
       "    <tr>\n",
       "      <th>1284</th>\n",
       "      <td>amgcapitalinvest</td>\n",
       "      <td>A AMG Capital e o BTG Pactual se juntaram a um...</td>\n",
       "      <td>1</td>\n",
       "      <td>['amg', 'capital', 'btg', 'pactual', 'se', 'ju...</td>\n",
       "      <td>[ 3.94020615e+01 -1.19659519e+01 -5.01728592e+...</td>\n",
       "      <td>-179.366486</td>\n",
       "      <td>amg capital pactual juntar conhecer respeitar ...</td>\n",
       "      <td>[amg, capital, pactual, juntar, conhecer, resp...</td>\n",
       "    </tr>\n",
       "    <tr>\n",
       "      <th>...</th>\n",
       "      <td>...</td>\n",
       "      <td>...</td>\n",
       "      <td>...</td>\n",
       "      <td>...</td>\n",
       "      <td>...</td>\n",
       "      <td>...</td>\n",
       "      <td>...</td>\n",
       "      <td>...</td>\n",
       "    </tr>\n",
       "    <tr>\n",
       "      <th>11899</th>\n",
       "      <td>amgcapitalinvest</td>\n",
       "      <td>Quando o assunto é viagem internacional, uma d...</td>\n",
       "      <td>1</td>\n",
       "      <td>['quando', 'assunto', 'viagem', 'internacional...</td>\n",
       "      <td>[ 110.24188    -44.637      -76.14397    -71.7...</td>\n",
       "      <td>-198.830322</td>\n",
       "      <td>quando assunto viagem internacional coisa gera...</td>\n",
       "      <td>[quando, assunto, viagem, internacional, coisa...</td>\n",
       "    </tr>\n",
       "    <tr>\n",
       "      <th>11952</th>\n",
       "      <td>amgcapitalinvest</td>\n",
       "      <td>Você pretende aproveitar a Black Friday este a...</td>\n",
       "      <td>0</td>\n",
       "      <td>['voce', 'pretender', 'aproveitar', 'Black', '...</td>\n",
       "      <td>[ 3.71430092e+01 -2.49629650e+01 -4.76321068e+...</td>\n",
       "      <td>-263.979706</td>\n",
       "      <td>pretender aproveitar black friday ano seguranc...</td>\n",
       "      <td>[pretender, aproveitar, black, friday, ano, se...</td>\n",
       "    </tr>\n",
       "    <tr>\n",
       "      <th>11997</th>\n",
       "      <td>amgcapitalinvest</td>\n",
       "      <td>(link na bio) Resenha do livro “Investimentos:...</td>\n",
       "      <td>1</td>\n",
       "      <td>['link', 'bio', 'Resenha', 'de o', 'livro', 'i...</td>\n",
       "      <td>[ 5.51743011e+01 -5.15838165e+01 -6.10602531e+...</td>\n",
       "      <td>-257.005707</td>\n",
       "      <td>link bio resenha livro investimento livro segr...</td>\n",
       "      <td>[link, bio, resenha, livro, investimento, livr...</td>\n",
       "    </tr>\n",
       "    <tr>\n",
       "      <th>12144</th>\n",
       "      <td>amgcapitalinvest</td>\n",
       "      <td>Quer diversificar sua carteira, mas não conhec...</td>\n",
       "      <td>1</td>\n",
       "      <td>['querer', 'diversificar', 'carteira', 'mas', ...</td>\n",
       "      <td>[  43.803192    -32.121407    -55.753254    -3...</td>\n",
       "      <td>-251.730148</td>\n",
       "      <td>querer diversificar carteira mas nao conhecer ...</td>\n",
       "      <td>[querer, diversificar, carteira, mas, nao, con...</td>\n",
       "    </tr>\n",
       "    <tr>\n",
       "      <th>12189</th>\n",
       "      <td>amgcapitalinvest</td>\n",
       "      <td>Erros financeiros para eliminar antes dos 30 a...</td>\n",
       "      <td>0</td>\n",
       "      <td>['erro', 'financeiro', 'eliminar', 'antes', 'd...</td>\n",
       "      <td>[ 3.95938988e+01 -1.13224764e+01 -4.73455849e+...</td>\n",
       "      <td>-234.310669</td>\n",
       "      <td>erro financeiro eliminar antes 30 ano 1 parar ...</td>\n",
       "      <td>[erro, financeiro, eliminar, antes, 30, ano, 1...</td>\n",
       "    </tr>\n",
       "  </tbody>\n",
       "</table>\n",
       "<p>163 rows × 8 columns</p>\n",
       "</div>\n",
       "      <button class=\"colab-df-convert\" onclick=\"convertToInteractive('df-25c5c3c8-0a20-424b-9d3e-36ed4e1f116d')\"\n",
       "              title=\"Convert this dataframe to an interactive table.\"\n",
       "              style=\"display:none;\">\n",
       "        \n",
       "  <svg xmlns=\"http://www.w3.org/2000/svg\" height=\"24px\"viewBox=\"0 0 24 24\"\n",
       "       width=\"24px\">\n",
       "    <path d=\"M0 0h24v24H0V0z\" fill=\"none\"/>\n",
       "    <path d=\"M18.56 5.44l.94 2.06.94-2.06 2.06-.94-2.06-.94-.94-2.06-.94 2.06-2.06.94zm-11 1L8.5 8.5l.94-2.06 2.06-.94-2.06-.94L8.5 2.5l-.94 2.06-2.06.94zm10 10l.94 2.06.94-2.06 2.06-.94-2.06-.94-.94-2.06-.94 2.06-2.06.94z\"/><path d=\"M17.41 7.96l-1.37-1.37c-.4-.4-.92-.59-1.43-.59-.52 0-1.04.2-1.43.59L10.3 9.45l-7.72 7.72c-.78.78-.78 2.05 0 2.83L4 21.41c.39.39.9.59 1.41.59.51 0 1.02-.2 1.41-.59l7.78-7.78 2.81-2.81c.8-.78.8-2.07 0-2.86zM5.41 20L4 18.59l7.72-7.72 1.47 1.35L5.41 20z\"/>\n",
       "  </svg>\n",
       "      </button>\n",
       "      \n",
       "  <style>\n",
       "    .colab-df-container {\n",
       "      display:flex;\n",
       "      flex-wrap:wrap;\n",
       "      gap: 12px;\n",
       "    }\n",
       "\n",
       "    .colab-df-convert {\n",
       "      background-color: #E8F0FE;\n",
       "      border: none;\n",
       "      border-radius: 50%;\n",
       "      cursor: pointer;\n",
       "      display: none;\n",
       "      fill: #1967D2;\n",
       "      height: 32px;\n",
       "      padding: 0 0 0 0;\n",
       "      width: 32px;\n",
       "    }\n",
       "\n",
       "    .colab-df-convert:hover {\n",
       "      background-color: #E2EBFA;\n",
       "      box-shadow: 0px 1px 2px rgba(60, 64, 67, 0.3), 0px 1px 3px 1px rgba(60, 64, 67, 0.15);\n",
       "      fill: #174EA6;\n",
       "    }\n",
       "\n",
       "    [theme=dark] .colab-df-convert {\n",
       "      background-color: #3B4455;\n",
       "      fill: #D2E3FC;\n",
       "    }\n",
       "\n",
       "    [theme=dark] .colab-df-convert:hover {\n",
       "      background-color: #434B5C;\n",
       "      box-shadow: 0px 1px 3px 1px rgba(0, 0, 0, 0.15);\n",
       "      filter: drop-shadow(0px 1px 2px rgba(0, 0, 0, 0.3));\n",
       "      fill: #FFFFFF;\n",
       "    }\n",
       "  </style>\n",
       "\n",
       "      <script>\n",
       "        const buttonEl =\n",
       "          document.querySelector('#df-25c5c3c8-0a20-424b-9d3e-36ed4e1f116d button.colab-df-convert');\n",
       "        buttonEl.style.display =\n",
       "          google.colab.kernel.accessAllowed ? 'block' : 'none';\n",
       "\n",
       "        async function convertToInteractive(key) {\n",
       "          const element = document.querySelector('#df-25c5c3c8-0a20-424b-9d3e-36ed4e1f116d');\n",
       "          const dataTable =\n",
       "            await google.colab.kernel.invokeFunction('convertToInteractive',\n",
       "                                                     [key], {});\n",
       "          if (!dataTable) return;\n",
       "\n",
       "          const docLinkHtml = 'Like what you see? Visit the ' +\n",
       "            '<a target=\"_blank\" href=https://colab.research.google.com/notebooks/data_table.ipynb>data table notebook</a>'\n",
       "            + ' to learn more about interactive tables.';\n",
       "          element.innerHTML = '';\n",
       "          dataTable['output_type'] = 'display_data';\n",
       "          await google.colab.output.renderOutput(dataTable, element);\n",
       "          const docLink = document.createElement('div');\n",
       "          docLink.innerHTML = docLinkHtml;\n",
       "          element.appendChild(docLink);\n",
       "        }\n",
       "      </script>\n",
       "    </div>\n",
       "  </div>\n",
       "  "
      ],
      "text/plain": [
       "                  autor                                              texto  \\\n",
       "1128   amgcapitalinvest  (link na bio) Enriquecer é uma questão de esco...   \n",
       "1187   amgcapitalinvest  Hoje, a capital dos gaúchos completa 250 anos!...   \n",
       "1193   amgcapitalinvest               Evento Voz Feminina no btgpactual ❣️   \n",
       "1200   amgcapitalinvest  🖥 www.amgcapital.com.br 📧 E-mail: contato@amgc...   \n",
       "1284   amgcapitalinvest  A AMG Capital e o BTG Pactual se juntaram a um...   \n",
       "...                 ...                                                ...   \n",
       "11899  amgcapitalinvest  Quando o assunto é viagem internacional, uma d...   \n",
       "11952  amgcapitalinvest  Você pretende aproveitar a Black Friday este a...   \n",
       "11997  amgcapitalinvest  (link na bio) Resenha do livro “Investimentos:...   \n",
       "12144  amgcapitalinvest  Quer diversificar sua carteira, mas não conhec...   \n",
       "12189  amgcapitalinvest  Erros financeiros para eliminar antes dos 30 a...   \n",
       "\n",
       "       sentimento                                        tokens_lema  \\\n",
       "1128            1  ['link', 'bio', 'enriquecer', 'um', 'questao',...   \n",
       "1187            1  ['hoje', 'capital', 'de o', 'gaucho', 'complet...   \n",
       "1193            0  ['evento', 'voz', 'feminino', 'btg', 'exclamac...   \n",
       "1200            0  ['computadordemesa', 'wwwamgcapitalcombr', 'em...   \n",
       "1284            1  ['amg', 'capital', 'btg', 'pactual', 'se', 'ju...   \n",
       "...           ...                                                ...   \n",
       "11899           1  ['quando', 'assunto', 'viagem', 'internacional...   \n",
       "11952           0  ['voce', 'pretender', 'aproveitar', 'Black', '...   \n",
       "11997           1  ['link', 'bio', 'Resenha', 'de o', 'livro', 'i...   \n",
       "12144           1  ['querer', 'diversificar', 'carteira', 'mas', ...   \n",
       "12189           0  ['erro', 'financeiro', 'eliminar', 'antes', 'd...   \n",
       "\n",
       "                                                 vetores  soma_vetores  \\\n",
       "1128   [ 6.60367203e+01 -2.53362293e+01 -7.12619781e+...   -242.829483   \n",
       "1187   [  21.072918    -17.014624    -33.57798     -1...   -189.809311   \n",
       "1193   [-0.38895392 -2.3917308  -0.83299035 -0.786687...      1.510356   \n",
       "1200   [ 22.040134   -20.792818   -38.179314   -16.70...   -252.446243   \n",
       "1284   [ 3.94020615e+01 -1.19659519e+01 -5.01728592e+...   -179.366486   \n",
       "...                                                  ...           ...   \n",
       "11899  [ 110.24188    -44.637      -76.14397    -71.7...   -198.830322   \n",
       "11952  [ 3.71430092e+01 -2.49629650e+01 -4.76321068e+...   -263.979706   \n",
       "11997  [ 5.51743011e+01 -5.15838165e+01 -6.10602531e+...   -257.005707   \n",
       "12144  [  43.803192    -32.121407    -55.753254    -3...   -251.730148   \n",
       "12189  [ 3.95938988e+01 -1.13224764e+01 -4.73455849e+...   -234.310669   \n",
       "\n",
       "                                              texto_lema  \\\n",
       "1128   link bio enriquecer questao escolha normalment...   \n",
       "1187   hoje capital gaucho completo 250 ano parabens ...   \n",
       "1193             evento voz feminino exclamacaodecoracao   \n",
       "1200   computadordemesa wwwamgcapitalcombr email emai...   \n",
       "1284   amg capital pactual juntar conhecer respeitar ...   \n",
       "...                                                  ...   \n",
       "11899  quando assunto viagem internacional coisa gera...   \n",
       "11952  pretender aproveitar black friday ano seguranc...   \n",
       "11997  link bio resenha livro investimento livro segr...   \n",
       "12144  querer diversificar carteira mas nao conhecer ...   \n",
       "12189  erro financeiro eliminar antes 30 ano 1 parar ...   \n",
       "\n",
       "                                              tokens_new  \n",
       "1128   [link, bio, enriquecer, questao, escolha, norm...  \n",
       "1187   [hoje, capital, gaucho, completo, 250, ano, pa...  \n",
       "1193        [evento, voz, feminino, exclamacaodecoracao]  \n",
       "1200   [computadordemesa, wwwamgcapitalcombr, email, ...  \n",
       "1284   [amg, capital, pactual, juntar, conhecer, resp...  \n",
       "...                                                  ...  \n",
       "11899  [quando, assunto, viagem, internacional, coisa...  \n",
       "11952  [pretender, aproveitar, black, friday, ano, se...  \n",
       "11997  [link, bio, resenha, livro, investimento, livr...  \n",
       "12144  [querer, diversificar, carteira, mas, nao, con...  \n",
       "12189  [erro, financeiro, eliminar, antes, 30, ano, 1...  \n",
       "\n",
       "[163 rows x 8 columns]"
      ]
     },
     "execution_count": 16,
     "metadata": {},
     "output_type": "execute_result"
    }
   ],
   "source": [
    "df.query(\"autor == 'amgcapitalinvest'\")"
   ]
  },
  {
   "cell_type": "markdown",
   "id": "YVnIriBIgCL5",
   "metadata": {
    "id": "YVnIriBIgCL5"
   },
   "source": [
    "#Usando o Bert "
   ]
  },
  {
   "cell_type": "code",
   "execution_count": 2,
   "id": "jC0GLfehidfS",
   "metadata": {
    "colab": {
     "base_uri": "https://localhost:8080/"
    },
    "id": "jC0GLfehidfS",
    "outputId": "4c2a7821-98b7-4663-d2d7-7cd1fe4825df"
   },
   "outputs": [
    {
     "name": "stdout",
     "output_type": "stream",
     "text": [
      "Looking in indexes: https://pypi.org/simple, https://us-python.pkg.dev/colab-wheels/public/simple/\n",
      "Collecting transformers\n",
      "  Downloading transformers-4.29.2-py3-none-any.whl (7.1 MB)\n",
      "\u001b[2K     \u001b[90m━━━━━━━━━━━━━━━━━━━━━━━━━━━━━━━━━━━━━━━━\u001b[0m \u001b[32m7.1/7.1 MB\u001b[0m \u001b[31m62.1 MB/s\u001b[0m eta \u001b[36m0:00:00\u001b[0m\n",
      "\u001b[?25hRequirement already satisfied: filelock in /usr/local/lib/python3.10/dist-packages (from transformers) (3.12.0)\n",
      "Collecting huggingface-hub<1.0,>=0.14.1 (from transformers)\n",
      "  Downloading huggingface_hub-0.15.1-py3-none-any.whl (236 kB)\n",
      "\u001b[2K     \u001b[90m━━━━━━━━━━━━━━━━━━━━━━━━━━━━━━━━━━━━━━\u001b[0m \u001b[32m236.8/236.8 kB\u001b[0m \u001b[31m32.6 MB/s\u001b[0m eta \u001b[36m0:00:00\u001b[0m\n",
      "\u001b[?25hRequirement already satisfied: numpy>=1.17 in /usr/local/lib/python3.10/dist-packages (from transformers) (1.22.4)\n",
      "Requirement already satisfied: packaging>=20.0 in /usr/local/lib/python3.10/dist-packages (from transformers) (23.1)\n",
      "Requirement already satisfied: pyyaml>=5.1 in /usr/local/lib/python3.10/dist-packages (from transformers) (6.0)\n",
      "Requirement already satisfied: regex!=2019.12.17 in /usr/local/lib/python3.10/dist-packages (from transformers) (2022.10.31)\n",
      "Requirement already satisfied: requests in /usr/local/lib/python3.10/dist-packages (from transformers) (2.27.1)\n",
      "Collecting tokenizers!=0.11.3,<0.14,>=0.11.1 (from transformers)\n",
      "  Downloading tokenizers-0.13.3-cp310-cp310-manylinux_2_17_x86_64.manylinux2014_x86_64.whl (7.8 MB)\n",
      "\u001b[2K     \u001b[90m━━━━━━━━━━━━━━━━━━━━━━━━━━━━━━━━━━━━━━━━\u001b[0m \u001b[32m7.8/7.8 MB\u001b[0m \u001b[31m126.0 MB/s\u001b[0m eta \u001b[36m0:00:00\u001b[0m\n",
      "\u001b[?25hRequirement already satisfied: tqdm>=4.27 in /usr/local/lib/python3.10/dist-packages (from transformers) (4.65.0)\n",
      "Requirement already satisfied: fsspec in /usr/local/lib/python3.10/dist-packages (from huggingface-hub<1.0,>=0.14.1->transformers) (2023.4.0)\n",
      "Requirement already satisfied: typing-extensions>=3.7.4.3 in /usr/local/lib/python3.10/dist-packages (from huggingface-hub<1.0,>=0.14.1->transformers) (4.5.0)\n",
      "Requirement already satisfied: urllib3<1.27,>=1.21.1 in /usr/local/lib/python3.10/dist-packages (from requests->transformers) (1.26.15)\n",
      "Requirement already satisfied: certifi>=2017.4.17 in /usr/local/lib/python3.10/dist-packages (from requests->transformers) (2022.12.7)\n",
      "Requirement already satisfied: charset-normalizer~=2.0.0 in /usr/local/lib/python3.10/dist-packages (from requests->transformers) (2.0.12)\n",
      "Requirement already satisfied: idna<4,>=2.5 in /usr/local/lib/python3.10/dist-packages (from requests->transformers) (3.4)\n",
      "Installing collected packages: tokenizers, huggingface-hub, transformers\n",
      "\u001b[33m  WARNING: The script huggingface-cli is installed in '/root/.local/bin' which is not on PATH.\n",
      "  Consider adding this directory to PATH or, if you prefer to suppress this warning, use --no-warn-script-location.\u001b[0m\u001b[33m\n",
      "\u001b[0m\u001b[33m  WARNING: The script transformers-cli is installed in '/root/.local/bin' which is not on PATH.\n",
      "  Consider adding this directory to PATH or, if you prefer to suppress this warning, use --no-warn-script-location.\u001b[0m\u001b[33m\n",
      "\u001b[0mSuccessfully installed huggingface-hub-0.15.1 tokenizers-0.13.3 transformers-4.29.2\n"
     ]
    }
   ],
   "source": [
    "!pip install --user transformers"
   ]
  },
  {
   "cell_type": "code",
   "execution_count": null,
   "id": "hZr3JKHxgLv_",
   "metadata": {
    "id": "hZr3JKHxgLv_"
   },
   "outputs": [],
   "source": [
    "from transformers import AutoTokenizer  # Or BertTokenizer \n",
    "from transformers import AutoModelForPreTraining  # Or BertForPreTraining for loading pretraining heads\n",
    "from transformers import AutoModel  #Permite baixar qualquer modelo do Huggin Face\n",
    "\n",
    "model = AutoModelForPreTraining.from_pretrained('neuralmind/bert-base-portuguese-cased')\n",
    "tokenizer = AutoTokenizer.from_pretrained('neuralmind/bert-base-portuguese-cased', do_lower_case=False,  output_hidden_states=True)\n"
   ]
  },
  {
   "cell_type": "markdown",
   "id": "JeLvfU6yjfBd",
   "metadata": {
    "id": "JeLvfU6yjfBd"
   },
   "source": [
    "## Testando Tokenização do Bert"
   ]
  },
  {
   "cell_type": "code",
   "execution_count": null,
   "id": "Prpt9BsrjGCi",
   "metadata": {
    "colab": {
     "base_uri": "https://localhost:8080/"
    },
    "id": "Prpt9BsrjGCi",
    "outputId": "134d1231-7140-4a0f-f79f-349b97202fb4"
   },
   "outputs": [
    {
     "data": {
      "text/plain": [
       "{'input_ids': [101, 146, 22283, 117, 2779, 10303, 125, 8054, 102], 'token_type_ids': [0, 0, 0, 0, 0, 0, 0, 0, 0], 'attention_mask': [1, 1, 1, 1, 1, 1, 1, 1, 1]}"
      ]
     },
     "execution_count": 24,
     "metadata": {},
     "output_type": "execute_result"
    }
   ],
   "source": [
    "#Um sentença\n",
    "tokenizer('oi, eu gosto de andar')"
   ]
  },
  {
   "cell_type": "code",
   "execution_count": null,
   "id": "Mc6nX0xFjq5c",
   "metadata": {
    "colab": {
     "base_uri": "https://localhost:8080/"
    },
    "id": "Mc6nX0xFjq5c",
    "outputId": "ec8f7276-8c68-423a-cdbe-2034137670fc"
   },
   "outputs": [
    {
     "data": {
      "text/plain": [
       "{'input_ids': [[101, 146, 22283, 117, 10303, 125, 8054, 102], [101, 229, 22280, 10303, 125, 8054, 229, 4768, 102]], 'token_type_ids': [[0, 0, 0, 0, 0, 0, 0, 0], [0, 0, 0, 0, 0, 0, 0, 0, 0]], 'attention_mask': [[1, 1, 1, 1, 1, 1, 1, 1], [1, 1, 1, 1, 1, 1, 1, 1, 1]]}"
      ]
     },
     "execution_count": 26,
     "metadata": {},
     "output_type": "execute_result"
    }
   ],
   "source": [
    "#Várias sentenças \n",
    "tokenizer(['oi, gosto de andar', 'nao gosto de andar na rua'])\n",
    "#Percebe-se que o número de vetores não é o mesmo para as frases, para evitar isso adicione paddings"
   ]
  },
  {
   "cell_type": "code",
   "execution_count": null,
   "id": "ckuCAkFSkgnq",
   "metadata": {
    "colab": {
     "base_uri": "https://localhost:8080/"
    },
    "id": "ckuCAkFSkgnq",
    "outputId": "c601efe0-0866-453c-cc34-06be6ffc20f8"
   },
   "outputs": [
    {
     "data": {
      "text/plain": [
       "{'input_ids': [[101, 146, 22283, 117, 10303, 125, 8054, 102, 0], [101, 229, 22280, 10303, 125, 8054, 229, 4768, 102]], 'token_type_ids': [[0, 0, 0, 0, 0, 0, 0, 0, 0], [0, 0, 0, 0, 0, 0, 0, 0, 0]], 'attention_mask': [[1, 1, 1, 1, 1, 1, 1, 1, 0], [1, 1, 1, 1, 1, 1, 1, 1, 1]]}"
      ]
     },
     "execution_count": 27,
     "metadata": {},
     "output_type": "execute_result"
    }
   ],
   "source": [
    "tokenizer(['oi, gosto de andar', 'nao gosto de andar na rua'], padding = True)\n",
    "#Percebe-se que ele adiciona zeros para equalizar o número de vetores"
   ]
  },
  {
   "cell_type": "code",
   "execution_count": null,
   "id": "qL8PNxJPk9D6",
   "metadata": {
    "colab": {
     "base_uri": "https://localhost:8080/"
    },
    "id": "qL8PNxJPk9D6",
    "outputId": "db036bfd-dafc-406f-8041-384399fb6cd8"
   },
   "outputs": [
    {
     "name": "stderr",
     "output_type": "stream",
     "text": [
      "Asking to truncate to max_length but no maximum length is provided and the model has no predefined maximum length. Default to no truncation.\n"
     ]
    },
    {
     "data": {
      "text/plain": [
       "{'input_ids': <tf.Tensor: shape=(2, 9), dtype=int32, numpy=\n",
       "array([[  101,   146, 22283,   117, 10303,   125,  8054,   102,     0],\n",
       "       [  101,   229, 22280, 10303,   125,  8054,   229,  4768,   102]],\n",
       "      dtype=int32)>, 'token_type_ids': <tf.Tensor: shape=(2, 9), dtype=int32, numpy=\n",
       "array([[0, 0, 0, 0, 0, 0, 0, 0, 0],\n",
       "       [0, 0, 0, 0, 0, 0, 0, 0, 0]], dtype=int32)>, 'attention_mask': <tf.Tensor: shape=(2, 9), dtype=int32, numpy=\n",
       "array([[1, 1, 1, 1, 1, 1, 1, 1, 0],\n",
       "       [1, 1, 1, 1, 1, 1, 1, 1, 1]], dtype=int32)>}"
      ]
     },
     "execution_count": 28,
     "metadata": {},
     "output_type": "execute_result"
    }
   ],
   "source": [
    "#Para limitar o número de caracteres máximo em uma sentença utilize o parâmetro truncation (512 palavras)\n",
    "#Para transformar umas lista python para um tensor do tensorflow, utilize o parâmetro return_tensors\n",
    "tokenizer(['oi, gosto de andar', 'nao gosto de andar na rua'], padding = True, truncation = True, return_tensors = 'tf')\n"
   ]
  },
  {
   "cell_type": "markdown",
   "id": "RYsP-q81l62P",
   "metadata": {
    "id": "RYsP-q81l62P"
   },
   "source": [
    "##Tokenizando o texto com Bert"
   ]
  },
  {
   "cell_type": "code",
   "execution_count": 20,
   "id": "hKkpCT5QzYpJ",
   "metadata": {
    "id": "hKkpCT5QzYpJ"
   },
   "outputs": [],
   "source": [
    "from transformers import AutoTokenizer  # Or BertTokenizer\n",
    "from transformers import AutoModelForPreTraining  # Or BertForPreTraining for loading pretraining heads\n",
    "from transformers import AutoModel  # or BertModel, for BERT without pretraining heads"
   ]
  },
  {
   "cell_type": "code",
   "execution_count": 19,
   "id": "GG_hBzqnzeYI",
   "metadata": {
    "colab": {
     "base_uri": "https://localhost:8080/"
    },
    "id": "GG_hBzqnzeYI",
    "outputId": "7c6d99cf-bd34-4fad-a219-0758c9baf0ad"
   },
   "outputs": [
    {
     "name": "stderr",
     "output_type": "stream",
     "text": [
      "Some weights of the model checkpoint at neuralmind/bert-base-portuguese-cased were not used when initializing BertModel: ['cls.predictions.transform.LayerNorm.bias', 'cls.predictions.bias', 'cls.predictions.transform.dense.bias', 'cls.predictions.transform.LayerNorm.weight', 'cls.predictions.transform.dense.weight', 'cls.seq_relationship.weight', 'cls.seq_relationship.bias', 'cls.predictions.decoder.weight']\n",
      "- This IS expected if you are initializing BertModel from the checkpoint of a model trained on another task or with another architecture (e.g. initializing a BertForSequenceClassification model from a BertForPreTraining model).\n",
      "- This IS NOT expected if you are initializing BertModel from the checkpoint of a model that you expect to be exactly identical (initializing a BertForSequenceClassification model from a BertForSequenceClassification model).\n"
     ]
    }
   ],
   "source": [
    "import torch\n",
    "from transformers import BertTokenizer, BertModel\n",
    "\n",
    "# define the BERT model and tokenizer\n",
    "tokenizer = BertTokenizer.from_pretrained('neuralmind/bert-base-portuguese-cased')\n",
    "model = BertModel.from_pretrained('neuralmind/bert-base-portuguese-cased')\n",
    "\n",
    "# define the maximum segment length\n",
    "max_segment_len = 256\n",
    "\n",
    "# define a function to embed a text segment\n",
    "def embed_text_segment(text):\n",
    "    # tokenize the text segment\n",
    "    tokenized_text = tokenizer.encode(text, add_special_tokens=True, max_length=max_segment_len, truncation=True)\n",
    "    # convert the tokenized text to a tensor\n",
    "    input_ids = torch.tensor([tokenized_text])\n",
    "    # generate the embeddings for the text segment\n",
    "    with torch.no_grad():\n",
    "        embeddings = model(input_ids)[0][0]\n",
    "    return embeddings.numpy()\n",
    "\n",
    "# apply the embed_text_segment function to each text segment\n",
    "def embed_text(text):\n",
    "    # check for empty text\n",
    "    if len(text) == 0:\n",
    "        return None\n",
    "    # split the text into segments of maximum length\n",
    "    segments = [text[i:i+max_segment_len] for i in range(0, len(text), max_segment_len)]\n",
    "    # embed each text segment and concatenate the embeddings\n",
    "    embeddings = [embed_text_segment(segment) for segment in segments]\n",
    "    embeddings = np.concatenate(embeddings, axis=0)\n",
    "    return embeddings"
   ]
  },
  {
   "cell_type": "code",
   "execution_count": 21,
   "id": "AOXuMRyK17dl",
   "metadata": {
    "colab": {
     "base_uri": "https://localhost:8080/",
     "height": 345
    },
    "id": "AOXuMRyK17dl",
    "outputId": "96d01558-89d7-409b-f99e-dd48324fbcae"
   },
   "outputs": [
    {
     "ename": "KeyboardInterrupt",
     "evalue": "ignored",
     "output_type": "error",
     "traceback": [
      "\u001b[0;31m---------------------------------------------------------------------------\u001b[0m",
      "\u001b[0;31mKeyboardInterrupt\u001b[0m                         Traceback (most recent call last)",
      "\u001b[0;32m<ipython-input-21-3fb632d87fdb>\u001b[0m in \u001b[0;36m<cell line: 3>\u001b[0;34m()\u001b[0m\n\u001b[1;32m      1\u001b[0m \u001b[0;31m# apply the embed_text function to the 'texto_lema' column and store the embeddings in a new column 'embeddings'\u001b[0m\u001b[0;34m\u001b[0m\u001b[0;34m\u001b[0m\u001b[0m\n\u001b[1;32m      2\u001b[0m \u001b[0;32mimport\u001b[0m \u001b[0mtorch\u001b[0m\u001b[0;34m\u001b[0m\u001b[0;34m\u001b[0m\u001b[0m\n\u001b[0;32m----> 3\u001b[0;31m \u001b[0mdf\u001b[0m\u001b[0;34m[\u001b[0m\u001b[0;34m'embeddings'\u001b[0m\u001b[0;34m]\u001b[0m \u001b[0;34m=\u001b[0m \u001b[0mdf\u001b[0m\u001b[0;34m[\u001b[0m\u001b[0;34m'texto_lema'\u001b[0m\u001b[0;34m]\u001b[0m\u001b[0;34m.\u001b[0m\u001b[0mapply\u001b[0m\u001b[0;34m(\u001b[0m\u001b[0membed_text\u001b[0m\u001b[0;34m)\u001b[0m\u001b[0;34m\u001b[0m\u001b[0;34m\u001b[0m\u001b[0m\n\u001b[0m",
      "\u001b[0;32m/usr/local/lib/python3.10/dist-packages/pandas/core/series.py\u001b[0m in \u001b[0;36mapply\u001b[0;34m(self, func, convert_dtype, args, **kwargs)\u001b[0m\n\u001b[1;32m   4769\u001b[0m         \u001b[0mdtype\u001b[0m\u001b[0;34m:\u001b[0m \u001b[0mfloat64\u001b[0m\u001b[0;34m\u001b[0m\u001b[0;34m\u001b[0m\u001b[0m\n\u001b[1;32m   4770\u001b[0m         \"\"\"\n\u001b[0;32m-> 4771\u001b[0;31m         \u001b[0;32mreturn\u001b[0m \u001b[0mSeriesApply\u001b[0m\u001b[0;34m(\u001b[0m\u001b[0mself\u001b[0m\u001b[0;34m,\u001b[0m \u001b[0mfunc\u001b[0m\u001b[0;34m,\u001b[0m \u001b[0mconvert_dtype\u001b[0m\u001b[0;34m,\u001b[0m \u001b[0margs\u001b[0m\u001b[0;34m,\u001b[0m \u001b[0mkwargs\u001b[0m\u001b[0;34m)\u001b[0m\u001b[0;34m.\u001b[0m\u001b[0mapply\u001b[0m\u001b[0;34m(\u001b[0m\u001b[0;34m)\u001b[0m\u001b[0;34m\u001b[0m\u001b[0;34m\u001b[0m\u001b[0m\n\u001b[0m\u001b[1;32m   4772\u001b[0m \u001b[0;34m\u001b[0m\u001b[0m\n\u001b[1;32m   4773\u001b[0m     def _reduce(\n",
      "\u001b[0;32m/usr/local/lib/python3.10/dist-packages/pandas/core/apply.py\u001b[0m in \u001b[0;36mapply\u001b[0;34m(self)\u001b[0m\n\u001b[1;32m   1121\u001b[0m \u001b[0;34m\u001b[0m\u001b[0m\n\u001b[1;32m   1122\u001b[0m         \u001b[0;31m# self.f is Callable\u001b[0m\u001b[0;34m\u001b[0m\u001b[0;34m\u001b[0m\u001b[0m\n\u001b[0;32m-> 1123\u001b[0;31m         \u001b[0;32mreturn\u001b[0m \u001b[0mself\u001b[0m\u001b[0;34m.\u001b[0m\u001b[0mapply_standard\u001b[0m\u001b[0;34m(\u001b[0m\u001b[0;34m)\u001b[0m\u001b[0;34m\u001b[0m\u001b[0;34m\u001b[0m\u001b[0m\n\u001b[0m\u001b[1;32m   1124\u001b[0m \u001b[0;34m\u001b[0m\u001b[0m\n\u001b[1;32m   1125\u001b[0m     \u001b[0;32mdef\u001b[0m \u001b[0magg\u001b[0m\u001b[0;34m(\u001b[0m\u001b[0mself\u001b[0m\u001b[0;34m)\u001b[0m\u001b[0;34m:\u001b[0m\u001b[0;34m\u001b[0m\u001b[0;34m\u001b[0m\u001b[0m\n",
      "\u001b[0;32m/usr/local/lib/python3.10/dist-packages/pandas/core/apply.py\u001b[0m in \u001b[0;36mapply_standard\u001b[0;34m(self)\u001b[0m\n\u001b[1;32m   1172\u001b[0m             \u001b[0;32melse\u001b[0m\u001b[0;34m:\u001b[0m\u001b[0;34m\u001b[0m\u001b[0;34m\u001b[0m\u001b[0m\n\u001b[1;32m   1173\u001b[0m                 \u001b[0mvalues\u001b[0m \u001b[0;34m=\u001b[0m \u001b[0mobj\u001b[0m\u001b[0;34m.\u001b[0m\u001b[0mastype\u001b[0m\u001b[0;34m(\u001b[0m\u001b[0mobject\u001b[0m\u001b[0;34m)\u001b[0m\u001b[0;34m.\u001b[0m\u001b[0m_values\u001b[0m\u001b[0;34m\u001b[0m\u001b[0;34m\u001b[0m\u001b[0m\n\u001b[0;32m-> 1174\u001b[0;31m                 mapped = lib.map_infer(\n\u001b[0m\u001b[1;32m   1175\u001b[0m                     \u001b[0mvalues\u001b[0m\u001b[0;34m,\u001b[0m\u001b[0;34m\u001b[0m\u001b[0;34m\u001b[0m\u001b[0m\n\u001b[1;32m   1176\u001b[0m                     \u001b[0mf\u001b[0m\u001b[0;34m,\u001b[0m\u001b[0;34m\u001b[0m\u001b[0;34m\u001b[0m\u001b[0m\n",
      "\u001b[0;32m/usr/local/lib/python3.10/dist-packages/pandas/_libs/lib.pyx\u001b[0m in \u001b[0;36mpandas._libs.lib.map_infer\u001b[0;34m()\u001b[0m\n",
      "\u001b[0;32m<ipython-input-19-4116955efd37>\u001b[0m in \u001b[0;36membed_text\u001b[0;34m(text)\u001b[0m\n\u001b[1;32m     28\u001b[0m     \u001b[0msegments\u001b[0m \u001b[0;34m=\u001b[0m \u001b[0;34m[\u001b[0m\u001b[0mtext\u001b[0m\u001b[0;34m[\u001b[0m\u001b[0mi\u001b[0m\u001b[0;34m:\u001b[0m\u001b[0mi\u001b[0m\u001b[0;34m+\u001b[0m\u001b[0mmax_segment_len\u001b[0m\u001b[0;34m]\u001b[0m \u001b[0;32mfor\u001b[0m \u001b[0mi\u001b[0m \u001b[0;32min\u001b[0m \u001b[0mrange\u001b[0m\u001b[0;34m(\u001b[0m\u001b[0;36m0\u001b[0m\u001b[0;34m,\u001b[0m \u001b[0mlen\u001b[0m\u001b[0;34m(\u001b[0m\u001b[0mtext\u001b[0m\u001b[0;34m)\u001b[0m\u001b[0;34m,\u001b[0m \u001b[0mmax_segment_len\u001b[0m\u001b[0;34m)\u001b[0m\u001b[0;34m]\u001b[0m\u001b[0;34m\u001b[0m\u001b[0;34m\u001b[0m\u001b[0m\n\u001b[1;32m     29\u001b[0m     \u001b[0;31m# embed each text segment and concatenate the embeddings\u001b[0m\u001b[0;34m\u001b[0m\u001b[0;34m\u001b[0m\u001b[0m\n\u001b[0;32m---> 30\u001b[0;31m     \u001b[0membeddings\u001b[0m \u001b[0;34m=\u001b[0m \u001b[0;34m[\u001b[0m\u001b[0membed_text_segment\u001b[0m\u001b[0;34m(\u001b[0m\u001b[0msegment\u001b[0m\u001b[0;34m)\u001b[0m \u001b[0;32mfor\u001b[0m \u001b[0msegment\u001b[0m \u001b[0;32min\u001b[0m \u001b[0msegments\u001b[0m\u001b[0;34m]\u001b[0m\u001b[0;34m\u001b[0m\u001b[0;34m\u001b[0m\u001b[0m\n\u001b[0m\u001b[1;32m     31\u001b[0m     \u001b[0membeddings\u001b[0m \u001b[0;34m=\u001b[0m \u001b[0mnp\u001b[0m\u001b[0;34m.\u001b[0m\u001b[0mconcatenate\u001b[0m\u001b[0;34m(\u001b[0m\u001b[0membeddings\u001b[0m\u001b[0;34m,\u001b[0m \u001b[0maxis\u001b[0m\u001b[0;34m=\u001b[0m\u001b[0;36m0\u001b[0m\u001b[0;34m)\u001b[0m\u001b[0;34m\u001b[0m\u001b[0;34m\u001b[0m\u001b[0m\n\u001b[1;32m     32\u001b[0m     \u001b[0;32mreturn\u001b[0m \u001b[0membeddings\u001b[0m\u001b[0;34m\u001b[0m\u001b[0;34m\u001b[0m\u001b[0m\n",
      "\u001b[0;32m<ipython-input-19-4116955efd37>\u001b[0m in \u001b[0;36m<listcomp>\u001b[0;34m(.0)\u001b[0m\n\u001b[1;32m     28\u001b[0m     \u001b[0msegments\u001b[0m \u001b[0;34m=\u001b[0m \u001b[0;34m[\u001b[0m\u001b[0mtext\u001b[0m\u001b[0;34m[\u001b[0m\u001b[0mi\u001b[0m\u001b[0;34m:\u001b[0m\u001b[0mi\u001b[0m\u001b[0;34m+\u001b[0m\u001b[0mmax_segment_len\u001b[0m\u001b[0;34m]\u001b[0m \u001b[0;32mfor\u001b[0m \u001b[0mi\u001b[0m \u001b[0;32min\u001b[0m \u001b[0mrange\u001b[0m\u001b[0;34m(\u001b[0m\u001b[0;36m0\u001b[0m\u001b[0;34m,\u001b[0m \u001b[0mlen\u001b[0m\u001b[0;34m(\u001b[0m\u001b[0mtext\u001b[0m\u001b[0;34m)\u001b[0m\u001b[0;34m,\u001b[0m \u001b[0mmax_segment_len\u001b[0m\u001b[0;34m)\u001b[0m\u001b[0;34m]\u001b[0m\u001b[0;34m\u001b[0m\u001b[0;34m\u001b[0m\u001b[0m\n\u001b[1;32m     29\u001b[0m     \u001b[0;31m# embed each text segment and concatenate the embeddings\u001b[0m\u001b[0;34m\u001b[0m\u001b[0;34m\u001b[0m\u001b[0m\n\u001b[0;32m---> 30\u001b[0;31m     \u001b[0membeddings\u001b[0m \u001b[0;34m=\u001b[0m \u001b[0;34m[\u001b[0m\u001b[0membed_text_segment\u001b[0m\u001b[0;34m(\u001b[0m\u001b[0msegment\u001b[0m\u001b[0;34m)\u001b[0m \u001b[0;32mfor\u001b[0m \u001b[0msegment\u001b[0m \u001b[0;32min\u001b[0m \u001b[0msegments\u001b[0m\u001b[0;34m]\u001b[0m\u001b[0;34m\u001b[0m\u001b[0;34m\u001b[0m\u001b[0m\n\u001b[0m\u001b[1;32m     31\u001b[0m     \u001b[0membeddings\u001b[0m \u001b[0;34m=\u001b[0m \u001b[0mnp\u001b[0m\u001b[0;34m.\u001b[0m\u001b[0mconcatenate\u001b[0m\u001b[0;34m(\u001b[0m\u001b[0membeddings\u001b[0m\u001b[0;34m,\u001b[0m \u001b[0maxis\u001b[0m\u001b[0;34m=\u001b[0m\u001b[0;36m0\u001b[0m\u001b[0;34m)\u001b[0m\u001b[0;34m\u001b[0m\u001b[0;34m\u001b[0m\u001b[0m\n\u001b[1;32m     32\u001b[0m     \u001b[0;32mreturn\u001b[0m \u001b[0membeddings\u001b[0m\u001b[0;34m\u001b[0m\u001b[0;34m\u001b[0m\u001b[0m\n",
      "\u001b[0;32m<ipython-input-19-4116955efd37>\u001b[0m in \u001b[0;36membed_text_segment\u001b[0;34m(text)\u001b[0m\n\u001b[1;32m     17\u001b[0m     \u001b[0;31m# generate the embeddings for the text segment\u001b[0m\u001b[0;34m\u001b[0m\u001b[0;34m\u001b[0m\u001b[0m\n\u001b[1;32m     18\u001b[0m     \u001b[0;32mwith\u001b[0m \u001b[0mtorch\u001b[0m\u001b[0;34m.\u001b[0m\u001b[0mno_grad\u001b[0m\u001b[0;34m(\u001b[0m\u001b[0;34m)\u001b[0m\u001b[0;34m:\u001b[0m\u001b[0;34m\u001b[0m\u001b[0;34m\u001b[0m\u001b[0m\n\u001b[0;32m---> 19\u001b[0;31m         \u001b[0membeddings\u001b[0m \u001b[0;34m=\u001b[0m \u001b[0mmodel\u001b[0m\u001b[0;34m(\u001b[0m\u001b[0minput_ids\u001b[0m\u001b[0;34m)\u001b[0m\u001b[0;34m[\u001b[0m\u001b[0;36m0\u001b[0m\u001b[0;34m]\u001b[0m\u001b[0;34m[\u001b[0m\u001b[0;36m0\u001b[0m\u001b[0;34m]\u001b[0m\u001b[0;34m\u001b[0m\u001b[0;34m\u001b[0m\u001b[0m\n\u001b[0m\u001b[1;32m     20\u001b[0m     \u001b[0;32mreturn\u001b[0m \u001b[0membeddings\u001b[0m\u001b[0;34m.\u001b[0m\u001b[0mnumpy\u001b[0m\u001b[0;34m(\u001b[0m\u001b[0;34m)\u001b[0m\u001b[0;34m\u001b[0m\u001b[0;34m\u001b[0m\u001b[0m\n\u001b[1;32m     21\u001b[0m \u001b[0;34m\u001b[0m\u001b[0m\n",
      "\u001b[0;32m/usr/local/lib/python3.10/dist-packages/torch/nn/modules/module.py\u001b[0m in \u001b[0;36m_call_impl\u001b[0;34m(self, *args, **kwargs)\u001b[0m\n\u001b[1;32m   1499\u001b[0m                 \u001b[0;32mor\u001b[0m \u001b[0m_global_backward_pre_hooks\u001b[0m \u001b[0;32mor\u001b[0m \u001b[0m_global_backward_hooks\u001b[0m\u001b[0;34m\u001b[0m\u001b[0;34m\u001b[0m\u001b[0m\n\u001b[1;32m   1500\u001b[0m                 or _global_forward_hooks or _global_forward_pre_hooks):\n\u001b[0;32m-> 1501\u001b[0;31m             \u001b[0;32mreturn\u001b[0m \u001b[0mforward_call\u001b[0m\u001b[0;34m(\u001b[0m\u001b[0;34m*\u001b[0m\u001b[0margs\u001b[0m\u001b[0;34m,\u001b[0m \u001b[0;34m**\u001b[0m\u001b[0mkwargs\u001b[0m\u001b[0;34m)\u001b[0m\u001b[0;34m\u001b[0m\u001b[0;34m\u001b[0m\u001b[0m\n\u001b[0m\u001b[1;32m   1502\u001b[0m         \u001b[0;31m# Do not call functions when jit is used\u001b[0m\u001b[0;34m\u001b[0m\u001b[0;34m\u001b[0m\u001b[0m\n\u001b[1;32m   1503\u001b[0m         \u001b[0mfull_backward_hooks\u001b[0m\u001b[0;34m,\u001b[0m \u001b[0mnon_full_backward_hooks\u001b[0m \u001b[0;34m=\u001b[0m \u001b[0;34m[\u001b[0m\u001b[0;34m]\u001b[0m\u001b[0;34m,\u001b[0m \u001b[0;34m[\u001b[0m\u001b[0;34m]\u001b[0m\u001b[0;34m\u001b[0m\u001b[0;34m\u001b[0m\u001b[0m\n",
      "\u001b[0;32m~/.local/lib/python3.10/site-packages/transformers/models/bert/modeling_bert.py\u001b[0m in \u001b[0;36mforward\u001b[0;34m(self, input_ids, attention_mask, token_type_ids, position_ids, head_mask, inputs_embeds, encoder_hidden_states, encoder_attention_mask, past_key_values, use_cache, output_attentions, output_hidden_states, return_dict)\u001b[0m\n\u001b[1;32m   1018\u001b[0m             \u001b[0mpast_key_values_length\u001b[0m\u001b[0;34m=\u001b[0m\u001b[0mpast_key_values_length\u001b[0m\u001b[0;34m,\u001b[0m\u001b[0;34m\u001b[0m\u001b[0;34m\u001b[0m\u001b[0m\n\u001b[1;32m   1019\u001b[0m         )\n\u001b[0;32m-> 1020\u001b[0;31m         encoder_outputs = self.encoder(\n\u001b[0m\u001b[1;32m   1021\u001b[0m             \u001b[0membedding_output\u001b[0m\u001b[0;34m,\u001b[0m\u001b[0;34m\u001b[0m\u001b[0;34m\u001b[0m\u001b[0m\n\u001b[1;32m   1022\u001b[0m             \u001b[0mattention_mask\u001b[0m\u001b[0;34m=\u001b[0m\u001b[0mextended_attention_mask\u001b[0m\u001b[0;34m,\u001b[0m\u001b[0;34m\u001b[0m\u001b[0;34m\u001b[0m\u001b[0m\n",
      "\u001b[0;32m/usr/local/lib/python3.10/dist-packages/torch/nn/modules/module.py\u001b[0m in \u001b[0;36m_call_impl\u001b[0;34m(self, *args, **kwargs)\u001b[0m\n\u001b[1;32m   1499\u001b[0m                 \u001b[0;32mor\u001b[0m \u001b[0m_global_backward_pre_hooks\u001b[0m \u001b[0;32mor\u001b[0m \u001b[0m_global_backward_hooks\u001b[0m\u001b[0;34m\u001b[0m\u001b[0;34m\u001b[0m\u001b[0m\n\u001b[1;32m   1500\u001b[0m                 or _global_forward_hooks or _global_forward_pre_hooks):\n\u001b[0;32m-> 1501\u001b[0;31m             \u001b[0;32mreturn\u001b[0m \u001b[0mforward_call\u001b[0m\u001b[0;34m(\u001b[0m\u001b[0;34m*\u001b[0m\u001b[0margs\u001b[0m\u001b[0;34m,\u001b[0m \u001b[0;34m**\u001b[0m\u001b[0mkwargs\u001b[0m\u001b[0;34m)\u001b[0m\u001b[0;34m\u001b[0m\u001b[0;34m\u001b[0m\u001b[0m\n\u001b[0m\u001b[1;32m   1502\u001b[0m         \u001b[0;31m# Do not call functions when jit is used\u001b[0m\u001b[0;34m\u001b[0m\u001b[0;34m\u001b[0m\u001b[0m\n\u001b[1;32m   1503\u001b[0m         \u001b[0mfull_backward_hooks\u001b[0m\u001b[0;34m,\u001b[0m \u001b[0mnon_full_backward_hooks\u001b[0m \u001b[0;34m=\u001b[0m \u001b[0;34m[\u001b[0m\u001b[0;34m]\u001b[0m\u001b[0;34m,\u001b[0m \u001b[0;34m[\u001b[0m\u001b[0;34m]\u001b[0m\u001b[0;34m\u001b[0m\u001b[0;34m\u001b[0m\u001b[0m\n",
      "\u001b[0;32m~/.local/lib/python3.10/site-packages/transformers/models/bert/modeling_bert.py\u001b[0m in \u001b[0;36mforward\u001b[0;34m(self, hidden_states, attention_mask, head_mask, encoder_hidden_states, encoder_attention_mask, past_key_values, use_cache, output_attentions, output_hidden_states, return_dict)\u001b[0m\n\u001b[1;32m    608\u001b[0m                 )\n\u001b[1;32m    609\u001b[0m             \u001b[0;32melse\u001b[0m\u001b[0;34m:\u001b[0m\u001b[0;34m\u001b[0m\u001b[0;34m\u001b[0m\u001b[0m\n\u001b[0;32m--> 610\u001b[0;31m                 layer_outputs = layer_module(\n\u001b[0m\u001b[1;32m    611\u001b[0m                     \u001b[0mhidden_states\u001b[0m\u001b[0;34m,\u001b[0m\u001b[0;34m\u001b[0m\u001b[0;34m\u001b[0m\u001b[0m\n\u001b[1;32m    612\u001b[0m                     \u001b[0mattention_mask\u001b[0m\u001b[0;34m,\u001b[0m\u001b[0;34m\u001b[0m\u001b[0;34m\u001b[0m\u001b[0m\n",
      "\u001b[0;32m/usr/local/lib/python3.10/dist-packages/torch/nn/modules/module.py\u001b[0m in \u001b[0;36m_call_impl\u001b[0;34m(self, *args, **kwargs)\u001b[0m\n\u001b[1;32m   1499\u001b[0m                 \u001b[0;32mor\u001b[0m \u001b[0m_global_backward_pre_hooks\u001b[0m \u001b[0;32mor\u001b[0m \u001b[0m_global_backward_hooks\u001b[0m\u001b[0;34m\u001b[0m\u001b[0;34m\u001b[0m\u001b[0m\n\u001b[1;32m   1500\u001b[0m                 or _global_forward_hooks or _global_forward_pre_hooks):\n\u001b[0;32m-> 1501\u001b[0;31m             \u001b[0;32mreturn\u001b[0m \u001b[0mforward_call\u001b[0m\u001b[0;34m(\u001b[0m\u001b[0;34m*\u001b[0m\u001b[0margs\u001b[0m\u001b[0;34m,\u001b[0m \u001b[0;34m**\u001b[0m\u001b[0mkwargs\u001b[0m\u001b[0;34m)\u001b[0m\u001b[0;34m\u001b[0m\u001b[0;34m\u001b[0m\u001b[0m\n\u001b[0m\u001b[1;32m   1502\u001b[0m         \u001b[0;31m# Do not call functions when jit is used\u001b[0m\u001b[0;34m\u001b[0m\u001b[0;34m\u001b[0m\u001b[0m\n\u001b[1;32m   1503\u001b[0m         \u001b[0mfull_backward_hooks\u001b[0m\u001b[0;34m,\u001b[0m \u001b[0mnon_full_backward_hooks\u001b[0m \u001b[0;34m=\u001b[0m \u001b[0;34m[\u001b[0m\u001b[0;34m]\u001b[0m\u001b[0;34m,\u001b[0m \u001b[0;34m[\u001b[0m\u001b[0;34m]\u001b[0m\u001b[0;34m\u001b[0m\u001b[0;34m\u001b[0m\u001b[0m\n",
      "\u001b[0;32m~/.local/lib/python3.10/site-packages/transformers/models/bert/modeling_bert.py\u001b[0m in \u001b[0;36mforward\u001b[0;34m(self, hidden_states, attention_mask, head_mask, encoder_hidden_states, encoder_attention_mask, past_key_value, output_attentions)\u001b[0m\n\u001b[1;32m    535\u001b[0m             \u001b[0mpresent_key_value\u001b[0m \u001b[0;34m=\u001b[0m \u001b[0mpresent_key_value\u001b[0m \u001b[0;34m+\u001b[0m \u001b[0mcross_attn_present_key_value\u001b[0m\u001b[0;34m\u001b[0m\u001b[0;34m\u001b[0m\u001b[0m\n\u001b[1;32m    536\u001b[0m \u001b[0;34m\u001b[0m\u001b[0m\n\u001b[0;32m--> 537\u001b[0;31m         layer_output = apply_chunking_to_forward(\n\u001b[0m\u001b[1;32m    538\u001b[0m             \u001b[0mself\u001b[0m\u001b[0;34m.\u001b[0m\u001b[0mfeed_forward_chunk\u001b[0m\u001b[0;34m,\u001b[0m \u001b[0mself\u001b[0m\u001b[0;34m.\u001b[0m\u001b[0mchunk_size_feed_forward\u001b[0m\u001b[0;34m,\u001b[0m \u001b[0mself\u001b[0m\u001b[0;34m.\u001b[0m\u001b[0mseq_len_dim\u001b[0m\u001b[0;34m,\u001b[0m \u001b[0mattention_output\u001b[0m\u001b[0;34m\u001b[0m\u001b[0;34m\u001b[0m\u001b[0m\n\u001b[1;32m    539\u001b[0m         )\n",
      "\u001b[0;32m~/.local/lib/python3.10/site-packages/transformers/pytorch_utils.py\u001b[0m in \u001b[0;36mapply_chunking_to_forward\u001b[0;34m(forward_fn, chunk_size, chunk_dim, *input_tensors)\u001b[0m\n\u001b[1;32m    234\u001b[0m         \u001b[0;32mreturn\u001b[0m \u001b[0mtorch\u001b[0m\u001b[0;34m.\u001b[0m\u001b[0mcat\u001b[0m\u001b[0;34m(\u001b[0m\u001b[0moutput_chunks\u001b[0m\u001b[0;34m,\u001b[0m \u001b[0mdim\u001b[0m\u001b[0;34m=\u001b[0m\u001b[0mchunk_dim\u001b[0m\u001b[0;34m)\u001b[0m\u001b[0;34m\u001b[0m\u001b[0;34m\u001b[0m\u001b[0m\n\u001b[1;32m    235\u001b[0m \u001b[0;34m\u001b[0m\u001b[0m\n\u001b[0;32m--> 236\u001b[0;31m     \u001b[0;32mreturn\u001b[0m \u001b[0mforward_fn\u001b[0m\u001b[0;34m(\u001b[0m\u001b[0;34m*\u001b[0m\u001b[0minput_tensors\u001b[0m\u001b[0;34m)\u001b[0m\u001b[0;34m\u001b[0m\u001b[0;34m\u001b[0m\u001b[0m\n\u001b[0m\u001b[1;32m    237\u001b[0m \u001b[0;34m\u001b[0m\u001b[0m\n\u001b[1;32m    238\u001b[0m \u001b[0;34m\u001b[0m\u001b[0m\n",
      "\u001b[0;32m~/.local/lib/python3.10/site-packages/transformers/models/bert/modeling_bert.py\u001b[0m in \u001b[0;36mfeed_forward_chunk\u001b[0;34m(self, attention_output)\u001b[0m\n\u001b[1;32m    548\u001b[0m     \u001b[0;32mdef\u001b[0m \u001b[0mfeed_forward_chunk\u001b[0m\u001b[0;34m(\u001b[0m\u001b[0mself\u001b[0m\u001b[0;34m,\u001b[0m \u001b[0mattention_output\u001b[0m\u001b[0;34m)\u001b[0m\u001b[0;34m:\u001b[0m\u001b[0;34m\u001b[0m\u001b[0;34m\u001b[0m\u001b[0m\n\u001b[1;32m    549\u001b[0m         \u001b[0mintermediate_output\u001b[0m \u001b[0;34m=\u001b[0m \u001b[0mself\u001b[0m\u001b[0;34m.\u001b[0m\u001b[0mintermediate\u001b[0m\u001b[0;34m(\u001b[0m\u001b[0mattention_output\u001b[0m\u001b[0;34m)\u001b[0m\u001b[0;34m\u001b[0m\u001b[0;34m\u001b[0m\u001b[0m\n\u001b[0;32m--> 550\u001b[0;31m         \u001b[0mlayer_output\u001b[0m \u001b[0;34m=\u001b[0m \u001b[0mself\u001b[0m\u001b[0;34m.\u001b[0m\u001b[0moutput\u001b[0m\u001b[0;34m(\u001b[0m\u001b[0mintermediate_output\u001b[0m\u001b[0;34m,\u001b[0m \u001b[0mattention_output\u001b[0m\u001b[0;34m)\u001b[0m\u001b[0;34m\u001b[0m\u001b[0;34m\u001b[0m\u001b[0m\n\u001b[0m\u001b[1;32m    551\u001b[0m         \u001b[0;32mreturn\u001b[0m \u001b[0mlayer_output\u001b[0m\u001b[0;34m\u001b[0m\u001b[0;34m\u001b[0m\u001b[0m\n\u001b[1;32m    552\u001b[0m \u001b[0;34m\u001b[0m\u001b[0m\n",
      "\u001b[0;32m/usr/local/lib/python3.10/dist-packages/torch/nn/modules/module.py\u001b[0m in \u001b[0;36m_call_impl\u001b[0;34m(self, *args, **kwargs)\u001b[0m\n\u001b[1;32m   1499\u001b[0m                 \u001b[0;32mor\u001b[0m \u001b[0m_global_backward_pre_hooks\u001b[0m \u001b[0;32mor\u001b[0m \u001b[0m_global_backward_hooks\u001b[0m\u001b[0;34m\u001b[0m\u001b[0;34m\u001b[0m\u001b[0m\n\u001b[1;32m   1500\u001b[0m                 or _global_forward_hooks or _global_forward_pre_hooks):\n\u001b[0;32m-> 1501\u001b[0;31m             \u001b[0;32mreturn\u001b[0m \u001b[0mforward_call\u001b[0m\u001b[0;34m(\u001b[0m\u001b[0;34m*\u001b[0m\u001b[0margs\u001b[0m\u001b[0;34m,\u001b[0m \u001b[0;34m**\u001b[0m\u001b[0mkwargs\u001b[0m\u001b[0;34m)\u001b[0m\u001b[0;34m\u001b[0m\u001b[0;34m\u001b[0m\u001b[0m\n\u001b[0m\u001b[1;32m   1502\u001b[0m         \u001b[0;31m# Do not call functions when jit is used\u001b[0m\u001b[0;34m\u001b[0m\u001b[0;34m\u001b[0m\u001b[0m\n\u001b[1;32m   1503\u001b[0m         \u001b[0mfull_backward_hooks\u001b[0m\u001b[0;34m,\u001b[0m \u001b[0mnon_full_backward_hooks\u001b[0m \u001b[0;34m=\u001b[0m \u001b[0;34m[\u001b[0m\u001b[0;34m]\u001b[0m\u001b[0;34m,\u001b[0m \u001b[0;34m[\u001b[0m\u001b[0;34m]\u001b[0m\u001b[0;34m\u001b[0m\u001b[0;34m\u001b[0m\u001b[0m\n",
      "\u001b[0;32m~/.local/lib/python3.10/site-packages/transformers/models/bert/modeling_bert.py\u001b[0m in \u001b[0;36mforward\u001b[0;34m(self, hidden_states, input_tensor)\u001b[0m\n\u001b[1;32m    460\u001b[0m \u001b[0;34m\u001b[0m\u001b[0m\n\u001b[1;32m    461\u001b[0m     \u001b[0;32mdef\u001b[0m \u001b[0mforward\u001b[0m\u001b[0;34m(\u001b[0m\u001b[0mself\u001b[0m\u001b[0;34m,\u001b[0m \u001b[0mhidden_states\u001b[0m\u001b[0;34m:\u001b[0m \u001b[0mtorch\u001b[0m\u001b[0;34m.\u001b[0m\u001b[0mTensor\u001b[0m\u001b[0;34m,\u001b[0m \u001b[0minput_tensor\u001b[0m\u001b[0;34m:\u001b[0m \u001b[0mtorch\u001b[0m\u001b[0;34m.\u001b[0m\u001b[0mTensor\u001b[0m\u001b[0;34m)\u001b[0m \u001b[0;34m->\u001b[0m \u001b[0mtorch\u001b[0m\u001b[0;34m.\u001b[0m\u001b[0mTensor\u001b[0m\u001b[0;34m:\u001b[0m\u001b[0;34m\u001b[0m\u001b[0;34m\u001b[0m\u001b[0m\n\u001b[0;32m--> 462\u001b[0;31m         \u001b[0mhidden_states\u001b[0m \u001b[0;34m=\u001b[0m \u001b[0mself\u001b[0m\u001b[0;34m.\u001b[0m\u001b[0mdense\u001b[0m\u001b[0;34m(\u001b[0m\u001b[0mhidden_states\u001b[0m\u001b[0;34m)\u001b[0m\u001b[0;34m\u001b[0m\u001b[0;34m\u001b[0m\u001b[0m\n\u001b[0m\u001b[1;32m    463\u001b[0m         \u001b[0mhidden_states\u001b[0m \u001b[0;34m=\u001b[0m \u001b[0mself\u001b[0m\u001b[0;34m.\u001b[0m\u001b[0mdropout\u001b[0m\u001b[0;34m(\u001b[0m\u001b[0mhidden_states\u001b[0m\u001b[0;34m)\u001b[0m\u001b[0;34m\u001b[0m\u001b[0;34m\u001b[0m\u001b[0m\n\u001b[1;32m    464\u001b[0m         \u001b[0mhidden_states\u001b[0m \u001b[0;34m=\u001b[0m \u001b[0mself\u001b[0m\u001b[0;34m.\u001b[0m\u001b[0mLayerNorm\u001b[0m\u001b[0;34m(\u001b[0m\u001b[0mhidden_states\u001b[0m \u001b[0;34m+\u001b[0m \u001b[0minput_tensor\u001b[0m\u001b[0;34m)\u001b[0m\u001b[0;34m\u001b[0m\u001b[0;34m\u001b[0m\u001b[0m\n",
      "\u001b[0;32m/usr/local/lib/python3.10/dist-packages/torch/nn/modules/module.py\u001b[0m in \u001b[0;36m_call_impl\u001b[0;34m(self, *args, **kwargs)\u001b[0m\n\u001b[1;32m   1499\u001b[0m                 \u001b[0;32mor\u001b[0m \u001b[0m_global_backward_pre_hooks\u001b[0m \u001b[0;32mor\u001b[0m \u001b[0m_global_backward_hooks\u001b[0m\u001b[0;34m\u001b[0m\u001b[0;34m\u001b[0m\u001b[0m\n\u001b[1;32m   1500\u001b[0m                 or _global_forward_hooks or _global_forward_pre_hooks):\n\u001b[0;32m-> 1501\u001b[0;31m             \u001b[0;32mreturn\u001b[0m \u001b[0mforward_call\u001b[0m\u001b[0;34m(\u001b[0m\u001b[0;34m*\u001b[0m\u001b[0margs\u001b[0m\u001b[0;34m,\u001b[0m \u001b[0;34m**\u001b[0m\u001b[0mkwargs\u001b[0m\u001b[0;34m)\u001b[0m\u001b[0;34m\u001b[0m\u001b[0;34m\u001b[0m\u001b[0m\n\u001b[0m\u001b[1;32m   1502\u001b[0m         \u001b[0;31m# Do not call functions when jit is used\u001b[0m\u001b[0;34m\u001b[0m\u001b[0;34m\u001b[0m\u001b[0m\n\u001b[1;32m   1503\u001b[0m         \u001b[0mfull_backward_hooks\u001b[0m\u001b[0;34m,\u001b[0m \u001b[0mnon_full_backward_hooks\u001b[0m \u001b[0;34m=\u001b[0m \u001b[0;34m[\u001b[0m\u001b[0;34m]\u001b[0m\u001b[0;34m,\u001b[0m \u001b[0;34m[\u001b[0m\u001b[0;34m]\u001b[0m\u001b[0;34m\u001b[0m\u001b[0;34m\u001b[0m\u001b[0m\n",
      "\u001b[0;32m/usr/local/lib/python3.10/dist-packages/torch/nn/modules/linear.py\u001b[0m in \u001b[0;36mforward\u001b[0;34m(self, input)\u001b[0m\n\u001b[1;32m    112\u001b[0m \u001b[0;34m\u001b[0m\u001b[0m\n\u001b[1;32m    113\u001b[0m     \u001b[0;32mdef\u001b[0m \u001b[0mforward\u001b[0m\u001b[0;34m(\u001b[0m\u001b[0mself\u001b[0m\u001b[0;34m,\u001b[0m \u001b[0minput\u001b[0m\u001b[0;34m:\u001b[0m \u001b[0mTensor\u001b[0m\u001b[0;34m)\u001b[0m \u001b[0;34m->\u001b[0m \u001b[0mTensor\u001b[0m\u001b[0;34m:\u001b[0m\u001b[0;34m\u001b[0m\u001b[0;34m\u001b[0m\u001b[0m\n\u001b[0;32m--> 114\u001b[0;31m         \u001b[0;32mreturn\u001b[0m \u001b[0mF\u001b[0m\u001b[0;34m.\u001b[0m\u001b[0mlinear\u001b[0m\u001b[0;34m(\u001b[0m\u001b[0minput\u001b[0m\u001b[0;34m,\u001b[0m \u001b[0mself\u001b[0m\u001b[0;34m.\u001b[0m\u001b[0mweight\u001b[0m\u001b[0;34m,\u001b[0m \u001b[0mself\u001b[0m\u001b[0;34m.\u001b[0m\u001b[0mbias\u001b[0m\u001b[0;34m)\u001b[0m\u001b[0;34m\u001b[0m\u001b[0;34m\u001b[0m\u001b[0m\n\u001b[0m\u001b[1;32m    115\u001b[0m \u001b[0;34m\u001b[0m\u001b[0m\n\u001b[1;32m    116\u001b[0m     \u001b[0;32mdef\u001b[0m \u001b[0mextra_repr\u001b[0m\u001b[0;34m(\u001b[0m\u001b[0mself\u001b[0m\u001b[0;34m)\u001b[0m \u001b[0;34m->\u001b[0m \u001b[0mstr\u001b[0m\u001b[0;34m:\u001b[0m\u001b[0;34m\u001b[0m\u001b[0;34m\u001b[0m\u001b[0m\n",
      "\u001b[0;31mKeyboardInterrupt\u001b[0m: "
     ]
    }
   ],
   "source": [
    "# apply the embed_text function to the 'texto_lema' column and store the embeddings in a new column 'embeddings'\n",
    "import torch\n",
    "df['embeddings'] = df['texto_lema'].apply(embed_text)"
   ]
  },
  {
   "cell_type": "markdown",
   "id": "U42zIn59xHQE",
   "metadata": {
    "id": "U42zIn59xHQE"
   },
   "source": [
    "#Separação de treino e teste"
   ]
  },
  {
   "cell_type": "code",
   "execution_count": 6,
   "id": "SkJYYD_tx6Fg",
   "metadata": {
    "colab": {
     "base_uri": "https://localhost:8080/",
     "height": 207
    },
    "id": "SkJYYD_tx6Fg",
    "outputId": "04fab690-5746-4ebb-e2a8-a1ff749ba8c4"
   },
   "outputs": [
    {
     "data": {
      "text/html": [
       "\n",
       "  <div id=\"df-f9c909c8-ec45-49c1-a1a8-3d0498bd73d0\">\n",
       "    <div class=\"colab-df-container\">\n",
       "      <div>\n",
       "<style scoped>\n",
       "    .dataframe tbody tr th:only-of-type {\n",
       "        vertical-align: middle;\n",
       "    }\n",
       "\n",
       "    .dataframe tbody tr th {\n",
       "        vertical-align: top;\n",
       "    }\n",
       "\n",
       "    .dataframe thead th {\n",
       "        text-align: right;\n",
       "    }\n",
       "</style>\n",
       "<table border=\"1\" class=\"dataframe\">\n",
       "  <thead>\n",
       "    <tr style=\"text-align: right;\">\n",
       "      <th></th>\n",
       "      <th>autor</th>\n",
       "      <th>texto</th>\n",
       "      <th>sentimento</th>\n",
       "      <th>tokens_lema</th>\n",
       "      <th>vetores</th>\n",
       "      <th>soma_vetores</th>\n",
       "      <th>texto_lema</th>\n",
       "      <th>tokens_new</th>\n",
       "      <th>texto_new</th>\n",
       "    </tr>\n",
       "  </thead>\n",
       "  <tbody>\n",
       "    <tr>\n",
       "      <th>0</th>\n",
       "      <td>v8_capital</td>\n",
       "      <td>Confira os resultados dos nossos fundos no mês...</td>\n",
       "      <td>0</td>\n",
       "      <td>['confira', 'o', 'resultado', 'de o', 'nosso',...</td>\n",
       "      <td>[ 24.175386   -32.35245    -19.241129    -8.27...</td>\n",
       "      <td>-20.574974</td>\n",
       "      <td>confira resultado fundo mes fevereiro22 inform...</td>\n",
       "      <td>[confira, resultado, fundo, mes, fevereiro22, ...</td>\n",
       "      <td>confira resultado fundo mes fevereiro22 inform...</td>\n",
       "    </tr>\n",
       "    <tr>\n",
       "      <th>1</th>\n",
       "      <td>winthegame_of</td>\n",
       "      <td>A Alvarez &amp; Marsal estará conosco no Sportainm...</td>\n",
       "      <td>0</td>\n",
       "      <td>['Alvarez', 'Marsal', 'estara', 'conosco', 'sp...</td>\n",
       "      <td>[ 1.36964726e+00 -1.70724316e+01 -9.89577770e+...</td>\n",
       "      <td>-44.773376</td>\n",
       "      <td>alvarez marsal estara conosco sportainmet simb...</td>\n",
       "      <td>[alvarez, marsal, estara, conosco, sportainmet...</td>\n",
       "      <td>alvarez marsal estara conosco sportainmet simb...</td>\n",
       "    </tr>\n",
       "    <tr>\n",
       "      <th>2</th>\n",
       "      <td>marta_bego</td>\n",
       "      <td>#Repost btgpactual with make_repost ・・・ Entend...</td>\n",
       "      <td>0</td>\n",
       "      <td>['repost', 'btg', 'With', 'makerepost', 'enten...</td>\n",
       "      <td>[ 12.244981   -20.071892    -7.7097063   -5.48...</td>\n",
       "      <td>3.235275</td>\n",
       "      <td>repost with makerepost entenda impacto conflit...</td>\n",
       "      <td>[repost, with, makerepost, entenda, impacto, c...</td>\n",
       "      <td>repost with makerepost entenda impacto conflit...</td>\n",
       "    </tr>\n",
       "    <tr>\n",
       "      <th>3</th>\n",
       "      <td>lmviapiana</td>\n",
       "      <td>Minuto touro de ouro</td>\n",
       "      <td>1</td>\n",
       "      <td>['minuto', 'touro', 'ouro']</td>\n",
       "      <td>[ 0.05900092  0.20170294 -0.35151416 -0.012351...</td>\n",
       "      <td>-0.193069</td>\n",
       "      <td>minuto touro ouro</td>\n",
       "      <td>[minuto, touro, ouro]</td>\n",
       "      <td>minuto touro ouro</td>\n",
       "    </tr>\n",
       "    <tr>\n",
       "      <th>4</th>\n",
       "      <td>vanilson_dos</td>\n",
       "      <td>@ricktolledo Sim</td>\n",
       "      <td>0</td>\n",
       "      <td>['Ricktolledo', 'sim']</td>\n",
       "      <td>[ 0.609844   -0.01448398 -0.49792445 -0.503695...</td>\n",
       "      <td>-0.936380</td>\n",
       "      <td>ricktolledo sim</td>\n",
       "      <td>[ricktolledo, sim]</td>\n",
       "      <td>ricktolledo sim</td>\n",
       "    </tr>\n",
       "  </tbody>\n",
       "</table>\n",
       "</div>\n",
       "      <button class=\"colab-df-convert\" onclick=\"convertToInteractive('df-f9c909c8-ec45-49c1-a1a8-3d0498bd73d0')\"\n",
       "              title=\"Convert this dataframe to an interactive table.\"\n",
       "              style=\"display:none;\">\n",
       "        \n",
       "  <svg xmlns=\"http://www.w3.org/2000/svg\" height=\"24px\"viewBox=\"0 0 24 24\"\n",
       "       width=\"24px\">\n",
       "    <path d=\"M0 0h24v24H0V0z\" fill=\"none\"/>\n",
       "    <path d=\"M18.56 5.44l.94 2.06.94-2.06 2.06-.94-2.06-.94-.94-2.06-.94 2.06-2.06.94zm-11 1L8.5 8.5l.94-2.06 2.06-.94-2.06-.94L8.5 2.5l-.94 2.06-2.06.94zm10 10l.94 2.06.94-2.06 2.06-.94-2.06-.94-.94-2.06-.94 2.06-2.06.94z\"/><path d=\"M17.41 7.96l-1.37-1.37c-.4-.4-.92-.59-1.43-.59-.52 0-1.04.2-1.43.59L10.3 9.45l-7.72 7.72c-.78.78-.78 2.05 0 2.83L4 21.41c.39.39.9.59 1.41.59.51 0 1.02-.2 1.41-.59l7.78-7.78 2.81-2.81c.8-.78.8-2.07 0-2.86zM5.41 20L4 18.59l7.72-7.72 1.47 1.35L5.41 20z\"/>\n",
       "  </svg>\n",
       "      </button>\n",
       "      \n",
       "  <style>\n",
       "    .colab-df-container {\n",
       "      display:flex;\n",
       "      flex-wrap:wrap;\n",
       "      gap: 12px;\n",
       "    }\n",
       "\n",
       "    .colab-df-convert {\n",
       "      background-color: #E8F0FE;\n",
       "      border: none;\n",
       "      border-radius: 50%;\n",
       "      cursor: pointer;\n",
       "      display: none;\n",
       "      fill: #1967D2;\n",
       "      height: 32px;\n",
       "      padding: 0 0 0 0;\n",
       "      width: 32px;\n",
       "    }\n",
       "\n",
       "    .colab-df-convert:hover {\n",
       "      background-color: #E2EBFA;\n",
       "      box-shadow: 0px 1px 2px rgba(60, 64, 67, 0.3), 0px 1px 3px 1px rgba(60, 64, 67, 0.15);\n",
       "      fill: #174EA6;\n",
       "    }\n",
       "\n",
       "    [theme=dark] .colab-df-convert {\n",
       "      background-color: #3B4455;\n",
       "      fill: #D2E3FC;\n",
       "    }\n",
       "\n",
       "    [theme=dark] .colab-df-convert:hover {\n",
       "      background-color: #434B5C;\n",
       "      box-shadow: 0px 1px 3px 1px rgba(0, 0, 0, 0.15);\n",
       "      filter: drop-shadow(0px 1px 2px rgba(0, 0, 0, 0.3));\n",
       "      fill: #FFFFFF;\n",
       "    }\n",
       "  </style>\n",
       "\n",
       "      <script>\n",
       "        const buttonEl =\n",
       "          document.querySelector('#df-f9c909c8-ec45-49c1-a1a8-3d0498bd73d0 button.colab-df-convert');\n",
       "        buttonEl.style.display =\n",
       "          google.colab.kernel.accessAllowed ? 'block' : 'none';\n",
       "\n",
       "        async function convertToInteractive(key) {\n",
       "          const element = document.querySelector('#df-f9c909c8-ec45-49c1-a1a8-3d0498bd73d0');\n",
       "          const dataTable =\n",
       "            await google.colab.kernel.invokeFunction('convertToInteractive',\n",
       "                                                     [key], {});\n",
       "          if (!dataTable) return;\n",
       "\n",
       "          const docLinkHtml = 'Like what you see? Visit the ' +\n",
       "            '<a target=\"_blank\" href=https://colab.research.google.com/notebooks/data_table.ipynb>data table notebook</a>'\n",
       "            + ' to learn more about interactive tables.';\n",
       "          element.innerHTML = '';\n",
       "          dataTable['output_type'] = 'display_data';\n",
       "          await google.colab.output.renderOutput(dataTable, element);\n",
       "          const docLink = document.createElement('div');\n",
       "          docLink.innerHTML = docLinkHtml;\n",
       "          element.appendChild(docLink);\n",
       "        }\n",
       "      </script>\n",
       "    </div>\n",
       "  </div>\n",
       "  "
      ],
      "text/plain": [
       "           autor                                              texto  \\\n",
       "0     v8_capital  Confira os resultados dos nossos fundos no mês...   \n",
       "1  winthegame_of  A Alvarez & Marsal estará conosco no Sportainm...   \n",
       "2     marta_bego  #Repost btgpactual with make_repost ・・・ Entend...   \n",
       "3     lmviapiana                               Minuto touro de ouro   \n",
       "4   vanilson_dos                                   @ricktolledo Sim   \n",
       "\n",
       "   sentimento                                        tokens_lema  \\\n",
       "0           0  ['confira', 'o', 'resultado', 'de o', 'nosso',...   \n",
       "1           0  ['Alvarez', 'Marsal', 'estara', 'conosco', 'sp...   \n",
       "2           0  ['repost', 'btg', 'With', 'makerepost', 'enten...   \n",
       "3           1                        ['minuto', 'touro', 'ouro']   \n",
       "4           0                             ['Ricktolledo', 'sim']   \n",
       "\n",
       "                                             vetores  soma_vetores  \\\n",
       "0  [ 24.175386   -32.35245    -19.241129    -8.27...    -20.574974   \n",
       "1  [ 1.36964726e+00 -1.70724316e+01 -9.89577770e+...    -44.773376   \n",
       "2  [ 12.244981   -20.071892    -7.7097063   -5.48...      3.235275   \n",
       "3  [ 0.05900092  0.20170294 -0.35151416 -0.012351...     -0.193069   \n",
       "4  [ 0.609844   -0.01448398 -0.49792445 -0.503695...     -0.936380   \n",
       "\n",
       "                                          texto_lema  \\\n",
       "0  confira resultado fundo mes fevereiro22 inform...   \n",
       "1  alvarez marsal estara conosco sportainmet simb...   \n",
       "2  repost with makerepost entenda impacto conflit...   \n",
       "3                                  minuto touro ouro   \n",
       "4                                    ricktolledo sim   \n",
       "\n",
       "                                          tokens_new  \\\n",
       "0  [confira, resultado, fundo, mes, fevereiro22, ...   \n",
       "1  [alvarez, marsal, estara, conosco, sportainmet...   \n",
       "2  [repost, with, makerepost, entenda, impacto, c...   \n",
       "3                              [minuto, touro, ouro]   \n",
       "4                                 [ricktolledo, sim]   \n",
       "\n",
       "                                           texto_new  \n",
       "0  confira resultado fundo mes fevereiro22 inform...  \n",
       "1  alvarez marsal estara conosco sportainmet simb...  \n",
       "2  repost with makerepost entenda impacto conflit...  \n",
       "3                                  minuto touro ouro  \n",
       "4                                    ricktolledo sim  "
      ]
     },
     "execution_count": 6,
     "metadata": {},
     "output_type": "execute_result"
    }
   ],
   "source": [
    "def juntar(row):\n",
    "    juntar = []\n",
    "    for word in row:\n",
    "        juntar.append(word)\n",
    "    return ' '.join(juntar)\n",
    "\n",
    "df['texto_new'] = df['tokens_new'].apply(juntar)\n",
    "df.head()"
   ]
  },
  {
   "cell_type": "code",
   "execution_count": null,
   "id": "IPbIFWXxxNrF",
   "metadata": {
    "id": "IPbIFWXxxNrF"
   },
   "outputs": [],
   "source": [
    "df_train, df_test = train_test_split(df)"
   ]
  },
  {
   "cell_type": "code",
   "execution_count": null,
   "id": "7g4Fgysey2CT",
   "metadata": {
    "id": "7g4Fgysey2CT"
   },
   "outputs": [],
   "source": [
    "vectorizer = TfidfVectorizer(max_features=2000)"
   ]
  },
  {
   "cell_type": "code",
   "execution_count": null,
   "id": "EobrnIsdzSbQ",
   "metadata": {
    "id": "EobrnIsdzSbQ"
   },
   "outputs": [],
   "source": [
    "X_train = vectorizer.fit_transform(df_train['texto_new'])\n",
    "X_test = vectorizer.transform(df_test['texto_new'])"
   ]
  },
  {
   "cell_type": "code",
   "execution_count": null,
   "id": "nFSLe2Orzn59",
   "metadata": {
    "id": "nFSLe2Orzn59"
   },
   "outputs": [],
   "source": [
    "Y_train = df_train['sentimento']\n",
    "Y_test = df_test['sentimento']"
   ]
  },
  {
   "cell_type": "code",
   "execution_count": null,
   "id": "CNsA8MWrIeSh",
   "metadata": {
    "id": "CNsA8MWrIeSh"
   },
   "outputs": [],
   "source": [
    "\n",
    "from imblearn.over_sampling import SMOTE\n",
    "\n",
    "# Definir a estratégia de sobreamostragem para a classe minoritária\n",
    "sampling_strategy = 'minority'\n",
    "\n",
    "# Criar objeto SMOTE com a estratégia de sobreamostragem\n",
    "smote = SMOTE(sampling_strategy=sampling_strategy)\n",
    "\n",
    "# Aplicar oversampling aos dados de treinamento\n",
    "X_train_smote, y_train_smote = smote.fit_resample(X_train, Y_train)"
   ]
  },
  {
   "cell_type": "code",
   "execution_count": null,
   "id": "TannNgeA0CvH",
   "metadata": {
    "id": "TannNgeA0CvH"
   },
   "outputs": [],
   "source": [
    "from catboost import CatBoostClassifier\n",
    "\n",
    "\n",
    "modelCB = CatBoostClassifier(task_type='CPU', iterations= 100, random_state=2022, eval_metric='Accuracy', verbose=5, learning_rate=0.05)\n",
    "\n",
    "modelCB.fit(X_train_smote, y_train_smote, plot=True, eval_set=(X_test, Y_test))"
   ]
  },
  {
   "cell_type": "code",
   "execution_count": null,
   "id": "v3u23CcBKk_C",
   "metadata": {
    "id": "v3u23CcBKk_C"
   },
   "outputs": [],
   "source": [
    "modelCB.fit(X_train_ros, y_train_ros, plot = True, eval_set = (X_train_ros, y_train_ros))"
   ]
  },
  {
   "cell_type": "code",
   "execution_count": null,
   "id": "ynlyRzUb64KY",
   "metadata": {
    "id": "ynlyRzUb64KY"
   },
   "outputs": [],
   "source": [
    "class_order = modelCB.classes_\n",
    "class_order"
   ]
  },
  {
   "cell_type": "code",
   "execution_count": null,
   "id": "6bgbqqlw553L",
   "metadata": {
    "id": "6bgbqqlw553L"
   },
   "outputs": [],
   "source": [
    "from sklearn.metrics import recall_score\n",
    "# Predição no conjunto de teste\n",
    "y_pred = modelCB.predict(X_test)\n",
    "\n",
    "# Cálculo da métrica Recall no conjunto de teste\n",
    "recall = recall_score(Y_test, y_pred, average='macro')\n",
    "recall"
   ]
  },
  {
   "cell_type": "markdown",
   "id": "N6t_AhFoFaUt",
   "metadata": {
    "id": "N6t_AhFoFaUt"
   },
   "source": [
    "### Sem hiperparâmetros"
   ]
  },
  {
   "cell_type": "code",
   "execution_count": 52,
   "id": "2379762e",
   "metadata": {},
   "outputs": [
    {
     "name": "stdout",
     "output_type": "stream",
     "text": [
      "Requirement already satisfied: xgboost in c:\\users\\rodrigo.inteli\\anaconda3\\lib\\site-packages (1.7.5)\n",
      "Requirement already satisfied: numpy in c:\\users\\rodrigo.inteli\\anaconda3\\lib\\site-packages (from xgboost) (1.22.4)\n",
      "Requirement already satisfied: scipy in c:\\users\\rodrigo.inteli\\anaconda3\\lib\\site-packages (from xgboost) (1.7.3)\n"
     ]
    }
   ],
   "source": [
    "!pip install xgboost"
   ]
  },
  {
   "cell_type": "code",
   "execution_count": 41,
   "id": "pb3XfiljJhLV",
   "metadata": {
    "id": "pb3XfiljJhLV"
   },
   "outputs": [],
   "source": [
    "from sklearn.feature_extraction.text import TfidfVectorizer\n",
    "from sklearn.model_selection import train_test_split\n",
    "from sklearn.naive_bayes import MultinomialNB\n",
    "from sklearn.linear_model import LogisticRegression\n",
    "import xgboost as xgb\n",
    "from catboost import CatBoostClassifier\n",
    "import matplotlib.pyplot as plt\n",
    "from sklearn.metrics import recall_score\n",
    "\n",
    "\n",
    "# define the TF-IDF vectorizer\n",
    "tfidf = TfidfVectorizer()\n",
    "\n",
    "# vectorize the text data and convert to a list\n",
    "X = tfidf.fit_transform(df['texto_lema'])"
   ]
  },
  {
   "cell_type": "code",
   "execution_count": 42,
   "id": "3189dc5c",
   "metadata": {},
   "outputs": [
    {
     "data": {
      "text/plain": [
       "{'confira': 7236,\n",
       " 'resultado': 23543,\n",
       " 'fundo': 12524,\n",
       " 'mes': 18215,\n",
       " 'fevereiro22': 11758,\n",
       " 'informacoes': 14802,\n",
       " 'documentacoes': 9471,\n",
       " 'material': 17830,\n",
       " 'tecnico': 26134,\n",
       " 'poder': 21314,\n",
       " 'acessar': 1749,\n",
       " 'link': 16783,\n",
       " 'abaixo': 1576,\n",
       " 'v8': 27441,\n",
       " 'cash': 6002,\n",
       " 'fi': 11780,\n",
       " 'renda': 23319,\n",
       " 'fixo': 12021,\n",
       " 'cp': 7850,\n",
       " 'httpslnkdindusc2jmn': 14036,\n",
       " 'vanquish': 27564,\n",
       " 'termo': 26298,\n",
       " 'httpslnkdind3pngjuu': 14014,\n",
       " 'veyron': 27809,\n",
       " 'smart': 25179,\n",
       " 'beta': 4484,\n",
       " 'acoes': 1785,\n",
       " 'httpslnkdindjnjw4pp': 14029,\n",
       " 'elvar': 10054,\n",
       " 'deb': 8387,\n",
       " 'incentivar': 14583,\n",
       " 'fic': 11799,\n",
       " 'fim': 11885,\n",
       " 'httpslnkdindap37vv': 14024,\n",
       " 'challenger': 6319,\n",
       " 'httpslnkdind5bnhzqj': 14016,\n",
       " 'anf': 2867,\n",
       " 'luxbridge': 17168,\n",
       " 'global': 13059,\n",
       " 'real': 22868,\n",
       " 'estate': 10832,\n",
       " 'ie': 14337,\n",
       " 'httpslnkdindxzcatpp': 14041,\n",
       " 'encontrar': 10251,\n",
       " 'modalmal': 18554,\n",
       " 'oramainvestimento': 20015,\n",
       " 'warrenbrasil': 28253,\n",
       " 'terrainvestimentosoficial': 26311,\n",
       " 'ativainvestimento': 3640,\n",
       " 'novafuturainvestimentos': 19512,\n",
       " 'nubank': 19557,\n",
       " 'nectoninvestimento': 19182,\n",
       " 'miraeassetcorretora': 18457,\n",
       " 'toroinvestimentos': 26701,\n",
       " 'rbinvestimento': 22833,\n",
       " 'guideinvestimento': 13442,\n",
       " 'xpinvestimento': 28555,\n",
       " 'simpaulinvestimento': 25040,\n",
       " 'v8capital': 27442,\n",
       " 'investir': 15259,\n",
       " 'investimento': 15226,\n",
       " 'mercadofinanceiro': 18171,\n",
       " 'ibovespa': 14274,\n",
       " 'cdi': 6118,\n",
       " 'rendafixa': 23326,\n",
       " 'multimercado': 18927,\n",
       " 'alvarez': 2578,\n",
       " 'marsal': 17763,\n",
       " 'estara': 10823,\n",
       " 'conosco': 7306,\n",
       " 'sportainmet': 25509,\n",
       " 'simboloderegistrar': 25022,\n",
       " 'labs': 16248,\n",
       " 'primeiro': 21879,\n",
       " 'evento': 11048,\n",
       " 'sportainment': 25506,\n",
       " 'america': 2679,\n",
       " 'latino': 16388,\n",
       " 'parceria': 20441,\n",
       " 'pactual': 20245,\n",
       " 'hubstage': 14201,\n",
       " 'bichara': 4561,\n",
       " 'motta': 18770,\n",
       " 'advogado': 2023,\n",
       " 'win': 28386,\n",
       " 'the': 26398,\n",
       " 'game': 12724,\n",
       " 'participar': 20482,\n",
       " 'online': 19903,\n",
       " 'gratuito': 13291,\n",
       " '23': 711,\n",
       " 'marco': 17629,\n",
       " 'inscrevase': 14888,\n",
       " 'bio': 4596,\n",
       " 'coracaoazul': 7655,\n",
       " 'rostocomolhopiscar': 23991,\n",
       " 'sportainmentlab': 25507,\n",
       " 'bicharaemotta': 4563,\n",
       " 'btgpactual': 5309,\n",
       " 'winthegame': 28401,\n",
       " 'esporte': 10742,\n",
       " 'entretenimento': 10411,\n",
       " 'digital': 9172,\n",
       " 'futuro': 12624,\n",
       " 'repost': 23402,\n",
       " 'with': 28417,\n",
       " 'makerepost': 17349,\n",
       " 'entenda': 10377,\n",
       " 'impacto': 14478,\n",
       " 'conflito': 7246,\n",
       " 'russia': 24170,\n",
       " 'ucranio': 27163,\n",
       " 'cenario': 6188,\n",
       " 'live': 16826,\n",
       " 'ineditar': 14735,\n",
       " 'amanho': 2619,\n",
       " 'partir': 20502,\n",
       " '14h': 369,\n",
       " 'anatole': 2789,\n",
       " 'kaletsky': 16045,\n",
       " 'sociofundador': 25244,\n",
       " 'economistachefe': 9795,\n",
       " 'gavekal': 12812,\n",
       " 'research': 23446,\n",
       " 'joao': 15728,\n",
       " 'scandiuzzi': 24500,\n",
       " 'estrategista': 10910,\n",
       " 'wealth': 28279,\n",
       " 'management': 17394,\n",
       " 'moderacao': 18567,\n",
       " 'daniel': 8261,\n",
       " 'cunha': 8125,\n",
       " 'estarao': 10824,\n",
       " 'vivo': 28111,\n",
       " 'canal': 5677,\n",
       " 'youtube': 28614,\n",
       " 'nao': 19059,\n",
       " 'perca': 20790,\n",
       " 'informacao': 14799,\n",
       " 'importante': 14517,\n",
       " 'audio': 3727,\n",
       " 'original': 20074,\n",
       " 'ingles': 14820,\n",
       " 'minuto': 18449,\n",
       " 'touro': 26734,\n",
       " 'ouro': 20173,\n",
       " 'ricktolledo': 23714,\n",
       " 'sim': 25009,\n",
       " 'querer': 22537,\n",
       " 'saber': 24204,\n",
       " 'banking': 4144,\n",
       " 'propria': 22170,\n",
       " 'administrar': 1945,\n",
       " 'inicio': 14841,\n",
       " 'guerra': 13424,\n",
       " 'bom': 4868,\n",
       " 'velho': 27652,\n",
       " 'aparecer': 3017,\n",
       " 'hedge': 13637,\n",
       " 'carteira': 5943,\n",
       " 'afinal': 2061,\n",
       " 'vantagem': 27566,\n",
       " 'intrinsecar': 15154,\n",
       " 'reserva': 23455,\n",
       " 'valor': 27505,\n",
       " 'trofeu': 27033,\n",
       " 'muito': 18850,\n",
       " 'especular': 10709,\n",
       " 'bitcoin': 4630,\n",
       " 'moedar': 18590,\n",
       " 'tornar': 26681,\n",
       " 'mas': 17789,\n",
       " 'parar': 20420,\n",
       " 'pensar': 20764,\n",
       " 'competitivo': 7025,\n",
       " 'criptomoedas': 7970,\n",
       " 'caracteristica': 5808,\n",
       " 'financa': 11903,\n",
       " 'descentralizar': 8748,\n",
       " 'dono': 9540,\n",
       " 'especifico': 10704,\n",
       " 'banco': 4037,\n",
       " 'central': 6209,\n",
       " 'pai': 20294,\n",
       " 'dominante': 9514,\n",
       " 'liberdade': 16652,\n",
       " 'essencia': 10763,\n",
       " 'dinheirovoar': 9219,\n",
       " 'hillary': 13757,\n",
       " 'clinton': 6680,\n",
       " 'christine': 6456,\n",
       " 'lagarde': 16277,\n",
       " 'presidente': 21801,\n",
       " 'bce': 4283,\n",
       " 'preocupar': 21745,\n",
       " 'possibilidade': 21524,\n",
       " 'driblar': 9643,\n",
       " 'sancoes': 24349,\n",
       " 'atrave': 3692,\n",
       " 'criptomoeda': 7969,\n",
       " 'segundo': 24608,\n",
       " 'reportagem': 23396,\n",
       " 'exame': 11113,\n",
       " 'site': 25142,\n",
       " 'future': 12618,\n",
       " 'of': 19742,\n",
       " 'money': 18629,\n",
       " 'futofmoney': 12614,\n",
       " 'entretanto': 10409,\n",
       " 'especialista': 10694,\n",
       " 'dizer': 9437,\n",
       " 'mesmo': 18221,\n",
       " 'acontecer': 1811,\n",
       " 'haver': 13604,\n",
       " 'liquidez': 16798,\n",
       " 'suficiente': 25751,\n",
       " 'tamanho': 26003,\n",
       " 'economia': 9777,\n",
       " 'cabecaexplodir': 5476,\n",
       " 'independente': 14663,\n",
       " 'ver': 27728,\n",
       " 'seguir': 24597,\n",
       " 'cada': 5505,\n",
       " 'vez': 27810,\n",
       " 'vir': 27990,\n",
       " 'ganhar': 12740,\n",
       " 'espaco': 10676,\n",
       " 'mundo': 18944,\n",
       " 'crescer': 7928,\n",
       " 'larga': 16348,\n",
       " 'escala': 10560,\n",
       " 'so': 25200,\n",
       " 'semana': 24684,\n",
       " 'valorizacao': 27514,\n",
       " '26': 786,\n",
       " 'enquanto': 10352,\n",
       " 'sair': 24273,\n",
       " 'r38000': 22633,\n",
       " 'r42000': 22636,\n",
       " 'aviso': 3895,\n",
       " 'estomago': 10883,\n",
       " 'aguentar': 2229,\n",
       " 'volatilidade': 28149,\n",
       " 'graficosubindo': 13239,\n",
       " 'graficocair': 13234,\n",
       " 'comecar': 6909,\n",
       " 'bradesco': 5017,\n",
       " 'indicar': 14692,\n",
       " 'perfil': 20832,\n",
       " 'moderar': 18570,\n",
       " 'hashdex': 13594,\n",
       " 'hashdexcripto': 13595,\n",
       " 'proprio': 22175,\n",
       " 'etf': 10964,\n",
       " 'ticker': 26482,\n",
       " 'hash11': 13593,\n",
       " 'cesta': 6287,\n",
       " 'disclaimer': 9283,\n",
       " 'antes': 2960,\n",
       " 'inve': 15176,\n",
       " 'imobiliario': 14455,\n",
       " 'hospital': 13898,\n",
       " 'senhora': 24735,\n",
       " 'lourdes': 16983,\n",
       " 'nslu11': 19550,\n",
       " 'informar': 14805,\n",
       " 'ainda': 2256,\n",
       " 'receber': 22922,\n",
       " 'totalidade': 26718,\n",
       " 'pagamento': 20267,\n",
       " 'aluguel': 2569,\n",
       " 'mensal': 18109,\n",
       " 'referente': 23134,\n",
       " 'janeiro': 15587,\n",
       " '2022': 619,\n",
       " 'devido': 9024,\n",
       " 'locatario': 16883,\n",
       " 'rede': 23056,\n",
       " 'dor': 9545,\n",
       " 'acordo': 1820,\n",
       " 'administradora': 1943,\n",
       " 'distribuicao': 9363,\n",
       " 'rendimento': 23341,\n",
       " 'cotista': 7819,\n",
       " 'impactar': 14474,\n",
       " 'negativamente': 19198,\n",
       " 'cerca': 6237,\n",
       " '039': 46,\n",
       " 'cota': 7813,\n",
       " 'tambem': 26006,\n",
       " 'tomar': 26625,\n",
       " 'medida': 17999,\n",
       " 'necessario': 19174,\n",
       " 'diferenca': 9142,\n",
       " 'pagar': 20270,\n",
       " 'cumprimento': 8122,\n",
       " 'sentenca': 24755,\n",
       " 'judicial': 15910,\n",
       " 'fevereiro': 11757,\n",
       " 'parte': 20474,\n",
       " 'apos': 3102,\n",
       " 'determinacao': 8983,\n",
       " 'justica': 16009,\n",
       " 'storie': 25645,\n",
       " 'wwwclubefiinewscombr': 28508,\n",
       " 'fundosimobiliarios': 12559,\n",
       " 'fiis': 11843,\n",
       " 'mercadoimobiliario': 18177,\n",
       " 'fundoimobiliario': 12535,\n",
       " 'realestate': 22874,\n",
       " 'imoveis': 14462,\n",
       " 'rendapassivar': 23335,\n",
       " 'parceiro': 20433,\n",
       " 'wiseaai': 28409,\n",
       " 'mover': 18779,\n",
       " 'day': 8360,\n",
       " 'missao': 18479,\n",
       " 'investidor': 15209,\n",
       " 'completo': 7040,\n",
       " 'te': 26096,\n",
       " 'ajudar': 2279,\n",
       " 'decisoes': 8453,\n",
       " 'gerir': 12930,\n",
       " 'capital': 5769,\n",
       " 'work': 28450,\n",
       " 'compartilhamos': 7000,\n",
       " 'plano': 21220,\n",
       " 'meta': 18232,\n",
       " 'insurance': 15028,\n",
       " 'traca': 26766,\n",
       " 'caminho': 5642,\n",
       " 'levar': 16610,\n",
       " 'longe': 16932,\n",
       " 'saving': 24477,\n",
       " 'entregar': 10404,\n",
       " 'sucesso': 25727,\n",
       " 'personalizar': 20926,\n",
       " 'enjoy': 10343,\n",
       " 'selecao': 24658,\n",
       " 'realmente': 22897,\n",
       " 'importar': 14520,\n",
       " '12': 261,\n",
       " 'ano': 2916,\n",
       " 'historia': 13784,\n",
       " 'fundar': 12523,\n",
       " '2009': 598,\n",
       " 'wise': 28407,\n",
       " 'escritorio': 10624,\n",
       " 'contratar': 7539,\n",
       " 'grande': 13258,\n",
       " 'brasil': 5042,\n",
       " '45': 1107,\n",
       " '44': 1097,\n",
       " 'diferentes': 9150,\n",
       " 'cidade': 6499,\n",
       " '10000': 134,\n",
       " 'cliente': 6655,\n",
       " 'amigo': 2696,\n",
       " 'moveday': 18776,\n",
       " 'ha': 13508,\n",
       " '10': 131,\n",
       " 'viver': 28092,\n",
       " '24': 734,\n",
       " 'hora': 13872,\n",
       " 'dia': 9051,\n",
       " 'mercado': 18155,\n",
       " 'financeiro': 11920,\n",
       " 'empreer': 10171,\n",
       " 'setor': 24854,\n",
       " 'mês': 19024,\n",
       " 'optar': 19993,\n",
       " 'junto': 15983,\n",
       " 'socio': 25239,\n",
       " 'mudar': 18843,\n",
       " 'casa': 5968,\n",
       " 'bandeira': 4082,\n",
       " 'decisao': 8448,\n",
       " 'depois': 8656,\n",
       " 'facil': 11397,\n",
       " 'exigir': 11185,\n",
       " 'paciencia': 20239,\n",
       " 'racionalidade': 22676,\n",
       " 'foco': 12136,\n",
       " 'zona': 28675,\n",
       " 'conforto': 7254,\n",
       " 'enxergar': 10451,\n",
       " 'quanto': 22487,\n",
       " 'oportunidade': 19975,\n",
       " 'desafio': 8701,\n",
       " 'frente': 12418,\n",
       " 'apoio': 3087,\n",
       " 'respeito': 23487,\n",
       " 'tudo': 27089,\n",
       " 'possuir': 21537,\n",
       " 'pessoa': 20971,\n",
       " 'excelente': 11127,\n",
       " 'gabarito': 12647,\n",
       " 'fazer': 11574,\n",
       " 'obrigado': 19651,\n",
       " 'aquele': 3200,\n",
       " 'apoiar': 3083,\n",
       " 'motivar': 18753,\n",
       " 'torcer': 26672,\n",
       " 'inovar': 14872,\n",
       " 'forma': 12253,\n",
       " 'negocio': 19211,\n",
       " 'realizar': 22887,\n",
       " 'sonho': 25392,\n",
       " 'comeco': 6920,\n",
       " 'sejaonix': 24650,\n",
       " 'deumbtg': 8991,\n",
       " 'thaotinhasbfc': 26390,\n",
       " 'carteiro': 5955,\n",
       " 'recomendar': 22987,\n",
       " 'ar': 3208,\n",
       " 'arraste': 3335,\n",
       " 'tela': 26168,\n",
       " 'recomendacoes': 22983,\n",
       " 'equipe': 10497,\n",
       " 'valer': 27487,\n",
       " 'lembrar': 16526,\n",
       " 'relatorio': 23261,\n",
       " 'ficar': 11804,\n",
       " 'disponivel': 9331,\n",
       " 'area': 3252,\n",
       " 'analise': 2762,\n",
       " 'baixar': 3990,\n",
       " 'gratuitamente': 13290,\n",
       " 'rendavariavel': 23338,\n",
       " 'carteirarecomendar': 5953,\n",
       " 'prosperidadeinvestimento': 22190,\n",
       " 'passado': 20523,\n",
       " 'ceo': 6224,\n",
       " 'conference': 7208,\n",
       " 'conferencia': 7209,\n",
       " 'politico': 21385,\n",
       " 'tecnologia': 26142,\n",
       " 'incrivel': 14642,\n",
       " 'tbt': 26083,\n",
       " 'dois': 9491,\n",
       " 'trouxer': 27049,\n",
       " 'abordar': 1622,\n",
       " 'tema': 26193,\n",
       " 'economico': 9788,\n",
       " 'conversa': 7572,\n",
       " 'precandidato': 21646,\n",
       " 'presidencia': 21797,\n",
       " 'republica': 23426,\n",
       " 'verde': 27745,\n",
       " 'alto': 2559,\n",
       " 'selic': 24674,\n",
       " 'uma': 27211,\n",
       " 'prazer': 21641,\n",
       " 'apresentar': 3153,\n",
       " 'painel': 20300,\n",
       " 'rever': 23614,\n",
       " 'colega': 6845,\n",
       " 'alem': 2366,\n",
       " 'conhecer': 7286,\n",
       " 'time': 26513,\n",
       " 'influenciador': 14786,\n",
       " 'integrar': 15043,\n",
       " 'objetivo': 19638,\n",
       " 'democratizar': 8603,\n",
       " 'acesso': 1753,\n",
       " 'brasileiro': 5052,\n",
       " 'invistir': 15315,\n",
       " 'exclusivamente': 11146,\n",
       " 'companhia': 6987,\n",
       " 'estrangeiro': 10895,\n",
       " 'nextep': 19312,\n",
       " 'lanca': 16313,\n",
       " 'equities': 10507,\n",
       " 'pg': 21043,\n",
       " 'fiar': 11788,\n",
       " 'bdr': 4292,\n",
       " 'nivel': 19399,\n",
       " 'principal': 21900,\n",
       " 'plataforma': 21244,\n",
       " 'publico': 22334,\n",
       " 'geral': 12912,\n",
       " 'noticia': 19495,\n",
       " 'destaque': 8950,\n",
       " 'capa': 5753,\n",
       " 'financas': 11905,\n",
       " 'jornal': 15808,\n",
       " 'valoreconomico': 27511,\n",
       " 'gestora': 12962,\n",
       " 'decada': 8421,\n",
       " 'experiencia': 11214,\n",
       " 'gestao': 12941,\n",
       " 'ativo': 3647,\n",
       " 'caso': 6013,\n",
       " 'demanda': 8591,\n",
       " 'mediante': 17985,\n",
       " 'solicitacao': 25297,\n",
       " 'assessor': 3484,\n",
       " 'oramainvestimentos': 20016,\n",
       " 'breve': 5114,\n",
       " 'veiculo': 27635,\n",
       " 'estrategia': 10898,\n",
       " 'produto': 22005,\n",
       " 'visar': 28016,\n",
       " 'proporcionar': 22162,\n",
       " 'ganho': 12749,\n",
       " 'absoluto': 1669,\n",
       " 'dolar': 9495,\n",
       " 'meio': 18033,\n",
       " 'buscar': 5416,\n",
       " 'empresa': 10182,\n",
       " 'solir': 25309,\n",
       " 'modelo': 18563,\n",
       " 'liderar': 16693,\n",
       " 'executivo': 11166,\n",
       " 'comprovadamente': 7091,\n",
       " 'competente': 7015,\n",
       " 'alinhar': 2461,\n",
       " 'acionista': 1776,\n",
       " 'minoritario': 18443,\n",
       " 'consulte': 7422,\n",
       " 'httpsbitly3c8y5we': 13956,\n",
       " 'nextepinvestimento': 19313,\n",
       " 'nextepnamidia': 19314,\n",
       " 'ativosglobal': 3650,\n",
       " 'fundosglobal': 12552,\n",
       " 'angelo': 2875,\n",
       " 'alberoni': 2315,\n",
       " 'gerente': 12927,\n",
       " 'nacional': 19031,\n",
       " 'betcris': 4492,\n",
       " 'proprietario': 22174,\n",
       " 'betziliancom': 4504,\n",
       " 'presenca': 21775,\n",
       " 'confirmar': 7243,\n",
       " 'lab': 16242,\n",
       " 'ir': 15364,\n",
       " 'presente': 21788,\n",
       " 'universo': 27312,\n",
       " 'mundial': 18942,\n",
       " 'serao': 24781,\n",
       " 'aproximadamente': 3181,\n",
       " 'conteudo': 7497,\n",
       " 'exclusivo': 11150,\n",
       " 'comandar': 6893,\n",
       " 'top': 26650,\n",
       " 'player': 21257,\n",
       " 'tacharedondo': 25960,\n",
       " 'hubstager': 14202,\n",
       " 'michael': 18301,\n",
       " 'meltzer': 18069,\n",
       " 'latina': 16380,\n",
       " 'chegar': 6399,\n",
       " 'lideranca': 16688,\n",
       " 'reunir': 23602,\n",
       " 'lugar': 17075,\n",
       " 'fomentar': 12188,\n",
       " 'alavancar': 2313,\n",
       " '7h30': 1395,\n",
       " '19h': 548,\n",
       " 'transmissao': 26903,\n",
       " 'definicao': 8509,\n",
       " 'correr': 7750,\n",
       " 'tempo': 26206,\n",
       " 'megafone': 18022,\n",
       " 'atencao': 3602,\n",
       " 'passar': 20529,\n",
       " 'feed': 11626,\n",
       " 'agenda': 2110,\n",
       " 'cheio': 6406,\n",
       " 'startup': 25585,\n",
       " 'empreendedor': 10147,\n",
       " 'empreendedora': 10148,\n",
       " 'confirer': 7238,\n",
       " 'curadoria': 8136,\n",
       " 'losangolaranjapequeno': 16956,\n",
       " 'pitch': 21166,\n",
       " 'is': 15410,\n",
       " 'on': 19871,\n",
       " 'table': 25948,\n",
       " 'especial': 10690,\n",
       " 'mulher': 18862,\n",
       " '0803': 103,\n",
       " 'talk': 25997,\n",
       " 'consciente': 7320,\n",
       " 'proposito': 22167,\n",
       " 'significar': 24975,\n",
       " 'trajetoria': 26858,\n",
       " 'profissional': 22042,\n",
       " '18h': 495,\n",
       " 'ace': 1723,\n",
       " 'experiente': 11218,\n",
       " 'cofundar': 6798,\n",
       " 'zero': 28657,\n",
       " 'inscricoes': 14892,\n",
       " 'ate': 3596,\n",
       " '1003': 140,\n",
       " 'programa': 22071,\n",
       " 'somar': 25336,\n",
       " 'leste': 16586,\n",
       " 'sao': 24399,\n",
       " 'paulo': 20618,\n",
       " '1303': 314,\n",
       " 'desafix': 8706,\n",
       " 'ciser': 6572,\n",
       " '1503': 380,\n",
       " 'grow': 13353,\n",
       " '2703': 807,\n",
       " 'greensampa': 13321,\n",
       " 'acelerar': 1735,\n",
       " '30': 884,\n",
       " '3105': 919,\n",
       " 'acesse': 1750,\n",
       " 'kaleydoscombr': 16046,\n",
       " 'compartilhar': 7001,\n",
       " 'edital': 9829,\n",
       " 'gente': 12879,\n",
       " 'adicionar': 1928,\n",
       " 'proximo': 22266,\n",
       " 'negociosdeimpacto': 19220,\n",
       " 'impactoambiental': 14479,\n",
       " 'empreendedorismofeminino': 10157,\n",
       " 'empreendedorismoperiferico': 10159,\n",
       " 'afroempreendedorismo': 2079,\n",
       " 'kaleydosoficial': 16047,\n",
       " 'maosaplaudir': 17510,\n",
       " 'categoria': 6046,\n",
       " 'automobilismo': 3796,\n",
       " 'ambev': 2646,\n",
       " 'havanoficial': 13601,\n",
       " 'bancodobrasil': 4056,\n",
       " 'clarobrasi': 6602,\n",
       " 'itau': 15485,\n",
       " 'santander': 24379,\n",
       " 'wegelectric': 28305,\n",
       " 'conta': 7450,\n",
       " 'dar': 8307,\n",
       " 'baile': 3984,\n",
       " 'raio': 22743,\n",
       " 'continuar': 7507,\n",
       " 'adeus': 1915,\n",
       " 'escolha': 10594,\n",
       " 'c6bank': 5463,\n",
       " 'bancointer': 4062,\n",
       " 'feliz': 11680,\n",
       " 'rostosorridentecom3coracoes': 24067,\n",
       " 'maoacenar': 17493,\n",
       " 'iitaufoi': 14395,\n",
       " 'ruim': 24145,\n",
       " 'sempre': 24709,\n",
       " 'nunca': 19580,\n",
       " 'trazer': 26944,\n",
       " 'novo': 19532,\n",
       " 'componente': 7053,\n",
       " 'principalmente': 21902,\n",
       " 'questoes': 22558,\n",
       " 'geopolitico': 12897,\n",
       " 'escalada': 10563,\n",
       " 'tensoes': 26258,\n",
       " 'europeu': 11019,\n",
       " 'fator': 11544,\n",
       " 'direcionamento': 9237,\n",
       " 'fluxo': 12114,\n",
       " 'invasao': 15173,\n",
       " 'ucrania': 27160,\n",
       " 'imaginamos': 14428,\n",
       " 'buscarao': 5417,\n",
       " 'direcionar': 9238,\n",
       " 'parcela': 20436,\n",
       " 'alocacao': 2508,\n",
       " 'seguro': 24621,\n",
       " 'flight': 12052,\n",
       " 'quality': 22469,\n",
       " 'pouco': 21576,\n",
       " 'visibilidade': 28020,\n",
       " 'atual': 3709,\n",
       " 'relacao': 23246,\n",
       " 'desenrolar': 8822,\n",
       " 'impor': 14510,\n",
       " 'estados': 10801,\n",
       " 'unidos': 27268,\n",
       " 'otan': 20130,\n",
       " 'firme': 11987,\n",
       " 'postura': 21561,\n",
       " 'fed': 11613,\n",
       " 'politica': 21376,\n",
       " 'monetar': 18624,\n",
       " 'forte': 12291,\n",
       " 'performance': 20841,\n",
       " 'commodities': 6969,\n",
       " 'exemplo': 11170,\n",
       " 'gerar': 12920,\n",
       " 'rotacao': 24080,\n",
       " 'expor': 11261,\n",
       " 'risco': 23763,\n",
       " 'crescimento': 7931,\n",
       " 'filme': 11877,\n",
       " 'beneficiar': 4437,\n",
       " 'exposicao': 11266,\n",
       " 'retomada': 23569,\n",
       " 'china': 6435,\n",
       " 'estimulos': 10868,\n",
       " 'relevancia': 23267,\n",
       " 'ilustrar': 14423,\n",
       " 'apetite': 3051,\n",
       " 'entrada': 10396,\n",
       " 'numero': 19576,\n",
       " 'recente': 22940,\n",
       " 'apontar': 3098,\n",
       " 'quase': 22501,\n",
       " '70': 1327,\n",
       " 'bilhoes': 4582,\n",
       " 'bolsa': 4819,\n",
       " 'comentar': 6932,\n",
       " 'temporada': 26208,\n",
       " 'trimestral': 27006,\n",
       " 'intenso': 15072,\n",
       " 'observar': 19666,\n",
       " 'saudavel': 24459,\n",
       " 'suportar': 25843,\n",
       " 'hericlessisnar': 13695,\n",
       " 'instagr': 14943,\n",
       " 'deixar': 8529,\n",
       " 'publicar': 22331,\n",
       " 'imagem': 14426,\n",
       " 'post': 21543,\n",
       " 'entao': 10373,\n",
       " 'conseguir': 7327,\n",
       " 'colacar': 6830,\n",
       " 'dy': 9724,\n",
       " 'reorganizar': 23370,\n",
       " 'layout': 16421,\n",
       " 'postar': 21546,\n",
       " 'dica': 9112,\n",
       " 'galera': 12694,\n",
       " 'cader': 5518,\n",
       " 'dividendo': 9407,\n",
       " 'rostochorar': 23979,\n",
       " 'ja': 15545,\n",
       " 'estao': 10821,\n",
       " 'dorsodamaocomdedoindicadorapontandoparaadireita': 9557,\n",
       " 'httpswwwbtgpactualcom': 14124,\n",
       " 'legacy': 16485,\n",
       " 'ribeirao': 23685,\n",
       " 'preto': 21835,\n",
       " 'bauru': 4259,\n",
       " 'jose': 15837,\n",
       " 'rio': 23732,\n",
       " 'apenas': 3037,\n",
       " 'mostrar': 18733,\n",
       " 'apreco': 3129,\n",
       " 'heroi': 13702,\n",
       " 'vencedor': 27689,\n",
       " 'gratidao': 13283,\n",
       " 'trabalhar': 26755,\n",
       " 'marciafx': 17617,\n",
       " 'foguete': 12157,\n",
       " 'divulgacao': 9430,\n",
       " 'tarua': 26045,\n",
       " 'fia': 11781,\n",
       " 'leia': 16506,\n",
       " 'xp': 28547,\n",
       " 'andbank': 2804,\n",
       " 'toro': 26698,\n",
       " 'vitreo': 28073,\n",
       " 'modal': 18550,\n",
       " 'warren': 28252,\n",
       " 'mycap': 19010,\n",
       " 'safrao': 24256,\n",
       " 'taruacapital': 26046,\n",
       " 'encontro': 10253,\n",
       " 'empresario': 10194,\n",
       " 'almoco': 2502,\n",
       " 'discutir': 9302,\n",
       " 'perspectiva': 20931,\n",
       " 'macroeconomicasagronegocios': 17236,\n",
       " 'jccapital': 15634,\n",
       " 'lifetimeinvestimentos': 16707,\n",
       " 'hub': 14199,\n",
       " 'conexao': 7200,\n",
       " 'agro': 2183,\n",
       " 'agropecuariabrasil': 2214,\n",
       " 'agronegocio': 2210,\n",
       " 'agropecuaria': 2213,\n",
       " 'assessora': 3485,\n",
       " 'setaparaadireitacurvadaparabaixo': 24842,\n",
       " 'tecla1': 26124,\n",
       " 'gerenciamento': 12925,\n",
       " 'patrimonio': 20583,\n",
       " 'tecla2': 26125,\n",
       " 'preparar': 21755,\n",
       " 'constante': 7383,\n",
       " 'mudanca': 18841,\n",
       " 'tecla3': 26126,\n",
       " 'atendimento': 3612,\n",
       " 'tecla4': 26127,\n",
       " 'administracao': 1940,\n",
       " 'tecla5': 26128,\n",
       " 'alcance': 2334,\n",
       " 'rapido': 22791,\n",
       " 'portanto': 21466,\n",
       " 'motivo': 18755,\n",
       " 'claro': 6601,\n",
       " 'apostar': 3109,\n",
       " 'assessoria': 3498,\n",
       " 'opcao': 19923,\n",
       " 'aplicar': 3073,\n",
       " 'corretamente': 7757,\n",
       " 'sacodedinheiro': 24229,\n",
       " 'financo': 11951,\n",
       " 'maneira': 17421,\n",
       " 'dinheiro': 9210,\n",
       " 'milha': 18359,\n",
       " 'aereo': 2038,\n",
       " 'ferramenta': 11730,\n",
       " 'processo': 21982,\n",
       " 'acumulo': 1859,\n",
       " 'ponto': 21411,\n",
       " 'escolher': 10598,\n",
       " 'cartao': 5940,\n",
       " 'back': 3969,\n",
       " 'gastar': 12795,\n",
       " 'sala': 24280,\n",
       " 'vip': 27988,\n",
       " 'beneficio': 4441,\n",
       " 'mastercard': 17809,\n",
       " 'ai': 2248,\n",
       " 'utilizar': 27428,\n",
       " 'credito': 7902,\n",
       " 'favor': 11558,\n",
       " 'eitar': 9938,\n",
       " 'existir': 11192,\n",
       " 'ninguem': 19379,\n",
       " 'responder': 23495,\n",
       " 'nem': 19246,\n",
       " 'direct': 9239,\n",
       " 'simples': 25042,\n",
       " 'pergunta': 20847,\n",
       " 'melhorar': 18049,\n",
       " 'grosso': 13349,\n",
       " 'comigo': 6958,\n",
       " 'preciso': 21670,\n",
       " 'resposta': 23510,\n",
       " 'pois': 21344,\n",
       " 'serio': 24802,\n",
       " 'mandar': 17410,\n",
       " 'perguntar': 20848,\n",
       " 'privado': 21933,\n",
       " 'jeito': 15659,\n",
       " 'falar': 11447,\n",
       " 'alocar': 2511,\n",
       " 'atualizacao': 3711,\n",
       " 'elsonlins': 10049,\n",
       " 'rostocomolharmaravilhar': 23988,\n",
       " 'disciplina': 9279,\n",
       " 'aumente': 3752,\n",
       " 'volume': 28158,\n",
       " 'escutar': 10647,\n",
       " 'latido': 16378,\n",
       " 'frederico': 12398,\n",
       " 'dou': 9583,\n",
       " 'pratico': 21631,\n",
       " 'iniciar': 14838,\n",
       " 'hoje': 13809,\n",
       " 'rostochorandoderir': 23978,\n",
       " 'alguem': 2421,\n",
       " 'video': 27898,\n",
       " 'duvida': 9712,\n",
       " 'duver': 9711,\n",
       " 'tesourodireto': 26335,\n",
       " 'onixcapital': 19901,\n",
       " 'gwminvestments': 13504,\n",
       " 'base': 4213,\n",
       " 'daytrader': 8366,\n",
       " 'stockmarket': 25632,\n",
       " 'oficinadotrader': 19791,\n",
       " 'dolarfuturo': 9497,\n",
       " 'dolarsemsetup': 9499,\n",
       " 'oficinadofraja': 19790,\n",
       " 'inscrer': 14884,\n",
       " 'growstartups': 13357,\n",
       " 'blackrocksstartups': 4666,\n",
       " 'tecnologico': 26148,\n",
       " 'pre': 21644,\n",
       " 'operacao': 19942,\n",
       " 'aceleracao': 1731,\n",
       " 'dedicar': 8478,\n",
       " 'acer': 1738,\n",
       " 'inscrever': 14889,\n",
       " 'pormaisnegrasnegro': 21445,\n",
       " 'tiktokbrasil': 26506,\n",
       " 'amazonwebservice': 2643,\n",
       " 'did': 9121,\n",
       " 'somebody': 25343,\n",
       " 'say': 24484,\n",
       " 'dessert': 8941,\n",
       " 'catupiry': 6057,\n",
       " 'blueberrytart': 4721,\n",
       " 'blueberryrecipes': 4720,\n",
       " 'catupiryblueberrytartr': 6058,\n",
       " 'creamcheesetart': 7885,\n",
       " 'chefleticia': 6394,\n",
       " 'virtualcookingclass': 28003,\n",
       " 'onlinecookingclass': 19904,\n",
       " 'latincookingclass': 16385,\n",
       " 'projeto': 22101,\n",
       " 'possivel': 21531,\n",
       " 'atraves': 3694,\n",
       " 'arquitetura': 3317,\n",
       " 'comunicacao': 7107,\n",
       " 'visual': 28042,\n",
       " 'criar': 7947,\n",
       " 'conexoes': 7204,\n",
       " 'ambiente': 2656,\n",
       " 'transformar': 26895,\n",
       " 'ideia': 14313,\n",
       " 'realidade': 22876,\n",
       " 'ambientacao': 2651,\n",
       " 'sinalizacao': 25062,\n",
       " 'aplicacao': 3068,\n",
       " 'marca': 17554,\n",
       " 'final': 11892,\n",
       " 'criacao': 7938,\n",
       " 'identidade': 14317,\n",
       " 'brand': 5027,\n",
       " 'space': 25460,\n",
       " 'casamento': 5987,\n",
       " 'vario': 27591,\n",
       " 'busca': 5412,\n",
       " 'investigamos': 15220,\n",
       " 'circulacao': 6545,\n",
       " 'uso': 27397,\n",
       " 'assim': 3527,\n",
       " 'desenvolver': 8829,\n",
       " 'sistema': 25131,\n",
       " 'quatro': 22503,\n",
       " 'mao': 17490,\n",
       " 'formato': 12268,\n",
       " 'ideal': 14304,\n",
       " 'desenhar': 8820,\n",
       " 'impecavel': 14491,\n",
       " 'harmonia': 13586,\n",
       " 'revelar': 23609,\n",
       " 'minimo': 18426,\n",
       " 'detalhe': 8975,\n",
       " 'gosto': 13174,\n",
       " 'encaixe': 10221,\n",
       " 'perfeito': 20830,\n",
       " 'perceber': 20794,\n",
       " 'peca': 20682,\n",
       " 'afirmar': 2065,\n",
       " 'vitoria': 28064,\n",
       " 'bezerra': 4508,\n",
       " 'lider': 16686,\n",
       " 'dea': 8380,\n",
       " 'design': 8857,\n",
       " 'perkinswill': 20872,\n",
       " 'deadesign': 8382,\n",
       " 'albert': 2316,\n",
       " 'einstein': 9936,\n",
       " 'mba': 17919,\n",
       " 'marcelodonatelli': 17587,\n",
       " 'machado': 17214,\n",
       " 'meyer': 18272,\n",
       " 'renatonavarrofotografia': 23315,\n",
       " 'bmg': 4732,\n",
       " 'ricardobassetti': 23694,\n",
       " 'advisors': 2017,\n",
       " 'romulofialdini': 23912,\n",
       " 'perkinsandwill': 20868,\n",
       " 'perkinsandwillsaopaulo': 20870,\n",
       " 'designwithpurpose': 8861,\n",
       " 'inspiredbypeople': 14928,\n",
       " 'comunicacaovisual': 7109,\n",
       " 'designdeinterior': 8858,\n",
       " 'winthegameof': 28402,\n",
       " 'participe': 20489,\n",
       " 'horario': 13874,\n",
       " 'quarto': 22499,\n",
       " 'ricardo': 23691,\n",
       " 'fort': 12285,\n",
       " 'fundador': 12514,\n",
       " 'sport': 25505,\n",
       " 'by': 5455,\n",
       " 'consulting': 7423,\n",
       " 'garantir': 12763,\n",
       " 'vaga': 27452,\n",
       " 'marcelo': 17582,\n",
       " 'frazao': 12393,\n",
       " '7h30min': 1396,\n",
       " 'incricoes': 14641,\n",
       " 'startups': 25588,\n",
       " 'facilitar': 11401,\n",
       " 'negro': 19234,\n",
       " 'ecossistema': 9804,\n",
       " 'contar': 7472,\n",
       " 'apoiador': 3081,\n",
       " 'disponibilizar': 9326,\n",
       " 'aperfeicoamento': 3039,\n",
       " 'blackrocks': 4664,\n",
       " 'inovacao': 14866,\n",
       " ...}"
      ]
     },
     "execution_count": 42,
     "metadata": {},
     "output_type": "execute_result"
    }
   ],
   "source": [
    "tfidf.vocabulary_"
   ]
  },
  {
   "cell_type": "code",
   "execution_count": 43,
   "id": "129a82e0",
   "metadata": {},
   "outputs": [
    {
     "data": {
      "text/plain": [
       "array([[0., 0., 0., ..., 0., 0., 0.],\n",
       "       [0., 0., 0., ..., 0., 0., 0.],\n",
       "       [0., 0., 0., ..., 0., 0., 0.],\n",
       "       ...,\n",
       "       [0., 0., 0., ..., 0., 0., 0.],\n",
       "       [0., 0., 0., ..., 0., 0., 0.],\n",
       "       [0., 0., 0., ..., 0., 0., 0.]])"
      ]
     },
     "execution_count": 43,
     "metadata": {},
     "output_type": "execute_result"
    }
   ],
   "source": [
    "X = X.toarray()\n",
    "X"
   ]
  },
  {
   "cell_type": "code",
   "execution_count": 56,
   "id": "f3c0c717",
   "metadata": {},
   "outputs": [],
   "source": [
    "df['sentimento'] = df['sentimento'].map({-1: 0, 0 : 1, 1 : 2})"
   ]
  },
  {
   "cell_type": "code",
   "execution_count": 57,
   "id": "9fd1de0b",
   "metadata": {},
   "outputs": [],
   "source": [
    "# split the dataset into training and testing sets\n",
    "X_train, X_test, y_train, y_test = train_test_split(X, df['sentimento'].values, test_size=0.2, random_state=42)"
   ]
  },
  {
   "cell_type": "code",
   "execution_count": 16,
   "id": "xUlCASCTKVlS",
   "metadata": {
    "id": "xUlCASCTKVlS",
    "scrolled": true
   },
   "outputs": [
    {
     "ename": "ValueError",
     "evalue": "This solver needs samples of at least 2 classes in the data, but the data contains only one class: 1",
     "output_type": "error",
     "traceback": [
      "\u001b[1;31m---------------------------------------------------------------------------\u001b[0m",
      "\u001b[1;31mValueError\u001b[0m                                Traceback (most recent call last)",
      "Input \u001b[1;32mIn [16]\u001b[0m, in \u001b[0;36m<cell line: 18>\u001b[1;34m()\u001b[0m\n\u001b[0;32m     15\u001b[0m nb_model\u001b[38;5;241m.\u001b[39mfit(X_train, y_train)\n\u001b[0;32m     17\u001b[0m lr_model \u001b[38;5;241m=\u001b[39m LogisticRegression()\n\u001b[1;32m---> 18\u001b[0m \u001b[43mlr_model\u001b[49m\u001b[38;5;241;43m.\u001b[39;49m\u001b[43mfit\u001b[49m\u001b[43m(\u001b[49m\u001b[43mX_train\u001b[49m\u001b[43m,\u001b[49m\u001b[43m \u001b[49m\u001b[43my_train\u001b[49m\u001b[43m)\u001b[49m\n\u001b[0;32m     20\u001b[0m xgb_model \u001b[38;5;241m=\u001b[39m xgb\u001b[38;5;241m.\u001b[39mXGBClassifier()\n\u001b[0;32m     21\u001b[0m xgb_model\u001b[38;5;241m.\u001b[39mfit(X_train, y_train)\n",
      "File \u001b[1;32m~\\anaconda3\\lib\\site-packages\\sklearn\\linear_model\\_logistic.py:1554\u001b[0m, in \u001b[0;36mLogisticRegression.fit\u001b[1;34m(self, X, y, sample_weight)\u001b[0m\n\u001b[0;32m   1552\u001b[0m classes_ \u001b[38;5;241m=\u001b[39m \u001b[38;5;28mself\u001b[39m\u001b[38;5;241m.\u001b[39mclasses_\n\u001b[0;32m   1553\u001b[0m \u001b[38;5;28;01mif\u001b[39;00m n_classes \u001b[38;5;241m<\u001b[39m \u001b[38;5;241m2\u001b[39m:\n\u001b[1;32m-> 1554\u001b[0m     \u001b[38;5;28;01mraise\u001b[39;00m \u001b[38;5;167;01mValueError\u001b[39;00m(\n\u001b[0;32m   1555\u001b[0m         \u001b[38;5;124m\"\u001b[39m\u001b[38;5;124mThis solver needs samples of at least 2 classes\u001b[39m\u001b[38;5;124m\"\u001b[39m\n\u001b[0;32m   1556\u001b[0m         \u001b[38;5;124m\"\u001b[39m\u001b[38;5;124m in the data, but the data contains only one\u001b[39m\u001b[38;5;124m\"\u001b[39m\n\u001b[0;32m   1557\u001b[0m         \u001b[38;5;124m\"\u001b[39m\u001b[38;5;124m class: \u001b[39m\u001b[38;5;132;01m%r\u001b[39;00m\u001b[38;5;124m\"\u001b[39m\n\u001b[0;32m   1558\u001b[0m         \u001b[38;5;241m%\u001b[39m classes_[\u001b[38;5;241m0\u001b[39m]\n\u001b[0;32m   1559\u001b[0m     )\n\u001b[0;32m   1561\u001b[0m \u001b[38;5;28;01mif\u001b[39;00m \u001b[38;5;28mlen\u001b[39m(\u001b[38;5;28mself\u001b[39m\u001b[38;5;241m.\u001b[39mclasses_) \u001b[38;5;241m==\u001b[39m \u001b[38;5;241m2\u001b[39m:\n\u001b[0;32m   1562\u001b[0m     n_classes \u001b[38;5;241m=\u001b[39m \u001b[38;5;241m1\u001b[39m\n",
      "\u001b[1;31mValueError\u001b[0m: This solver needs samples of at least 2 classes in the data, but the data contains only one class: 1"
     ]
    }
   ],
   "source": [
    "# split the dataset into training and testing sets\n",
    "X_train, X_test, y_train, y_test = train_test_split(X, df['sentimento'], test_size=0.2, random_state=42)\n",
    "\n",
    "# train the classifiers\n",
    "nb_model = MultinomialNB()\n",
    "nb_model.fit(X_train, y_train)\n",
    "\n",
    "lr_model = LogisticRegression()\n",
    "lr_model.fit(X_train, y_train)\n",
    "\n",
    "xgb_model = xgb.XGBClassifier()\n",
    "xgb_model.fit(X_train, y_train)\n",
    "\n",
    "cat_model = CatBoostClassifier()\n",
    "cat_model.fit(X_train, y_train, verbose=False)\n",
    "\n",
    "# evaluate the classifiers\n",
    "nb_recall = recall_score(y_test, nb_model.predict(X_test), average='macro')\n",
    "lr_recall = recall_score(y_test, lr_model.predict(X_test), average='macro')\n",
    "xgb_recall = recall_score(y_test, xgb_model.predict(X_test), average='macro')\n",
    "cat_recall = recall_score(y_test, cat_model.predict(X_test), average='macro')\n",
    "\n",
    "# plot the recall results\n",
    "models = ['Naive Bayes', 'Logistic Regression', 'XGBoost', 'CatBoost']\n",
    "recalls = [nb_recall, lr_recall, xgb_recall, cat_recall]\n",
    "plt.bar(models, recalls)\n",
    "plt.title('Text Classification Model Comparison')\n",
    "plt.xlabel('Models')\n",
    "plt.ylabel('Recall')\n",
    "plt.show()"
   ]
  },
  {
   "cell_type": "code",
   "execution_count": 58,
   "id": "d92e1157",
   "metadata": {},
   "outputs": [
    {
     "data": {
      "text/plain": [
       "0.6554360959128277"
      ]
     },
     "execution_count": 58,
     "metadata": {},
     "output_type": "execute_result"
    }
   ],
   "source": [
    "\n",
    "\n",
    "# treinando naive bayes\n",
    "nb_model = MultinomialNB()\n",
    "nb_model.fit(X_train, y_train)\n",
    "nb_recall = recall_score(y_test, nb_model.predict(X_test), average='macro')\n",
    "nb_recall"
   ]
  },
  {
   "cell_type": "code",
   "execution_count": 64,
   "id": "ad689a70",
   "metadata": {},
   "outputs": [
    {
     "name": "stdout",
     "output_type": "stream",
     "text": [
      "Train acc: 0.7857756768371293\n",
      "Test acc: 0.6868556701030928\n"
     ]
    }
   ],
   "source": [
    "print(\"Train acc:\",nb_model.score(X_train, y_train))\n",
    "print(\"Test acc:\", nb_model.score(X_test, y_test))"
   ]
  },
  {
   "cell_type": "code",
   "execution_count": 50,
   "id": "13823d86",
   "metadata": {
    "scrolled": true
   },
   "outputs": [
    {
     "name": "stderr",
     "output_type": "stream",
     "text": [
      "C:\\Users\\Rodrigo.INTELI\\anaconda3\\lib\\site-packages\\sklearn\\linear_model\\_logistic.py:814: ConvergenceWarning: lbfgs failed to converge (status=1):\n",
      "STOP: TOTAL NO. of ITERATIONS REACHED LIMIT.\n",
      "\n",
      "Increase the number of iterations (max_iter) or scale the data as shown in:\n",
      "    https://scikit-learn.org/stable/modules/preprocessing.html\n",
      "Please also refer to the documentation for alternative solver options:\n",
      "    https://scikit-learn.org/stable/modules/linear_model.html#logistic-regression\n",
      "  n_iter_i = _check_optimize_result(\n"
     ]
    },
    {
     "data": {
      "text/plain": [
       "0.7171338327349345"
      ]
     },
     "execution_count": 50,
     "metadata": {},
     "output_type": "execute_result"
    }
   ],
   "source": [
    "#Treinando regressão logística\n",
    "lr_model = LogisticRegression()\n",
    "lr_model.fit(X_train, y_train)\n",
    "lr_recall = recall_score(y_test, lr_model.predict(X_test), average='macro')\n",
    "lr_recall"
   ]
  },
  {
   "cell_type": "code",
   "execution_count": 65,
   "id": "e1e4d9e0",
   "metadata": {},
   "outputs": [
    {
     "name": "stdout",
     "output_type": "stream",
     "text": [
      "Train acc: 0.051675977653631286\n",
      "Test acc: 0.11254295532646048\n"
     ]
    }
   ],
   "source": [
    "print(\"Train acc:\",lr_model.score(X_train, y_train))\n",
    "print(\"Test acc:\", lr_model.score(X_test, y_test))"
   ]
  },
  {
   "cell_type": "code",
   "execution_count": 59,
   "id": "318cd5c8",
   "metadata": {},
   "outputs": [
    {
     "data": {
      "text/plain": [
       "0.7121500312443354"
      ]
     },
     "execution_count": 59,
     "metadata": {},
     "output_type": "execute_result"
    }
   ],
   "source": [
    "#Treinando em xgboost\n",
    "xgb_model = xgb.XGBClassifier()\n",
    "xgb_model.fit(X_train, y_train)\n",
    "xgb_recall = recall_score(y_test, xgb_model.predict(X_test), average='macro')\n",
    "xgb_recall"
   ]
  },
  {
   "cell_type": "code",
   "execution_count": 67,
   "id": "0d3c8323",
   "metadata": {},
   "outputs": [
    {
     "name": "stdout",
     "output_type": "stream",
     "text": [
      "Train acc: 0.8626987537602063\n",
      "Test acc: 0.7332474226804123\n"
     ]
    }
   ],
   "source": [
    "print(\"Train acc:\",xgb_model.score(X_train, y_train))\n",
    "print(\"Test acc:\", xgb_model.score(X_test, y_test))"
   ]
  },
  {
   "cell_type": "code",
   "execution_count": 61,
   "id": "fa0797c0",
   "metadata": {},
   "outputs": [
    {
     "data": {
      "text/plain": [
       "0.6892120375610494"
      ]
     },
     "execution_count": 61,
     "metadata": {},
     "output_type": "execute_result"
    }
   ],
   "source": [
    "#Treinando em catboost\n",
    "cat_model = CatBoostClassifier()\n",
    "cat_model.fit(X_train, y_train, verbose=False)\n",
    "cat_recall = recall_score(y_test, cat_model.predict(X_test), average='macro')\n",
    "cat_recall"
   ]
  },
  {
   "cell_type": "code",
   "execution_count": 68,
   "id": "351a55f5",
   "metadata": {},
   "outputs": [
    {
     "name": "stdout",
     "output_type": "stream",
     "text": [
      "Train acc: 0.8022131499785131\n",
      "Test acc: 0.7169243986254296\n"
     ]
    }
   ],
   "source": [
    "print(\"Train acc:\",cat_model.score(X_train, y_train))\n",
    "print(\"Test acc:\", cat_model.score(X_test, y_test))"
   ]
  },
  {
   "cell_type": "code",
   "execution_count": 85,
   "id": "92463aeb",
   "metadata": {},
   "outputs": [
    {
     "data": {
      "application/vnd.plotly.v1+json": {
       "config": {
        "plotlyServerURL": "https://plot.ly"
       },
       "data": [
        {
         "alignmentgroup": "True",
         "hovertemplate": "Models=%{x}<br>Recall=%{y}<extra></extra>",
         "legendgroup": "",
         "marker": {
          "color": "#636efa",
          "pattern": {
           "shape": ""
          }
         },
         "name": "",
         "offsetgroup": "",
         "orientation": "v",
         "showlegend": false,
         "textposition": "auto",
         "type": "bar",
         "x": [
          "Naive Bayes",
          "Logistic Regression",
          "XGBoost",
          "CatBoost"
         ],
         "xaxis": "x",
         "y": [
          0.6554360959128277,
          0.7171338327349345,
          0.7121500312443354,
          0.6892120375610494
         ],
         "yaxis": "y"
        }
       ],
       "layout": {
        "barmode": "relative",
        "height": 400,
        "legend": {
         "tracegroupgap": 0
        },
        "margin": {
         "t": 60
        },
        "template": {
         "data": {
          "bar": [
           {
            "error_x": {
             "color": "#2a3f5f"
            },
            "error_y": {
             "color": "#2a3f5f"
            },
            "marker": {
             "line": {
              "color": "#E5ECF6",
              "width": 0.5
             },
             "pattern": {
              "fillmode": "overlay",
              "size": 10,
              "solidity": 0.2
             }
            },
            "type": "bar"
           }
          ],
          "barpolar": [
           {
            "marker": {
             "line": {
              "color": "#E5ECF6",
              "width": 0.5
             },
             "pattern": {
              "fillmode": "overlay",
              "size": 10,
              "solidity": 0.2
             }
            },
            "type": "barpolar"
           }
          ],
          "carpet": [
           {
            "aaxis": {
             "endlinecolor": "#2a3f5f",
             "gridcolor": "white",
             "linecolor": "white",
             "minorgridcolor": "white",
             "startlinecolor": "#2a3f5f"
            },
            "baxis": {
             "endlinecolor": "#2a3f5f",
             "gridcolor": "white",
             "linecolor": "white",
             "minorgridcolor": "white",
             "startlinecolor": "#2a3f5f"
            },
            "type": "carpet"
           }
          ],
          "choropleth": [
           {
            "colorbar": {
             "outlinewidth": 0,
             "ticks": ""
            },
            "type": "choropleth"
           }
          ],
          "contour": [
           {
            "colorbar": {
             "outlinewidth": 0,
             "ticks": ""
            },
            "colorscale": [
             [
              0,
              "#0d0887"
             ],
             [
              0.1111111111111111,
              "#46039f"
             ],
             [
              0.2222222222222222,
              "#7201a8"
             ],
             [
              0.3333333333333333,
              "#9c179e"
             ],
             [
              0.4444444444444444,
              "#bd3786"
             ],
             [
              0.5555555555555556,
              "#d8576b"
             ],
             [
              0.6666666666666666,
              "#ed7953"
             ],
             [
              0.7777777777777778,
              "#fb9f3a"
             ],
             [
              0.8888888888888888,
              "#fdca26"
             ],
             [
              1,
              "#f0f921"
             ]
            ],
            "type": "contour"
           }
          ],
          "contourcarpet": [
           {
            "colorbar": {
             "outlinewidth": 0,
             "ticks": ""
            },
            "type": "contourcarpet"
           }
          ],
          "heatmap": [
           {
            "colorbar": {
             "outlinewidth": 0,
             "ticks": ""
            },
            "colorscale": [
             [
              0,
              "#0d0887"
             ],
             [
              0.1111111111111111,
              "#46039f"
             ],
             [
              0.2222222222222222,
              "#7201a8"
             ],
             [
              0.3333333333333333,
              "#9c179e"
             ],
             [
              0.4444444444444444,
              "#bd3786"
             ],
             [
              0.5555555555555556,
              "#d8576b"
             ],
             [
              0.6666666666666666,
              "#ed7953"
             ],
             [
              0.7777777777777778,
              "#fb9f3a"
             ],
             [
              0.8888888888888888,
              "#fdca26"
             ],
             [
              1,
              "#f0f921"
             ]
            ],
            "type": "heatmap"
           }
          ],
          "heatmapgl": [
           {
            "colorbar": {
             "outlinewidth": 0,
             "ticks": ""
            },
            "colorscale": [
             [
              0,
              "#0d0887"
             ],
             [
              0.1111111111111111,
              "#46039f"
             ],
             [
              0.2222222222222222,
              "#7201a8"
             ],
             [
              0.3333333333333333,
              "#9c179e"
             ],
             [
              0.4444444444444444,
              "#bd3786"
             ],
             [
              0.5555555555555556,
              "#d8576b"
             ],
             [
              0.6666666666666666,
              "#ed7953"
             ],
             [
              0.7777777777777778,
              "#fb9f3a"
             ],
             [
              0.8888888888888888,
              "#fdca26"
             ],
             [
              1,
              "#f0f921"
             ]
            ],
            "type": "heatmapgl"
           }
          ],
          "histogram": [
           {
            "marker": {
             "pattern": {
              "fillmode": "overlay",
              "size": 10,
              "solidity": 0.2
             }
            },
            "type": "histogram"
           }
          ],
          "histogram2d": [
           {
            "colorbar": {
             "outlinewidth": 0,
             "ticks": ""
            },
            "colorscale": [
             [
              0,
              "#0d0887"
             ],
             [
              0.1111111111111111,
              "#46039f"
             ],
             [
              0.2222222222222222,
              "#7201a8"
             ],
             [
              0.3333333333333333,
              "#9c179e"
             ],
             [
              0.4444444444444444,
              "#bd3786"
             ],
             [
              0.5555555555555556,
              "#d8576b"
             ],
             [
              0.6666666666666666,
              "#ed7953"
             ],
             [
              0.7777777777777778,
              "#fb9f3a"
             ],
             [
              0.8888888888888888,
              "#fdca26"
             ],
             [
              1,
              "#f0f921"
             ]
            ],
            "type": "histogram2d"
           }
          ],
          "histogram2dcontour": [
           {
            "colorbar": {
             "outlinewidth": 0,
             "ticks": ""
            },
            "colorscale": [
             [
              0,
              "#0d0887"
             ],
             [
              0.1111111111111111,
              "#46039f"
             ],
             [
              0.2222222222222222,
              "#7201a8"
             ],
             [
              0.3333333333333333,
              "#9c179e"
             ],
             [
              0.4444444444444444,
              "#bd3786"
             ],
             [
              0.5555555555555556,
              "#d8576b"
             ],
             [
              0.6666666666666666,
              "#ed7953"
             ],
             [
              0.7777777777777778,
              "#fb9f3a"
             ],
             [
              0.8888888888888888,
              "#fdca26"
             ],
             [
              1,
              "#f0f921"
             ]
            ],
            "type": "histogram2dcontour"
           }
          ],
          "mesh3d": [
           {
            "colorbar": {
             "outlinewidth": 0,
             "ticks": ""
            },
            "type": "mesh3d"
           }
          ],
          "parcoords": [
           {
            "line": {
             "colorbar": {
              "outlinewidth": 0,
              "ticks": ""
             }
            },
            "type": "parcoords"
           }
          ],
          "pie": [
           {
            "automargin": true,
            "type": "pie"
           }
          ],
          "scatter": [
           {
            "marker": {
             "colorbar": {
              "outlinewidth": 0,
              "ticks": ""
             }
            },
            "type": "scatter"
           }
          ],
          "scatter3d": [
           {
            "line": {
             "colorbar": {
              "outlinewidth": 0,
              "ticks": ""
             }
            },
            "marker": {
             "colorbar": {
              "outlinewidth": 0,
              "ticks": ""
             }
            },
            "type": "scatter3d"
           }
          ],
          "scattercarpet": [
           {
            "marker": {
             "colorbar": {
              "outlinewidth": 0,
              "ticks": ""
             }
            },
            "type": "scattercarpet"
           }
          ],
          "scattergeo": [
           {
            "marker": {
             "colorbar": {
              "outlinewidth": 0,
              "ticks": ""
             }
            },
            "type": "scattergeo"
           }
          ],
          "scattergl": [
           {
            "marker": {
             "colorbar": {
              "outlinewidth": 0,
              "ticks": ""
             }
            },
            "type": "scattergl"
           }
          ],
          "scattermapbox": [
           {
            "marker": {
             "colorbar": {
              "outlinewidth": 0,
              "ticks": ""
             }
            },
            "type": "scattermapbox"
           }
          ],
          "scatterpolar": [
           {
            "marker": {
             "colorbar": {
              "outlinewidth": 0,
              "ticks": ""
             }
            },
            "type": "scatterpolar"
           }
          ],
          "scatterpolargl": [
           {
            "marker": {
             "colorbar": {
              "outlinewidth": 0,
              "ticks": ""
             }
            },
            "type": "scatterpolargl"
           }
          ],
          "scatterternary": [
           {
            "marker": {
             "colorbar": {
              "outlinewidth": 0,
              "ticks": ""
             }
            },
            "type": "scatterternary"
           }
          ],
          "surface": [
           {
            "colorbar": {
             "outlinewidth": 0,
             "ticks": ""
            },
            "colorscale": [
             [
              0,
              "#0d0887"
             ],
             [
              0.1111111111111111,
              "#46039f"
             ],
             [
              0.2222222222222222,
              "#7201a8"
             ],
             [
              0.3333333333333333,
              "#9c179e"
             ],
             [
              0.4444444444444444,
              "#bd3786"
             ],
             [
              0.5555555555555556,
              "#d8576b"
             ],
             [
              0.6666666666666666,
              "#ed7953"
             ],
             [
              0.7777777777777778,
              "#fb9f3a"
             ],
             [
              0.8888888888888888,
              "#fdca26"
             ],
             [
              1,
              "#f0f921"
             ]
            ],
            "type": "surface"
           }
          ],
          "table": [
           {
            "cells": {
             "fill": {
              "color": "#EBF0F8"
             },
             "line": {
              "color": "white"
             }
            },
            "header": {
             "fill": {
              "color": "#C8D4E3"
             },
             "line": {
              "color": "white"
             }
            },
            "type": "table"
           }
          ]
         },
         "layout": {
          "annotationdefaults": {
           "arrowcolor": "#2a3f5f",
           "arrowhead": 0,
           "arrowwidth": 1
          },
          "autotypenumbers": "strict",
          "coloraxis": {
           "colorbar": {
            "outlinewidth": 0,
            "ticks": ""
           }
          },
          "colorscale": {
           "diverging": [
            [
             0,
             "#8e0152"
            ],
            [
             0.1,
             "#c51b7d"
            ],
            [
             0.2,
             "#de77ae"
            ],
            [
             0.3,
             "#f1b6da"
            ],
            [
             0.4,
             "#fde0ef"
            ],
            [
             0.5,
             "#f7f7f7"
            ],
            [
             0.6,
             "#e6f5d0"
            ],
            [
             0.7,
             "#b8e186"
            ],
            [
             0.8,
             "#7fbc41"
            ],
            [
             0.9,
             "#4d9221"
            ],
            [
             1,
             "#276419"
            ]
           ],
           "sequential": [
            [
             0,
             "#0d0887"
            ],
            [
             0.1111111111111111,
             "#46039f"
            ],
            [
             0.2222222222222222,
             "#7201a8"
            ],
            [
             0.3333333333333333,
             "#9c179e"
            ],
            [
             0.4444444444444444,
             "#bd3786"
            ],
            [
             0.5555555555555556,
             "#d8576b"
            ],
            [
             0.6666666666666666,
             "#ed7953"
            ],
            [
             0.7777777777777778,
             "#fb9f3a"
            ],
            [
             0.8888888888888888,
             "#fdca26"
            ],
            [
             1,
             "#f0f921"
            ]
           ],
           "sequentialminus": [
            [
             0,
             "#0d0887"
            ],
            [
             0.1111111111111111,
             "#46039f"
            ],
            [
             0.2222222222222222,
             "#7201a8"
            ],
            [
             0.3333333333333333,
             "#9c179e"
            ],
            [
             0.4444444444444444,
             "#bd3786"
            ],
            [
             0.5555555555555556,
             "#d8576b"
            ],
            [
             0.6666666666666666,
             "#ed7953"
            ],
            [
             0.7777777777777778,
             "#fb9f3a"
            ],
            [
             0.8888888888888888,
             "#fdca26"
            ],
            [
             1,
             "#f0f921"
            ]
           ]
          },
          "colorway": [
           "#636efa",
           "#EF553B",
           "#00cc96",
           "#ab63fa",
           "#FFA15A",
           "#19d3f3",
           "#FF6692",
           "#B6E880",
           "#FF97FF",
           "#FECB52"
          ],
          "font": {
           "color": "#2a3f5f"
          },
          "geo": {
           "bgcolor": "white",
           "lakecolor": "white",
           "landcolor": "#E5ECF6",
           "showlakes": true,
           "showland": true,
           "subunitcolor": "white"
          },
          "hoverlabel": {
           "align": "left"
          },
          "hovermode": "closest",
          "mapbox": {
           "style": "light"
          },
          "paper_bgcolor": "white",
          "plot_bgcolor": "#E5ECF6",
          "polar": {
           "angularaxis": {
            "gridcolor": "white",
            "linecolor": "white",
            "ticks": ""
           },
           "bgcolor": "#E5ECF6",
           "radialaxis": {
            "gridcolor": "white",
            "linecolor": "white",
            "ticks": ""
           }
          },
          "scene": {
           "xaxis": {
            "backgroundcolor": "#E5ECF6",
            "gridcolor": "white",
            "gridwidth": 2,
            "linecolor": "white",
            "showbackground": true,
            "ticks": "",
            "zerolinecolor": "white"
           },
           "yaxis": {
            "backgroundcolor": "#E5ECF6",
            "gridcolor": "white",
            "gridwidth": 2,
            "linecolor": "white",
            "showbackground": true,
            "ticks": "",
            "zerolinecolor": "white"
           },
           "zaxis": {
            "backgroundcolor": "#E5ECF6",
            "gridcolor": "white",
            "gridwidth": 2,
            "linecolor": "white",
            "showbackground": true,
            "ticks": "",
            "zerolinecolor": "white"
           }
          },
          "shapedefaults": {
           "line": {
            "color": "#2a3f5f"
           }
          },
          "ternary": {
           "aaxis": {
            "gridcolor": "white",
            "linecolor": "white",
            "ticks": ""
           },
           "baxis": {
            "gridcolor": "white",
            "linecolor": "white",
            "ticks": ""
           },
           "bgcolor": "#E5ECF6",
           "caxis": {
            "gridcolor": "white",
            "linecolor": "white",
            "ticks": ""
           }
          },
          "title": {
           "x": 0.05
          },
          "xaxis": {
           "automargin": true,
           "gridcolor": "white",
           "linecolor": "white",
           "ticks": "",
           "title": {
            "standoff": 15
           },
           "zerolinecolor": "white",
           "zerolinewidth": 2
          },
          "yaxis": {
           "automargin": true,
           "gridcolor": "white",
           "linecolor": "white",
           "ticks": "",
           "title": {
            "standoff": 15
           },
           "zerolinecolor": "white",
           "zerolinewidth": 2
          }
         }
        },
        "xaxis": {
         "anchor": "y",
         "domain": [
          0,
          1
         ],
         "title": {
          "text": "Models"
         }
        },
        "yaxis": {
         "anchor": "x",
         "domain": [
          0,
          1
         ],
         "title": {
          "text": "Recall"
         }
        }
       }
      },
      "text/html": [
       "<div>                            <div id=\"506c3b10-b81e-4772-b6fd-7ee923bcfd36\" class=\"plotly-graph-div\" style=\"height:400px; width:100%;\"></div>            <script type=\"text/javascript\">                require([\"plotly\"], function(Plotly) {                    window.PLOTLYENV=window.PLOTLYENV || {};                                    if (document.getElementById(\"506c3b10-b81e-4772-b6fd-7ee923bcfd36\")) {                    Plotly.newPlot(                        \"506c3b10-b81e-4772-b6fd-7ee923bcfd36\",                        [{\"alignmentgroup\":\"True\",\"hovertemplate\":\"Models=%{x}<br>Recall=%{y}<extra></extra>\",\"legendgroup\":\"\",\"marker\":{\"color\":\"#636efa\",\"pattern\":{\"shape\":\"\"}},\"name\":\"\",\"offsetgroup\":\"\",\"orientation\":\"v\",\"showlegend\":false,\"textposition\":\"auto\",\"x\":[\"Naive Bayes\",\"Logistic Regression\",\"XGBoost\",\"CatBoost\"],\"xaxis\":\"x\",\"y\":[0.6554360959128277,0.7171338327349345,0.7121500312443354,0.6892120375610494],\"yaxis\":\"y\",\"type\":\"bar\"}],                        {\"template\":{\"data\":{\"bar\":[{\"error_x\":{\"color\":\"#2a3f5f\"},\"error_y\":{\"color\":\"#2a3f5f\"},\"marker\":{\"line\":{\"color\":\"#E5ECF6\",\"width\":0.5},\"pattern\":{\"fillmode\":\"overlay\",\"size\":10,\"solidity\":0.2}},\"type\":\"bar\"}],\"barpolar\":[{\"marker\":{\"line\":{\"color\":\"#E5ECF6\",\"width\":0.5},\"pattern\":{\"fillmode\":\"overlay\",\"size\":10,\"solidity\":0.2}},\"type\":\"barpolar\"}],\"carpet\":[{\"aaxis\":{\"endlinecolor\":\"#2a3f5f\",\"gridcolor\":\"white\",\"linecolor\":\"white\",\"minorgridcolor\":\"white\",\"startlinecolor\":\"#2a3f5f\"},\"baxis\":{\"endlinecolor\":\"#2a3f5f\",\"gridcolor\":\"white\",\"linecolor\":\"white\",\"minorgridcolor\":\"white\",\"startlinecolor\":\"#2a3f5f\"},\"type\":\"carpet\"}],\"choropleth\":[{\"colorbar\":{\"outlinewidth\":0,\"ticks\":\"\"},\"type\":\"choropleth\"}],\"contour\":[{\"colorbar\":{\"outlinewidth\":0,\"ticks\":\"\"},\"colorscale\":[[0.0,\"#0d0887\"],[0.1111111111111111,\"#46039f\"],[0.2222222222222222,\"#7201a8\"],[0.3333333333333333,\"#9c179e\"],[0.4444444444444444,\"#bd3786\"],[0.5555555555555556,\"#d8576b\"],[0.6666666666666666,\"#ed7953\"],[0.7777777777777778,\"#fb9f3a\"],[0.8888888888888888,\"#fdca26\"],[1.0,\"#f0f921\"]],\"type\":\"contour\"}],\"contourcarpet\":[{\"colorbar\":{\"outlinewidth\":0,\"ticks\":\"\"},\"type\":\"contourcarpet\"}],\"heatmap\":[{\"colorbar\":{\"outlinewidth\":0,\"ticks\":\"\"},\"colorscale\":[[0.0,\"#0d0887\"],[0.1111111111111111,\"#46039f\"],[0.2222222222222222,\"#7201a8\"],[0.3333333333333333,\"#9c179e\"],[0.4444444444444444,\"#bd3786\"],[0.5555555555555556,\"#d8576b\"],[0.6666666666666666,\"#ed7953\"],[0.7777777777777778,\"#fb9f3a\"],[0.8888888888888888,\"#fdca26\"],[1.0,\"#f0f921\"]],\"type\":\"heatmap\"}],\"heatmapgl\":[{\"colorbar\":{\"outlinewidth\":0,\"ticks\":\"\"},\"colorscale\":[[0.0,\"#0d0887\"],[0.1111111111111111,\"#46039f\"],[0.2222222222222222,\"#7201a8\"],[0.3333333333333333,\"#9c179e\"],[0.4444444444444444,\"#bd3786\"],[0.5555555555555556,\"#d8576b\"],[0.6666666666666666,\"#ed7953\"],[0.7777777777777778,\"#fb9f3a\"],[0.8888888888888888,\"#fdca26\"],[1.0,\"#f0f921\"]],\"type\":\"heatmapgl\"}],\"histogram\":[{\"marker\":{\"pattern\":{\"fillmode\":\"overlay\",\"size\":10,\"solidity\":0.2}},\"type\":\"histogram\"}],\"histogram2d\":[{\"colorbar\":{\"outlinewidth\":0,\"ticks\":\"\"},\"colorscale\":[[0.0,\"#0d0887\"],[0.1111111111111111,\"#46039f\"],[0.2222222222222222,\"#7201a8\"],[0.3333333333333333,\"#9c179e\"],[0.4444444444444444,\"#bd3786\"],[0.5555555555555556,\"#d8576b\"],[0.6666666666666666,\"#ed7953\"],[0.7777777777777778,\"#fb9f3a\"],[0.8888888888888888,\"#fdca26\"],[1.0,\"#f0f921\"]],\"type\":\"histogram2d\"}],\"histogram2dcontour\":[{\"colorbar\":{\"outlinewidth\":0,\"ticks\":\"\"},\"colorscale\":[[0.0,\"#0d0887\"],[0.1111111111111111,\"#46039f\"],[0.2222222222222222,\"#7201a8\"],[0.3333333333333333,\"#9c179e\"],[0.4444444444444444,\"#bd3786\"],[0.5555555555555556,\"#d8576b\"],[0.6666666666666666,\"#ed7953\"],[0.7777777777777778,\"#fb9f3a\"],[0.8888888888888888,\"#fdca26\"],[1.0,\"#f0f921\"]],\"type\":\"histogram2dcontour\"}],\"mesh3d\":[{\"colorbar\":{\"outlinewidth\":0,\"ticks\":\"\"},\"type\":\"mesh3d\"}],\"parcoords\":[{\"line\":{\"colorbar\":{\"outlinewidth\":0,\"ticks\":\"\"}},\"type\":\"parcoords\"}],\"pie\":[{\"automargin\":true,\"type\":\"pie\"}],\"scatter\":[{\"marker\":{\"colorbar\":{\"outlinewidth\":0,\"ticks\":\"\"}},\"type\":\"scatter\"}],\"scatter3d\":[{\"line\":{\"colorbar\":{\"outlinewidth\":0,\"ticks\":\"\"}},\"marker\":{\"colorbar\":{\"outlinewidth\":0,\"ticks\":\"\"}},\"type\":\"scatter3d\"}],\"scattercarpet\":[{\"marker\":{\"colorbar\":{\"outlinewidth\":0,\"ticks\":\"\"}},\"type\":\"scattercarpet\"}],\"scattergeo\":[{\"marker\":{\"colorbar\":{\"outlinewidth\":0,\"ticks\":\"\"}},\"type\":\"scattergeo\"}],\"scattergl\":[{\"marker\":{\"colorbar\":{\"outlinewidth\":0,\"ticks\":\"\"}},\"type\":\"scattergl\"}],\"scattermapbox\":[{\"marker\":{\"colorbar\":{\"outlinewidth\":0,\"ticks\":\"\"}},\"type\":\"scattermapbox\"}],\"scatterpolar\":[{\"marker\":{\"colorbar\":{\"outlinewidth\":0,\"ticks\":\"\"}},\"type\":\"scatterpolar\"}],\"scatterpolargl\":[{\"marker\":{\"colorbar\":{\"outlinewidth\":0,\"ticks\":\"\"}},\"type\":\"scatterpolargl\"}],\"scatterternary\":[{\"marker\":{\"colorbar\":{\"outlinewidth\":0,\"ticks\":\"\"}},\"type\":\"scatterternary\"}],\"surface\":[{\"colorbar\":{\"outlinewidth\":0,\"ticks\":\"\"},\"colorscale\":[[0.0,\"#0d0887\"],[0.1111111111111111,\"#46039f\"],[0.2222222222222222,\"#7201a8\"],[0.3333333333333333,\"#9c179e\"],[0.4444444444444444,\"#bd3786\"],[0.5555555555555556,\"#d8576b\"],[0.6666666666666666,\"#ed7953\"],[0.7777777777777778,\"#fb9f3a\"],[0.8888888888888888,\"#fdca26\"],[1.0,\"#f0f921\"]],\"type\":\"surface\"}],\"table\":[{\"cells\":{\"fill\":{\"color\":\"#EBF0F8\"},\"line\":{\"color\":\"white\"}},\"header\":{\"fill\":{\"color\":\"#C8D4E3\"},\"line\":{\"color\":\"white\"}},\"type\":\"table\"}]},\"layout\":{\"annotationdefaults\":{\"arrowcolor\":\"#2a3f5f\",\"arrowhead\":0,\"arrowwidth\":1},\"autotypenumbers\":\"strict\",\"coloraxis\":{\"colorbar\":{\"outlinewidth\":0,\"ticks\":\"\"}},\"colorscale\":{\"diverging\":[[0,\"#8e0152\"],[0.1,\"#c51b7d\"],[0.2,\"#de77ae\"],[0.3,\"#f1b6da\"],[0.4,\"#fde0ef\"],[0.5,\"#f7f7f7\"],[0.6,\"#e6f5d0\"],[0.7,\"#b8e186\"],[0.8,\"#7fbc41\"],[0.9,\"#4d9221\"],[1,\"#276419\"]],\"sequential\":[[0.0,\"#0d0887\"],[0.1111111111111111,\"#46039f\"],[0.2222222222222222,\"#7201a8\"],[0.3333333333333333,\"#9c179e\"],[0.4444444444444444,\"#bd3786\"],[0.5555555555555556,\"#d8576b\"],[0.6666666666666666,\"#ed7953\"],[0.7777777777777778,\"#fb9f3a\"],[0.8888888888888888,\"#fdca26\"],[1.0,\"#f0f921\"]],\"sequentialminus\":[[0.0,\"#0d0887\"],[0.1111111111111111,\"#46039f\"],[0.2222222222222222,\"#7201a8\"],[0.3333333333333333,\"#9c179e\"],[0.4444444444444444,\"#bd3786\"],[0.5555555555555556,\"#d8576b\"],[0.6666666666666666,\"#ed7953\"],[0.7777777777777778,\"#fb9f3a\"],[0.8888888888888888,\"#fdca26\"],[1.0,\"#f0f921\"]]},\"colorway\":[\"#636efa\",\"#EF553B\",\"#00cc96\",\"#ab63fa\",\"#FFA15A\",\"#19d3f3\",\"#FF6692\",\"#B6E880\",\"#FF97FF\",\"#FECB52\"],\"font\":{\"color\":\"#2a3f5f\"},\"geo\":{\"bgcolor\":\"white\",\"lakecolor\":\"white\",\"landcolor\":\"#E5ECF6\",\"showlakes\":true,\"showland\":true,\"subunitcolor\":\"white\"},\"hoverlabel\":{\"align\":\"left\"},\"hovermode\":\"closest\",\"mapbox\":{\"style\":\"light\"},\"paper_bgcolor\":\"white\",\"plot_bgcolor\":\"#E5ECF6\",\"polar\":{\"angularaxis\":{\"gridcolor\":\"white\",\"linecolor\":\"white\",\"ticks\":\"\"},\"bgcolor\":\"#E5ECF6\",\"radialaxis\":{\"gridcolor\":\"white\",\"linecolor\":\"white\",\"ticks\":\"\"}},\"scene\":{\"xaxis\":{\"backgroundcolor\":\"#E5ECF6\",\"gridcolor\":\"white\",\"gridwidth\":2,\"linecolor\":\"white\",\"showbackground\":true,\"ticks\":\"\",\"zerolinecolor\":\"white\"},\"yaxis\":{\"backgroundcolor\":\"#E5ECF6\",\"gridcolor\":\"white\",\"gridwidth\":2,\"linecolor\":\"white\",\"showbackground\":true,\"ticks\":\"\",\"zerolinecolor\":\"white\"},\"zaxis\":{\"backgroundcolor\":\"#E5ECF6\",\"gridcolor\":\"white\",\"gridwidth\":2,\"linecolor\":\"white\",\"showbackground\":true,\"ticks\":\"\",\"zerolinecolor\":\"white\"}},\"shapedefaults\":{\"line\":{\"color\":\"#2a3f5f\"}},\"ternary\":{\"aaxis\":{\"gridcolor\":\"white\",\"linecolor\":\"white\",\"ticks\":\"\"},\"baxis\":{\"gridcolor\":\"white\",\"linecolor\":\"white\",\"ticks\":\"\"},\"bgcolor\":\"#E5ECF6\",\"caxis\":{\"gridcolor\":\"white\",\"linecolor\":\"white\",\"ticks\":\"\"}},\"title\":{\"x\":0.05},\"xaxis\":{\"automargin\":true,\"gridcolor\":\"white\",\"linecolor\":\"white\",\"ticks\":\"\",\"title\":{\"standoff\":15},\"zerolinecolor\":\"white\",\"zerolinewidth\":2},\"yaxis\":{\"automargin\":true,\"gridcolor\":\"white\",\"linecolor\":\"white\",\"ticks\":\"\",\"title\":{\"standoff\":15},\"zerolinecolor\":\"white\",\"zerolinewidth\":2}}},\"xaxis\":{\"anchor\":\"y\",\"domain\":[0.0,1.0],\"title\":{\"text\":\"Models\"}},\"yaxis\":{\"anchor\":\"x\",\"domain\":[0.0,1.0],\"title\":{\"text\":\"Recall\"}},\"legend\":{\"tracegroupgap\":0},\"margin\":{\"t\":60},\"barmode\":\"relative\",\"height\":400},                        {\"responsive\": true}                    ).then(function(){\n",
       "                            \n",
       "var gd = document.getElementById('506c3b10-b81e-4772-b6fd-7ee923bcfd36');\n",
       "var x = new MutationObserver(function (mutations, observer) {{\n",
       "        var display = window.getComputedStyle(gd).display;\n",
       "        if (!display || display === 'none') {{\n",
       "            console.log([gd, 'removed!']);\n",
       "            Plotly.purge(gd);\n",
       "            observer.disconnect();\n",
       "        }}\n",
       "}});\n",
       "\n",
       "// Listen for the removal of the full notebook cells\n",
       "var notebookContainer = gd.closest('#notebook-container');\n",
       "if (notebookContainer) {{\n",
       "    x.observe(notebookContainer, {childList: true});\n",
       "}}\n",
       "\n",
       "// Listen for the clearing of the current output cell\n",
       "var outputEl = gd.closest('.output');\n",
       "if (outputEl) {{\n",
       "    x.observe(outputEl, {childList: true});\n",
       "}}\n",
       "\n",
       "                        })                };                });            </script>        </div>"
      ]
     },
     "metadata": {},
     "output_type": "display_data"
    }
   ],
   "source": [
    "models = ['Naive Bayes', 'Logistic Regression', 'XGBoost', 'CatBoost']\n",
    "recalls = [nb_recall, lr_recall, xgb_recall, cat_recall]\n",
    "df = pd.DataFrame({'Model': models, 'Recall': recalls})\n",
    "fig = px.bar(df, x='Model', y='Recall',\n",
    "            \n",
    "             labels={'Model': 'Models', 'Recall': 'Recall'}, height=400)\n",
    "fig.show()"
   ]
  },
  {
   "cell_type": "markdown",
   "id": "3lkUfvebFUon",
   "metadata": {
    "id": "3lkUfvebFUon"
   },
   "source": [
    "###Com hiperparâmetros"
   ]
  },
  {
   "cell_type": "code",
   "execution_count": null,
   "id": "I9cGHCQaFSa7",
   "metadata": {
    "id": "I9cGHCQaFSa7"
   },
   "outputs": [],
   "source": [
    "import pandas as pd\n",
    "import numpy as np\n",
    "from sklearn.feature_extraction.text import TfidfVectorizer\n",
    "from sklearn.model_selection import train_test_split, GridSearchCV\n",
    "from sklearn.naive_bayes import MultinomialNB\n",
    "from sklearn.linear_model import LogisticRegression\n",
    "import xgboost as xgb\n",
    "from catboost import CatBoostClassifier\n",
    "from sklearn.metrics import recall_score\n",
    "\n",
    "\n",
    "# define the TF-IDF vectorizer\n",
    "tfidf = TfidfVectorizer()\n",
    "\n",
    "# vectorize the text data\n",
    "X = tfidf.fit_transform(df['texto_lema'])\n",
    "\n",
    "# split the dataset into training and testing sets\n",
    "X_train, X_test, y_train, y_test = train_test_split(X, df['sentimento'], test_size=0.2, random_state=42)\n",
    "\n",
    "# define the parameter grid for each model\n",
    "nb_param_grid = {'alpha': [0.1, 0.5, 1.0]}\n",
    "lr_param_grid = {'C': [0.1, 1.0, 10.0]}\n",
    "xgb_param_grid = {'max_depth': [3, 6, 9], 'learning_rate': [0.01, 0.1, 0.3]}\n",
    "cat_param_grid = {'depth': [3, 6, 9], 'learning_rate': [0.01, 0.1, 0.3]}\n",
    "\n",
    "# define the classifiers\n",
    "nb_model = MultinomialNB()\n",
    "lr_model = LogisticRegression()\n",
    "xgb_model = xgb.XGBClassifier()\n",
    "cat_model = CatBoostClassifier()\n",
    "\n",
    "# perform grid search to find the best hyperparameters for each model\n",
    "nb_grid_search = GridSearchCV(nb_model, nb_param_grid, cv=5, scoring='recall_macro')\n",
    "nb_grid_search.fit(X_train, y_train)\n",
    "\n",
    "lr_grid_search = GridSearchCV(lr_model, lr_param_grid, cv=5, scoring='recall_macro')\n",
    "lr_grid_search.fit(X_train, y_train)\n",
    "\n",
    "xgb_grid_search = GridSearchCV(xgb_model, xgb_param_grid, cv=5, scoring='recall_macro')\n",
    "xgb_grid_search.fit(X_train, y_train)\n",
    "\n",
    "cat_grid_search = GridSearchCV(cat_model, cat_param_grid, cv=5, scoring='recall_macro')\n",
    "cat_grid_search.fit(X_train, y_train)\n",
    "\n",
    "# evaluate the best classifiers\n",
    "nb_best_model = nb_grid_search.best_estimator_\n",
    "nb_recall = recall_score(y_test, nb_best_model.predict(X_test), average='macro')\n",
    "\n",
    "lr_best_model = lr_grid_search.best_estimator_\n",
    "lr_recall = recall_score(y_test, lr_best_model.predict(X_test), average='macro')\n",
    "\n",
    "xgb_best_model = xgb_grid_search.best_estimator_\n",
    "xgb_recall = recall_score(y_test, xgb_best_model.predict(X_test), average='macro')\n",
    "\n",
    "cat_best_model = cat_grid_search.best_estimator_\n",
    "cat_recall = recall_score(y_test, cat_best_model.predict(X_test), average='macro')\n",
    "\n",
    "# print the best hyperparameters for each model\n",
    "print('Best hyperparameters for Naive Bayes:', nb_grid_search.best_params_)\n",
    "print('Best hyperparameters for Logistic Regression:', lr_grid_search.best_params_)\n",
    "print('Best hyperparameters for XGBoost:', xgb_grid_search.best_params_)\n",
    "print('Best hyperparameters for CatBoost:', cat_grid_search.best_params_)\n",
    "\n",
    "# plot the recall results\n",
    "models = ['Naive Bayes', 'Logistic Regression', 'XGBoost', 'CatBoost']\n",
    "recalls = [nb_recall, lr_recall, xgb_recall, cat_recall]\n",
    "plt.bar(models, recalls)\n",
    "plt.title('Text Classification Model Comparison')\n",
    "plt.xlabel('Models')\n",
    "plt.ylabel('Recall')\n",
    "plt.show()"
   ]
  },
  {
   "cell_type": "code",
   "execution_count": 86,
   "id": "d368b19c",
   "metadata": {},
   "outputs": [],
   "source": [
    "# define the classifiers\n",
    "from sklearn.model_selection import GridSearchCV\n",
    "\n",
    "nb_model = MultinomialNB()\n",
    "lr_model = LogisticRegression()\n",
    "xgb_model = xgb.XGBClassifier()\n",
    "cat_model = CatBoostClassifier()\n"
   ]
  },
  {
   "cell_type": "code",
   "execution_count": 87,
   "id": "138114d8",
   "metadata": {},
   "outputs": [],
   "source": [
    "nb_param_grid = {'alpha': [0.1, 0.5, 1.0]}\n",
    "lr_param_grid = {'C': [0.1, 1.0, 10.0]}\n",
    "xgb_param_grid = {'max_depth': [3, 6, 9], 'learning_rate': [0.01, 0.1, 0.3]}\n",
    "cat_param_grid = {'depth': [3, 6, 9], 'learning_rate': [0.01, 0.1, 0.3]}"
   ]
  },
  {
   "cell_type": "code",
   "execution_count": 88,
   "id": "905c683a",
   "metadata": {},
   "outputs": [
    {
     "data": {
      "text/plain": [
       "0.7186363127187375"
      ]
     },
     "execution_count": 88,
     "metadata": {},
     "output_type": "execute_result"
    }
   ],
   "source": [
    "nb_grid_search = GridSearchCV(nb_model, nb_param_grid, cv=5, scoring='recall_macro')\n",
    "nb_grid_search.fit(X_train, y_train)\n",
    "nb_best_model = nb_grid_search.best_estimator_\n",
    "nb_recall = recall_score(y_test, nb_best_model.predict(X_test), average='macro')\n",
    "nb_recall"
   ]
  },
  {
   "cell_type": "code",
   "execution_count": 91,
   "id": "08f1da28",
   "metadata": {},
   "outputs": [
    {
     "data": {
      "text/plain": [
       "MultinomialNB(alpha=0.1)"
      ]
     },
     "execution_count": 91,
     "metadata": {},
     "output_type": "execute_result"
    }
   ],
   "source": [
    "nb_best_model"
   ]
  },
  {
   "cell_type": "code",
   "execution_count": 90,
   "id": "d2d33f2d",
   "metadata": {
    "scrolled": true
   },
   "outputs": [
    {
     "name": "stdout",
     "output_type": "stream",
     "text": [
      "Train acc: 0.8784916201117319\n",
      "Test acc: 0.7195017182130584\n"
     ]
    }
   ],
   "source": [
    "print(\"Train acc:\",nb_best_model.score(X_train, y_train))\n",
    "print(\"Test acc:\", nb_best_model.score(X_test, y_test))"
   ]
  },
  {
   "cell_type": "code",
   "execution_count": 92,
   "id": "aeb2748b",
   "metadata": {},
   "outputs": [
    {
     "name": "stderr",
     "output_type": "stream",
     "text": [
      "C:\\Users\\Rodrigo.INTELI\\anaconda3\\lib\\site-packages\\sklearn\\linear_model\\_logistic.py:814: ConvergenceWarning:\n",
      "\n",
      "lbfgs failed to converge (status=1):\n",
      "STOP: TOTAL NO. of ITERATIONS REACHED LIMIT.\n",
      "\n",
      "Increase the number of iterations (max_iter) or scale the data as shown in:\n",
      "    https://scikit-learn.org/stable/modules/preprocessing.html\n",
      "Please also refer to the documentation for alternative solver options:\n",
      "    https://scikit-learn.org/stable/modules/linear_model.html#logistic-regression\n",
      "\n",
      "C:\\Users\\Rodrigo.INTELI\\anaconda3\\lib\\site-packages\\sklearn\\linear_model\\_logistic.py:814: ConvergenceWarning:\n",
      "\n",
      "lbfgs failed to converge (status=1):\n",
      "STOP: TOTAL NO. of ITERATIONS REACHED LIMIT.\n",
      "\n",
      "Increase the number of iterations (max_iter) or scale the data as shown in:\n",
      "    https://scikit-learn.org/stable/modules/preprocessing.html\n",
      "Please also refer to the documentation for alternative solver options:\n",
      "    https://scikit-learn.org/stable/modules/linear_model.html#logistic-regression\n",
      "\n",
      "C:\\Users\\Rodrigo.INTELI\\anaconda3\\lib\\site-packages\\sklearn\\linear_model\\_logistic.py:814: ConvergenceWarning:\n",
      "\n",
      "lbfgs failed to converge (status=1):\n",
      "STOP: TOTAL NO. of ITERATIONS REACHED LIMIT.\n",
      "\n",
      "Increase the number of iterations (max_iter) or scale the data as shown in:\n",
      "    https://scikit-learn.org/stable/modules/preprocessing.html\n",
      "Please also refer to the documentation for alternative solver options:\n",
      "    https://scikit-learn.org/stable/modules/linear_model.html#logistic-regression\n",
      "\n",
      "C:\\Users\\Rodrigo.INTELI\\anaconda3\\lib\\site-packages\\sklearn\\linear_model\\_logistic.py:814: ConvergenceWarning:\n",
      "\n",
      "lbfgs failed to converge (status=1):\n",
      "STOP: TOTAL NO. of ITERATIONS REACHED LIMIT.\n",
      "\n",
      "Increase the number of iterations (max_iter) or scale the data as shown in:\n",
      "    https://scikit-learn.org/stable/modules/preprocessing.html\n",
      "Please also refer to the documentation for alternative solver options:\n",
      "    https://scikit-learn.org/stable/modules/linear_model.html#logistic-regression\n",
      "\n",
      "C:\\Users\\Rodrigo.INTELI\\anaconda3\\lib\\site-packages\\sklearn\\linear_model\\_logistic.py:814: ConvergenceWarning:\n",
      "\n",
      "lbfgs failed to converge (status=1):\n",
      "STOP: TOTAL NO. of ITERATIONS REACHED LIMIT.\n",
      "\n",
      "Increase the number of iterations (max_iter) or scale the data as shown in:\n",
      "    https://scikit-learn.org/stable/modules/preprocessing.html\n",
      "Please also refer to the documentation for alternative solver options:\n",
      "    https://scikit-learn.org/stable/modules/linear_model.html#logistic-regression\n",
      "\n",
      "C:\\Users\\Rodrigo.INTELI\\anaconda3\\lib\\site-packages\\sklearn\\linear_model\\_logistic.py:814: ConvergenceWarning:\n",
      "\n",
      "lbfgs failed to converge (status=1):\n",
      "STOP: TOTAL NO. of ITERATIONS REACHED LIMIT.\n",
      "\n",
      "Increase the number of iterations (max_iter) or scale the data as shown in:\n",
      "    https://scikit-learn.org/stable/modules/preprocessing.html\n",
      "Please also refer to the documentation for alternative solver options:\n",
      "    https://scikit-learn.org/stable/modules/linear_model.html#logistic-regression\n",
      "\n",
      "C:\\Users\\Rodrigo.INTELI\\anaconda3\\lib\\site-packages\\sklearn\\linear_model\\_logistic.py:814: ConvergenceWarning:\n",
      "\n",
      "lbfgs failed to converge (status=1):\n",
      "STOP: TOTAL NO. of ITERATIONS REACHED LIMIT.\n",
      "\n",
      "Increase the number of iterations (max_iter) or scale the data as shown in:\n",
      "    https://scikit-learn.org/stable/modules/preprocessing.html\n",
      "Please also refer to the documentation for alternative solver options:\n",
      "    https://scikit-learn.org/stable/modules/linear_model.html#logistic-regression\n",
      "\n",
      "C:\\Users\\Rodrigo.INTELI\\anaconda3\\lib\\site-packages\\sklearn\\linear_model\\_logistic.py:814: ConvergenceWarning:\n",
      "\n",
      "lbfgs failed to converge (status=1):\n",
      "STOP: TOTAL NO. of ITERATIONS REACHED LIMIT.\n",
      "\n",
      "Increase the number of iterations (max_iter) or scale the data as shown in:\n",
      "    https://scikit-learn.org/stable/modules/preprocessing.html\n",
      "Please also refer to the documentation for alternative solver options:\n",
      "    https://scikit-learn.org/stable/modules/linear_model.html#logistic-regression\n",
      "\n",
      "C:\\Users\\Rodrigo.INTELI\\anaconda3\\lib\\site-packages\\sklearn\\linear_model\\_logistic.py:814: ConvergenceWarning:\n",
      "\n",
      "lbfgs failed to converge (status=1):\n",
      "STOP: TOTAL NO. of ITERATIONS REACHED LIMIT.\n",
      "\n",
      "Increase the number of iterations (max_iter) or scale the data as shown in:\n",
      "    https://scikit-learn.org/stable/modules/preprocessing.html\n",
      "Please also refer to the documentation for alternative solver options:\n",
      "    https://scikit-learn.org/stable/modules/linear_model.html#logistic-regression\n",
      "\n",
      "C:\\Users\\Rodrigo.INTELI\\anaconda3\\lib\\site-packages\\sklearn\\linear_model\\_logistic.py:814: ConvergenceWarning:\n",
      "\n",
      "lbfgs failed to converge (status=1):\n",
      "STOP: TOTAL NO. of ITERATIONS REACHED LIMIT.\n",
      "\n",
      "Increase the number of iterations (max_iter) or scale the data as shown in:\n",
      "    https://scikit-learn.org/stable/modules/preprocessing.html\n",
      "Please also refer to the documentation for alternative solver options:\n",
      "    https://scikit-learn.org/stable/modules/linear_model.html#logistic-regression\n",
      "\n",
      "C:\\Users\\Rodrigo.INTELI\\anaconda3\\lib\\site-packages\\sklearn\\linear_model\\_logistic.py:814: ConvergenceWarning:\n",
      "\n",
      "lbfgs failed to converge (status=1):\n",
      "STOP: TOTAL NO. of ITERATIONS REACHED LIMIT.\n",
      "\n",
      "Increase the number of iterations (max_iter) or scale the data as shown in:\n",
      "    https://scikit-learn.org/stable/modules/preprocessing.html\n",
      "Please also refer to the documentation for alternative solver options:\n",
      "    https://scikit-learn.org/stable/modules/linear_model.html#logistic-regression\n",
      "\n"
     ]
    },
    {
     "data": {
      "text/plain": [
       "0.7265307927465683"
      ]
     },
     "execution_count": 92,
     "metadata": {},
     "output_type": "execute_result"
    }
   ],
   "source": [
    "lr_grid_search = GridSearchCV(lr_model, lr_param_grid, cv=5, scoring='recall_macro')\n",
    "lr_grid_search.fit(X_train, y_train)\n",
    "lr_best_model = lr_grid_search.best_estimator_\n",
    "lr_recall = recall_score(y_test, lr_best_model.predict(X_test), average='macro')\n",
    "lr_recall"
   ]
  },
  {
   "cell_type": "code",
   "execution_count": 93,
   "id": "d39503f4",
   "metadata": {
    "scrolled": true
   },
   "outputs": [
    {
     "name": "stdout",
     "output_type": "stream",
     "text": [
      "Train acc: 0.9713149978513107\n",
      "Test acc: 0.747852233676976\n"
     ]
    }
   ],
   "source": [
    "print(\"Train acc:\",lr_best_model.score(X_train, y_train))\n",
    "print(\"Test acc:\", lr_best_model.score(X_test, y_test))"
   ]
  },
  {
   "cell_type": "code",
   "execution_count": 94,
   "id": "e90c357a",
   "metadata": {},
   "outputs": [
    {
     "data": {
      "text/plain": [
       "LogisticRegression(C=10.0)"
      ]
     },
     "execution_count": 94,
     "metadata": {},
     "output_type": "execute_result"
    }
   ],
   "source": [
    "lr_best_model"
   ]
  },
  {
   "cell_type": "code",
   "execution_count": null,
   "id": "b8349eb7",
   "metadata": {},
   "outputs": [],
   "source": [
    "xgb_grid_search = GridSearchCV(xgb_model, xgb_param_grid, cv=5, scoring='recall_macro')\n",
    "xgb_grid_search.fit(X_train, y_train)"
   ]
  },
  {
   "cell_type": "code",
   "execution_count": null,
   "id": "33e58938",
   "metadata": {},
   "outputs": [],
   "source": [
    "xgb_best_model = xgb_grid_search.best_estimator_\n",
    "xgb_recall = recall_score(y_test, xgb_best_model.predict(X_test), average='macro')\n",
    "xgb_recall"
   ]
  },
  {
   "cell_type": "code",
   "execution_count": null,
   "id": "24d840e7",
   "metadata": {},
   "outputs": [],
   "source": [
    "xg_best_model"
   ]
  },
  {
   "cell_type": "code",
   "execution_count": null,
   "id": "08b2b6e4",
   "metadata": {},
   "outputs": [],
   "source": [
    "print(\"Train acc:\",xg_best_model.score(X_train, y_train))\n",
    "print(\"Test acc:\", xg_best_model.score(X_test, y_test))"
   ]
  },
  {
   "cell_type": "code",
   "execution_count": null,
   "id": "d9fd214a",
   "metadata": {},
   "outputs": [],
   "source": [
    "lr_model = LogisticRegression(class_weight='balanced')\n",
    "\n",
    "lr_param_grid = {\n",
    "    'penalty': ['l1', 'l2'],\n",
    "    'C': [0.1, 1.0, 3.0, 5.0, 10.0]\n",
    "}\n",
    "\n",
    "\n",
    "# Realizar pesquisa em grade com validação cruzada (CV=5) e pontuação de recall macro\n",
    "lr_grid_search = GridSearchCV(lr_model, lr_param_grid, cv=5, scoring='recall_macro')\n",
    "lr_grid_search.fit(X_train, y_train)\n",
    "\n",
    "# Obter o modelo com os melhores hiperparâmetros\n",
    "lr_best_model = lr_grid_search.best_estimator_\n",
    "\n",
    "# Calcular o recall macro para o modelo com os melhores hiperparâmetros em dados de teste\n",
    "lr_recall = recall_score(y_test, lr_best_model.predict(X_test), average='macro')\n",
    "\n",
    "print(\"Recall Macro: {:.4f}\".format(lr_recall))\n"
   ]
  },
  {
   "cell_type": "markdown",
   "id": "9ZkYq7mOKEzR",
   "metadata": {
    "id": "9ZkYq7mOKEzR"
   },
   "source": [
    "# Separação de treino e teste com balanceamento"
   ]
  }
 ],
 "metadata": {
  "colab": {
   "gpuType": "T4",
   "provenance": []
  },
  "kernelspec": {
   "display_name": "Python 3 (ipykernel)",
   "language": "python",
   "name": "python3"
  },
  "language_info": {
   "codemirror_mode": {
    "name": "ipython",
    "version": 3
   },
   "file_extension": ".py",
   "mimetype": "text/x-python",
   "name": "python",
   "nbconvert_exporter": "python",
   "pygments_lexer": "ipython3",
   "version": "3.9.12"
  }
 },
 "nbformat": 4,
 "nbformat_minor": 5
}
